{
 "cells": [
  {
   "cell_type": "markdown",
   "id": "688ff623",
   "metadata": {},
   "source": [
    "# Python и статистика\n",
    "\n",
    "Проект №8 - А/А-тестирование."
   ]
  },
  {
   "cell_type": "markdown",
   "id": "c023dbac",
   "metadata": {},
   "source": [
    "# Введение"
   ]
  },
  {
   "cell_type": "markdown",
   "id": "7565f23f",
   "metadata": {},
   "source": [
    "## Постановка задачи\n",
    "\n",
    "Проведено А/А-тестирование мобильного приложения. Необходимо посчитать результаты A/A-теста, проверяя метрику качества **FPR** (будем проверять на конверсии в покупку). Известно, что сплит-система сломана. Требуется проверить утверждение о поломке и найти ее причины, если сплит-система действительно сломана.\n",
    "\n",
    "1. Запустите A/A-тест\n",
    "2. Посчитайте **FPR** на уровне альфа = 0.05 (ставьте подвыборки без возвращения объемом 1000). Вы увидите, что **FPR** > **альфа**! Нам нужно наоборот – чтобы было меньше.\n",
    "3. Найдите причины поломки сплит-системы, ориентируясь на результаты эксперимента (подсказка: найдите аномалию в версии приложения)\n",
    "4. Напишите выводы, которые можно сделать на основе анализа результатов A/A-теста\n",
    "\n",
    "Как найти поломку? Вам доступна версия мобильного приложения (МП) каждого пользователя. Эту полезную информацию можно использовать для исследования проблемы:\n",
    "\n",
    "* Посчитайте конверсию (коэффициент покупок), группируя по варианту и версии МП. Возможно уже станет ясно где именно причины поломки\n",
    "* Посчитайте pvalue для каждой версии МП\n",
    "* Найдите версии, где **p-value** < 0.05\n",
    "* Исключите версию с **p-value** < 0.05 из основного датафрейма\n",
    "* Повторно запустите расчет **FPR** через A/A. Теперь **FPR** < **альфа**\n",
    "* Вы нашли поломку"
   ]
  },
  {
   "cell_type": "markdown",
   "id": "0012d9f7",
   "metadata": {},
   "source": [
    "## Загрузка библиотек"
   ]
  },
  {
   "cell_type": "code",
   "execution_count": 1,
   "id": "e2f2c03c",
   "metadata": {},
   "outputs": [],
   "source": [
    "import pandas as pd\n",
    "import numpy as np\n",
    "\n",
    "from scipy import stats\n",
    "# import pingouin as pg\n",
    "\n",
    "from tqdm.auto import tqdm\n",
    "\n",
    "%matplotlib inline\n",
    "import matplotlib.pyplot as plt\n",
    "import seaborn as sns"
   ]
  },
  {
   "cell_type": "markdown",
   "id": "57a2d497",
   "metadata": {},
   "source": [
    "## Загрузка данных"
   ]
  },
  {
   "cell_type": "code",
   "execution_count": 3,
   "id": "9cc9a692",
   "metadata": {},
   "outputs": [],
   "source": [
    "df = pd.read_csv('./data/hw_aa.csv' , sep = ';', index_col = 0)"
   ]
  },
  {
   "cell_type": "markdown",
   "id": "e69f08fa",
   "metadata": {},
   "source": [
    "### Описание данных\n",
    "\n",
    "- `experimentVariant` – вариант эксперимента\n",
    "- `version` – версия приложения\n",
    "- `purchase` – факт покупки"
   ]
  },
  {
   "cell_type": "code",
   "execution_count": 4,
   "id": "580f3756",
   "metadata": {
    "scrolled": false
   },
   "outputs": [
    {
     "data": {
      "text/html": [
       "<div>\n",
       "<style scoped>\n",
       "    .dataframe tbody tr th:only-of-type {\n",
       "        vertical-align: middle;\n",
       "    }\n",
       "\n",
       "    .dataframe tbody tr th {\n",
       "        vertical-align: top;\n",
       "    }\n",
       "\n",
       "    .dataframe thead th {\n",
       "        text-align: right;\n",
       "    }\n",
       "</style>\n",
       "<table border=\"1\" class=\"dataframe\">\n",
       "  <thead>\n",
       "    <tr style=\"text-align: right;\">\n",
       "      <th></th>\n",
       "      <th>uid</th>\n",
       "      <th>experimentVariant</th>\n",
       "      <th>version</th>\n",
       "      <th>purchase</th>\n",
       "    </tr>\n",
       "  </thead>\n",
       "  <tbody>\n",
       "    <tr>\n",
       "      <th>1</th>\n",
       "      <td>c4ca4238a0b923820dcc509a6f75849b</td>\n",
       "      <td>1</td>\n",
       "      <td>v2.8.0</td>\n",
       "      <td>0</td>\n",
       "    </tr>\n",
       "    <tr>\n",
       "      <th>2</th>\n",
       "      <td>c81e728d9d4c2f636f067f89cc14862c</td>\n",
       "      <td>0</td>\n",
       "      <td>v2.9.0</td>\n",
       "      <td>0</td>\n",
       "    </tr>\n",
       "    <tr>\n",
       "      <th>3</th>\n",
       "      <td>eccbc87e4b5ce2fe28308fd9f2a7baf3</td>\n",
       "      <td>1</td>\n",
       "      <td>v2.9.0</td>\n",
       "      <td>0</td>\n",
       "    </tr>\n",
       "    <tr>\n",
       "      <th>4</th>\n",
       "      <td>a87ff679a2f3e71d9181a67b7542122c</td>\n",
       "      <td>1</td>\n",
       "      <td>v2.8.0</td>\n",
       "      <td>0</td>\n",
       "    </tr>\n",
       "    <tr>\n",
       "      <th>5</th>\n",
       "      <td>e4da3b7fbbce2345d7772b0674a318d5</td>\n",
       "      <td>1</td>\n",
       "      <td>v2.8.0</td>\n",
       "      <td>0</td>\n",
       "    </tr>\n",
       "    <tr>\n",
       "      <th>...</th>\n",
       "      <td>...</td>\n",
       "      <td>...</td>\n",
       "      <td>...</td>\n",
       "      <td>...</td>\n",
       "    </tr>\n",
       "    <tr>\n",
       "      <th>127014</th>\n",
       "      <td>d1f082ede77b17a99a9b0b240daf7bdf</td>\n",
       "      <td>0</td>\n",
       "      <td>v2.8.0</td>\n",
       "      <td>0</td>\n",
       "    </tr>\n",
       "    <tr>\n",
       "      <th>127015</th>\n",
       "      <td>94f0d540830ccdc6b29c1938eea445cc</td>\n",
       "      <td>0</td>\n",
       "      <td>v2.8.0</td>\n",
       "      <td>0</td>\n",
       "    </tr>\n",
       "    <tr>\n",
       "      <th>127016</th>\n",
       "      <td>709f74cf9721328e98be6f216e8a05a8</td>\n",
       "      <td>1</td>\n",
       "      <td>v2.9.0</td>\n",
       "      <td>0</td>\n",
       "    </tr>\n",
       "    <tr>\n",
       "      <th>127017</th>\n",
       "      <td>1767ae3f8ffec269d9ed0ac0ede68d90</td>\n",
       "      <td>1</td>\n",
       "      <td>v2.8.0</td>\n",
       "      <td>0</td>\n",
       "    </tr>\n",
       "    <tr>\n",
       "      <th>127018</th>\n",
       "      <td>8dd8503c49b5e8c6aaea1ed7f0c49765</td>\n",
       "      <td>1</td>\n",
       "      <td>v2.8.0</td>\n",
       "      <td>0</td>\n",
       "    </tr>\n",
       "  </tbody>\n",
       "</table>\n",
       "<p>127018 rows × 4 columns</p>\n",
       "</div>"
      ],
      "text/plain": [
       "                                     uid  experimentVariant version  purchase\n",
       "1       c4ca4238a0b923820dcc509a6f75849b                  1  v2.8.0         0\n",
       "2       c81e728d9d4c2f636f067f89cc14862c                  0  v2.9.0         0\n",
       "3       eccbc87e4b5ce2fe28308fd9f2a7baf3                  1  v2.9.0         0\n",
       "4       a87ff679a2f3e71d9181a67b7542122c                  1  v2.8.0         0\n",
       "5       e4da3b7fbbce2345d7772b0674a318d5                  1  v2.8.0         0\n",
       "...                                  ...                ...     ...       ...\n",
       "127014  d1f082ede77b17a99a9b0b240daf7bdf                  0  v2.8.0         0\n",
       "127015  94f0d540830ccdc6b29c1938eea445cc                  0  v2.8.0         0\n",
       "127016  709f74cf9721328e98be6f216e8a05a8                  1  v2.9.0         0\n",
       "127017  1767ae3f8ffec269d9ed0ac0ede68d90                  1  v2.8.0         0\n",
       "127018  8dd8503c49b5e8c6aaea1ed7f0c49765                  1  v2.8.0         0\n",
       "\n",
       "[127018 rows x 4 columns]"
      ]
     },
     "execution_count": 4,
     "metadata": {},
     "output_type": "execute_result"
    }
   ],
   "source": [
    "df"
   ]
  },
  {
   "cell_type": "code",
   "execution_count": 5,
   "id": "87376382",
   "metadata": {
    "scrolled": true
   },
   "outputs": [
    {
     "data": {
      "text/plain": [
       "uid                  object\n",
       "experimentVariant     int64\n",
       "version              object\n",
       "purchase              int64\n",
       "dtype: object"
      ]
     },
     "execution_count": 5,
     "metadata": {},
     "output_type": "execute_result"
    }
   ],
   "source": [
    "df.dtypes"
   ]
  },
  {
   "cell_type": "code",
   "execution_count": 6,
   "id": "44b0d45b",
   "metadata": {},
   "outputs": [
    {
     "data": {
      "text/plain": [
       "127018"
      ]
     },
     "execution_count": 6,
     "metadata": {},
     "output_type": "execute_result"
    }
   ],
   "source": [
    "df.shape[0]"
   ]
  },
  {
   "cell_type": "code",
   "execution_count": 7,
   "id": "2210b512",
   "metadata": {},
   "outputs": [
    {
     "data": {
      "text/plain": [
       "127018"
      ]
     },
     "execution_count": 7,
     "metadata": {},
     "output_type": "execute_result"
    }
   ],
   "source": [
    "df.uid.nunique()"
   ]
  },
  {
   "cell_type": "code",
   "execution_count": 8,
   "id": "ecad2d1a",
   "metadata": {},
   "outputs": [],
   "source": [
    "purchases = \\\n",
    "    df \\\n",
    "    .groupby(['experimentVariant', 'version'], as_index = False) \\\n",
    "    .agg({'purchase': 'sum'}) \\\n",
    "    .rename(columns = {'purchase': 'purchases'})\n",
    "\n",
    "events = \\\n",
    "    df \\\n",
    "    .groupby(['experimentVariant', 'version'], as_index = False) \\\n",
    "    .agg({'purchase': 'count'}) \\\n",
    "    .rename(columns = {'purchase': 'events'})"
   ]
  },
  {
   "cell_type": "code",
   "execution_count": 9,
   "id": "f2f4fc53",
   "metadata": {},
   "outputs": [],
   "source": [
    "grouping = \\\n",
    "    purchases \\\n",
    "    .merge(events, on = ['experimentVariant', 'version'], how = 'right')\n",
    "\n",
    "# Add conversion-to-purchases metrics column.\n",
    "grouping['CTP'] = grouping['purchases'] / grouping['events']"
   ]
  },
  {
   "cell_type": "code",
   "execution_count": 10,
   "id": "9ae14ba0",
   "metadata": {},
   "outputs": [
    {
     "data": {
      "text/html": [
       "<div>\n",
       "<style scoped>\n",
       "    .dataframe tbody tr th:only-of-type {\n",
       "        vertical-align: middle;\n",
       "    }\n",
       "\n",
       "    .dataframe tbody tr th {\n",
       "        vertical-align: top;\n",
       "    }\n",
       "\n",
       "    .dataframe thead th {\n",
       "        text-align: right;\n",
       "    }\n",
       "</style>\n",
       "<table border=\"1\" class=\"dataframe\">\n",
       "  <thead>\n",
       "    <tr style=\"text-align: right;\">\n",
       "      <th></th>\n",
       "      <th>experimentVariant</th>\n",
       "      <th>version</th>\n",
       "      <th>purchases</th>\n",
       "      <th>events</th>\n",
       "      <th>CTP</th>\n",
       "    </tr>\n",
       "  </thead>\n",
       "  <tbody>\n",
       "    <tr>\n",
       "      <th>0</th>\n",
       "      <td>0</td>\n",
       "      <td>v2.8.0</td>\n",
       "      <td>41</td>\n",
       "      <td>41283</td>\n",
       "      <td>0.000993</td>\n",
       "    </tr>\n",
       "    <tr>\n",
       "      <th>1</th>\n",
       "      <td>0</td>\n",
       "      <td>v2.9.0</td>\n",
       "      <td>890</td>\n",
       "      <td>11921</td>\n",
       "      <td>0.074658</td>\n",
       "    </tr>\n",
       "    <tr>\n",
       "      <th>2</th>\n",
       "      <td>0</td>\n",
       "      <td>v3.7.4.0</td>\n",
       "      <td>252</td>\n",
       "      <td>4204</td>\n",
       "      <td>0.059943</td>\n",
       "    </tr>\n",
       "    <tr>\n",
       "      <th>3</th>\n",
       "      <td>0</td>\n",
       "      <td>v3.8.0.0</td>\n",
       "      <td>328</td>\n",
       "      <td>5694</td>\n",
       "      <td>0.057604</td>\n",
       "    </tr>\n",
       "    <tr>\n",
       "      <th>4</th>\n",
       "      <td>1</td>\n",
       "      <td>v2.8.0</td>\n",
       "      <td>1895</td>\n",
       "      <td>41552</td>\n",
       "      <td>0.045606</td>\n",
       "    </tr>\n",
       "    <tr>\n",
       "      <th>5</th>\n",
       "      <td>1</td>\n",
       "      <td>v2.9.0</td>\n",
       "      <td>858</td>\n",
       "      <td>12033</td>\n",
       "      <td>0.071304</td>\n",
       "    </tr>\n",
       "    <tr>\n",
       "      <th>6</th>\n",
       "      <td>1</td>\n",
       "      <td>v3.7.4.0</td>\n",
       "      <td>266</td>\n",
       "      <td>4221</td>\n",
       "      <td>0.063018</td>\n",
       "    </tr>\n",
       "    <tr>\n",
       "      <th>7</th>\n",
       "      <td>1</td>\n",
       "      <td>v3.8.0.0</td>\n",
       "      <td>384</td>\n",
       "      <td>6110</td>\n",
       "      <td>0.062848</td>\n",
       "    </tr>\n",
       "  </tbody>\n",
       "</table>\n",
       "</div>"
      ],
      "text/plain": [
       "   experimentVariant   version  purchases  events       CTP\n",
       "0                  0    v2.8.0         41   41283  0.000993\n",
       "1                  0    v2.9.0        890   11921  0.074658\n",
       "2                  0  v3.7.4.0        252    4204  0.059943\n",
       "3                  0  v3.8.0.0        328    5694  0.057604\n",
       "4                  1    v2.8.0       1895   41552  0.045606\n",
       "5                  1    v2.9.0        858   12033  0.071304\n",
       "6                  1  v3.7.4.0        266    4221  0.063018\n",
       "7                  1  v3.8.0.0        384    6110  0.062848"
      ]
     },
     "execution_count": 10,
     "metadata": {},
     "output_type": "execute_result"
    }
   ],
   "source": [
    "grouping"
   ]
  },
  {
   "cell_type": "markdown",
   "id": "8e6d709b",
   "metadata": {},
   "source": [
    "То же, но уже в виде сводных таблиц:"
   ]
  },
  {
   "cell_type": "code",
   "execution_count": 11,
   "id": "a3bc1917",
   "metadata": {},
   "outputs": [
    {
     "data": {
      "text/html": [
       "<div>\n",
       "<style scoped>\n",
       "    .dataframe tbody tr th:only-of-type {\n",
       "        vertical-align: middle;\n",
       "    }\n",
       "\n",
       "    .dataframe tbody tr th {\n",
       "        vertical-align: top;\n",
       "    }\n",
       "\n",
       "    .dataframe thead th {\n",
       "        text-align: right;\n",
       "    }\n",
       "</style>\n",
       "<table border=\"1\" class=\"dataframe\">\n",
       "  <thead>\n",
       "    <tr style=\"text-align: right;\">\n",
       "      <th>experimentVariant</th>\n",
       "      <th>0</th>\n",
       "      <th>1</th>\n",
       "    </tr>\n",
       "    <tr>\n",
       "      <th>version</th>\n",
       "      <th></th>\n",
       "      <th></th>\n",
       "    </tr>\n",
       "  </thead>\n",
       "  <tbody>\n",
       "    <tr>\n",
       "      <th>v2.8.0</th>\n",
       "      <td>41283</td>\n",
       "      <td>41552</td>\n",
       "    </tr>\n",
       "    <tr>\n",
       "      <th>v2.9.0</th>\n",
       "      <td>11921</td>\n",
       "      <td>12033</td>\n",
       "    </tr>\n",
       "    <tr>\n",
       "      <th>v3.7.4.0</th>\n",
       "      <td>4204</td>\n",
       "      <td>4221</td>\n",
       "    </tr>\n",
       "    <tr>\n",
       "      <th>v3.8.0.0</th>\n",
       "      <td>5694</td>\n",
       "      <td>6110</td>\n",
       "    </tr>\n",
       "  </tbody>\n",
       "</table>\n",
       "</div>"
      ],
      "text/plain": [
       "experimentVariant      0      1\n",
       "version                        \n",
       "v2.8.0             41283  41552\n",
       "v2.9.0             11921  12033\n",
       "v3.7.4.0            4204   4221\n",
       "v3.8.0.0            5694   6110"
      ]
     },
     "execution_count": 11,
     "metadata": {},
     "output_type": "execute_result"
    }
   ],
   "source": [
    "grouping.pivot(index = 'version',\n",
    "               columns = 'experimentVariant',\n",
    "               values = 'events')"
   ]
  },
  {
   "cell_type": "code",
   "execution_count": 12,
   "id": "4188e06d",
   "metadata": {},
   "outputs": [
    {
     "data": {
      "text/html": [
       "<div>\n",
       "<style scoped>\n",
       "    .dataframe tbody tr th:only-of-type {\n",
       "        vertical-align: middle;\n",
       "    }\n",
       "\n",
       "    .dataframe tbody tr th {\n",
       "        vertical-align: top;\n",
       "    }\n",
       "\n",
       "    .dataframe thead th {\n",
       "        text-align: right;\n",
       "    }\n",
       "</style>\n",
       "<table border=\"1\" class=\"dataframe\">\n",
       "  <thead>\n",
       "    <tr style=\"text-align: right;\">\n",
       "      <th>experimentVariant</th>\n",
       "      <th>0</th>\n",
       "      <th>1</th>\n",
       "    </tr>\n",
       "    <tr>\n",
       "      <th>version</th>\n",
       "      <th></th>\n",
       "      <th></th>\n",
       "    </tr>\n",
       "  </thead>\n",
       "  <tbody>\n",
       "    <tr>\n",
       "      <th>v2.8.0</th>\n",
       "      <td>41</td>\n",
       "      <td>1895</td>\n",
       "    </tr>\n",
       "    <tr>\n",
       "      <th>v2.9.0</th>\n",
       "      <td>890</td>\n",
       "      <td>858</td>\n",
       "    </tr>\n",
       "    <tr>\n",
       "      <th>v3.7.4.0</th>\n",
       "      <td>252</td>\n",
       "      <td>266</td>\n",
       "    </tr>\n",
       "    <tr>\n",
       "      <th>v3.8.0.0</th>\n",
       "      <td>328</td>\n",
       "      <td>384</td>\n",
       "    </tr>\n",
       "  </tbody>\n",
       "</table>\n",
       "</div>"
      ],
      "text/plain": [
       "experimentVariant    0     1\n",
       "version                     \n",
       "v2.8.0              41  1895\n",
       "v2.9.0             890   858\n",
       "v3.7.4.0           252   266\n",
       "v3.8.0.0           328   384"
      ]
     },
     "execution_count": 12,
     "metadata": {},
     "output_type": "execute_result"
    }
   ],
   "source": [
    "grouping.pivot(index = 'version',\n",
    "               columns = 'experimentVariant',\n",
    "               values = 'purchases')"
   ]
  },
  {
   "cell_type": "code",
   "execution_count": 13,
   "id": "4707177c",
   "metadata": {
    "scrolled": true
   },
   "outputs": [
    {
     "data": {
      "text/html": [
       "<div>\n",
       "<style scoped>\n",
       "    .dataframe tbody tr th:only-of-type {\n",
       "        vertical-align: middle;\n",
       "    }\n",
       "\n",
       "    .dataframe tbody tr th {\n",
       "        vertical-align: top;\n",
       "    }\n",
       "\n",
       "    .dataframe thead th {\n",
       "        text-align: right;\n",
       "    }\n",
       "</style>\n",
       "<table border=\"1\" class=\"dataframe\">\n",
       "  <thead>\n",
       "    <tr style=\"text-align: right;\">\n",
       "      <th>experimentVariant</th>\n",
       "      <th>0</th>\n",
       "      <th>1</th>\n",
       "    </tr>\n",
       "    <tr>\n",
       "      <th>version</th>\n",
       "      <th></th>\n",
       "      <th></th>\n",
       "    </tr>\n",
       "  </thead>\n",
       "  <tbody>\n",
       "    <tr>\n",
       "      <th>v2.8.0</th>\n",
       "      <td>0.000993</td>\n",
       "      <td>0.045606</td>\n",
       "    </tr>\n",
       "    <tr>\n",
       "      <th>v2.9.0</th>\n",
       "      <td>0.074658</td>\n",
       "      <td>0.071304</td>\n",
       "    </tr>\n",
       "    <tr>\n",
       "      <th>v3.7.4.0</th>\n",
       "      <td>0.059943</td>\n",
       "      <td>0.063018</td>\n",
       "    </tr>\n",
       "    <tr>\n",
       "      <th>v3.8.0.0</th>\n",
       "      <td>0.057604</td>\n",
       "      <td>0.062848</td>\n",
       "    </tr>\n",
       "  </tbody>\n",
       "</table>\n",
       "</div>"
      ],
      "text/plain": [
       "experimentVariant         0         1\n",
       "version                              \n",
       "v2.8.0             0.000993  0.045606\n",
       "v2.9.0             0.074658  0.071304\n",
       "v3.7.4.0           0.059943  0.063018\n",
       "v3.8.0.0           0.057604  0.062848"
      ]
     },
     "execution_count": 13,
     "metadata": {},
     "output_type": "execute_result"
    }
   ],
   "source": [
    "grouping.pivot(index = 'version',\n",
    "               columns = 'experimentVariant',\n",
    "               values = 'CTP')"
   ]
  },
  {
   "cell_type": "markdown",
   "id": "cb43fd6b",
   "metadata": {},
   "source": [
    "Как видим, если сравнивать значения для двух экспериментов,то количество событий (events), количество покупок (purchases) и, соответственно, CTP близки по значениям для всех версий приложения, кроме v2.8.0, где у эксперимента 0 необычно малое количество покупок (41)."
   ]
  },
  {
   "cell_type": "markdown",
   "id": "8bd23180",
   "metadata": {},
   "source": [
    "## A/A-тест"
   ]
  },
  {
   "cell_type": "code",
   "execution_count": 14,
   "id": "98af3217",
   "metadata": {},
   "outputs": [],
   "source": [
    "sample_1 = df[df['experimentVariant'] == 0]\n",
    "sample_2 = df[df['experimentVariant'] == 1]"
   ]
  },
  {
   "cell_type": "code",
   "execution_count": 15,
   "id": "39ad4abc",
   "metadata": {},
   "outputs": [
    {
     "name": "stdout",
     "output_type": "stream",
     "text": [
      "63102\n",
      "63916\n"
     ]
    }
   ],
   "source": [
    "print(sample_1.shape[0])\n",
    "print(sample_2.shape[0])"
   ]
  },
  {
   "cell_type": "code",
   "execution_count": 16,
   "id": "894606fa",
   "metadata": {},
   "outputs": [
    {
     "data": {
      "application/vnd.jupyter.widget-view+json": {
       "model_id": "b5ce2e90ade044bbb4271516468150e0",
       "version_major": 2,
       "version_minor": 0
      },
      "text/plain": [
       "  0%|          | 0/1000 [00:00<?, ?it/s]"
      ]
     },
     "metadata": {},
     "output_type": "display_data"
    },
    {
     "data": {
      "image/png": "[encoded data removed]",
      "text/plain": [
       "<Figure size 432x288 with 1 Axes>"
      ]
     },
     "metadata": {
      "needs_background": "light"
     },
     "output_type": "display_data"
    },
    {
     "data": {
      "text/plain": [
       "0.94"
      ]
     },
     "execution_count": 16,
     "metadata": {},
     "output_type": "execute_result"
    }
   ],
   "source": [
    "n_s = 1000 # размер подвыборки\n",
    "simulations = 1000 # количество симуляций\n",
    "res = []\n",
    "\n",
    "# Запуск симуляций A/A теста\n",
    "for i in tqdm(range(simulations)):\n",
    "    s1 = sample_1['purchase'].sample(n_s, replace = False).values\n",
    "    s2 = sample_2['purchase'].sample(n_s, replace = False).values\n",
    "    res.append(stats.ttest_ind(s1, s2, equal_var = False)[1]) # сохраняем pvalue\n",
    "\n",
    "plt.hist(res, bins = 50)\n",
    "plt.style.use('ggplot')\n",
    "plt.xlabel('pvalues')\n",
    "plt.ylabel('frequency')\n",
    "plt.title(\"Histogram of ttest A/A simulations \")\n",
    "plt.show()\n",
    "\n",
    "# Проверяем, что количество ложноположительных случаев не превышает альфа\n",
    "sum(np.array(res) < 0.05) / simulations"
   ]
  },
  {
   "cell_type": "markdown",
   "id": "91c1c2b6",
   "metadata": {},
   "source": [
    "Если исключить из рассмотрения v2.8.0, то получим:"
   ]
  },
  {
   "cell_type": "code",
   "execution_count": 17,
   "id": "453cb220",
   "metadata": {},
   "outputs": [],
   "source": [
    "sample_1_v2 = sample_1.query(\"version != 'v2.8.0'\")\n",
    "sample_2_v2 = sample_2.query(\"version != 'v2.8.0'\")"
   ]
  },
  {
   "cell_type": "code",
   "execution_count": 18,
   "id": "4ea2ccde",
   "metadata": {
    "scrolled": false
   },
   "outputs": [
    {
     "data": {
      "application/vnd.jupyter.widget-view+json": {
       "model_id": "48190926810d4479b731528fd0d6fc0a",
       "version_major": 2,
       "version_minor": 0
      },
      "text/plain": [
       "  0%|          | 0/1000 [00:00<?, ?it/s]"
      ]
     },
     "metadata": {},
     "output_type": "display_data"
    },
    {
     "data": {
      "image/png": "[encoded data removed]",
      "text/plain": [
       "<Figure size 432x288 with 1 Axes>"
      ]
     },
     "metadata": {},
     "output_type": "display_data"
    },
    {
     "data": {
      "text/plain": [
       "0.049"
      ]
     },
     "execution_count": 18,
     "metadata": {},
     "output_type": "execute_result"
    }
   ],
   "source": [
    "res2 = []\n",
    "\n",
    "# Запуск симуляций A/A теста\n",
    "for i in tqdm(range(simulations)):\n",
    "    s1 = sample_1_v2['purchase'].sample(n_s, replace = False).values\n",
    "    s2 = sample_2_v2['purchase'].sample(n_s, replace = False).values\n",
    "    res2.append(stats.ttest_ind(s1, s2, equal_var = False)[1]) # сохраняем pvalue\n",
    "\n",
    "plt.hist(res2, bins = 50)\n",
    "plt.style.use('ggplot')\n",
    "plt.xlabel('pvalues')\n",
    "plt.ylabel('frequency')\n",
    "plt.title(\"Histogram of ttest A/A simulations \")\n",
    "plt.show()\n",
    "\n",
    "# Проверяем, что количество ложноположительных случаев не превышает альфа\n",
    "sum(np.array(res2) < 0.05) / simulations"
   ]
  },
  {
   "cell_type": "markdown",
   "id": "84d83eee",
   "metadata": {},
   "source": [
    "Получили долю сравнений, где были обнаружены какие-то различия (со значением p-value менее 0.05), около 5 %. Можно считать, что тест сошёлся."
   ]
  },
  {
   "cell_type": "markdown",
   "id": "e77ec697",
   "metadata": {},
   "source": [
    "# Вывод\n",
    "\n",
    "Некорректное разбиение по группам обнаружено для версии v2.8.0: при сравнении значений для двух экспериментов, количество событий (events), количество покупок (purchases) и, соответственно, **CTP** близки по значениям для всех версий приложения, кроме v2.8.0 -- в эксперименте 0 количество покупок 41, тогда как в эксперименте 1 -- 1895, при том что значения общего количества событий близки.\n",
    "\n",
    "При исключении данных для версии v2.8.0 A/A-тест сошёлся, и разделение по группам корректно."
   ]
  }
 ],
 "metadata": {
  "kernelspec": {
   "display_name": "Python 3",
   "language": "python",
   "name": "python3"
  },
  "language_info": {
   "codemirror_mode": {
    "name": "ipython",
    "version": 3
   },
   "file_extension": ".py",
   "mimetype": "text/x-python",
   "name": "python",
   "nbconvert_exporter": "python",
   "pygments_lexer": "ipython3",
   "version": "3.8.8"
  }
 },
 "nbformat": 4,
 "nbformat_minor": 5
}
