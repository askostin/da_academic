{
 "cells": [
  {
   "cell_type": "markdown",
   "id": "4685fc45",
   "metadata": {},
   "source": [
    "# Python и статистика\n",
    "\n",
    "Проект №7 - введение в проблематику A/B-тестов, применение бутстрапа."
   ]
  },
  {
   "cell_type": "markdown",
   "id": "949690ec",
   "metadata": {},
   "source": [
    "# Введение"
   ]
  },
  {
   "cell_type": "markdown",
   "id": "c8fcda47",
   "metadata": {},
   "source": [
    "## Загрузка библиотек"
   ]
  },
  {
   "cell_type": "code",
   "execution_count": 1,
   "id": "041a4f2b",
   "metadata": {},
   "outputs": [],
   "source": [
    "import pandas as pd\n",
    "import numpy as np\n",
    "from scipy.stats import norm, mannwhitneyu, shapiro, bartlett\n",
    "\n",
    "import pingouin as pg\n",
    "\n",
    "from tqdm.auto import tqdm\n",
    "\n",
    "%matplotlib inline\n",
    "import matplotlib.pyplot as plt\n",
    "import seaborn as sns\n",
    "plt.style.use('ggplot')"
   ]
  },
  {
   "cell_type": "markdown",
   "id": "66693aff",
   "metadata": {},
   "source": [
    "## Загрузка данных"
   ]
  },
  {
   "cell_type": "code",
   "execution_count": 2,
   "id": "970e7aaa",
   "metadata": {},
   "outputs": [],
   "source": [
    "df = pd.read_csv('./data/hw_bootstrap.csv', sep = ';', index_col = 0)"
   ]
  },
  {
   "cell_type": "code",
   "execution_count": 3,
   "id": "ffe3fa1a",
   "metadata": {
    "scrolled": false
   },
   "outputs": [
    {
     "data": {
      "text/html": [
       "<div>\n",
       "<style scoped>\n",
       "    .dataframe tbody tr th:only-of-type {\n",
       "        vertical-align: middle;\n",
       "    }\n",
       "\n",
       "    .dataframe tbody tr th {\n",
       "        vertical-align: top;\n",
       "    }\n",
       "\n",
       "    .dataframe thead th {\n",
       "        text-align: right;\n",
       "    }\n",
       "</style>\n",
       "<table border=\"1\" class=\"dataframe\">\n",
       "  <thead>\n",
       "    <tr style=\"text-align: right;\">\n",
       "      <th></th>\n",
       "      <th>value</th>\n",
       "      <th>experimentVariant</th>\n",
       "    </tr>\n",
       "  </thead>\n",
       "  <tbody>\n",
       "    <tr>\n",
       "      <th>1</th>\n",
       "      <td>10,3804953740268</td>\n",
       "      <td>Control</td>\n",
       "    </tr>\n",
       "    <tr>\n",
       "      <th>2</th>\n",
       "      <td>9,54686666784264</td>\n",
       "      <td>Control</td>\n",
       "    </tr>\n",
       "    <tr>\n",
       "      <th>3</th>\n",
       "      <td>11,0882146509904</td>\n",
       "      <td>Control</td>\n",
       "    </tr>\n",
       "    <tr>\n",
       "      <th>4</th>\n",
       "      <td>10,1472740570122</td>\n",
       "      <td>Control</td>\n",
       "    </tr>\n",
       "    <tr>\n",
       "      <th>5</th>\n",
       "      <td>9,78980767524929</td>\n",
       "      <td>Control</td>\n",
       "    </tr>\n",
       "    <tr>\n",
       "      <th>...</th>\n",
       "      <td>...</td>\n",
       "      <td>...</td>\n",
       "    </tr>\n",
       "    <tr>\n",
       "      <th>996</th>\n",
       "      <td>1000</td>\n",
       "      <td>Treatment</td>\n",
       "    </tr>\n",
       "    <tr>\n",
       "      <th>997</th>\n",
       "      <td>1200</td>\n",
       "      <td>Treatment</td>\n",
       "    </tr>\n",
       "    <tr>\n",
       "      <th>998</th>\n",
       "      <td>1500</td>\n",
       "      <td>Treatment</td>\n",
       "    </tr>\n",
       "    <tr>\n",
       "      <th>999</th>\n",
       "      <td>2000</td>\n",
       "      <td>Treatment</td>\n",
       "    </tr>\n",
       "    <tr>\n",
       "      <th>1000</th>\n",
       "      <td>3000</td>\n",
       "      <td>Treatment</td>\n",
       "    </tr>\n",
       "  </tbody>\n",
       "</table>\n",
       "<p>1000 rows × 2 columns</p>\n",
       "</div>"
      ],
      "text/plain": [
       "                 value experimentVariant\n",
       "1     10,3804953740268           Control\n",
       "2     9,54686666784264           Control\n",
       "3     11,0882146509904           Control\n",
       "4     10,1472740570122           Control\n",
       "5     9,78980767524929           Control\n",
       "...                ...               ...\n",
       "996               1000         Treatment\n",
       "997               1200         Treatment\n",
       "998               1500         Treatment\n",
       "999               2000         Treatment\n",
       "1000              3000         Treatment\n",
       "\n",
       "[1000 rows x 2 columns]"
      ]
     },
     "execution_count": 3,
     "metadata": {},
     "output_type": "execute_result"
    }
   ],
   "source": [
    "df"
   ]
  },
  {
   "cell_type": "code",
   "execution_count": 4,
   "id": "9990a1de",
   "metadata": {},
   "outputs": [],
   "source": [
    "df['value'] = df['value'].str.replace(',', '.').astype(float)"
   ]
  },
  {
   "cell_type": "code",
   "execution_count": 5,
   "id": "13ae48ca",
   "metadata": {
    "scrolled": true
   },
   "outputs": [
    {
     "data": {
      "text/plain": [
       "value                float64\n",
       "experimentVariant     object\n",
       "dtype: object"
      ]
     },
     "execution_count": 5,
     "metadata": {},
     "output_type": "execute_result"
    }
   ],
   "source": [
    "df.dtypes"
   ]
  },
  {
   "cell_type": "markdown",
   "id": "54d58264",
   "metadata": {},
   "source": [
    "## Подготовительная работа"
   ]
  },
  {
   "cell_type": "code",
   "execution_count": 6,
   "id": "8ba1b954",
   "metadata": {},
   "outputs": [],
   "source": [
    "# Объявим функцию, которая позволит проверять гипотезы с помощью бутстрапа\n",
    "def get_bootstrap(\n",
    "    data_column_1, # числовые значения первой выборки\n",
    "    data_column_2, # числовые значения второй выборки\n",
    "    boot_it = 1000, # количество бутстрэп-подвыборок\n",
    "    statistic = np.mean, # интересующая нас статистика\n",
    "    bootstrap_conf_level = 0.95, # уровень значимости\n",
    "    visualise = True # нужно ли выводить гистограмму для полученных данных\n",
    "):\n",
    "    boot_len = max([len(data_column_1), len(data_column_2)])\n",
    "    boot_data = []\n",
    "    for i in tqdm(range(boot_it)): # извлекаем подвыборки\n",
    "        samples_1 = data_column_1.sample(\n",
    "            boot_len, \n",
    "            replace = True # параметр возвращения\n",
    "        ).values\n",
    "        \n",
    "        samples_2 = data_column_2.sample(\n",
    "            boot_len, \n",
    "            replace = True\n",
    "        ).values\n",
    "        \n",
    "        boot_data.append(statistic(samples_1-samples_2)) # mean() - применяем статистику\n",
    "        \n",
    "    pd_boot_data = pd.DataFrame(boot_data)\n",
    "        \n",
    "    left_quant = (1 - bootstrap_conf_level)/2\n",
    "    right_quant = 1 - (1 - bootstrap_conf_level) / 2\n",
    "    ci = pd_boot_data.quantile([left_quant, right_quant])\n",
    "        \n",
    "    p_1 = norm.cdf(\n",
    "        x = 0, \n",
    "        loc = np.mean(boot_data), \n",
    "        scale = np.std(boot_data)\n",
    "    )\n",
    "    p_2 = norm.cdf(\n",
    "        x = 0, \n",
    "        loc = -np.mean(boot_data), \n",
    "        scale = np.std(boot_data)\n",
    "    )\n",
    "    p_value = min(p_1, p_2) * 2\n",
    "        \n",
    "#     Визуализация\n",
    "    if visualise :\n",
    "        plt.hist(pd_boot_data[0], bins = 50)\n",
    "    \n",
    "        plt.style.use('ggplot')\n",
    "        plt.vlines(ci,ymin=0,ymax=50,linestyle='--')\n",
    "        plt.xlabel('boot_data')\n",
    "        plt.ylabel('frequency')\n",
    "        plt.title(\"Histogram of boot_data\")\n",
    "        plt.show()\n",
    "       \n",
    "    return {\"boot_data\": boot_data, \n",
    "            \"ci\": ci, \n",
    "            \"p_value\": p_value}"
   ]
  },
  {
   "cell_type": "code",
   "execution_count": 7,
   "id": "c0a03f46",
   "metadata": {},
   "outputs": [],
   "source": [
    "control_data = df[df['experimentVariant'] == 'Control']['value']\n",
    "treatment_data = df[df['experimentVariant'] == 'Treatment']['value']"
   ]
  },
  {
   "cell_type": "markdown",
   "id": "5aa62c0d",
   "metadata": {},
   "source": [
    "# Сравнение групп бутстрапом"
   ]
  },
  {
   "cell_type": "markdown",
   "id": "f6913bef",
   "metadata": {},
   "source": [
    "## Вариант 1\n",
    "\n",
    "Применим бутстрап (с ```np.mean```) и критерий Манна-Уитни, а потом сравним ```p-value```."
   ]
  },
  {
   "cell_type": "code",
   "execution_count": 8,
   "id": "00219125",
   "metadata": {},
   "outputs": [
    {
     "data": {
      "application/vnd.jupyter.widget-view+json": {
       "model_id": "fefe17b238db4005be0e1db61266c706",
       "version_major": 2,
       "version_minor": 0
      },
      "text/plain": [
       "  0%|          | 0/1000 [00:00<?, ?it/s]"
      ]
     },
     "metadata": {},
     "output_type": "display_data"
    },
    {
     "data": {
      "image/png": "[encoded data removed]",
      "text/plain": [
       "<Figure size 432x288 with 1 Axes>"
      ]
     },
     "metadata": {},
     "output_type": "display_data"
    }
   ],
   "source": [
    "booted_data = get_bootstrap(control_data, treatment_data)"
   ]
  },
  {
   "cell_type": "code",
   "execution_count": 9,
   "id": "50f3230a",
   "metadata": {},
   "outputs": [
    {
     "data": {
      "text/plain": [
       "0.029333827805737938"
      ]
     },
     "execution_count": 9,
     "metadata": {},
     "output_type": "execute_result"
    }
   ],
   "source": [
    "booted_data['p_value']"
   ]
  },
  {
   "cell_type": "code",
   "execution_count": 10,
   "id": "cad8d06d",
   "metadata": {},
   "outputs": [
    {
     "data": {
      "text/html": [
       "<div>\n",
       "<style scoped>\n",
       "    .dataframe tbody tr th:only-of-type {\n",
       "        vertical-align: middle;\n",
       "    }\n",
       "\n",
       "    .dataframe tbody tr th {\n",
       "        vertical-align: top;\n",
       "    }\n",
       "\n",
       "    .dataframe thead th {\n",
       "        text-align: right;\n",
       "    }\n",
       "</style>\n",
       "<table border=\"1\" class=\"dataframe\">\n",
       "  <thead>\n",
       "    <tr style=\"text-align: right;\">\n",
       "      <th></th>\n",
       "      <th>0</th>\n",
       "    </tr>\n",
       "  </thead>\n",
       "  <tbody>\n",
       "    <tr>\n",
       "      <th>0.025</th>\n",
       "      <td>-34.018957</td>\n",
       "    </tr>\n",
       "    <tr>\n",
       "      <th>0.975</th>\n",
       "      <td>-3.039036</td>\n",
       "    </tr>\n",
       "  </tbody>\n",
       "</table>\n",
       "</div>"
      ],
      "text/plain": [
       "               0\n",
       "0.025 -34.018957\n",
       "0.975  -3.039036"
      ]
     },
     "execution_count": 10,
     "metadata": {},
     "output_type": "execute_result"
    }
   ],
   "source": [
    "booted_data['ci']"
   ]
  },
  {
   "cell_type": "markdown",
   "id": "b258d00e",
   "metadata": {},
   "source": [
    "Проверка полученных данных на нормальность:"
   ]
  },
  {
   "cell_type": "code",
   "execution_count": 11,
   "id": "4a7e4db3",
   "metadata": {},
   "outputs": [
    {
     "data": {
      "text/plain": [
       "ShapiroResult(statistic=0.9883827567100525, pvalue=4.071560510965355e-07)"
      ]
     },
     "execution_count": 11,
     "metadata": {},
     "output_type": "execute_result"
    }
   ],
   "source": [
    "shapiro(booted_data['boot_data'])"
   ]
  },
  {
   "cell_type": "markdown",
   "id": "95156358",
   "metadata": {},
   "source": [
    "Уровень значимости намного меньше единицы, даже при граничном значении p = 0.05/10 мы можем отвергнуть нулевую гипотезу, имея малый шанс ошибиться. Можно (и нужно) применять критерий Манна-Уитни."
   ]
  },
  {
   "cell_type": "markdown",
   "id": "ca98bd58",
   "metadata": {},
   "source": [
    "Если прогнать функцию для разных значений количества итераций ```boot_it``` (сколько раз мы проводили взятие новой, повторной выборки с возвращением, то для ```p_value``` мы получим (с округлением до третьего знака):"
   ]
  },
  {
   "cell_type": "code",
   "execution_count": 12,
   "id": "bae543c7",
   "metadata": {
    "scrolled": false
   },
   "outputs": [
    {
     "data": {
      "application/vnd.jupyter.widget-view+json": {
       "model_id": "90f81d2a738142e8afc391ad23c87536",
       "version_major": 2,
       "version_minor": 0
      },
      "text/plain": [
       "  0%|          | 0/50 [00:00<?, ?it/s]"
      ]
     },
     "metadata": {},
     "output_type": "display_data"
    },
    {
     "data": {
      "application/vnd.jupyter.widget-view+json": {
       "model_id": "2e3a280df6314a2cb5afec903296b0d2",
       "version_major": 2,
       "version_minor": 0
      },
      "text/plain": [
       "  0%|          | 0/100 [00:00<?, ?it/s]"
      ]
     },
     "metadata": {},
     "output_type": "display_data"
    },
    {
     "data": {
      "application/vnd.jupyter.widget-view+json": {
       "model_id": "1e3ba34cb84e48b3bd1dbcf458d602cc",
       "version_major": 2,
       "version_minor": 0
      },
      "text/plain": [
       "  0%|          | 0/200 [00:00<?, ?it/s]"
      ]
     },
     "metadata": {},
     "output_type": "display_data"
    },
    {
     "data": {
      "application/vnd.jupyter.widget-view+json": {
       "model_id": "bd2b13ce0d5e488aae5c2b02f9d84a1f",
       "version_major": 2,
       "version_minor": 0
      },
      "text/plain": [
       "  0%|          | 0/500 [00:00<?, ?it/s]"
      ]
     },
     "metadata": {},
     "output_type": "display_data"
    },
    {
     "data": {
      "application/vnd.jupyter.widget-view+json": {
       "model_id": "33de6f5197cb4f2aa0b9fa2acd1a819c",
       "version_major": 2,
       "version_minor": 0
      },
      "text/plain": [
       "  0%|          | 0/1000 [00:00<?, ?it/s]"
      ]
     },
     "metadata": {},
     "output_type": "display_data"
    },
    {
     "data": {
      "application/vnd.jupyter.widget-view+json": {
       "model_id": "f945ce01ff1d4c12b2c427504c9ede32",
       "version_major": 2,
       "version_minor": 0
      },
      "text/plain": [
       "  0%|          | 0/2000 [00:00<?, ?it/s]"
      ]
     },
     "metadata": {},
     "output_type": "display_data"
    },
    {
     "data": {
      "application/vnd.jupyter.widget-view+json": {
       "model_id": "ced8df8d1dac42e48bc828ac902d408c",
       "version_major": 2,
       "version_minor": 0
      },
      "text/plain": [
       "  0%|          | 0/5000 [00:00<?, ?it/s]"
      ]
     },
     "metadata": {},
     "output_type": "display_data"
    },
    {
     "data": {
      "text/html": [
       "<div>\n",
       "<style scoped>\n",
       "    .dataframe tbody tr th:only-of-type {\n",
       "        vertical-align: middle;\n",
       "    }\n",
       "\n",
       "    .dataframe tbody tr th {\n",
       "        vertical-align: top;\n",
       "    }\n",
       "\n",
       "    .dataframe thead th {\n",
       "        text-align: right;\n",
       "    }\n",
       "</style>\n",
       "<table border=\"1\" class=\"dataframe\">\n",
       "  <thead>\n",
       "    <tr style=\"text-align: right;\">\n",
       "      <th></th>\n",
       "      <th>N</th>\n",
       "      <th>p_value</th>\n",
       "    </tr>\n",
       "  </thead>\n",
       "  <tbody>\n",
       "    <tr>\n",
       "      <th>0</th>\n",
       "      <td>50</td>\n",
       "      <td>0.068</td>\n",
       "    </tr>\n",
       "    <tr>\n",
       "      <th>1</th>\n",
       "      <td>100</td>\n",
       "      <td>0.045</td>\n",
       "    </tr>\n",
       "    <tr>\n",
       "      <th>2</th>\n",
       "      <td>200</td>\n",
       "      <td>0.049</td>\n",
       "    </tr>\n",
       "    <tr>\n",
       "      <th>3</th>\n",
       "      <td>500</td>\n",
       "      <td>0.045</td>\n",
       "    </tr>\n",
       "    <tr>\n",
       "      <th>4</th>\n",
       "      <td>1000</td>\n",
       "      <td>0.035</td>\n",
       "    </tr>\n",
       "    <tr>\n",
       "      <th>5</th>\n",
       "      <td>2000</td>\n",
       "      <td>0.037</td>\n",
       "    </tr>\n",
       "    <tr>\n",
       "      <th>6</th>\n",
       "      <td>5000</td>\n",
       "      <td>0.036</td>\n",
       "    </tr>\n",
       "  </tbody>\n",
       "</table>\n",
       "</div>"
      ],
      "text/plain": [
       "      N  p_value\n",
       "0    50    0.068\n",
       "1   100    0.045\n",
       "2   200    0.049\n",
       "3   500    0.045\n",
       "4  1000    0.035\n",
       "5  2000    0.037\n",
       "6  5000    0.036"
      ]
     },
     "execution_count": 12,
     "metadata": {},
     "output_type": "execute_result"
    }
   ],
   "source": [
    "results = []\n",
    "for N in [50, 100, 200, 500, 1000, 2000, 5000] :\n",
    "    data = get_bootstrap(control_data, treatment_data, boot_it = N, visualise = False)\n",
    "    results.append({'N': N,\n",
    "                    'p_value': round(data['p_value'], 3)\n",
    "                   }\n",
    "                  )\n",
    "    \n",
    "pd.DataFrame(results)"
   ]
  },
  {
   "cell_type": "markdown",
   "id": "07cd9757",
   "metadata": {},
   "source": [
    "Как видим, увеличение количества итераций выше 1000 не даёт заметного изменения результатов. [Как известно](https://en.wikipedia.org/wiki/Bootstrapping_(statistics)#cite_ref-22), приемлемый результат (в оценке ошибок, допущенных при использовании этого метода) можно (не всегда!) получить уже при 100 и даже 50 итерациях. Можно увидеть, что уже при 200 итерациях полученное значение ```p-value``` отличается от значений при N &geq; 1000 не более чем на 0.005."
   ]
  },
  {
   "cell_type": "markdown",
   "id": "91eb409d",
   "metadata": {},
   "source": [
    "### Проверка при помощи критерия Манна-Уитни"
   ]
  },
  {
   "cell_type": "code",
   "execution_count": 13,
   "id": "e60e4a64",
   "metadata": {
    "scrolled": true
   },
   "outputs": [
    {
     "data": {
      "text/plain": [
       "MannwhitneyuResult(statistic=124189.5, pvalue=0.8592148582485579)"
      ]
     },
     "execution_count": 13,
     "metadata": {},
     "output_type": "execute_result"
    }
   ],
   "source": [
    "mannwhitneyu(control_data, treatment_data)"
   ]
  },
  {
   "cell_type": "markdown",
   "id": "23a36852",
   "metadata": {},
   "source": [
    "Результаты сильно отличаются. При использовании бутстрапа мы получили величину ```p-value```, позволяющую отклонить нулевую гипотезу, тогдка как используя критерий Манна-Уитни для сравнения двух наборов данных, мы получили значение, близкое к единице. Отметим, что критерий Манна-Уитни проверяет нулевую гипотезу о равенстве распределений."
   ]
  },
  {
   "cell_type": "markdown",
   "id": "261a90d1",
   "metadata": {},
   "source": [
    "## Вариант 2\n",
    "\n",
    "Применим бутстрап (с ```np.median```) и критерий Манна-Уитни, а потом сравним ```p-value```."
   ]
  },
  {
   "cell_type": "code",
   "execution_count": 14,
   "id": "7d461fe2",
   "metadata": {},
   "outputs": [
    {
     "data": {
      "application/vnd.jupyter.widget-view+json": {
       "model_id": "ad23e90f792d45aa85642252100582e1",
       "version_major": 2,
       "version_minor": 0
      },
      "text/plain": [
       "  0%|          | 0/1000 [00:00<?, ?it/s]"
      ]
     },
     "metadata": {},
     "output_type": "display_data"
    },
    {
     "data": {
      "image/png": "[encoded data removed]",
      "text/plain": [
       "<Figure size 432x288 with 1 Axes>"
      ]
     },
     "metadata": {},
     "output_type": "display_data"
    }
   ],
   "source": [
    "booted_data_2 = get_bootstrap(control_data, treatment_data, statistic = np.median)"
   ]
  },
  {
   "cell_type": "code",
   "execution_count": 15,
   "id": "026794a3",
   "metadata": {},
   "outputs": [
    {
     "data": {
      "text/plain": [
       "0.8741446380395514"
      ]
     },
     "execution_count": 15,
     "metadata": {},
     "output_type": "execute_result"
    }
   ],
   "source": [
    "booted_data_2['p_value']"
   ]
  },
  {
   "cell_type": "markdown",
   "id": "0ae13361",
   "metadata": {},
   "source": [
    "Если опять вычислять ```p-value``` при разном количестве итераций, то получим:"
   ]
  },
  {
   "cell_type": "code",
   "execution_count": 16,
   "id": "987e4dee",
   "metadata": {},
   "outputs": [
    {
     "data": {
      "application/vnd.jupyter.widget-view+json": {
       "model_id": "0891b4ccc690467ab4f75e69f0bed9e6",
       "version_major": 2,
       "version_minor": 0
      },
      "text/plain": [
       "  0%|          | 0/50 [00:00<?, ?it/s]"
      ]
     },
     "metadata": {},
     "output_type": "display_data"
    },
    {
     "data": {
      "application/vnd.jupyter.widget-view+json": {
       "model_id": "79d022c3fa6c4d40a62f9cf2fb1eb990",
       "version_major": 2,
       "version_minor": 0
      },
      "text/plain": [
       "  0%|          | 0/100 [00:00<?, ?it/s]"
      ]
     },
     "metadata": {},
     "output_type": "display_data"
    },
    {
     "data": {
      "application/vnd.jupyter.widget-view+json": {
       "model_id": "45f2fc4152a2402ea31cd745a1385e77",
       "version_major": 2,
       "version_minor": 0
      },
      "text/plain": [
       "  0%|          | 0/200 [00:00<?, ?it/s]"
      ]
     },
     "metadata": {},
     "output_type": "display_data"
    },
    {
     "data": {
      "application/vnd.jupyter.widget-view+json": {
       "model_id": "01567a50ca2848f4a604707087bb740f",
       "version_major": 2,
       "version_minor": 0
      },
      "text/plain": [
       "  0%|          | 0/500 [00:00<?, ?it/s]"
      ]
     },
     "metadata": {},
     "output_type": "display_data"
    },
    {
     "data": {
      "application/vnd.jupyter.widget-view+json": {
       "model_id": "f05f44973853481fbf4f5782139e624c",
       "version_major": 2,
       "version_minor": 0
      },
      "text/plain": [
       "  0%|          | 0/1000 [00:00<?, ?it/s]"
      ]
     },
     "metadata": {},
     "output_type": "display_data"
    },
    {
     "data": {
      "application/vnd.jupyter.widget-view+json": {
       "model_id": "d5abbd9d3b6f464f9b7d0929a5707520",
       "version_major": 2,
       "version_minor": 0
      },
      "text/plain": [
       "  0%|          | 0/2000 [00:00<?, ?it/s]"
      ]
     },
     "metadata": {},
     "output_type": "display_data"
    },
    {
     "data": {
      "application/vnd.jupyter.widget-view+json": {
       "model_id": "fe77c2d76df64c4e8b813a54c61bea81",
       "version_major": 2,
       "version_minor": 0
      },
      "text/plain": [
       "  0%|          | 0/5000 [00:00<?, ?it/s]"
      ]
     },
     "metadata": {},
     "output_type": "display_data"
    },
    {
     "data": {
      "text/html": [
       "<div>\n",
       "<style scoped>\n",
       "    .dataframe tbody tr th:only-of-type {\n",
       "        vertical-align: middle;\n",
       "    }\n",
       "\n",
       "    .dataframe tbody tr th {\n",
       "        vertical-align: top;\n",
       "    }\n",
       "\n",
       "    .dataframe thead th {\n",
       "        text-align: right;\n",
       "    }\n",
       "</style>\n",
       "<table border=\"1\" class=\"dataframe\">\n",
       "  <thead>\n",
       "    <tr style=\"text-align: right;\">\n",
       "      <th></th>\n",
       "      <th>N</th>\n",
       "      <th>p_value</th>\n",
       "    </tr>\n",
       "  </thead>\n",
       "  <tbody>\n",
       "    <tr>\n",
       "      <th>0</th>\n",
       "      <td>50</td>\n",
       "      <td>0.891</td>\n",
       "    </tr>\n",
       "    <tr>\n",
       "      <th>1</th>\n",
       "      <td>100</td>\n",
       "      <td>0.762</td>\n",
       "    </tr>\n",
       "    <tr>\n",
       "      <th>2</th>\n",
       "      <td>200</td>\n",
       "      <td>0.858</td>\n",
       "    </tr>\n",
       "    <tr>\n",
       "      <th>3</th>\n",
       "      <td>500</td>\n",
       "      <td>0.818</td>\n",
       "    </tr>\n",
       "    <tr>\n",
       "      <th>4</th>\n",
       "      <td>1000</td>\n",
       "      <td>0.898</td>\n",
       "    </tr>\n",
       "    <tr>\n",
       "      <th>5</th>\n",
       "      <td>2000</td>\n",
       "      <td>0.866</td>\n",
       "    </tr>\n",
       "    <tr>\n",
       "      <th>6</th>\n",
       "      <td>5000</td>\n",
       "      <td>0.891</td>\n",
       "    </tr>\n",
       "  </tbody>\n",
       "</table>\n",
       "</div>"
      ],
      "text/plain": [
       "      N  p_value\n",
       "0    50    0.891\n",
       "1   100    0.762\n",
       "2   200    0.858\n",
       "3   500    0.818\n",
       "4  1000    0.898\n",
       "5  2000    0.866\n",
       "6  5000    0.891"
      ]
     },
     "execution_count": 16,
     "metadata": {},
     "output_type": "execute_result"
    }
   ],
   "source": [
    "results_2 = []\n",
    "for N in [50, 100, 200, 500, 1000, 2000, 5000] :\n",
    "    data = get_bootstrap(control_data,\n",
    "                         treatment_data,\n",
    "                         boot_it = N,\n",
    "                         statistic = np.median,\n",
    "                         visualise = False)\n",
    "    results_2.append({'N': N,\n",
    "                      'p_value': round(data['p_value'], 3)\n",
    "                     }\n",
    "                    )\n",
    "    \n",
    "pd.DataFrame(results_2)"
   ]
  },
  {
   "cell_type": "markdown",
   "id": "2bd23f95",
   "metadata": {},
   "source": [
    "Как видим, результаты для бутстрапа с ```np.median``` и сравнения с помощью критерия Манна-Уитни практически совпадают.\n",
    "\n",
    "Более того, для получения результата, не отличающегося от результатов при большом (от 1000) количестве итераций, можно применять 50 итераций."
   ]
  },
  {
   "cell_type": "markdown",
   "id": "5dc0c4af",
   "metadata": {},
   "source": [
    "# Дописследование"
   ]
  },
  {
   "cell_type": "markdown",
   "id": "a90a21ff",
   "metadata": {},
   "source": [
    "Проверим контрольную и тестовую группу на нормальность."
   ]
  },
  {
   "cell_type": "markdown",
   "id": "d8562a8c",
   "metadata": {},
   "source": [
    "#### Контрольная группа"
   ]
  },
  {
   "cell_type": "code",
   "execution_count": 17,
   "id": "06127e3d",
   "metadata": {},
   "outputs": [
    {
     "data": {
      "text/plain": [
       "ShapiroResult(statistic=0.9959248900413513, pvalue=0.22416365146636963)"
      ]
     },
     "execution_count": 17,
     "metadata": {},
     "output_type": "execute_result"
    }
   ],
   "source": [
    "shapiro(control_data)"
   ]
  },
  {
   "cell_type": "code",
   "execution_count": 18,
   "id": "5917fa0f",
   "metadata": {
    "scrolled": true
   },
   "outputs": [
    {
     "data": {
      "text/plain": [
       "<AxesSubplot:xlabel='value', ylabel='Count'>"
      ]
     },
     "execution_count": 18,
     "metadata": {},
     "output_type": "execute_result"
    },
    {
     "data": {
      "image/png": "[encoded data removed]",
      "text/plain": [
       "<Figure size 432x288 with 1 Axes>"
      ]
     },
     "metadata": {},
     "output_type": "display_data"
    }
   ],
   "source": [
    "sns.histplot(control_data, kde = True, bins = 40)"
   ]
  },
  {
   "cell_type": "markdown",
   "id": "c098d00e",
   "metadata": {},
   "source": [
    "#### Экспериментальные данные "
   ]
  },
  {
   "cell_type": "code",
   "execution_count": 19,
   "id": "23e5ec01",
   "metadata": {
    "scrolled": true
   },
   "outputs": [
    {
     "data": {
      "text/plain": [
       "ShapiroResult(statistic=0.07038933038711548, pvalue=1.0930128021733573e-43)"
      ]
     },
     "execution_count": 19,
     "metadata": {},
     "output_type": "execute_result"
    }
   ],
   "source": [
    "shapiro(treatment_data)"
   ]
  },
  {
   "cell_type": "code",
   "execution_count": 20,
   "id": "1534f9ac",
   "metadata": {
    "scrolled": true
   },
   "outputs": [
    {
     "data": {
      "text/plain": [
       "<AxesSubplot:xlabel='value', ylabel='Count'>"
      ]
     },
     "execution_count": 20,
     "metadata": {},
     "output_type": "execute_result"
    },
    {
     "data": {
      "image/png": "[encoded data removed]",
      "text/plain": [
       "<Figure size 432x288 with 1 Axes>"
      ]
     },
     "metadata": {},
     "output_type": "display_data"
    }
   ],
   "source": [
    "sns.histplot(treatment_data, kde = True, bins = 10)"
   ]
  },
  {
   "cell_type": "markdown",
   "id": "79ce6733",
   "metadata": {},
   "source": [
    "Как видно, распределение экспериментальных данных полностью отличается от нормального."
   ]
  },
  {
   "cell_type": "markdown",
   "id": "d6341476",
   "metadata": {},
   "source": [
    "Проверка данных, полученных бутстрапом по медиане (вторым способом), на нормальность:"
   ]
  },
  {
   "cell_type": "code",
   "execution_count": 21,
   "id": "a4f4a3cc",
   "metadata": {},
   "outputs": [
    {
     "data": {
      "text/plain": [
       "ShapiroResult(statistic=0.9967246651649475, pvalue=0.036201704293489456)"
      ]
     },
     "execution_count": 21,
     "metadata": {},
     "output_type": "execute_result"
    }
   ],
   "source": [
    "shapiro(booted_data_2['boot_data'])"
   ]
  },
  {
   "cell_type": "markdown",
   "id": "ebc73676",
   "metadata": {},
   "source": [
    "Аналогично предыдущему случаю, данные не нормальны (если считать что граничное значение равно 0.05), но при этом вероятность ошибиться при таком допущении намного выше (если на самом деле нулевая гипотеза верна и данные распределены нормально). По результатам построения QQ-plot данные всё же можно считать нормальными, тем более что граничное значение 0.05 всё же являетс \"усреднённым общепринятым\" и может и должно меняться в зависимости от (условий) задачи."
   ]
  },
  {
   "cell_type": "code",
   "execution_count": 22,
   "id": "7dd98082",
   "metadata": {},
   "outputs": [
    {
     "data": {
      "text/plain": [
       "<AxesSubplot:title={'center':'Q-Q Plot'}, xlabel='Theoretical quantiles', ylabel='Ordered quantiles'>"
      ]
     },
     "execution_count": 22,
     "metadata": {},
     "output_type": "execute_result"
    },
    {
     "data": {
      "image/png": "[encoded data removed]",
      "text/plain": [
       "<Figure size 360x288 with 1 Axes>"
      ]
     },
     "metadata": {},
     "output_type": "display_data"
    }
   ],
   "source": [
    "pg.qqplot(booted_data_2['boot_data'], dist = 'norm')"
   ]
  },
  {
   "cell_type": "markdown",
   "id": "eb5011a9",
   "metadata": {},
   "source": [
    "Проверим гомогенность дисперсий:"
   ]
  },
  {
   "cell_type": "code",
   "execution_count": 23,
   "id": "2c331f84",
   "metadata": {
    "scrolled": true
   },
   "outputs": [
    {
     "data": {
      "text/plain": [
       "BartlettResult(statistic=14064.896097166868, pvalue=0.0)"
      ]
     },
     "execution_count": 23,
     "metadata": {},
     "output_type": "execute_result"
    }
   ],
   "source": [
    "bartlett(booted_data_2['boot_data'], treatment_data.to_numpy())"
   ]
  },
  {
   "cell_type": "markdown",
   "id": "144bb84b",
   "metadata": {},
   "source": [
    "t-test применять нельзя"
   ]
  },
  {
   "cell_type": "markdown",
   "id": "a17eeb10",
   "metadata": {},
   "source": [
    "# Вывод\n",
    "\n",
    "Подтверждается утверждение, что используемая мера центральной тенденции значительно влияет на результат бутстрапа. В данном случае свойства рассматриваемой группы лучше выражает медиана.\n",
    "\n",
    "При использовании средного полученное \"эмпирическое\" бутстрап-распределение однозначно не является нормальным, а при использовании медианы -- близко к нормальному.\n",
    "\n",
    "Для получения приемлемых результатов при использовании медианы достаточно всего 50 итераций бутстрапа, тогда как в первом случае -- от 500 до 1000."
   ]
  },
  {
   "cell_type": "markdown",
   "id": "d3e07039",
   "metadata": {},
   "source": [
    "## Итого\n",
    "* Тестовая выборка имеет большие выбросы, что сильно искажает нам среднее значение\n",
    "* Применяя бутстрап с оценкой среднего, мы могли бы отклонить нулевую гипотезу о равенстве средних и сделать вывод, что тестовая и контрольная выборка имеют различия\n",
    "* Однако, тот же бутстрап, но уже по медиане не дает нам отклонить нулевую гипотезу, так как **p-value** сильно больше 0.05, т.к. здесь проверяется другая гипотеза\n",
    "* U-критерий Манна-Уитни в обоих случаях показал высокую вероятность того, что распределения в выборках одинаковы. Однако данный критерий весьма чувствителен к дисбалансу между выборками, который оказывает сильное влияние на мощность критерия – чем сильнее дисбаланс, тем реже критерий будет обнаруживать реальную разницу (эффект) https://stats.stackexchange.com/questions/40342/mann-whitney-u-test-with-unequal-sample-sizes"
   ]
  }
 ],
 "metadata": {
  "kernelspec": {
   "display_name": "Python 3",
   "language": "python",
   "name": "python3"
  },
  "language_info": {
   "codemirror_mode": {
    "name": "ipython",
    "version": 3
   },
   "file_extension": ".py",
   "mimetype": "text/x-python",
   "name": "python",
   "nbconvert_exporter": "python",
   "pygments_lexer": "ipython3",
   "version": "3.8.8"
  }
 },
 "nbformat": 4,
 "nbformat_minor": 5
}
