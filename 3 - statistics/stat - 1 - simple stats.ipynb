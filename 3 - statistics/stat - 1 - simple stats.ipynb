{
 "cells": [
  {
   "cell_type": "markdown",
   "id": "bff9c339",
   "metadata": {},
   "source": [
    "# Python и статистика\n",
    "\n",
    "Проект №1 - пример обзора данных, с определением (агрегацией) простых свойств (средние, суммы) и постройкой графиков."
   ]
  },
  {
   "cell_type": "markdown",
   "id": "2f0a9347",
   "metadata": {},
   "source": [
    "## Импорт библиотек и настройка среды"
   ]
  },
  {
   "cell_type": "code",
   "execution_count": 2,
   "id": "0f4563ea",
   "metadata": {},
   "outputs": [],
   "source": [
    "import numpy as np\n",
    "import pandas as pd\n",
    "\n",
    "%matplotlib inline\n",
    "import matplotlib.pyplot as plt\n",
    "import seaborn as sns"
   ]
  },
  {
   "cell_type": "markdown",
   "id": "9c0c1611",
   "metadata": {},
   "source": [
    "Дополнительные функции для улучшения отображения:"
   ]
  },
  {
   "cell_type": "code",
   "execution_count": 3,
   "id": "ef134a77",
   "metadata": {},
   "outputs": [],
   "source": [
    "def cols_word(n_cols: int) :\n",
    "    if (n_cols % 100 > 10) and (n_cols % 100 < 20) :\n",
    "        return ('колонок')\n",
    "    elif (n_cols % 10 == 1) :\n",
    "        return('колонка')\n",
    "    elif (n_cols % 10 in [2, 3, 4]) :\n",
    "        return('колонки')\n",
    "    else :\n",
    "        return('колонок')\n",
    "\n",
    "def rows_word(n_rows: int) :\n",
    "    if (n_rows % 100 > 10) and (n_rows % 100 < 20) :\n",
    "        return ('колонок')\n",
    "    elif (n_rows % 10 == 1) :\n",
    "        return('строка')\n",
    "    elif (n_rows % 10 in [2, 3, 4]) :\n",
    "        return('строки')\n",
    "    else :\n",
    "        return('строк')"
   ]
  },
  {
   "cell_type": "markdown",
   "id": "184957f7",
   "metadata": {},
   "source": [
    "## Загрузка и предварительный обзор данных"
   ]
  },
  {
   "cell_type": "code",
   "execution_count": 4,
   "id": "1bd695a7",
   "metadata": {},
   "outputs": [],
   "source": [
    "df = pd.read_csv('./data/games.csv')"
   ]
  },
  {
   "cell_type": "code",
   "execution_count": 7,
   "id": "d100646c",
   "metadata": {
    "scrolled": true
   },
   "outputs": [
    {
     "data": {
      "text/html": [
       "<div>\n",
       "<style scoped>\n",
       "    .dataframe tbody tr th:only-of-type {\n",
       "        vertical-align: middle;\n",
       "    }\n",
       "\n",
       "    .dataframe tbody tr th {\n",
       "        vertical-align: top;\n",
       "    }\n",
       "\n",
       "    .dataframe thead th {\n",
       "        text-align: right;\n",
       "    }\n",
       "</style>\n",
       "<table border=\"1\" class=\"dataframe\">\n",
       "  <thead>\n",
       "    <tr style=\"text-align: right;\">\n",
       "      <th></th>\n",
       "      <th>Rank</th>\n",
       "      <th>Name</th>\n",
       "      <th>Platform</th>\n",
       "      <th>Year</th>\n",
       "      <th>Genre</th>\n",
       "      <th>Publisher</th>\n",
       "      <th>NA_Sales</th>\n",
       "      <th>EU_Sales</th>\n",
       "      <th>JP_Sales</th>\n",
       "      <th>Other_Sales</th>\n",
       "      <th>Global_Sales</th>\n",
       "    </tr>\n",
       "  </thead>\n",
       "  <tbody>\n",
       "    <tr>\n",
       "      <th>0</th>\n",
       "      <td>1</td>\n",
       "      <td>Wii Sports</td>\n",
       "      <td>Wii</td>\n",
       "      <td>2006.0</td>\n",
       "      <td>Sports</td>\n",
       "      <td>Nintendo</td>\n",
       "      <td>41.49</td>\n",
       "      <td>29.02</td>\n",
       "      <td>3.77</td>\n",
       "      <td>8.46</td>\n",
       "      <td>82.74</td>\n",
       "    </tr>\n",
       "    <tr>\n",
       "      <th>1</th>\n",
       "      <td>2</td>\n",
       "      <td>Super Mario Bros.</td>\n",
       "      <td>NES</td>\n",
       "      <td>1985.0</td>\n",
       "      <td>Platform</td>\n",
       "      <td>Nintendo</td>\n",
       "      <td>29.08</td>\n",
       "      <td>3.58</td>\n",
       "      <td>6.81</td>\n",
       "      <td>0.77</td>\n",
       "      <td>40.24</td>\n",
       "    </tr>\n",
       "    <tr>\n",
       "      <th>2</th>\n",
       "      <td>3</td>\n",
       "      <td>Mario Kart Wii</td>\n",
       "      <td>Wii</td>\n",
       "      <td>2008.0</td>\n",
       "      <td>Racing</td>\n",
       "      <td>Nintendo</td>\n",
       "      <td>15.85</td>\n",
       "      <td>12.88</td>\n",
       "      <td>3.79</td>\n",
       "      <td>3.31</td>\n",
       "      <td>35.82</td>\n",
       "    </tr>\n",
       "    <tr>\n",
       "      <th>3</th>\n",
       "      <td>4</td>\n",
       "      <td>Wii Sports Resort</td>\n",
       "      <td>Wii</td>\n",
       "      <td>2009.0</td>\n",
       "      <td>Sports</td>\n",
       "      <td>Nintendo</td>\n",
       "      <td>15.75</td>\n",
       "      <td>11.01</td>\n",
       "      <td>3.28</td>\n",
       "      <td>2.96</td>\n",
       "      <td>33.00</td>\n",
       "    </tr>\n",
       "    <tr>\n",
       "      <th>4</th>\n",
       "      <td>5</td>\n",
       "      <td>Pokemon Red/Pokemon Blue</td>\n",
       "      <td>GB</td>\n",
       "      <td>1996.0</td>\n",
       "      <td>Role-Playing</td>\n",
       "      <td>Nintendo</td>\n",
       "      <td>11.27</td>\n",
       "      <td>8.89</td>\n",
       "      <td>10.22</td>\n",
       "      <td>1.00</td>\n",
       "      <td>31.37</td>\n",
       "    </tr>\n",
       "  </tbody>\n",
       "</table>\n",
       "</div>"
      ],
      "text/plain": [
       "   Rank                      Name Platform    Year         Genre Publisher  \\\n",
       "0     1                Wii Sports      Wii  2006.0        Sports  Nintendo   \n",
       "1     2         Super Mario Bros.      NES  1985.0      Platform  Nintendo   \n",
       "2     3            Mario Kart Wii      Wii  2008.0        Racing  Nintendo   \n",
       "3     4         Wii Sports Resort      Wii  2009.0        Sports  Nintendo   \n",
       "4     5  Pokemon Red/Pokemon Blue       GB  1996.0  Role-Playing  Nintendo   \n",
       "\n",
       "   NA_Sales  EU_Sales  JP_Sales  Other_Sales  Global_Sales  \n",
       "0     41.49     29.02      3.77         8.46         82.74  \n",
       "1     29.08      3.58      6.81         0.77         40.24  \n",
       "2     15.85     12.88      3.79         3.31         35.82  \n",
       "3     15.75     11.01      3.28         2.96         33.00  \n",
       "4     11.27      8.89     10.22         1.00         31.37  "
      ]
     },
     "execution_count": 7,
     "metadata": {},
     "output_type": "execute_result"
    }
   ],
   "source": [
    "df.head()"
   ]
  },
  {
   "cell_type": "markdown",
   "id": "8d9e465c",
   "metadata": {},
   "source": [
    "Проверка типов данных:"
   ]
  },
  {
   "cell_type": "code",
   "execution_count": 8,
   "id": "ff7b8c08",
   "metadata": {},
   "outputs": [
    {
     "data": {
      "text/plain": [
       "Rank              int64\n",
       "Name             object\n",
       "Platform         object\n",
       "Year            float64\n",
       "Genre            object\n",
       "Publisher        object\n",
       "NA_Sales        float64\n",
       "EU_Sales        float64\n",
       "JP_Sales        float64\n",
       "Other_Sales     float64\n",
       "Global_Sales    float64\n",
       "dtype: object"
      ]
     },
     "execution_count": 8,
     "metadata": {},
     "output_type": "execute_result"
    }
   ],
   "source": [
    "df.dtypes"
   ]
  },
  {
   "cell_type": "markdown",
   "id": "bed663a4",
   "metadata": {},
   "source": [
    "Проверка на дубликаты и отсутствующие значения:"
   ]
  },
  {
   "cell_type": "code",
   "execution_count": 9,
   "id": "eb046680",
   "metadata": {
    "scrolled": true
   },
   "outputs": [
    {
     "name": "stdout",
     "output_type": "stream",
     "text": [
      "16598 строк и 11 колонок\n",
      "16291 строка после удаления строк, содержащих NULL\n",
      "16598 строк после удаления дубликатов\n"
     ]
    }
   ],
   "source": [
    "a0 = df.shape[0]\n",
    "a1 = df.shape[1]\n",
    "a2 = df.dropna().shape[0]\n",
    "a3 = df.drop_duplicates().shape[0]\n",
    "\n",
    "print(a0, rows_word(a0), \"и\", a1, cols_word(a1))\n",
    "print(a2, rows_word(a2), \"после удаления строк, содержащих NULL\")\n",
    "print(a3, rows_word(a3), \"после удаления дубликатов\")"
   ]
  },
  {
   "cell_type": "code",
   "execution_count": 10,
   "id": "88ea8ae3",
   "metadata": {},
   "outputs": [
    {
     "data": {
      "text/plain": [
       "Rank              0\n",
       "Name              0\n",
       "Platform          0\n",
       "Year            271\n",
       "Genre             0\n",
       "Publisher        58\n",
       "NA_Sales          0\n",
       "EU_Sales          0\n",
       "JP_Sales          0\n",
       "Other_Sales       0\n",
       "Global_Sales      0\n",
       "dtype: int64"
      ]
     },
     "execution_count": 10,
     "metadata": {},
     "output_type": "execute_result"
    }
   ],
   "source": [
    "df.isna().sum()"
   ]
  },
  {
   "cell_type": "markdown",
   "id": "aacab564",
   "metadata": {},
   "source": [
    "Удаление строк с пропущенными значениями:"
   ]
  },
  {
   "cell_type": "code",
   "execution_count": 11,
   "id": "563d282c",
   "metadata": {},
   "outputs": [],
   "source": [
    "df = df.dropna()"
   ]
  },
  {
   "cell_type": "markdown",
   "id": "a31619d5",
   "metadata": {},
   "source": [
    "Общее количество изданных игр за все годы:"
   ]
  },
  {
   "cell_type": "code",
   "execution_count": 90,
   "id": "131c7821",
   "metadata": {},
   "outputs": [
    {
     "data": {
      "text/plain": [
       "16291"
      ]
     },
     "execution_count": 90,
     "metadata": {},
     "output_type": "execute_result"
    }
   ],
   "source": [
    "total_releases = df.shape[0]\n",
    "total_releases"
   ]
  },
  {
   "cell_type": "markdown",
   "id": "ba038ad7",
   "metadata": {},
   "source": [
    "## Распределение количества выпущенных игр с разбивкой по годам и платформам"
   ]
  },
  {
   "cell_type": "code",
   "execution_count": 74,
   "id": "898e4254",
   "metadata": {},
   "outputs": [],
   "source": [
    "annual_releases = \\\n",
    "    df \\\n",
    "    .groupby(['Year','Platform'], as_index = [False, False]) \\\n",
    "    .agg({'Name': 'count'}) \\\n",
    "    .rename(columns = {'Name': 'Releases'})"
   ]
  },
  {
   "cell_type": "code",
   "execution_count": 75,
   "id": "226e7714",
   "metadata": {},
   "outputs": [
    {
     "data": {
      "text/html": [
       "<div>\n",
       "<style scoped>\n",
       "    .dataframe tbody tr th:only-of-type {\n",
       "        vertical-align: middle;\n",
       "    }\n",
       "\n",
       "    .dataframe tbody tr th {\n",
       "        vertical-align: top;\n",
       "    }\n",
       "\n",
       "    .dataframe thead th {\n",
       "        text-align: right;\n",
       "    }\n",
       "</style>\n",
       "<table border=\"1\" class=\"dataframe\">\n",
       "  <thead>\n",
       "    <tr style=\"text-align: right;\">\n",
       "      <th></th>\n",
       "      <th></th>\n",
       "      <th>Releases</th>\n",
       "    </tr>\n",
       "    <tr>\n",
       "      <th>Year</th>\n",
       "      <th>Platform</th>\n",
       "      <th></th>\n",
       "    </tr>\n",
       "  </thead>\n",
       "  <tbody>\n",
       "    <tr>\n",
       "      <th>1980.0</th>\n",
       "      <th>2600</th>\n",
       "      <td>9</td>\n",
       "    </tr>\n",
       "    <tr>\n",
       "      <th>1981.0</th>\n",
       "      <th>2600</th>\n",
       "      <td>46</td>\n",
       "    </tr>\n",
       "    <tr>\n",
       "      <th>1982.0</th>\n",
       "      <th>2600</th>\n",
       "      <td>36</td>\n",
       "    </tr>\n",
       "    <tr>\n",
       "      <th rowspan=\"2\" valign=\"top\">1983.0</th>\n",
       "      <th>2600</th>\n",
       "      <td>11</td>\n",
       "    </tr>\n",
       "    <tr>\n",
       "      <th>NES</th>\n",
       "      <td>6</td>\n",
       "    </tr>\n",
       "  </tbody>\n",
       "</table>\n",
       "</div>"
      ],
      "text/plain": [
       "                 Releases\n",
       "Year   Platform          \n",
       "1980.0 2600             9\n",
       "1981.0 2600            46\n",
       "1982.0 2600            36\n",
       "1983.0 2600            11\n",
       "       NES              6"
      ]
     },
     "execution_count": 75,
     "metadata": {},
     "output_type": "execute_result"
    }
   ],
   "source": [
    "annual_releases.head()"
   ]
  },
  {
   "cell_type": "code",
   "execution_count": 76,
   "id": "ce6733ec",
   "metadata": {
    "scrolled": false
   },
   "outputs": [
    {
     "data": {
      "text/plain": [
       "<AxesSubplot:xlabel='Year', ylabel='Releases'>"
      ]
     },
     "execution_count": 76,
     "metadata": {},
     "output_type": "execute_result"
    },
    {
     "data": {
      "image/png": "[encoded data removed]",
      "text/plain": [
       "<Figure size 432x288 with 1 Axes>"
      ]
     },
     "metadata": {
      "needs_background": "light"
     },
     "output_type": "display_data"
    }
   ],
   "source": [
    "sns.lineplot(data = annual_releases, x = 'Year', y = 'Releases', hue = 'Platform')"
   ]
  },
  {
   "cell_type": "markdown",
   "id": "0ae60762",
   "metadata": {},
   "source": [
    "Распределение по платформам:"
   ]
  },
  {
   "cell_type": "code",
   "execution_count": 77,
   "id": "66789915",
   "metadata": {},
   "outputs": [
    {
     "data": {
      "text/html": [
       "<div>\n",
       "<style scoped>\n",
       "    .dataframe tbody tr th:only-of-type {\n",
       "        vertical-align: middle;\n",
       "    }\n",
       "\n",
       "    .dataframe tbody tr th {\n",
       "        vertical-align: top;\n",
       "    }\n",
       "\n",
       "    .dataframe thead th {\n",
       "        text-align: right;\n",
       "    }\n",
       "</style>\n",
       "<table border=\"1\" class=\"dataframe\">\n",
       "  <thead>\n",
       "    <tr style=\"text-align: right;\">\n",
       "      <th></th>\n",
       "      <th>Platform</th>\n",
       "      <th>Releases</th>\n",
       "    </tr>\n",
       "  </thead>\n",
       "  <tbody>\n",
       "    <tr>\n",
       "      <th>0</th>\n",
       "      <td>DS</td>\n",
       "      <td>2131</td>\n",
       "    </tr>\n",
       "    <tr>\n",
       "      <th>1</th>\n",
       "      <td>PS2</td>\n",
       "      <td>2127</td>\n",
       "    </tr>\n",
       "    <tr>\n",
       "      <th>2</th>\n",
       "      <td>PS3</td>\n",
       "      <td>1304</td>\n",
       "    </tr>\n",
       "    <tr>\n",
       "      <th>3</th>\n",
       "      <td>Wii</td>\n",
       "      <td>1290</td>\n",
       "    </tr>\n",
       "    <tr>\n",
       "      <th>4</th>\n",
       "      <td>X360</td>\n",
       "      <td>1234</td>\n",
       "    </tr>\n",
       "  </tbody>\n",
       "</table>\n",
       "</div>"
      ],
      "text/plain": [
       "  Platform  Releases\n",
       "0       DS      2131\n",
       "1      PS2      2127\n",
       "2      PS3      1304\n",
       "3      Wii      1290\n",
       "4     X360      1234"
      ]
     },
     "execution_count": 77,
     "metadata": {},
     "output_type": "execute_result"
    }
   ],
   "source": [
    "games_by_platfrorms = \\\n",
    "    annual_distribution \\\n",
    "    .reset_index() \\\n",
    "    .groupby('Platform', as_index = False) \\\n",
    "    .agg({'Releases': 'sum'}) \\\n",
    "    .sort_values('Releases', ascending = False) \\\n",
    "    .reset_index(drop = True)"
   ]
  },
  {
   "cell_type": "code",
   "execution_count": 91,
   "id": "9207cd5d",
   "metadata": {},
   "outputs": [],
   "source": [
    "games_by_platfrorms['Releases_pc'] = \\\n",
    "    round(100 * games_by_platfrorms['Releases'] / total_releases, 1)"
   ]
  },
  {
   "cell_type": "code",
   "execution_count": 92,
   "id": "e2fbc5c5",
   "metadata": {},
   "outputs": [
    {
     "data": {
      "text/html": [
       "<div>\n",
       "<style scoped>\n",
       "    .dataframe tbody tr th:only-of-type {\n",
       "        vertical-align: middle;\n",
       "    }\n",
       "\n",
       "    .dataframe tbody tr th {\n",
       "        vertical-align: top;\n",
       "    }\n",
       "\n",
       "    .dataframe thead th {\n",
       "        text-align: right;\n",
       "    }\n",
       "</style>\n",
       "<table border=\"1\" class=\"dataframe\">\n",
       "  <thead>\n",
       "    <tr style=\"text-align: right;\">\n",
       "      <th></th>\n",
       "      <th>Platform</th>\n",
       "      <th>Releases</th>\n",
       "      <th>Releases_pc</th>\n",
       "    </tr>\n",
       "  </thead>\n",
       "  <tbody>\n",
       "    <tr>\n",
       "      <th>0</th>\n",
       "      <td>DS</td>\n",
       "      <td>2131</td>\n",
       "      <td>13.1</td>\n",
       "    </tr>\n",
       "    <tr>\n",
       "      <th>1</th>\n",
       "      <td>PS2</td>\n",
       "      <td>2127</td>\n",
       "      <td>13.1</td>\n",
       "    </tr>\n",
       "    <tr>\n",
       "      <th>2</th>\n",
       "      <td>PS3</td>\n",
       "      <td>1304</td>\n",
       "      <td>8.0</td>\n",
       "    </tr>\n",
       "    <tr>\n",
       "      <th>3</th>\n",
       "      <td>Wii</td>\n",
       "      <td>1290</td>\n",
       "      <td>7.9</td>\n",
       "    </tr>\n",
       "    <tr>\n",
       "      <th>4</th>\n",
       "      <td>X360</td>\n",
       "      <td>1234</td>\n",
       "      <td>7.6</td>\n",
       "    </tr>\n",
       "    <tr>\n",
       "      <th>5</th>\n",
       "      <td>PSP</td>\n",
       "      <td>1197</td>\n",
       "      <td>7.3</td>\n",
       "    </tr>\n",
       "    <tr>\n",
       "      <th>6</th>\n",
       "      <td>PS</td>\n",
       "      <td>1189</td>\n",
       "      <td>7.3</td>\n",
       "    </tr>\n",
       "  </tbody>\n",
       "</table>\n",
       "</div>"
      ],
      "text/plain": [
       "  Platform  Releases  Releases_pc\n",
       "0       DS      2131         13.1\n",
       "1      PS2      2127         13.1\n",
       "2      PS3      1304          8.0\n",
       "3      Wii      1290          7.9\n",
       "4     X360      1234          7.6\n",
       "5      PSP      1197          7.3\n",
       "6       PS      1189          7.3"
      ]
     },
     "execution_count": 92,
     "metadata": {},
     "output_type": "execute_result"
    }
   ],
   "source": [
    "games_by_platfrorms.query(\"Releases_pc > 7\")"
   ]
  },
  {
   "cell_type": "code",
   "execution_count": 93,
   "id": "2c8b8299",
   "metadata": {},
   "outputs": [
    {
     "data": {
      "text/plain": [
       "['DS', 'PS2', 'PS3', 'Wii', 'X360', 'PSP', 'PS']"
      ]
     },
     "execution_count": 93,
     "metadata": {},
     "output_type": "execute_result"
    }
   ],
   "source": [
    "games_by_platfrorms.query(\"Releases_pc > 7\")['Platform'].to_list()"
   ]
  },
  {
   "cell_type": "markdown",
   "id": "1b7b7102",
   "metadata": {},
   "source": [
    "## Распределение изданных игр по годам без разбивки на платформы"
   ]
  },
  {
   "cell_type": "code",
   "execution_count": 94,
   "id": "16bfe7ae",
   "metadata": {},
   "outputs": [
    {
     "data": {
      "text/plain": [
       "<AxesSubplot:xlabel='Year', ylabel='Releases'>"
      ]
     },
     "execution_count": 94,
     "metadata": {},
     "output_type": "execute_result"
    },
    {
     "data": {
      "image/png": "[encoded data removed]",
      "text/plain": [
       "<Figure size 432x288 with 1 Axes>"
      ]
     },
     "metadata": {
      "needs_background": "light"
     },
     "output_type": "display_data"
    }
   ],
   "source": [
    "annual_releases_by_year = \\\n",
    "    df \\\n",
    "    .groupby(['Year'], as_index = False) \\\n",
    "    .agg({'Name': 'count'}) \\\n",
    "    .rename(columns = {'Name': 'Releases'})\n",
    "\n",
    "sns.lineplot(data = annual_releases_by_year, x = 'Year', y = 'Releases')"
   ]
  },
  {
   "cell_type": "code",
   "execution_count": 65,
   "id": "bc5fc5ae",
   "metadata": {},
   "outputs": [
    {
     "data": {
      "text/html": [
       "<div>\n",
       "<style scoped>\n",
       "    .dataframe tbody tr th:only-of-type {\n",
       "        vertical-align: middle;\n",
       "    }\n",
       "\n",
       "    .dataframe tbody tr th {\n",
       "        vertical-align: top;\n",
       "    }\n",
       "\n",
       "    .dataframe thead th {\n",
       "        text-align: right;\n",
       "    }\n",
       "</style>\n",
       "<table border=\"1\" class=\"dataframe\">\n",
       "  <thead>\n",
       "    <tr style=\"text-align: right;\">\n",
       "      <th></th>\n",
       "      <th>Year</th>\n",
       "      <th>Releases</th>\n",
       "    </tr>\n",
       "  </thead>\n",
       "  <tbody>\n",
       "    <tr>\n",
       "      <th>0</th>\n",
       "      <td>1980.0</td>\n",
       "      <td>9</td>\n",
       "    </tr>\n",
       "    <tr>\n",
       "      <th>1</th>\n",
       "      <td>1981.0</td>\n",
       "      <td>46</td>\n",
       "    </tr>\n",
       "    <tr>\n",
       "      <th>2</th>\n",
       "      <td>1982.0</td>\n",
       "      <td>36</td>\n",
       "    </tr>\n",
       "    <tr>\n",
       "      <th>3</th>\n",
       "      <td>1983.0</td>\n",
       "      <td>17</td>\n",
       "    </tr>\n",
       "    <tr>\n",
       "      <th>4</th>\n",
       "      <td>1984.0</td>\n",
       "      <td>14</td>\n",
       "    </tr>\n",
       "  </tbody>\n",
       "</table>\n",
       "</div>"
      ],
      "text/plain": [
       "     Year  Releases\n",
       "0  1980.0         9\n",
       "1  1981.0        46\n",
       "2  1982.0        36\n",
       "3  1983.0        17\n",
       "4  1984.0        14"
      ]
     },
     "execution_count": 65,
     "metadata": {},
     "output_type": "execute_result"
    }
   ],
   "source": [
    "annual_releases_by_year.head()"
   ]
  },
  {
   "cell_type": "markdown",
   "id": "f9cdf7a6",
   "metadata": {},
   "source": [
    "Вычисляем значения мод:"
   ]
  },
  {
   "cell_type": "code",
   "execution_count": 32,
   "id": "848ffe37",
   "metadata": {},
   "outputs": [
    {
     "data": {
      "text/plain": [
       "0    2009.0\n",
       "dtype: float64"
      ]
     },
     "execution_count": 32,
     "metadata": {},
     "output_type": "execute_result"
    }
   ],
   "source": [
    "df['Year'].mode()"
   ]
  },
  {
   "cell_type": "markdown",
   "id": "32e2461b",
   "metadata": {},
   "source": [
    "Здесь мы считаем не то:"
   ]
  },
  {
   "cell_type": "markdown",
   "id": "a5ea769a",
   "metadata": {},
   "source": [
    "Вычисляем медиану:"
   ]
  },
  {
   "cell_type": "code",
   "execution_count": 33,
   "id": "a1a8cf33",
   "metadata": {},
   "outputs": [
    {
     "data": {
      "text/plain": [
       "2007.0"
      ]
     },
     "execution_count": 33,
     "metadata": {},
     "output_type": "execute_result"
    }
   ],
   "source": [
    "df['Year'].median()"
   ]
  },
  {
   "cell_type": "code",
   "execution_count": 66,
   "id": "0b6e2a07",
   "metadata": {
    "scrolled": true
   },
   "outputs": [
    {
     "data": {
      "text/html": [
       "<div>\n",
       "<style scoped>\n",
       "    .dataframe tbody tr th:only-of-type {\n",
       "        vertical-align: middle;\n",
       "    }\n",
       "\n",
       "    .dataframe tbody tr th {\n",
       "        vertical-align: top;\n",
       "    }\n",
       "\n",
       "    .dataframe thead th {\n",
       "        text-align: right;\n",
       "    }\n",
       "</style>\n",
       "<table border=\"1\" class=\"dataframe\">\n",
       "  <thead>\n",
       "    <tr style=\"text-align: right;\">\n",
       "      <th></th>\n",
       "      <th>Year</th>\n",
       "      <th>Releases</th>\n",
       "    </tr>\n",
       "  </thead>\n",
       "  <tbody>\n",
       "    <tr>\n",
       "      <th>17</th>\n",
       "      <td>1997.0</td>\n",
       "      <td>289</td>\n",
       "    </tr>\n",
       "  </tbody>\n",
       "</table>\n",
       "</div>"
      ],
      "text/plain": [
       "      Year  Releases\n",
       "17  1997.0       289"
      ]
     },
     "execution_count": 66,
     "metadata": {},
     "output_type": "execute_result"
    }
   ],
   "source": [
    "annual_releases_by_year[annual_releases_by_year.Releases == annual_releases_by_year.Releases.median()]"
   ]
  },
  {
   "cell_type": "markdown",
   "id": "e38632e6",
   "metadata": {},
   "source": [
    "Вычисляем среднее:"
   ]
  },
  {
   "cell_type": "code",
   "execution_count": 43,
   "id": "80912b1a",
   "metadata": {},
   "outputs": [
    {
     "data": {
      "text/plain": [
       "2006.0"
      ]
     },
     "execution_count": 43,
     "metadata": {},
     "output_type": "execute_result"
    }
   ],
   "source": [
    "round(df['Year'].mean(),0)"
   ]
  },
  {
   "cell_type": "code",
   "execution_count": 68,
   "id": "83798971",
   "metadata": {},
   "outputs": [],
   "source": [
    "annual_releases_by_year_mean = annual_releases_by_year.Releases.mean()"
   ]
  },
  {
   "cell_type": "code",
   "execution_count": 70,
   "id": "fd6b6f95",
   "metadata": {},
   "outputs": [
    {
     "data": {
      "text/html": [
       "<div>\n",
       "<style scoped>\n",
       "    .dataframe tbody tr th:only-of-type {\n",
       "        vertical-align: middle;\n",
       "    }\n",
       "\n",
       "    .dataframe tbody tr th {\n",
       "        vertical-align: top;\n",
       "    }\n",
       "\n",
       "    .dataframe thead th {\n",
       "        text-align: right;\n",
       "    }\n",
       "</style>\n",
       "<table border=\"1\" class=\"dataframe\">\n",
       "  <thead>\n",
       "    <tr style=\"text-align: right;\">\n",
       "      <th></th>\n",
       "      <th>Year</th>\n",
       "      <th>Releases</th>\n",
       "    </tr>\n",
       "  </thead>\n",
       "  <tbody>\n",
       "    <tr>\n",
       "      <th>18</th>\n",
       "      <td>1998.0</td>\n",
       "      <td>379</td>\n",
       "    </tr>\n",
       "    <tr>\n",
       "      <th>20</th>\n",
       "      <td>2000.0</td>\n",
       "      <td>349</td>\n",
       "    </tr>\n",
       "    <tr>\n",
       "      <th>21</th>\n",
       "      <td>2001.0</td>\n",
       "      <td>482</td>\n",
       "    </tr>\n",
       "  </tbody>\n",
       "</table>\n",
       "</div>"
      ],
      "text/plain": [
       "      Year  Releases\n",
       "18  1998.0       379\n",
       "20  2000.0       349\n",
       "21  2001.0       482"
      ]
     },
     "execution_count": 70,
     "metadata": {},
     "output_type": "execute_result"
    }
   ],
   "source": [
    "annual_releases_by_year[abs(annual_releases_by_year.Releases - annual_releases_by_year_mean) < 75]"
   ]
  },
  {
   "cell_type": "markdown",
   "id": "1dfe6a41",
   "metadata": {},
   "source": [
    "Определяем общее число продаж и год, к которому было продано около половины из всех этих игр:"
   ]
  },
  {
   "cell_type": "code",
   "execution_count": 95,
   "id": "b08c4809",
   "metadata": {},
   "outputs": [
    {
     "data": {
      "text/plain": [
       "16291"
      ]
     },
     "execution_count": 95,
     "metadata": {},
     "output_type": "execute_result"
    }
   ],
   "source": [
    "total_releases"
   ]
  },
  {
   "cell_type": "code",
   "execution_count": 72,
   "id": "b715d763",
   "metadata": {},
   "outputs": [],
   "source": [
    "annual_releases_by_year['Releases_Cumulative'] = \\\n",
    "    annual_releases_by_year['Releases'].cumsum()"
   ]
  },
  {
   "cell_type": "code",
   "execution_count": 73,
   "id": "e14524ff",
   "metadata": {},
   "outputs": [
    {
     "data": {
      "text/html": [
       "<div>\n",
       "<style scoped>\n",
       "    .dataframe tbody tr th:only-of-type {\n",
       "        vertical-align: middle;\n",
       "    }\n",
       "\n",
       "    .dataframe tbody tr th {\n",
       "        vertical-align: top;\n",
       "    }\n",
       "\n",
       "    .dataframe thead th {\n",
       "        text-align: right;\n",
       "    }\n",
       "</style>\n",
       "<table border=\"1\" class=\"dataframe\">\n",
       "  <thead>\n",
       "    <tr style=\"text-align: right;\">\n",
       "      <th></th>\n",
       "      <th>Year</th>\n",
       "      <th>Releases</th>\n",
       "      <th>Releases_Cumulative</th>\n",
       "    </tr>\n",
       "  </thead>\n",
       "  <tbody>\n",
       "    <tr>\n",
       "      <th>27</th>\n",
       "      <td>2007.0</td>\n",
       "      <td>1201</td>\n",
       "      <td>8298</td>\n",
       "    </tr>\n",
       "    <tr>\n",
       "      <th>28</th>\n",
       "      <td>2008.0</td>\n",
       "      <td>1428</td>\n",
       "      <td>9726</td>\n",
       "    </tr>\n",
       "    <tr>\n",
       "      <th>29</th>\n",
       "      <td>2009.0</td>\n",
       "      <td>1431</td>\n",
       "      <td>11157</td>\n",
       "    </tr>\n",
       "  </tbody>\n",
       "</table>\n",
       "</div>"
      ],
      "text/plain": [
       "      Year  Releases  Releases_Cumulative\n",
       "27  2007.0      1201                 8298\n",
       "28  2008.0      1428                 9726\n",
       "29  2009.0      1431                11157"
      ]
     },
     "execution_count": 73,
     "metadata": {},
     "output_type": "execute_result"
    }
   ],
   "source": [
    "annual_releases_by_year.query(\"Year >= 2007 & Year <= 2009\")"
   ]
  },
  {
   "cell_type": "markdown",
   "id": "dad6dd6b",
   "metadata": {},
   "source": [
    "### Распределение количества выпущенных игр с разбивкой по издателям"
   ]
  },
  {
   "cell_type": "markdown",
   "id": "e49db14c",
   "metadata": {},
   "source": [
    "Игры каких издателей (Publisher) встречаются в датасете чаще всего:"
   ]
  },
  {
   "cell_type": "code",
   "execution_count": 100,
   "id": "dc5dd548",
   "metadata": {},
   "outputs": [
    {
     "data": {
      "text/html": [
       "<div>\n",
       "<style scoped>\n",
       "    .dataframe tbody tr th:only-of-type {\n",
       "        vertical-align: middle;\n",
       "    }\n",
       "\n",
       "    .dataframe tbody tr th {\n",
       "        vertical-align: top;\n",
       "    }\n",
       "\n",
       "    .dataframe thead th {\n",
       "        text-align: right;\n",
       "    }\n",
       "</style>\n",
       "<table border=\"1\" class=\"dataframe\">\n",
       "  <thead>\n",
       "    <tr style=\"text-align: right;\">\n",
       "      <th></th>\n",
       "      <th>Publisher</th>\n",
       "      <th>Releases</th>\n",
       "    </tr>\n",
       "  </thead>\n",
       "  <tbody>\n",
       "    <tr>\n",
       "      <th>0</th>\n",
       "      <td>Electronic Arts</td>\n",
       "      <td>1339</td>\n",
       "    </tr>\n",
       "    <tr>\n",
       "      <th>1</th>\n",
       "      <td>Activision</td>\n",
       "      <td>966</td>\n",
       "    </tr>\n",
       "    <tr>\n",
       "      <th>2</th>\n",
       "      <td>Namco Bandai Games</td>\n",
       "      <td>928</td>\n",
       "    </tr>\n",
       "    <tr>\n",
       "      <th>3</th>\n",
       "      <td>Ubisoft</td>\n",
       "      <td>918</td>\n",
       "    </tr>\n",
       "    <tr>\n",
       "      <th>4</th>\n",
       "      <td>Konami Digital Entertainment</td>\n",
       "      <td>823</td>\n",
       "    </tr>\n",
       "    <tr>\n",
       "      <th>...</th>\n",
       "      <td>...</td>\n",
       "      <td>...</td>\n",
       "    </tr>\n",
       "    <tr>\n",
       "      <th>571</th>\n",
       "      <td>Ertain</td>\n",
       "      <td>1</td>\n",
       "    </tr>\n",
       "    <tr>\n",
       "      <th>572</th>\n",
       "      <td>Epic Games</td>\n",
       "      <td>1</td>\n",
       "    </tr>\n",
       "    <tr>\n",
       "      <th>573</th>\n",
       "      <td>Seventh Chord</td>\n",
       "      <td>1</td>\n",
       "    </tr>\n",
       "    <tr>\n",
       "      <th>574</th>\n",
       "      <td>Enjoy Gaming ltd.</td>\n",
       "      <td>1</td>\n",
       "    </tr>\n",
       "    <tr>\n",
       "      <th>575</th>\n",
       "      <td>MLB.com</td>\n",
       "      <td>1</td>\n",
       "    </tr>\n",
       "  </tbody>\n",
       "</table>\n",
       "<p>576 rows × 2 columns</p>\n",
       "</div>"
      ],
      "text/plain": [
       "                        Publisher  Releases\n",
       "0                 Electronic Arts      1339\n",
       "1                      Activision       966\n",
       "2              Namco Bandai Games       928\n",
       "3                         Ubisoft       918\n",
       "4    Konami Digital Entertainment       823\n",
       "..                            ...       ...\n",
       "571                        Ertain         1\n",
       "572                    Epic Games         1\n",
       "573                 Seventh Chord         1\n",
       "574             Enjoy Gaming ltd.         1\n",
       "575                       MLB.com         1\n",
       "\n",
       "[576 rows x 2 columns]"
      ]
     },
     "execution_count": 100,
     "metadata": {},
     "output_type": "execute_result"
    }
   ],
   "source": [
    "releases_by_publisher = \\\n",
    "    df \\\n",
    "    .groupby(['Publisher'], as_index = False) \\\n",
    "    .agg({'Name': 'count'}) \\\n",
    "    .rename(columns = {'Name': 'Releases'}) \\\n",
    "    .sort_values('Releases', ascending = False) \\\n",
    "    .reset_index(drop = True)\n",
    "releases_by_publisher"
   ]
  },
  {
   "cell_type": "markdown",
   "id": "18f8249a",
   "metadata": {},
   "source": [
    "## Обзор игр от Nintendo"
   ]
  },
  {
   "cell_type": "markdown",
   "id": "082e29e2",
   "metadata": {},
   "source": [
    "Посчитаем среднее, медиану и стандартное отклонение по продажам игр данного издателя в разных регионах (`NA`, `EU`, `JP`, `Other`)."
   ]
  },
  {
   "cell_type": "code",
   "execution_count": 104,
   "id": "0dfe3c79",
   "metadata": {},
   "outputs": [],
   "source": [
    "df_nintendo = df.query(\"Publisher == 'Nintendo'\")"
   ]
  },
  {
   "cell_type": "code",
   "execution_count": 131,
   "id": "c573c46d",
   "metadata": {},
   "outputs": [
    {
     "data": {
      "text/html": [
       "<div>\n",
       "<style scoped>\n",
       "    .dataframe tbody tr th:only-of-type {\n",
       "        vertical-align: middle;\n",
       "    }\n",
       "\n",
       "    .dataframe tbody tr th {\n",
       "        vertical-align: top;\n",
       "    }\n",
       "\n",
       "    .dataframe thead th {\n",
       "        text-align: right;\n",
       "    }\n",
       "</style>\n",
       "<table border=\"1\" class=\"dataframe\">\n",
       "  <thead>\n",
       "    <tr style=\"text-align: right;\">\n",
       "      <th></th>\n",
       "      <th>mean</th>\n",
       "      <th>std</th>\n",
       "      <th>median</th>\n",
       "    </tr>\n",
       "  </thead>\n",
       "  <tbody>\n",
       "    <tr>\n",
       "      <th>NA_Sales</th>\n",
       "      <td>1.172055</td>\n",
       "      <td>2.989913</td>\n",
       "      <td>0.375</td>\n",
       "    </tr>\n",
       "    <tr>\n",
       "      <th>EU_Sales</th>\n",
       "      <td>0.601006</td>\n",
       "      <td>1.743953</td>\n",
       "      <td>0.120</td>\n",
       "    </tr>\n",
       "    <tr>\n",
       "      <th>JP_Sales</th>\n",
       "      <td>0.653721</td>\n",
       "      <td>1.063110</td>\n",
       "      <td>0.280</td>\n",
       "    </tr>\n",
       "    <tr>\n",
       "      <th>Other_Sales</th>\n",
       "      <td>0.136767</td>\n",
       "      <td>0.464170</td>\n",
       "      <td>0.030</td>\n",
       "    </tr>\n",
       "  </tbody>\n",
       "</table>\n",
       "</div>"
      ],
      "text/plain": [
       "                 mean       std  median\n",
       "NA_Sales     1.172055  2.989913   0.375\n",
       "EU_Sales     0.601006  1.743953   0.120\n",
       "JP_Sales     0.653721  1.063110   0.280\n",
       "Other_Sales  0.136767  0.464170   0.030"
      ]
     },
     "execution_count": 131,
     "metadata": {},
     "output_type": "execute_result"
    }
   ],
   "source": [
    "pd.DataFrame({'NA_Sales': df_nintendo['NA_Sales'].describe().loc[['mean','std','50%']],\n",
    "              'EU_Sales': df_nintendo['EU_Sales'].describe().loc[['mean','std','50%']],\n",
    "              'JP_Sales': df_nintendo['JP_Sales'].describe().loc[['mean','std','50%']],\n",
    "              'Other_Sales': df_nintendo['Other_Sales'].describe().loc[['mean','std','50%']]}) \\\n",
    "    .T.rename(columns = {'50%': 'median'})"
   ]
  },
  {
   "cell_type": "markdown",
   "id": "440b5e83",
   "metadata": {},
   "source": [
    "Посмотрим на продажи Nintendo в Японии по жанрам."
   ]
  },
  {
   "cell_type": "code",
   "execution_count": 145,
   "id": "cd34b0a7",
   "metadata": {},
   "outputs": [
    {
     "data": {
      "text/plain": [
       "<AxesSubplot:xlabel='Genre', ylabel='JP_Sales'>"
      ]
     },
     "execution_count": 145,
     "metadata": {},
     "output_type": "execute_result"
    },
    {
     "data": {
      "image/png": "[encoded data removed]",
      "text/plain": [
       "<Figure size 1152x1152 with 1 Axes>"
      ]
     },
     "metadata": {
      "needs_background": "light"
     },
     "output_type": "display_data"
    }
   ],
   "source": [
    "plt.figure(figsize=(16,16))\n",
    "sns.boxplot(data = df_nintendo.sort_values(['Genre', 'Year']),\n",
    "            x = 'Genre',\n",
    "            y = 'JP_Sales',\n",
    "            color = 'tab:blue')"
   ]
  },
  {
   "cell_type": "code",
   "execution_count": 149,
   "id": "f7e4117c",
   "metadata": {},
   "outputs": [
    {
     "data": {
      "text/plain": [
       "count    18.000000\n",
       "mean      0.830000\n",
       "std       0.843529\n",
       "min       0.000000\n",
       "25%       0.132500\n",
       "50%       0.500000\n",
       "75%       1.365000\n",
       "max       2.660000\n",
       "Name: JP_Sales, dtype: float64"
      ]
     },
     "execution_count": 149,
     "metadata": {},
     "output_type": "execute_result"
    }
   ],
   "source": [
    "df_nintendo.query(\"Genre == 'Fighting'\")['JP_Sales'].describe()"
   ]
  },
  {
   "cell_type": "code",
   "execution_count": 150,
   "id": "a0b37cd4",
   "metadata": {},
   "outputs": [
    {
     "data": {
      "text/plain": [
       "count    28.000000\n",
       "mean      0.844643\n",
       "std       1.269434\n",
       "min       0.000000\n",
       "25%       0.072500\n",
       "50%       0.390000\n",
       "75%       0.967500\n",
       "max       5.330000\n",
       "Name: JP_Sales, dtype: float64"
      ]
     },
     "execution_count": 150,
     "metadata": {},
     "output_type": "execute_result"
    }
   ],
   "source": [
    "df_nintendo.query(\"Genre == 'Simulation'\")['JP_Sales'].describe()"
   ]
  },
  {
   "cell_type": "markdown",
   "id": "e9783988",
   "metadata": {},
   "source": [
    "## Динамика изменения объёма мировых продаж"
   ]
  },
  {
   "cell_type": "markdown",
   "id": "166b3bb5",
   "metadata": {},
   "source": [
    "Визуализируем динамику изменения объема мировых продаж (`Global_Sales`) по годам для игр Nintendo следующих жанров: `Fighting`, `Simulation`, `Platform`, `Racing`, `Sports`."
   ]
  },
  {
   "cell_type": "code",
   "execution_count": 163,
   "id": "29cef6c7",
   "metadata": {},
   "outputs": [],
   "source": [
    "sales_dynamics = \\\n",
    "    df_nintendo \\\n",
    "    .query(\\\n",
    "            \" (Genre == 'Fighting') \\\n",
    "            | (Genre == 'Simulation') \\\n",
    "            | (Genre == 'Platform') \\\n",
    "            | (Genre == 'Racing') \\\n",
    "            | (Genre == 'Sports')\") \\\n",
    "    .groupby(['Year', 'Genre'], as_index = False) \\\n",
    "    .agg({'Global_Sales': 'sum'}) \\\n",
    "    .sort_values(['Year', 'Genre'])"
   ]
  },
  {
   "cell_type": "code",
   "execution_count": 164,
   "id": "09f052f5",
   "metadata": {},
   "outputs": [
    {
     "data": {
      "text/plain": [
       "<AxesSubplot:xlabel='Year', ylabel='Global_Sales'>"
      ]
     },
     "execution_count": 164,
     "metadata": {},
     "output_type": "execute_result"
    },
    {
     "data": {
      "image/png": "[encoded data removed]",
      "text/plain": [
       "<Figure size 1152x864 with 1 Axes>"
      ]
     },
     "metadata": {
      "needs_background": "light"
     },
     "output_type": "display_data"
    }
   ],
   "source": [
    "plt.figure(figsize=(16,12))\n",
    "sns.lineplot(data = sales_dynamics, \n",
    "             x = 'Year',\n",
    "             y = 'Global_Sales',\n",
    "             hue = 'Genre')"
   ]
  }
 ],
 "metadata": {
  "kernelspec": {
   "display_name": "Python 3",
   "language": "python",
   "name": "python3"
  },
  "language_info": {
   "codemirror_mode": {
    "name": "ipython",
    "version": 3
   },
   "file_extension": ".py",
   "mimetype": "text/x-python",
   "name": "python",
   "nbconvert_exporter": "python",
   "pygments_lexer": "ipython3",
   "version": "3.8.8"
  }
 },
 "nbformat": 4,
 "nbformat_minor": 5
}
