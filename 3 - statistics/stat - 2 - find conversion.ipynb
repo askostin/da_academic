{
 "cells": [
  {
   "cell_type": "markdown",
   "id": "12ab048e",
   "metadata": {},
   "source": [
    "# Python и статистика\n",
    "\n",
    "Проект №2 - проверка гипотез."
   ]
  },
  {
   "cell_type": "markdown",
   "id": "d40c6fe6",
   "metadata": {},
   "source": [
    "## Описание данных\n",
    "\n",
    "- ```ad_id``` – идентификатор объявления (рекламы)\n",
    "- ```xyz_campaign_id``` – идентификатор рекламной кампании в базе компании X\n",
    "- ```fb_campaign_id``` – идентификатор кампании в Facebook\n",
    "- ```age``` – возрастная группа, которой показывалась реклама\n",
    "- ```gender``` – пол тех, кому показывалась реклама\n",
    "- ```interest``` – код, указывающий категорию, к которой относится интерес пользователя (соответствие число – интерес)\n",
    "- ```impressions``` – число показов\n",
    "- ```clicks``` – число кликов\n",
    "- ```spent``` – сумма, которую компания потратила на показ объявления \n",
    "- ```total_conversion``` – количество людей, которые заинтересовались продуктом после просмотра рекламы\n",
    "- ```approved_conversion``` – количество людей, которые купили продукт после просмотра рекламы"
   ]
  },
  {
   "cell_type": "markdown",
   "id": "6930f3f4",
   "metadata": {},
   "source": [
    "## Загрузка необходимых библиотек"
   ]
  },
  {
   "cell_type": "code",
   "execution_count": 1,
   "id": "23956a0e",
   "metadata": {},
   "outputs": [],
   "source": [
    "import pandas as pd\n",
    "import numpy as np\n",
    "\n",
    "%matplotlib inline\n",
    "import matplotlib.pyplot as plt\n",
    "import seaborn as sns"
   ]
  },
  {
   "cell_type": "markdown",
   "id": "d527c58f",
   "metadata": {},
   "source": [
    "## Загрузка и предобработка данных"
   ]
  },
  {
   "cell_type": "code",
   "execution_count": 2,
   "id": "6e1d0c5b",
   "metadata": {},
   "outputs": [],
   "source": [
    "conversion = pd.read_csv('./data/conversion.csv')"
   ]
  },
  {
   "cell_type": "code",
   "execution_count": 4,
   "id": "4ec9d17e",
   "metadata": {
    "scrolled": false
   },
   "outputs": [
    {
     "data": {
      "text/html": [
       "<div>\n",
       "<style scoped>\n",
       "    .dataframe tbody tr th:only-of-type {\n",
       "        vertical-align: middle;\n",
       "    }\n",
       "\n",
       "    .dataframe tbody tr th {\n",
       "        vertical-align: top;\n",
       "    }\n",
       "\n",
       "    .dataframe thead th {\n",
       "        text-align: right;\n",
       "    }\n",
       "</style>\n",
       "<table border=\"1\" class=\"dataframe\">\n",
       "  <thead>\n",
       "    <tr style=\"text-align: right;\">\n",
       "      <th></th>\n",
       "      <th>ad_id</th>\n",
       "      <th>xyz_campaign_id</th>\n",
       "      <th>fb_campaign_id</th>\n",
       "      <th>age</th>\n",
       "      <th>gender</th>\n",
       "      <th>interest</th>\n",
       "      <th>Impressions</th>\n",
       "      <th>Clicks</th>\n",
       "      <th>Spent</th>\n",
       "      <th>Total_Conversion</th>\n",
       "      <th>Approved_Conversion</th>\n",
       "    </tr>\n",
       "  </thead>\n",
       "  <tbody>\n",
       "    <tr>\n",
       "      <th>0</th>\n",
       "      <td>708746</td>\n",
       "      <td>916</td>\n",
       "      <td>103916</td>\n",
       "      <td>30-34</td>\n",
       "      <td>M</td>\n",
       "      <td>15</td>\n",
       "      <td>7350</td>\n",
       "      <td>1</td>\n",
       "      <td>1.43</td>\n",
       "      <td>2</td>\n",
       "      <td>1</td>\n",
       "    </tr>\n",
       "    <tr>\n",
       "      <th>1</th>\n",
       "      <td>708749</td>\n",
       "      <td>916</td>\n",
       "      <td>103917</td>\n",
       "      <td>30-34</td>\n",
       "      <td>M</td>\n",
       "      <td>16</td>\n",
       "      <td>17861</td>\n",
       "      <td>2</td>\n",
       "      <td>1.82</td>\n",
       "      <td>2</td>\n",
       "      <td>0</td>\n",
       "    </tr>\n",
       "    <tr>\n",
       "      <th>2</th>\n",
       "      <td>708771</td>\n",
       "      <td>916</td>\n",
       "      <td>103920</td>\n",
       "      <td>30-34</td>\n",
       "      <td>M</td>\n",
       "      <td>20</td>\n",
       "      <td>693</td>\n",
       "      <td>0</td>\n",
       "      <td>0.00</td>\n",
       "      <td>1</td>\n",
       "      <td>0</td>\n",
       "    </tr>\n",
       "    <tr>\n",
       "      <th>3</th>\n",
       "      <td>708815</td>\n",
       "      <td>916</td>\n",
       "      <td>103928</td>\n",
       "      <td>30-34</td>\n",
       "      <td>M</td>\n",
       "      <td>28</td>\n",
       "      <td>4259</td>\n",
       "      <td>1</td>\n",
       "      <td>1.25</td>\n",
       "      <td>1</td>\n",
       "      <td>0</td>\n",
       "    </tr>\n",
       "    <tr>\n",
       "      <th>4</th>\n",
       "      <td>708818</td>\n",
       "      <td>916</td>\n",
       "      <td>103928</td>\n",
       "      <td>30-34</td>\n",
       "      <td>M</td>\n",
       "      <td>28</td>\n",
       "      <td>4133</td>\n",
       "      <td>1</td>\n",
       "      <td>1.29</td>\n",
       "      <td>1</td>\n",
       "      <td>1</td>\n",
       "    </tr>\n",
       "  </tbody>\n",
       "</table>\n",
       "</div>"
      ],
      "text/plain": [
       "    ad_id  xyz_campaign_id  fb_campaign_id    age gender  interest  \\\n",
       "0  708746              916          103916  30-34      M        15   \n",
       "1  708749              916          103917  30-34      M        16   \n",
       "2  708771              916          103920  30-34      M        20   \n",
       "3  708815              916          103928  30-34      M        28   \n",
       "4  708818              916          103928  30-34      M        28   \n",
       "\n",
       "   Impressions  Clicks  Spent  Total_Conversion  Approved_Conversion  \n",
       "0         7350       1   1.43                 2                    1  \n",
       "1        17861       2   1.82                 2                    0  \n",
       "2          693       0   0.00                 1                    0  \n",
       "3         4259       1   1.25                 1                    0  \n",
       "4         4133       1   1.29                 1                    1  "
      ]
     },
     "execution_count": 4,
     "metadata": {},
     "output_type": "execute_result"
    }
   ],
   "source": [
    "conversion.head()"
   ]
  },
  {
   "cell_type": "markdown",
   "id": "a67d9582",
   "metadata": {},
   "source": [
    "### Поиск пустых значений и дубликатов"
   ]
  },
  {
   "cell_type": "code",
   "execution_count": 5,
   "id": "5c8e0348",
   "metadata": {},
   "outputs": [],
   "source": [
    "# вспомогательные функции для улучшения отображения\n",
    "\n",
    "def cols_word(n_cols: int) :\n",
    "    if (n_cols % 100 > 10) and (n_cols % 100 < 20) :\n",
    "        return ('колонок')\n",
    "    elif (n_cols % 10 == 1) :\n",
    "        return('колонка')\n",
    "    elif (n_cols % 10 in [2, 3, 4]) :\n",
    "        return('колонки')\n",
    "    else :\n",
    "        return('колонок')\n",
    "\n",
    "def rows_word(n_rows: int) :\n",
    "    if (n_rows % 100 > 10) and (n_rows % 100 < 20) :\n",
    "        return ('колонок')\n",
    "    elif (n_rows % 10 == 1) :\n",
    "        return('строка')\n",
    "    elif (n_rows % 10 in [2, 3, 4]) :\n",
    "        return('строки')\n",
    "    else :\n",
    "        return('строк')"
   ]
  },
  {
   "cell_type": "code",
   "execution_count": 6,
   "id": "4359072d",
   "metadata": {},
   "outputs": [
    {
     "name": "stdout",
     "output_type": "stream",
     "text": [
      "1143 строки и 11 колонок\n",
      "1143 строки после удаления строк, содержащих NULL\n",
      "1143 строки после удаления дубликатов\n"
     ]
    }
   ],
   "source": [
    "a0 = conversion.shape[0]\n",
    "a1 = conversion.shape[1]\n",
    "a2 = conversion.dropna().shape[0]\n",
    "a3 = conversion.drop_duplicates().shape[0]\n",
    "\n",
    "print(a0, rows_word(a0), \"и\", a1, cols_word(a1))\n",
    "print(a2, rows_word(a2), \"после удаления строк, содержащих NULL\")\n",
    "print(a3, rows_word(a3), \"после удаления дубликатов\")"
   ]
  },
  {
   "cell_type": "markdown",
   "id": "ebb86aff",
   "metadata": {},
   "source": [
    "### Обзор наименований колонок, типов и значений данных"
   ]
  },
  {
   "cell_type": "code",
   "execution_count": 6,
   "id": "3e9d0b58",
   "metadata": {},
   "outputs": [
    {
     "data": {
      "text/plain": [
       "Index(['ad_id', 'xyz_campaign_id', 'fb_campaign_id', 'age', 'gender',\n",
       "       'interest', 'Impressions', 'Clicks', 'Spent', 'Total_Conversion',\n",
       "       'Approved_Conversion'],\n",
       "      dtype='object')"
      ]
     },
     "execution_count": 6,
     "metadata": {},
     "output_type": "execute_result"
    }
   ],
   "source": [
    "conversion.columns"
   ]
  },
  {
   "cell_type": "code",
   "execution_count": 14,
   "id": "9e77dfa9",
   "metadata": {},
   "outputs": [],
   "source": [
    "conversion.columns = conversion.columns.str.lower()"
   ]
  },
  {
   "cell_type": "code",
   "execution_count": 15,
   "id": "46fba9f8",
   "metadata": {},
   "outputs": [
    {
     "data": {
      "text/plain": [
       "ad_id                    int64\n",
       "xyz_campaign_id          int64\n",
       "fb_campaign_id           int64\n",
       "age                     object\n",
       "gender                  object\n",
       "interest                 int64\n",
       "impressions              int64\n",
       "clicks                   int64\n",
       "spent                  float64\n",
       "total_conversion         int64\n",
       "approved_conversion      int64\n",
       "dtype: object"
      ]
     },
     "execution_count": 15,
     "metadata": {},
     "output_type": "execute_result"
    }
   ],
   "source": [
    "conversion.dtypes"
   ]
  },
  {
   "cell_type": "markdown",
   "id": "7f1f298f",
   "metadata": {},
   "source": [
    "## Исследование данных"
   ]
  },
  {
   "cell_type": "markdown",
   "id": "7fb3f441",
   "metadata": {},
   "source": [
    "Сколько уникальных рекламных кампаний было проведено?"
   ]
  },
  {
   "cell_type": "code",
   "execution_count": 16,
   "id": "37c748f2",
   "metadata": {},
   "outputs": [
    {
     "data": {
      "text/plain": [
       "3"
      ]
     },
     "execution_count": 16,
     "metadata": {},
     "output_type": "execute_result"
    }
   ],
   "source": [
    "conversion['xyz_campaign_id'].nunique()"
   ]
  },
  {
   "cell_type": "markdown",
   "id": "b37afdd0",
   "metadata": {},
   "source": [
    "Построим график распределения числа показов (`Impressions`) для каждой для каждой рекламной кампании в Facebook, прологарифмировав значения."
   ]
  },
  {
   "cell_type": "code",
   "execution_count": 17,
   "id": "828a733c",
   "metadata": {},
   "outputs": [],
   "source": [
    "campaign_impressions = \\\n",
    "    conversion \\\n",
    "    .groupby('fb_campaign_id') \\\n",
    "    .agg({'impressions': 'sum'}) \\\n",
    "    .apply(lambda x: np.log(x)) \\\n",
    "    .rename(columns = {'impressions': 'impressions_log'})"
   ]
  },
  {
   "cell_type": "code",
   "execution_count": 18,
   "id": "51623355",
   "metadata": {},
   "outputs": [
    {
     "data": {
      "text/plain": [
       "<AxesSubplot:xlabel='impressions_log', ylabel='Count'>"
      ]
     },
     "execution_count": 18,
     "metadata": {},
     "output_type": "execute_result"
    },
    {
     "data": {
      "image/png": "[encoded data removed]",
      "text/plain": [
       "<Figure size 432x288 with 1 Axes>"
      ]
     },
     "metadata": {
      "needs_background": "light"
     },
     "output_type": "display_data"
    }
   ],
   "source": [
    "sns.histplot(data = campaign_impressions, x = 'impressions_log', bins = 40)"
   ]
  },
  {
   "cell_type": "markdown",
   "id": "b7163b60",
   "metadata": {},
   "source": [
    "Теперь посчитаем ещё несколько полезных метрик. Первая – `CTR` (*click-through rate*), которая показывает кликабельность, т.е. отношение числа кликов к количеству показов."
   ]
  },
  {
   "cell_type": "code",
   "execution_count": 19,
   "id": "d24de2b8",
   "metadata": {},
   "outputs": [],
   "source": [
    "conversion['CTR'] = conversion['clicks'] / conversion['impressions']"
   ]
  },
  {
   "cell_type": "code",
   "execution_count": 20,
   "id": "a6a916e6",
   "metadata": {},
   "outputs": [
    {
     "data": {
      "text/plain": [
       "count    1143.000000\n",
       "mean        0.000164\n",
       "std         0.000115\n",
       "min         0.000000\n",
       "25%         0.000100\n",
       "50%         0.000160\n",
       "75%         0.000234\n",
       "max         0.001059\n",
       "Name: CTR, dtype: float64"
      ]
     },
     "execution_count": 20,
     "metadata": {},
     "output_type": "execute_result"
    }
   ],
   "source": [
    "conversion['CTR'].describe()"
   ]
  },
  {
   "cell_type": "code",
   "execution_count": 21,
   "id": "67db5d31",
   "metadata": {},
   "outputs": [
    {
     "data": {
      "text/plain": [
       "738637"
      ]
     },
     "execution_count": 21,
     "metadata": {},
     "output_type": "execute_result"
    }
   ],
   "source": [
    "conversion.loc[conversion['CTR'].idxmax()]['ad_id']"
   ]
  },
  {
   "cell_type": "markdown",
   "id": "d54cd2bc",
   "metadata": {},
   "source": [
    "Визуализируем CTR с разбивкой по номеру рекламной кампании (`xyz_campaign_id`). Какому графику соответствует распределение CTR кампании 916?"
   ]
  },
  {
   "cell_type": "code",
   "execution_count": 22,
   "id": "f16e44ad",
   "metadata": {},
   "outputs": [
    {
     "data": {
      "text/plain": [
       "<AxesSubplot:xlabel='CTR', ylabel='Count'>"
      ]
     },
     "execution_count": 22,
     "metadata": {},
     "output_type": "execute_result"
    },
    {
     "data": {
      "image/png": "[encoded data removed]",
      "text/plain": [
       "<Figure size 1152x864 with 1 Axes>"
      ]
     },
     "metadata": {
      "needs_background": "light"
     },
     "output_type": "display_data"
    }
   ],
   "source": [
    "plt.figure(figsize=(16,12))\n",
    "sns.histplot(data = conversion,\n",
    "             x = 'CTR',\n",
    "             hue = 'xyz_campaign_id',\n",
    "             bins = 20,\n",
    "             palette = 'Pastel1')"
   ]
  },
  {
   "cell_type": "markdown",
   "id": "21a1bc56",
   "metadata": {},
   "source": [
    "**CPC** (*cost-per-click*) – стоимость за клик пользователя по объявлению. Рассчитывается путём деления суммы потраченных денег на общее число кликов:\n",
    "\n",
    "$$ \\mbox{CPC} = \\dfrac{\\mbox{spent}}{\\mbox{clicks}} $$\n",
    "\n",
    "Выведем описательные статистики для новой переменной, посмотрим на форму распределения."
   ]
  },
  {
   "cell_type": "code",
   "execution_count": 25,
   "id": "b5a54ba3",
   "metadata": {},
   "outputs": [],
   "source": [
    "conversion['CPC'] = conversion['spent'] / conversion['clicks']"
   ]
  },
  {
   "cell_type": "code",
   "execution_count": 26,
   "id": "9b3bdcc2",
   "metadata": {},
   "outputs": [
    {
     "data": {
      "text/plain": [
       "count    936.000000\n",
       "mean       1.499347\n",
       "std        0.232879\n",
       "min        0.180000\n",
       "25%        1.390000\n",
       "50%        1.498273\n",
       "75%        1.644364\n",
       "max        2.212000\n",
       "Name: CPC, dtype: float64"
      ]
     },
     "execution_count": 26,
     "metadata": {},
     "output_type": "execute_result"
    }
   ],
   "source": [
    "conversion['CPC'].describe()"
   ]
  },
  {
   "cell_type": "code",
   "execution_count": 27,
   "id": "af8f8e53",
   "metadata": {},
   "outputs": [
    {
     "data": {
      "text/plain": [
       "0.25"
      ]
     },
     "execution_count": 27,
     "metadata": {},
     "output_type": "execute_result"
    }
   ],
   "source": [
    "round(conversion['CPC'].describe().loc['75%'] - conversion['CPC'].describe().loc['25%'], 2)"
   ]
  },
  {
   "cell_type": "markdown",
   "id": "c7fa7426",
   "metadata": {},
   "source": [
    "Визуализируем **CPC** с разбивкой по полу пользователей, которым были показаны объявления."
   ]
  },
  {
   "cell_type": "code",
   "execution_count": 28,
   "id": "a443b2ee",
   "metadata": {},
   "outputs": [
    {
     "data": {
      "text/plain": [
       "<AxesSubplot:xlabel='CPC', ylabel='Count'>"
      ]
     },
     "execution_count": 28,
     "metadata": {},
     "output_type": "execute_result"
    },
    {
     "data": {
      "image/png": "[encoded data removed]",
      "text/plain": [
       "<Figure size 1152x864 with 1 Axes>"
      ]
     },
     "metadata": {
      "needs_background": "light"
     },
     "output_type": "display_data"
    }
   ],
   "source": [
    "plt.figure(figsize=(16,12))\n",
    "sns.histplot(data = conversion.dropna(),\n",
    "             x = 'CPC',\n",
    "             hue = 'gender',\n",
    "             bins = 20,\n",
    "             kde = True,\n",
    "             palette = 'Pastel1')"
   ]
  },
  {
   "cell_type": "markdown",
   "id": "7680dad2",
   "metadata": {},
   "source": [
    "**Конверсия** (*conversion rate*) – отношение числа пользователей, совершивших целевое действие на определенном этапе, к общему числу тех, кто дошел до данного этапа.\n",
    "\n",
    "Посчитаем конверсию из клика в покупку. Для примера, найдём конверсию для объявления `1121814`.\n",
    "\n",
    "*Note:* клики – `Clicks`, покупки – `Approved_Conversion`."
   ]
  },
  {
   "cell_type": "code",
   "execution_count": 29,
   "id": "7bad96fa",
   "metadata": {},
   "outputs": [],
   "source": [
    "conversion['CR'] = conversion['approved_conversion'] / conversion['clicks']"
   ]
  },
  {
   "cell_type": "code",
   "execution_count": 30,
   "id": "e23cea23",
   "metadata": {},
   "outputs": [
    {
     "data": {
      "text/plain": [
       "3.09"
      ]
     },
     "execution_count": 30,
     "metadata": {},
     "output_type": "execute_result"
    }
   ],
   "source": [
    "round(100 * conversion.query(\"ad_id == 1121814\")['CR'].item(), 2)"
   ]
  }
 ],
 "metadata": {
  "kernelspec": {
   "display_name": "Python 3",
   "language": "python",
   "name": "python3"
  },
  "language_info": {
   "codemirror_mode": {
    "name": "ipython",
    "version": 3
   },
   "file_extension": ".py",
   "mimetype": "text/x-python",
   "name": "python",
   "nbconvert_exporter": "python",
   "pygments_lexer": "ipython3",
   "version": "3.8.8"
  }
 },
 "nbformat": 4,
 "nbformat_minor": 5
}
