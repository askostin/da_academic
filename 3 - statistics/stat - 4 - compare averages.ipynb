{
 "cells": [
  {
   "cell_type": "markdown",
   "id": "b244bdcb",
   "metadata": {},
   "source": [
    "# Python и статистика\n",
    "\n",
    "Проект №4 - сравнение средних значений (t-тест)."
   ]
  },
  {
   "cell_type": "markdown",
   "id": "78660b44",
   "metadata": {},
   "source": [
    "# Введение"
   ]
  },
  {
   "cell_type": "markdown",
   "id": "9beec62e",
   "metadata": {},
   "source": [
    "## Общая постановка задачи\n",
    "\n",
    "Представьте, что вы работаете аналитиком в очень крупной компании по доставке пиццы над приложением для курьеров (да, обычно в таких компаниях есть приложение для курьеров и отдельно приложение для потребителей).\n",
    "\n",
    "У вас есть несколько ресторанов в разных частях города и целый штат курьеров. Но есть одна проблема — к вечеру скорость доставки падает из-за того, что курьеры уходят домой после рабочего дня, а количество заказов лишь растет. Это приводит к тому, что в момент пересмены наша доставка очень сильно проседает в эффективности. \n",
    "\n",
    "Наши data scientist-ы придумали новый алгоритм, который позволяет курьерам запланировать свои последние заказы перед окончанием рабочего дня так, чтобы их маршрут доставки совпадал с маршрутом до дома. То есть, чтобы курьеры доставляли последние свои заказы за день как бы \"по пути\" домой. \n",
    "\n",
    "Вы вместе с командой решили раскатить A/B тест на две равные группы курьеров. Часть курьеров использует старый алгоритм без опции \"по пути\", другие видят в своем приложении эту опцию и могут ее выбрать. Ваша задача – проанализировать данные эксперимента и помочь бизнесу принять решение о раскатке новой фичи на всех курьеров."
   ]
  },
  {
   "cell_type": "markdown",
   "id": "89bd5108",
   "metadata": {},
   "source": [
    "## Описание данных\n",
    "\n",
    "- ```order_id``` - id заказа\n",
    "- ```delivery_time``` - время доставки в минутах\n",
    "- ```district``` - район доставки\n",
    "- ```experiment_group``` - экспериментальная группа"
   ]
  },
  {
   "cell_type": "markdown",
   "id": "e83f65f9",
   "metadata": {},
   "source": [
    "# Предварительная работа с данными"
   ]
  },
  {
   "cell_type": "markdown",
   "id": "aa8fb081",
   "metadata": {},
   "source": [
    "## Загрузка библиотек"
   ]
  },
  {
   "cell_type": "code",
   "execution_count": 1,
   "id": "3df59316",
   "metadata": {},
   "outputs": [],
   "source": [
    "import pandas as pd\n",
    "import numpy as np, scipy.stats as st\n",
    "\n",
    "%matplotlib inline\n",
    "import matplotlib.pyplot as plt\n",
    "import seaborn as sns"
   ]
  },
  {
   "cell_type": "markdown",
   "id": "906ccb03",
   "metadata": {},
   "source": [
    "## Загрузка данных"
   ]
  },
  {
   "cell_type": "code",
   "execution_count": 2,
   "id": "e2a02a88",
   "metadata": {},
   "outputs": [],
   "source": [
    "df = pd.read_csv('./data/delivery_experiment.csv')"
   ]
  },
  {
   "cell_type": "code",
   "execution_count": 3,
   "id": "d8630c75",
   "metadata": {},
   "outputs": [
    {
     "data": {
      "text/html": [
       "<div>\n",
       "<style scoped>\n",
       "    .dataframe tbody tr th:only-of-type {\n",
       "        vertical-align: middle;\n",
       "    }\n",
       "\n",
       "    .dataframe tbody tr th {\n",
       "        vertical-align: top;\n",
       "    }\n",
       "\n",
       "    .dataframe thead th {\n",
       "        text-align: right;\n",
       "    }\n",
       "</style>\n",
       "<table border=\"1\" class=\"dataframe\">\n",
       "  <thead>\n",
       "    <tr style=\"text-align: right;\">\n",
       "      <th></th>\n",
       "      <th>order_id</th>\n",
       "      <th>delivery_time</th>\n",
       "      <th>district</th>\n",
       "      <th>experiment_group</th>\n",
       "    </tr>\n",
       "  </thead>\n",
       "  <tbody>\n",
       "    <tr>\n",
       "      <th>0</th>\n",
       "      <td>3159</td>\n",
       "      <td>44.0</td>\n",
       "      <td>Purlieus</td>\n",
       "      <td>control</td>\n",
       "    </tr>\n",
       "    <tr>\n",
       "      <th>1</th>\n",
       "      <td>10426</td>\n",
       "      <td>51.0</td>\n",
       "      <td>Purlieus</td>\n",
       "      <td>control</td>\n",
       "    </tr>\n",
       "    <tr>\n",
       "      <th>2</th>\n",
       "      <td>9155</td>\n",
       "      <td>46.0</td>\n",
       "      <td>Purlieus</td>\n",
       "      <td>control</td>\n",
       "    </tr>\n",
       "    <tr>\n",
       "      <th>3</th>\n",
       "      <td>10699</td>\n",
       "      <td>34.0</td>\n",
       "      <td>Purlieus</td>\n",
       "      <td>control</td>\n",
       "    </tr>\n",
       "    <tr>\n",
       "      <th>4</th>\n",
       "      <td>10061</td>\n",
       "      <td>43.0</td>\n",
       "      <td>Purlieus</td>\n",
       "      <td>control</td>\n",
       "    </tr>\n",
       "  </tbody>\n",
       "</table>\n",
       "</div>"
      ],
      "text/plain": [
       "   order_id  delivery_time  district experiment_group\n",
       "0      3159           44.0  Purlieus          control\n",
       "1     10426           51.0  Purlieus          control\n",
       "2      9155           46.0  Purlieus          control\n",
       "3     10699           34.0  Purlieus          control\n",
       "4     10061           43.0  Purlieus          control"
      ]
     },
     "execution_count": 3,
     "metadata": {},
     "output_type": "execute_result"
    }
   ],
   "source": [
    "df.head()"
   ]
  },
  {
   "cell_type": "markdown",
   "id": "ead9425c",
   "metadata": {},
   "source": [
    "## Предобработка данных"
   ]
  },
  {
   "cell_type": "markdown",
   "id": "a288c5d2",
   "metadata": {},
   "source": [
    "### Проверка на дубликаты и отсутствующие значения:"
   ]
  },
  {
   "cell_type": "code",
   "execution_count": 4,
   "id": "deae70fd",
   "metadata": {},
   "outputs": [
    {
     "name": "stdout",
     "output_type": "stream",
     "text": [
      "20196 строк и 4 колонки\n",
      "20196 строк после удаления строк, содержащих NULL\n",
      "20196 строк после удаления дубликатов\n"
     ]
    }
   ],
   "source": [
    "from spelling import rows_word, cols_word\n",
    "    \n",
    "a0 = df.shape[0]\n",
    "a1 = df.shape[1]\n",
    "a2 = df.dropna().shape[0]\n",
    "a3 = df.drop_duplicates().shape[0]\n",
    "\n",
    "print(a0, rows_word(a0), \"и\", a1, cols_word(a1))\n",
    "print(a2, rows_word(a2), \"после удаления строк, содержащих NULL\")\n",
    "print(a3, rows_word(a3), \"после удаления дубликатов\")"
   ]
  },
  {
   "cell_type": "markdown",
   "id": "3f334c71",
   "metadata": {},
   "source": [
    "### Проверка типов данных"
   ]
  },
  {
   "cell_type": "code",
   "execution_count": 5,
   "id": "5d7a5ff4",
   "metadata": {},
   "outputs": [
    {
     "data": {
      "text/plain": [
       "order_id              int64\n",
       "delivery_time       float64\n",
       "district             object\n",
       "experiment_group     object\n",
       "dtype: object"
      ]
     },
     "execution_count": 5,
     "metadata": {},
     "output_type": "execute_result"
    }
   ],
   "source": [
    "df.dtypes"
   ]
  },
  {
   "cell_type": "markdown",
   "id": "6d8bdd8e",
   "metadata": {},
   "source": [
    "# Решение поставленных задач"
   ]
  },
  {
   "cell_type": "markdown",
   "id": "9fc9299d",
   "metadata": {},
   "source": [
    "### Гипотезы для проверки\n",
    "\n",
    "**Нулевая гипотеза (H0):** Разницы между средним временем доставки в тестовой и контрольной группе нет\n",
    "\n",
    "**Альтернативная гипотеза (H1):** Разница между средним временем доставки в тестовой и контрольной группе есть"
   ]
  },
  {
   "cell_type": "markdown",
   "id": "771f52ac",
   "metadata": {},
   "source": [
    "Построим графики распределения времени доставки для двух групп:"
   ]
  },
  {
   "cell_type": "code",
   "execution_count": 6,
   "id": "286ecacc",
   "metadata": {},
   "outputs": [
    {
     "data": {
      "text/plain": [
       "<AxesSubplot:xlabel='delivery_time', ylabel='Count'>"
      ]
     },
     "execution_count": 6,
     "metadata": {},
     "output_type": "execute_result"
    },
    {
     "data": {
      "image/png": "[encoded data removed]",
      "text/plain": [
       "<Figure size 432x288 with 1 Axes>"
      ]
     },
     "metadata": {
      "needs_background": "light"
     },
     "output_type": "display_data"
    }
   ],
   "source": [
    "sns.histplot(df, x = 'delivery_time', hue = 'experiment_group', binwidth = 5)"
   ]
  },
  {
   "cell_type": "markdown",
   "id": "fe93bad0",
   "metadata": {},
   "source": [
    "Подсчитаем количество наблюдений в тестовой и контрольной группе:"
   ]
  },
  {
   "cell_type": "code",
   "execution_count": 7,
   "id": "506f6ad3",
   "metadata": {},
   "outputs": [
    {
     "data": {
      "text/plain": [
       "10092"
      ]
     },
     "execution_count": 7,
     "metadata": {},
     "output_type": "execute_result"
    }
   ],
   "source": [
    "df.query(\"experiment_group == 'control'\")['order_id'].nunique()"
   ]
  },
  {
   "cell_type": "code",
   "execution_count": 8,
   "id": "652a5a64",
   "metadata": {},
   "outputs": [
    {
     "data": {
      "text/plain": [
       "10104"
      ]
     },
     "execution_count": 8,
     "metadata": {},
     "output_type": "execute_result"
    }
   ],
   "source": [
    "df.query(\"experiment_group == 'test'\")['order_id'].nunique()"
   ]
  },
  {
   "cell_type": "markdown",
   "id": "f2ca9830",
   "metadata": {},
   "source": [
    "Проверим выполнение условий на нормальность и посчитаем стандартное отклонение в тестовой и контрольной группах."
   ]
  },
  {
   "cell_type": "markdown",
   "id": "5f50543c",
   "metadata": {},
   "source": [
    "Считаем стандартное отклонение для обоих групп:"
   ]
  },
  {
   "cell_type": "code",
   "execution_count": 9,
   "id": "30805c97",
   "metadata": {},
   "outputs": [],
   "source": [
    "control_group = df.query(\"experiment_group == 'control'\")['delivery_time']\n",
    "test_group = df.query(\"experiment_group == 'test'\")['delivery_time']"
   ]
  },
  {
   "cell_type": "code",
   "execution_count": 10,
   "id": "2c9d32a3",
   "metadata": {},
   "outputs": [
    {
     "data": {
      "text/plain": [
       "9.99"
      ]
     },
     "execution_count": 10,
     "metadata": {},
     "output_type": "execute_result"
    }
   ],
   "source": [
    "round(np.std(control_group), 2)"
   ]
  },
  {
   "cell_type": "code",
   "execution_count": 11,
   "id": "107bb106",
   "metadata": {},
   "outputs": [
    {
     "data": {
      "text/plain": [
       "9.88"
      ]
     },
     "execution_count": 11,
     "metadata": {},
     "output_type": "execute_result"
    }
   ],
   "source": [
    "round(np.std(test_group), 2)"
   ]
  },
  {
   "cell_type": "markdown",
   "id": "bb9a6ea7",
   "metadata": {},
   "source": [
    "Делаем семплирование:"
   ]
  },
  {
   "cell_type": "code",
   "execution_count": 12,
   "id": "1dd33fc7",
   "metadata": {},
   "outputs": [],
   "source": [
    "control_sample = control_group.sample(1000, random_state = 17)\n",
    "test_sample = test_group.sample(1000, random_state = 17)"
   ]
  },
  {
   "cell_type": "code",
   "execution_count": 13,
   "id": "9639d8d6",
   "metadata": {},
   "outputs": [
    {
     "data": {
      "text/plain": [
       "ShapiroResult(statistic=0.9974725842475891, pvalue=0.12411931157112122)"
      ]
     },
     "execution_count": 13,
     "metadata": {},
     "output_type": "execute_result"
    }
   ],
   "source": [
    "st.shapiro(control_sample)"
   ]
  },
  {
   "cell_type": "code",
   "execution_count": 14,
   "id": "6ebd0b47",
   "metadata": {},
   "outputs": [
    {
     "data": {
      "text/plain": [
       "ShapiroResult(statistic=0.9975475668907166, pvalue=0.14005419611930847)"
      ]
     },
     "execution_count": 14,
     "metadata": {},
     "output_type": "execute_result"
    }
   ],
   "source": [
    "st.shapiro(test_sample)"
   ]
  },
  {
   "cell_type": "markdown",
   "id": "735c1b2a",
   "metadata": {},
   "source": [
    "### Сравнение средних для двух групп"
   ]
  },
  {
   "cell_type": "code",
   "execution_count": 15,
   "id": "a860bfc9",
   "metadata": {},
   "outputs": [
    {
     "data": {
      "text/plain": [
       "Ttest_indResult(statistic=43.03582663183714, pvalue=0.0)"
      ]
     },
     "execution_count": 15,
     "metadata": {},
     "output_type": "execute_result"
    }
   ],
   "source": [
    "st.ttest_ind(control_group, test_group)"
   ]
  },
  {
   "cell_type": "code",
   "execution_count": 16,
   "id": "9a424cc0",
   "metadata": {},
   "outputs": [
    {
     "data": {
      "text/plain": [
       "45.1"
      ]
     },
     "execution_count": 16,
     "metadata": {},
     "output_type": "execute_result"
    }
   ],
   "source": [
    "x_avg_control = control_group.describe()['mean']\n",
    "round(x_avg_control, 1)"
   ]
  },
  {
   "cell_type": "code",
   "execution_count": 17,
   "id": "131782ee",
   "metadata": {},
   "outputs": [
    {
     "data": {
      "text/plain": [
       "39.0"
      ]
     },
     "execution_count": 17,
     "metadata": {},
     "output_type": "execute_result"
    }
   ],
   "source": [
    "x_avg_test = test_group.describe()['mean']\n",
    "round(x_avg_test, 1)"
   ]
  },
  {
   "cell_type": "markdown",
   "id": "2a2b4f35",
   "metadata": {},
   "source": [
    "На сколько процентов изменилось среднее время доставки в тестовой группе по сравнению с контрольной:"
   ]
  },
  {
   "cell_type": "code",
   "execution_count": 18,
   "id": "f5becd90",
   "metadata": {},
   "outputs": [
    {
     "data": {
      "text/plain": [
       "-13.35"
      ]
     },
     "execution_count": 18,
     "metadata": {},
     "output_type": "execute_result"
    }
   ],
   "source": [
    "round(100 * (x_avg_test / x_avg_control - 1), 2)"
   ]
  }
 ],
 "metadata": {
  "kernelspec": {
   "display_name": "Python 3",
   "language": "python",
   "name": "python3"
  },
  "language_info": {
   "codemirror_mode": {
    "name": "ipython",
    "version": 3
   },
   "file_extension": ".py",
   "mimetype": "text/x-python",
   "name": "python",
   "nbconvert_exporter": "python",
   "pygments_lexer": "ipython3",
   "version": "3.8.8"
  }
 },
 "nbformat": 4,
 "nbformat_minor": 5
}
