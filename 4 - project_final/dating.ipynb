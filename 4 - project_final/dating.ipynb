{
 "cells": [
  {
   "cell_type": "markdown",
   "id": "682b4c9c",
   "metadata": {},
   "source": [
    "# Финальный проект - dating (вариант 3)\n",
    "******"
   ]
  },
  {
   "cell_type": "markdown",
   "id": "57667d94",
   "metadata": {},
   "source": [
    "# Содержание\n",
    "\n",
    "- [Постановка задачи и описание данных](#task)\n",
    "- [Загрузка библиотек](#libs)\n",
    "- [Загрузка данных](#data)\n",
    "- [Предварительный обзор данных](#preliminary)\n",
    "    - [Обзор исходных таблиц](#sources)\n",
    "    - [Создание объектов и функций для удобного доступа к таблицам](#base_fun)\n",
    "    - [Проверка корректности данных по оплатам](#check_revenue)\n",
    "    - [Проверка независимости групп](#group_indepencence)\n",
    "    - [Объединяем данные в большие таблицы](#get_big_tables)\n",
    "- [Исследование данных](#research)\n",
    "    - [Построение таблицы с метриками](#main_table)\n",
    "    - [Сравнение основных метрик](#compare_metrics)\n",
    "    - [Общая функция для характеризации покупок заданного продукта](#product_purchases_fun)\n",
    "    - [Смотрим на половое разнообразие](#gender_distr)\n",
    "    - [Выявление повторных покупок премиум-подписок](#repeat_purchase_prem)\n",
    "    - [Общие групповые различия расходов](#diff_revenue)\n",
    "    - [Распределение трат на пробную и обычную подписки в разных группах](#compare_averages)\n",
    "    - [Сопоставление средних покупок разных продуктов](#products_sales)\n",
    "    - [Зависимость между полом и покупками](#gender_sales)\n",
    "    - [Cтрановое разнообразие по расходам и покупателям](#country_sales)\n",
    "    - [Связь возраста и наличия покупок](#age_sales)\n",
    "- [Выводы](#summary)"
   ]
  },
  {
   "cell_type": "markdown",
   "id": "ba3146ea",
   "metadata": {},
   "source": [
    "# Постановка задачи и описание данных  <a class=\"anchor\" id=\"task\"></a>\n",
    "\n",
    "Представьте, что вы работаете в крупном дейтинговом приложении.\n",
    "\n",
    "Помимо базовых функций, в приложении также имеется премиум-подписка, которая дает доступ к ряду важных дополнительных возможностей. Был проведен A/B тест, в рамках которого для новых пользователей из нескольких стран была изменена стоимость премиум-подписки* при покупке через две новые платежные системы. При этом стоимость пробного периода оставалась прежней.\n",
    "\n",
    "Проверьте:\n",
    "\n",
    "- Был ли эксперимент успешен в целом.\n",
    "- Проанализируйте, имеет ли нововведение смысл среди каких-либо конкретных групп пользователей.\n",
    "\n",
    "**Деньги за подписку списываются ежемесячно до тех пор, пока пользователь её не отменит.*"
   ]
  },
  {
   "cell_type": "markdown",
   "id": "981fa3fc",
   "metadata": {},
   "source": [
    "## Используемые файлы\n",
    "\n",
    "- `users_test` – информация о пользователях в тестовой группе. \n",
    "- `users_control_1` – информация о пользователях в первой контрольной группе. \n",
    "- `users_control_2` – информация о пользователях во второй контрольной группе . \n",
    "- `transactions_test` – информация о платежах пользователей в тестовой группе. \n",
    "- `transactions_control_1` – информация о платежах пользователей в первой контрольной группе. \n",
    "- `transactions_control_2` – информация о платежах пользователей во второй контрольной группе "
   ]
  },
  {
   "cell_type": "markdown",
   "id": "2cfa14bb",
   "metadata": {},
   "source": [
    "## Структура файлов"
   ]
  },
  {
   "cell_type": "markdown",
   "id": "07045e3e",
   "metadata": {},
   "source": [
    "### users_*.csv <a class=\"anchor\" id=\"assesments\"></a>\n",
    "\n",
    "Информация о пользователях:\n",
    "\n",
    "- `uid` – идентификатор пользователя\n",
    "- `age` – возраст\n",
    "- `attraction_coeff` – коэффициент привлекательности (от 0 до 1000, $ \\frac{лайки}{просмотры}*1000 $\n",
    "- `coins` – число монеток (внутренняя валюта)\n",
    "- `country` – страна  \n",
    "- `visit_days` – в какие дни после регистрации пользователь посещал приложение (напр. в 1, затем в 7)\n",
    "- `gender` – пол\n",
    "- `age_filter_start`  – фильтр поиска, мин. значение \n",
    "- `age_filter_end`  – фильтр поиска, макс. значение \n",
    "- `views_count` – число полученных оценок \n",
    "- `was_premium` – был ли когда-либо премиум (либо пробный период премиум-статуса, либо купленный за деньги)\n",
    "- `is_premium` –  является ли премиум\n",
    "- `total_revenue` – нормированная выручка"
   ]
  },
  {
   "cell_type": "markdown",
   "id": "9db9f445",
   "metadata": {},
   "source": [
    "### transactions_*.csv\n",
    "\n",
    "Информация о платежах пользователей:\n",
    "\n",
    "- `uid` – идентификатор пользователя\n",
    "- `country` – страна\n",
    "- `joined_at` – дата и время регистрации\n",
    "- `paid_at` – дата и время покупки\n",
    "- `revenue` – нормированная выручка\n",
    "- `payment_id` – идентификатор платежа\n",
    "- `from_page` – откуда пользователь перешел на страницу оплаты\n",
    "- `product_type` – тип продукта:\n",
    "    - `trial_premium` – пробная премиум-подписка,\n",
    "    - `premium_no_trial` – премиум-подписка без пробной,\n",
    "    - `coins` – подписка за внутреннюю валюту,\n",
    "    - `other_type` – другое"
   ]
  },
  {
   "cell_type": "markdown",
   "id": "3b842714",
   "metadata": {},
   "source": [
    "## Cтратегия исследования\n",
    "\n",
    "В ходе эксперимента *\"для новых пользователей из нескольких стран была изменена стоимость премиум-подписки при покупке через две новые платежные системы\"*. Поскольку итоговым мерилом для бизнеса является прибыль, имеет смысл говорить о (**следствие**) статистически значимом росте полной прибыли для, как минимум, одной из исследуемых (контрольных) групп из-за (**причина**) введения нового способа оплаты подписки. В условии задания про расходы ничего не сказано, расходы на нововведения будем рассматривать как часть текущих расходов на поддержание проекта (зарплаты команды, IT-инфраструктура) и в расчётах учитывать не будем.\n",
    "\n",
    "Эксперимент проводился для выборок из всего объёма пользователей, поэтому сравнивать необходимо удельные, относительные коэффициенты (метрики). Предварительно, это:\n",
    "\n",
    "- доля покупателей от всего количества пользователей (конверсия из пользователя в покупателя), $C_1$,\n",
    "- средние расходы одного пользователя, **RU** (Revenue per User),\n",
    "- средние расходы одного покупателя, **RB** (Revenue per Buyer),\n",
    "- количество повторных покупок, **RPR** (Repeat Purchase Rate),\n",
    "- средний чек, **AP** (Average Price).\n",
    "\n",
    "Абсолютные метрики:\n",
    "- доход, **R** (Revenue),\n",
    "- количество заказов, **O** (Orders),\n",
    "- количество покупателей, **B** (Buyers),\n",
    "- количество пользователей, **U** (Users).\n",
    "\n",
    "Зависимость между ними следующая:\n",
    "$$ \\mathrm{B} = \\mathrm{U} \\cdot C_1 $$\n",
    "$$ \\mathrm{RB} = \\dfrac{\\mathrm{R}}{\\mathrm{B}}, \\mathrm{RU} = \\dfrac{\\mathrm{R}}{\\mathrm{U}} $$\n",
    "$$ \\mathrm{RB} = \\mathrm{RU} \\cdot C_1 $$\n",
    "$$ \\mathrm{O} = \\mathrm{B} \\cdot \\mathrm{RPR} $$\n",
    "$$ \\mathrm{RB} = \\mathrm{AP} \\cdot \\mathrm{RPR} $$\n",
    "$$ \\mathrm{R} = \\mathrm{O} \\cdot \\mathrm{AP} = (\\mathrm{B} \\cdot \\mathrm{RPR}) \\cdot \\mathrm{AP} = \\mathrm{B} \\cdot \\mathrm{RB} $$\n",
    "\n",
    "Так как изменялся параметр, влияющий на возможность покупки обычной, стандартной подписки (а вот у триальной цена не менялась), обязательно надо узнать как различаются по группам:\n",
    "- среднее количество покупок обычной версии, **RPR_prem**,\n",
    "- распределение количества покупок обычной версии -- нам нужно понять, есть ли влияние нововведения на вовлечённость пользователей, количество повторных покупок премиума,\n",
    "- средний доход от продажи премиум-версии на одного покупателя и/или пользователя,\n",
    "- относительная доля от дохода, которую даёт продажа обычной премиум-версии,\n",
    "- относительные доли от дохода, которые дают продажи триальной и премиум версий -- нужно понять, простимулировало ли пользователей снижение цены на то, чтобы сразу купить полную подписку.\n",
    "\n",
    "Необходимо проверить влияние на результаты (значения метрик):\n",
    "- пола,\n",
    "- страны,\n",
    "- возраста."
   ]
  },
  {
   "cell_type": "markdown",
   "id": "edc88734",
   "metadata": {},
   "source": [
    "# Загрузка библиотек <a class=\"anchor\" id=\"libs\"></a>"
   ]
  },
  {
   "cell_type": "code",
   "execution_count": 1,
   "id": "4eeb4756",
   "metadata": {},
   "outputs": [],
   "source": [
    "import pandas as pd\n",
    "import numpy as np\n",
    "\n",
    "%matplotlib inline\n",
    "import matplotlib.pyplot as plt\n",
    "import seaborn as sns\n",
    "\n",
    "import spelling"
   ]
  },
  {
   "cell_type": "markdown",
   "id": "c02a6836",
   "metadata": {},
   "source": [
    "# Загрузка данных <a class=\"anchor\" id=\"data\"></a>"
   ]
  },
  {
   "cell_type": "code",
   "execution_count": 2,
   "id": "746c5f62",
   "metadata": {},
   "outputs": [],
   "source": [
    "users_test = pd.read_csv('./users_test.csv', sep = ';')\n",
    "users_test.name = 'users_test'\n",
    "\n",
    "users_control_1 = pd.read_csv('./users_control_1.csv', sep = ';')\n",
    "users_control_1.name = 'users_control_1'\n",
    "\n",
    "users_control_2 = pd.read_csv('./users_control_2.csv', sep = ';')\n",
    "users_control_2.name = 'users_control_2'"
   ]
  },
  {
   "cell_type": "code",
   "execution_count": 3,
   "id": "bb11918b",
   "metadata": {},
   "outputs": [],
   "source": [
    "transactions_test = pd.read_csv('./transactions_test.csv',\n",
    "                                sep = ';',\n",
    "                                parse_dates = ['joined_at', 'paid_at'])\n",
    "transactions_test.name = 'transactions_test'\n",
    "\n",
    "transactions_control_1 = pd.read_csv('./transactions_control_1.csv',\n",
    "                                     sep = ';',\n",
    "                                     parse_dates = ['joined_at', 'paid_at'])\n",
    "transactions_control_1.name = 'transactions_control_1'\n",
    "\n",
    "transactions_control_2 = pd.read_csv('./transactions_control_2.csv',\n",
    "                                     sep = ';',\n",
    "                                     parse_dates = ['joined_at', 'paid_at'])\n",
    "transactions_control_2.name = 'transactions_control_2'"
   ]
  },
  {
   "cell_type": "markdown",
   "id": "338a323e",
   "metadata": {},
   "source": [
    "# Предварительный обзор данных <a class=\"anchor\" id=\"preliminary\"></a>"
   ]
  },
  {
   "cell_type": "markdown",
   "id": "42d1d262",
   "metadata": {},
   "source": [
    "## Обзор исходных таблиц <a class=\"anchor\" id=\"sources\"></a>"
   ]
  },
  {
   "cell_type": "markdown",
   "id": "eeaf99d5",
   "metadata": {},
   "source": [
    "### users_test"
   ]
  },
  {
   "cell_type": "code",
   "execution_count": 4,
   "id": "ed3aae10",
   "metadata": {
    "scrolled": false
   },
   "outputs": [
    {
     "data": {
      "text/html": [
       "<div>\n",
       "<style scoped>\n",
       "    .dataframe tbody tr th:only-of-type {\n",
       "        vertical-align: middle;\n",
       "    }\n",
       "\n",
       "    .dataframe tbody tr th {\n",
       "        vertical-align: top;\n",
       "    }\n",
       "\n",
       "    .dataframe thead th {\n",
       "        text-align: right;\n",
       "    }\n",
       "</style>\n",
       "<table border=\"1\" class=\"dataframe\">\n",
       "  <thead>\n",
       "    <tr style=\"text-align: right;\">\n",
       "      <th></th>\n",
       "      <th>uid</th>\n",
       "      <th>age</th>\n",
       "      <th>attraction_coeff</th>\n",
       "      <th>coins</th>\n",
       "      <th>country</th>\n",
       "      <th>visit_days</th>\n",
       "      <th>gender</th>\n",
       "      <th>age_filter_start</th>\n",
       "      <th>age_filter_end</th>\n",
       "      <th>views_count</th>\n",
       "      <th>was_premium</th>\n",
       "      <th>is_premium</th>\n",
       "      <th>total_revenue</th>\n",
       "    </tr>\n",
       "  </thead>\n",
       "  <tbody>\n",
       "    <tr>\n",
       "      <th>0</th>\n",
       "      <td>892309896</td>\n",
       "      <td>27</td>\n",
       "      <td>685</td>\n",
       "      <td>NaN</td>\n",
       "      <td>United States of America</td>\n",
       "      <td>1,2,3,4,5,6,7,8,9,10,11,12,16,17</td>\n",
       "      <td>1</td>\n",
       "      <td>24</td>\n",
       "      <td>30</td>\n",
       "      <td>89</td>\n",
       "      <td>NaN</td>\n",
       "      <td>NaN</td>\n",
       "      <td>0</td>\n",
       "    </tr>\n",
       "    <tr>\n",
       "      <th>1</th>\n",
       "      <td>892044516</td>\n",
       "      <td>27</td>\n",
       "      <td>0</td>\n",
       "      <td>NaN</td>\n",
       "      <td>Germany</td>\n",
       "      <td>NaN</td>\n",
       "      <td>1</td>\n",
       "      <td>24</td>\n",
       "      <td>30</td>\n",
       "      <td>0</td>\n",
       "      <td>NaN</td>\n",
       "      <td>NaN</td>\n",
       "      <td>0</td>\n",
       "    </tr>\n",
       "    <tr>\n",
       "      <th>2</th>\n",
       "      <td>892185708</td>\n",
       "      <td>45</td>\n",
       "      <td>44</td>\n",
       "      <td>NaN</td>\n",
       "      <td>Israel</td>\n",
       "      <td>1,3,4,6,7,8,10,11,12,13,14,15,16,17,18,19,20,2...</td>\n",
       "      <td>1</td>\n",
       "      <td>42</td>\n",
       "      <td>48</td>\n",
       "      <td>68</td>\n",
       "      <td>NaN</td>\n",
       "      <td>NaN</td>\n",
       "      <td>0</td>\n",
       "    </tr>\n",
       "    <tr>\n",
       "      <th>3</th>\n",
       "      <td>892130292</td>\n",
       "      <td>32</td>\n",
       "      <td>0</td>\n",
       "      <td>NaN</td>\n",
       "      <td>United States of America</td>\n",
       "      <td>1,2,3,4,5,6,7,8,9,10,11,12</td>\n",
       "      <td>1</td>\n",
       "      <td>29</td>\n",
       "      <td>35</td>\n",
       "      <td>0</td>\n",
       "      <td>NaN</td>\n",
       "      <td>NaN</td>\n",
       "      <td>0</td>\n",
       "    </tr>\n",
       "    <tr>\n",
       "      <th>4</th>\n",
       "      <td>891406035</td>\n",
       "      <td>27</td>\n",
       "      <td>1000</td>\n",
       "      <td>NaN</td>\n",
       "      <td>France</td>\n",
       "      <td>NaN</td>\n",
       "      <td>1</td>\n",
       "      <td>24</td>\n",
       "      <td>30</td>\n",
       "      <td>1</td>\n",
       "      <td>1.0</td>\n",
       "      <td>NaN</td>\n",
       "      <td>0</td>\n",
       "    </tr>\n",
       "  </tbody>\n",
       "</table>\n",
       "</div>"
      ],
      "text/plain": [
       "         uid  age  attraction_coeff  coins                   country  \\\n",
       "0  892309896   27               685    NaN  United States of America   \n",
       "1  892044516   27                 0    NaN                   Germany   \n",
       "2  892185708   45                44    NaN                    Israel   \n",
       "3  892130292   32                 0    NaN  United States of America   \n",
       "4  891406035   27              1000    NaN                    France   \n",
       "\n",
       "                                          visit_days  gender  \\\n",
       "0                   1,2,3,4,5,6,7,8,9,10,11,12,16,17       1   \n",
       "1                                                NaN       1   \n",
       "2  1,3,4,6,7,8,10,11,12,13,14,15,16,17,18,19,20,2...       1   \n",
       "3                         1,2,3,4,5,6,7,8,9,10,11,12       1   \n",
       "4                                                NaN       1   \n",
       "\n",
       "   age_filter_start  age_filter_end  views_count  was_premium  is_premium  \\\n",
       "0                24              30           89          NaN         NaN   \n",
       "1                24              30            0          NaN         NaN   \n",
       "2                42              48           68          NaN         NaN   \n",
       "3                29              35            0          NaN         NaN   \n",
       "4                24              30            1          1.0         NaN   \n",
       "\n",
       "   total_revenue  \n",
       "0              0  \n",
       "1              0  \n",
       "2              0  \n",
       "3              0  \n",
       "4              0  "
      ]
     },
     "execution_count": 4,
     "metadata": {},
     "output_type": "execute_result"
    }
   ],
   "source": [
    "users_test.head()"
   ]
  },
  {
   "cell_type": "markdown",
   "id": "57353f43",
   "metadata": {},
   "source": [
    "Проверка типов данных:"
   ]
  },
  {
   "cell_type": "code",
   "execution_count": 5,
   "id": "68949716",
   "metadata": {},
   "outputs": [
    {
     "data": {
      "text/plain": [
       "uid                   int64\n",
       "age                   int64\n",
       "attraction_coeff      int64\n",
       "coins               float64\n",
       "country              object\n",
       "visit_days           object\n",
       "gender                int64\n",
       "age_filter_start      int64\n",
       "age_filter_end        int64\n",
       "views_count           int64\n",
       "was_premium         float64\n",
       "is_premium          float64\n",
       "total_revenue         int64\n",
       "dtype: object"
      ]
     },
     "execution_count": 5,
     "metadata": {},
     "output_type": "execute_result"
    }
   ],
   "source": [
    "users_test.dtypes"
   ]
  },
  {
   "cell_type": "markdown",
   "id": "f4827638",
   "metadata": {},
   "source": [
    "Проверка на дубликаты и отсутствующие значения:"
   ]
  },
  {
   "cell_type": "code",
   "execution_count": 6,
   "id": "0a0ce6bd",
   "metadata": {
    "scrolled": true
   },
   "outputs": [
    {
     "name": "stdout",
     "output_type": "stream",
     "text": [
      "4308 строк и 13 колонок\n",
      "36 строк после удаления строк, содержащих NULL\n",
      "4308 строк после удаления дубликатов\n"
     ]
    }
   ],
   "source": [
    "spelling.check_table(users_test)"
   ]
  },
  {
   "cell_type": "code",
   "execution_count": 7,
   "id": "f52576bd",
   "metadata": {},
   "outputs": [
    {
     "data": {
      "text/plain": [
       "4308"
      ]
     },
     "execution_count": 7,
     "metadata": {},
     "output_type": "execute_result"
    }
   ],
   "source": [
    "users_test.uid.nunique()"
   ]
  },
  {
   "cell_type": "code",
   "execution_count": 8,
   "id": "19b611c7",
   "metadata": {},
   "outputs": [],
   "source": [
    "users_test['visit_days'] = users_test['visit_days'].str.split(',')\n",
    "# .apply(lambda lst: [int(x) for x in lst])"
   ]
  },
  {
   "cell_type": "code",
   "execution_count": 9,
   "id": "b0b5c034",
   "metadata": {
    "scrolled": true
   },
   "outputs": [],
   "source": [
    "# users_test_no_visits = users_test[users_test['visit_days'].isna()]\n",
    "# users_test_with_visits = users_test[~users_test['visit_days'].isna()]\n",
    "# users_test_with_visits['visit_days'] = users_test_with_visits['visit_days'].apply(lambda lst: [int(x) for x in lst])\n",
    "\n",
    "# users_test = pd.concat([users_test_no_visits, users_test_with_visits]).sort_index()"
   ]
  },
  {
   "cell_type": "code",
   "execution_count": 10,
   "id": "006af4f0",
   "metadata": {},
   "outputs": [],
   "source": [
    "users_test['visits'] = \\\n",
    "    users_test['visit_days'] \\\n",
    "    .apply(lambda x: len(x) if np.any(pd.notnull(x)) else 0)"
   ]
  },
  {
   "cell_type": "code",
   "execution_count": 11,
   "id": "b6f73ce8",
   "metadata": {},
   "outputs": [],
   "source": [
    "users_test['gender'] = users_test['gender'].astype('int').astype('str')"
   ]
  },
  {
   "cell_type": "markdown",
   "id": "ffa201ed",
   "metadata": {},
   "source": [
    "### users_control_1"
   ]
  },
  {
   "cell_type": "code",
   "execution_count": 12,
   "id": "e4c60da7",
   "metadata": {},
   "outputs": [
    {
     "data": {
      "text/html": [
       "<div>\n",
       "<style scoped>\n",
       "    .dataframe tbody tr th:only-of-type {\n",
       "        vertical-align: middle;\n",
       "    }\n",
       "\n",
       "    .dataframe tbody tr th {\n",
       "        vertical-align: top;\n",
       "    }\n",
       "\n",
       "    .dataframe thead th {\n",
       "        text-align: right;\n",
       "    }\n",
       "</style>\n",
       "<table border=\"1\" class=\"dataframe\">\n",
       "  <thead>\n",
       "    <tr style=\"text-align: right;\">\n",
       "      <th></th>\n",
       "      <th>uid</th>\n",
       "      <th>age</th>\n",
       "      <th>attraction_coeff</th>\n",
       "      <th>coins</th>\n",
       "      <th>country</th>\n",
       "      <th>visit_days</th>\n",
       "      <th>gender</th>\n",
       "      <th>age_filter_start</th>\n",
       "      <th>age_filter_end</th>\n",
       "      <th>views_count</th>\n",
       "      <th>was_premium</th>\n",
       "      <th>is_premium</th>\n",
       "      <th>total_revenue</th>\n",
       "    </tr>\n",
       "  </thead>\n",
       "  <tbody>\n",
       "    <tr>\n",
       "      <th>0</th>\n",
       "      <td>892319115</td>\n",
       "      <td>25</td>\n",
       "      <td>435</td>\n",
       "      <td>NaN</td>\n",
       "      <td>United States of America</td>\n",
       "      <td>1,2,3,4,5,6</td>\n",
       "      <td>0</td>\n",
       "      <td>22</td>\n",
       "      <td>32</td>\n",
       "      <td>982</td>\n",
       "      <td>NaN</td>\n",
       "      <td>NaN</td>\n",
       "      <td>0</td>\n",
       "    </tr>\n",
       "    <tr>\n",
       "      <th>1</th>\n",
       "      <td>891248523</td>\n",
       "      <td>29</td>\n",
       "      <td>500</td>\n",
       "      <td>NaN</td>\n",
       "      <td>United States of America</td>\n",
       "      <td>1,2</td>\n",
       "      <td>1</td>\n",
       "      <td>26</td>\n",
       "      <td>32</td>\n",
       "      <td>12</td>\n",
       "      <td>NaN</td>\n",
       "      <td>NaN</td>\n",
       "      <td>0</td>\n",
       "    </tr>\n",
       "    <tr>\n",
       "      <th>2</th>\n",
       "      <td>891670932</td>\n",
       "      <td>33</td>\n",
       "      <td>800</td>\n",
       "      <td>NaN</td>\n",
       "      <td>France</td>\n",
       "      <td>1,2,3,5,6,8,9,11,13,16</td>\n",
       "      <td>1</td>\n",
       "      <td>30</td>\n",
       "      <td>36</td>\n",
       "      <td>5</td>\n",
       "      <td>NaN</td>\n",
       "      <td>NaN</td>\n",
       "      <td>0</td>\n",
       "    </tr>\n",
       "    <tr>\n",
       "      <th>3</th>\n",
       "      <td>891060786</td>\n",
       "      <td>26</td>\n",
       "      <td>0</td>\n",
       "      <td>NaN</td>\n",
       "      <td>Argentina</td>\n",
       "      <td>1,2,3,4,5</td>\n",
       "      <td>1</td>\n",
       "      <td>23</td>\n",
       "      <td>29</td>\n",
       "      <td>0</td>\n",
       "      <td>NaN</td>\n",
       "      <td>NaN</td>\n",
       "      <td>0</td>\n",
       "    </tr>\n",
       "    <tr>\n",
       "      <th>4</th>\n",
       "      <td>892006554</td>\n",
       "      <td>35</td>\n",
       "      <td>294</td>\n",
       "      <td>NaN</td>\n",
       "      <td>United States of America</td>\n",
       "      <td>1,2,3,5,6,7,8,9,10,12,15,16,17,19</td>\n",
       "      <td>1</td>\n",
       "      <td>30</td>\n",
       "      <td>40</td>\n",
       "      <td>17</td>\n",
       "      <td>NaN</td>\n",
       "      <td>NaN</td>\n",
       "      <td>0</td>\n",
       "    </tr>\n",
       "  </tbody>\n",
       "</table>\n",
       "</div>"
      ],
      "text/plain": [
       "         uid  age  attraction_coeff  coins                   country  \\\n",
       "0  892319115   25               435    NaN  United States of America   \n",
       "1  891248523   29               500    NaN  United States of America   \n",
       "2  891670932   33               800    NaN                    France   \n",
       "3  891060786   26                 0    NaN                 Argentina   \n",
       "4  892006554   35               294    NaN  United States of America   \n",
       "\n",
       "                          visit_days  gender  age_filter_start  \\\n",
       "0                        1,2,3,4,5,6       0                22   \n",
       "1                                1,2       1                26   \n",
       "2             1,2,3,5,6,8,9,11,13,16       1                30   \n",
       "3                          1,2,3,4,5       1                23   \n",
       "4  1,2,3,5,6,7,8,9,10,12,15,16,17,19       1                30   \n",
       "\n",
       "   age_filter_end  views_count  was_premium  is_premium  total_revenue  \n",
       "0              32          982          NaN         NaN              0  \n",
       "1              32           12          NaN         NaN              0  \n",
       "2              36            5          NaN         NaN              0  \n",
       "3              29            0          NaN         NaN              0  \n",
       "4              40           17          NaN         NaN              0  "
      ]
     },
     "execution_count": 12,
     "metadata": {},
     "output_type": "execute_result"
    }
   ],
   "source": [
    "users_control_1.head()"
   ]
  },
  {
   "cell_type": "code",
   "execution_count": 13,
   "id": "3425f64a",
   "metadata": {},
   "outputs": [
    {
     "data": {
      "text/plain": [
       "uid                   int64\n",
       "age                   int64\n",
       "attraction_coeff      int64\n",
       "coins               float64\n",
       "country              object\n",
       "visit_days           object\n",
       "gender                int64\n",
       "age_filter_start      int64\n",
       "age_filter_end        int64\n",
       "views_count           int64\n",
       "was_premium         float64\n",
       "is_premium          float64\n",
       "total_revenue         int64\n",
       "dtype: object"
      ]
     },
     "execution_count": 13,
     "metadata": {},
     "output_type": "execute_result"
    }
   ],
   "source": [
    "users_control_1.dtypes"
   ]
  },
  {
   "cell_type": "code",
   "execution_count": 14,
   "id": "367621bd",
   "metadata": {},
   "outputs": [
    {
     "name": "stdout",
     "output_type": "stream",
     "text": [
      "4340 строк и 13 колонок\n",
      "39 строк после удаления строк, содержащих NULL\n",
      "4340 строк после удаления дубликатов\n"
     ]
    }
   ],
   "source": [
    "spelling.check_table(users_control_1)"
   ]
  },
  {
   "cell_type": "code",
   "execution_count": 15,
   "id": "b73ae3f8",
   "metadata": {},
   "outputs": [
    {
     "data": {
      "text/plain": [
       "4340"
      ]
     },
     "execution_count": 15,
     "metadata": {},
     "output_type": "execute_result"
    }
   ],
   "source": [
    "users_control_1.uid.nunique()"
   ]
  },
  {
   "cell_type": "code",
   "execution_count": 16,
   "id": "9e6b7223",
   "metadata": {},
   "outputs": [],
   "source": [
    "users_control_1['visit_days'] = users_control_1['visit_days'].str.split(',')\n",
    "users_control_1['visits'] = users_control_1['visit_days'].apply(lambda x: len(x) if np.any(pd.notnull(x)) else 0)"
   ]
  },
  {
   "cell_type": "code",
   "execution_count": 17,
   "id": "ed6cd07f",
   "metadata": {},
   "outputs": [],
   "source": [
    "users_control_1['gender'] = users_control_1['gender'].astype('int').astype('str')"
   ]
  },
  {
   "cell_type": "markdown",
   "id": "d3d1878c",
   "metadata": {},
   "source": [
    "### users_control_2"
   ]
  },
  {
   "cell_type": "code",
   "execution_count": 18,
   "id": "8fee264a",
   "metadata": {},
   "outputs": [
    {
     "data": {
      "text/html": [
       "<div>\n",
       "<style scoped>\n",
       "    .dataframe tbody tr th:only-of-type {\n",
       "        vertical-align: middle;\n",
       "    }\n",
       "\n",
       "    .dataframe tbody tr th {\n",
       "        vertical-align: top;\n",
       "    }\n",
       "\n",
       "    .dataframe thead th {\n",
       "        text-align: right;\n",
       "    }\n",
       "</style>\n",
       "<table border=\"1\" class=\"dataframe\">\n",
       "  <thead>\n",
       "    <tr style=\"text-align: right;\">\n",
       "      <th></th>\n",
       "      <th>uid</th>\n",
       "      <th>age</th>\n",
       "      <th>attraction_coeff</th>\n",
       "      <th>coins</th>\n",
       "      <th>country</th>\n",
       "      <th>visit_days</th>\n",
       "      <th>gender</th>\n",
       "      <th>age_filter_start</th>\n",
       "      <th>age_filter_end</th>\n",
       "      <th>views_count</th>\n",
       "      <th>was_premium</th>\n",
       "      <th>is_premium</th>\n",
       "      <th>total_revenue</th>\n",
       "    </tr>\n",
       "  </thead>\n",
       "  <tbody>\n",
       "    <tr>\n",
       "      <th>0</th>\n",
       "      <td>892035504</td>\n",
       "      <td>37</td>\n",
       "      <td>137</td>\n",
       "      <td>NaN</td>\n",
       "      <td>Israel</td>\n",
       "      <td>1,2,3,4,5,6,7,8,9,11,13</td>\n",
       "      <td>1</td>\n",
       "      <td>30</td>\n",
       "      <td>40</td>\n",
       "      <td>51</td>\n",
       "      <td>NaN</td>\n",
       "      <td>NaN</td>\n",
       "      <td>0</td>\n",
       "    </tr>\n",
       "    <tr>\n",
       "      <th>1</th>\n",
       "      <td>891782112</td>\n",
       "      <td>57</td>\n",
       "      <td>0</td>\n",
       "      <td>NaN</td>\n",
       "      <td>Italy</td>\n",
       "      <td>1</td>\n",
       "      <td>1</td>\n",
       "      <td>54</td>\n",
       "      <td>60</td>\n",
       "      <td>0</td>\n",
       "      <td>NaN</td>\n",
       "      <td>NaN</td>\n",
       "      <td>0</td>\n",
       "    </tr>\n",
       "    <tr>\n",
       "      <th>2</th>\n",
       "      <td>891110337</td>\n",
       "      <td>30</td>\n",
       "      <td>769</td>\n",
       "      <td>NaN</td>\n",
       "      <td>France</td>\n",
       "      <td>1,2,3,4,5</td>\n",
       "      <td>1</td>\n",
       "      <td>27</td>\n",
       "      <td>33</td>\n",
       "      <td>13</td>\n",
       "      <td>NaN</td>\n",
       "      <td>NaN</td>\n",
       "      <td>0</td>\n",
       "    </tr>\n",
       "    <tr>\n",
       "      <th>3</th>\n",
       "      <td>891796320</td>\n",
       "      <td>48</td>\n",
       "      <td>750</td>\n",
       "      <td>NaN</td>\n",
       "      <td>France</td>\n",
       "      <td>1,4,6,8,10,11,12,14,15,16,18</td>\n",
       "      <td>1</td>\n",
       "      <td>45</td>\n",
       "      <td>51</td>\n",
       "      <td>12</td>\n",
       "      <td>NaN</td>\n",
       "      <td>NaN</td>\n",
       "      <td>0</td>\n",
       "    </tr>\n",
       "    <tr>\n",
       "      <th>4</th>\n",
       "      <td>891880212</td>\n",
       "      <td>54</td>\n",
       "      <td>638</td>\n",
       "      <td>NaN</td>\n",
       "      <td>United States of America</td>\n",
       "      <td>1</td>\n",
       "      <td>1</td>\n",
       "      <td>35</td>\n",
       "      <td>53</td>\n",
       "      <td>94</td>\n",
       "      <td>NaN</td>\n",
       "      <td>NaN</td>\n",
       "      <td>0</td>\n",
       "    </tr>\n",
       "  </tbody>\n",
       "</table>\n",
       "</div>"
      ],
      "text/plain": [
       "         uid  age  attraction_coeff  coins                   country  \\\n",
       "0  892035504   37               137    NaN                    Israel   \n",
       "1  891782112   57                 0    NaN                     Italy   \n",
       "2  891110337   30               769    NaN                    France   \n",
       "3  891796320   48               750    NaN                    France   \n",
       "4  891880212   54               638    NaN  United States of America   \n",
       "\n",
       "                     visit_days  gender  age_filter_start  age_filter_end  \\\n",
       "0       1,2,3,4,5,6,7,8,9,11,13       1                30              40   \n",
       "1                             1       1                54              60   \n",
       "2                     1,2,3,4,5       1                27              33   \n",
       "3  1,4,6,8,10,11,12,14,15,16,18       1                45              51   \n",
       "4                             1       1                35              53   \n",
       "\n",
       "   views_count  was_premium  is_premium  total_revenue  \n",
       "0           51          NaN         NaN              0  \n",
       "1            0          NaN         NaN              0  \n",
       "2           13          NaN         NaN              0  \n",
       "3           12          NaN         NaN              0  \n",
       "4           94          NaN         NaN              0  "
      ]
     },
     "execution_count": 18,
     "metadata": {},
     "output_type": "execute_result"
    }
   ],
   "source": [
    "users_control_2.head()"
   ]
  },
  {
   "cell_type": "code",
   "execution_count": 19,
   "id": "f01a53ce",
   "metadata": {},
   "outputs": [
    {
     "data": {
      "text/plain": [
       "uid                   int64\n",
       "age                   int64\n",
       "attraction_coeff      int64\n",
       "coins               float64\n",
       "country              object\n",
       "visit_days           object\n",
       "gender                int64\n",
       "age_filter_start      int64\n",
       "age_filter_end        int64\n",
       "views_count           int64\n",
       "was_premium         float64\n",
       "is_premium          float64\n",
       "total_revenue         int64\n",
       "dtype: object"
      ]
     },
     "execution_count": 19,
     "metadata": {},
     "output_type": "execute_result"
    }
   ],
   "source": [
    "users_control_2.dtypes"
   ]
  },
  {
   "cell_type": "code",
   "execution_count": 20,
   "id": "6312aa9d",
   "metadata": {},
   "outputs": [
    {
     "name": "stdout",
     "output_type": "stream",
     "text": [
      "4264 строки и 13 колонок\n",
      "37 строк после удаления строк, содержащих NULL\n",
      "4264 строки после удаления дубликатов\n"
     ]
    }
   ],
   "source": [
    "spelling.check_table(users_control_2)"
   ]
  },
  {
   "cell_type": "code",
   "execution_count": 21,
   "id": "e5c366d8",
   "metadata": {},
   "outputs": [
    {
     "data": {
      "text/plain": [
       "4264"
      ]
     },
     "execution_count": 21,
     "metadata": {},
     "output_type": "execute_result"
    }
   ],
   "source": [
    "users_control_2.uid.nunique()"
   ]
  },
  {
   "cell_type": "code",
   "execution_count": 22,
   "id": "d926e36c",
   "metadata": {},
   "outputs": [],
   "source": [
    "users_control_2['visit_days'] = users_control_2['visit_days'].str.split(',')\n",
    "users_control_2['visits'] = users_control_2['visit_days'].apply(lambda x: len(x) if np.any(pd.notnull(x)) else 0)"
   ]
  },
  {
   "cell_type": "code",
   "execution_count": 23,
   "id": "94c0d303",
   "metadata": {},
   "outputs": [],
   "source": [
    "users_control_2['gender'] = users_control_2['gender'].astype('int').astype('str')"
   ]
  },
  {
   "cell_type": "markdown",
   "id": "5ce865e4",
   "metadata": {},
   "source": [
    "### transactions_test"
   ]
  },
  {
   "cell_type": "code",
   "execution_count": 24,
   "id": "4ebf76ea",
   "metadata": {
    "scrolled": true
   },
   "outputs": [
    {
     "data": {
      "text/html": [
       "<div>\n",
       "<style scoped>\n",
       "    .dataframe tbody tr th:only-of-type {\n",
       "        vertical-align: middle;\n",
       "    }\n",
       "\n",
       "    .dataframe tbody tr th {\n",
       "        vertical-align: top;\n",
       "    }\n",
       "\n",
       "    .dataframe thead th {\n",
       "        text-align: right;\n",
       "    }\n",
       "</style>\n",
       "<table border=\"1\" class=\"dataframe\">\n",
       "  <thead>\n",
       "    <tr style=\"text-align: right;\">\n",
       "      <th></th>\n",
       "      <th>uid</th>\n",
       "      <th>country</th>\n",
       "      <th>joined_at</th>\n",
       "      <th>paid_at</th>\n",
       "      <th>revenue</th>\n",
       "      <th>payment_id</th>\n",
       "      <th>from_page</th>\n",
       "      <th>product_type</th>\n",
       "    </tr>\n",
       "  </thead>\n",
       "  <tbody>\n",
       "    <tr>\n",
       "      <th>0</th>\n",
       "      <td>891345942</td>\n",
       "      <td>Italy</td>\n",
       "      <td>2017-05-11 13:00:00</td>\n",
       "      <td>2017-11-13 15:04:00</td>\n",
       "      <td>12909</td>\n",
       "      <td>147</td>\n",
       "      <td>trial_vip_popup</td>\n",
       "      <td>trial_premium</td>\n",
       "    </tr>\n",
       "    <tr>\n",
       "      <th>1</th>\n",
       "      <td>892054251</td>\n",
       "      <td>United States of America</td>\n",
       "      <td>2017-10-22 00:33:00</td>\n",
       "      <td>2017-10-30 01:37:00</td>\n",
       "      <td>13923</td>\n",
       "      <td>147</td>\n",
       "      <td>trial_vip_popup</td>\n",
       "      <td>trial_premium</td>\n",
       "    </tr>\n",
       "    <tr>\n",
       "      <th>2</th>\n",
       "      <td>892236423</td>\n",
       "      <td>United States of America</td>\n",
       "      <td>2017-10-18 01:09:00</td>\n",
       "      <td>2017-10-23 00:15:00</td>\n",
       "      <td>3783</td>\n",
       "      <td>67</td>\n",
       "      <td>menu</td>\n",
       "      <td>other_type</td>\n",
       "    </tr>\n",
       "    <tr>\n",
       "      <th>3</th>\n",
       "      <td>892236423</td>\n",
       "      <td>United States of America</td>\n",
       "      <td>2017-10-18 01:09:00</td>\n",
       "      <td>2017-10-27 22:38:00</td>\n",
       "      <td>3783</td>\n",
       "      <td>67</td>\n",
       "      <td>menu</td>\n",
       "      <td>other_type</td>\n",
       "    </tr>\n",
       "    <tr>\n",
       "      <th>4</th>\n",
       "      <td>892168170</td>\n",
       "      <td>United States of America</td>\n",
       "      <td>2017-10-19 17:10:00</td>\n",
       "      <td>2017-10-27 19:10:00</td>\n",
       "      <td>9087</td>\n",
       "      <td>147</td>\n",
       "      <td>trial_vip_popup</td>\n",
       "      <td>trial_premium</td>\n",
       "    </tr>\n",
       "  </tbody>\n",
       "</table>\n",
       "</div>"
      ],
      "text/plain": [
       "         uid                   country           joined_at  \\\n",
       "0  891345942                     Italy 2017-05-11 13:00:00   \n",
       "1  892054251  United States of America 2017-10-22 00:33:00   \n",
       "2  892236423  United States of America 2017-10-18 01:09:00   \n",
       "3  892236423  United States of America 2017-10-18 01:09:00   \n",
       "4  892168170  United States of America 2017-10-19 17:10:00   \n",
       "\n",
       "              paid_at  revenue  payment_id        from_page   product_type  \n",
       "0 2017-11-13 15:04:00    12909         147  trial_vip_popup  trial_premium  \n",
       "1 2017-10-30 01:37:00    13923         147  trial_vip_popup  trial_premium  \n",
       "2 2017-10-23 00:15:00     3783          67             menu     other_type  \n",
       "3 2017-10-27 22:38:00     3783          67             menu     other_type  \n",
       "4 2017-10-27 19:10:00     9087         147  trial_vip_popup  trial_premium  "
      ]
     },
     "execution_count": 24,
     "metadata": {},
     "output_type": "execute_result"
    }
   ],
   "source": [
    "transactions_test.head()"
   ]
  },
  {
   "cell_type": "code",
   "execution_count": 25,
   "id": "429fb1cc",
   "metadata": {},
   "outputs": [
    {
     "data": {
      "text/plain": [
       "uid                      int64\n",
       "country                 object\n",
       "joined_at       datetime64[ns]\n",
       "paid_at         datetime64[ns]\n",
       "revenue                  int64\n",
       "payment_id               int64\n",
       "from_page               object\n",
       "product_type            object\n",
       "dtype: object"
      ]
     },
     "execution_count": 25,
     "metadata": {},
     "output_type": "execute_result"
    }
   ],
   "source": [
    "transactions_test.dtypes"
   ]
  },
  {
   "cell_type": "code",
   "execution_count": 26,
   "id": "bf256d54",
   "metadata": {},
   "outputs": [
    {
     "name": "stdout",
     "output_type": "stream",
     "text": [
      "273 строки и 8 колонок\n",
      "273 строки после удаления строк, содержащих NULL\n",
      "266 строк после удаления дубликатов\n"
     ]
    }
   ],
   "source": [
    "spelling.check_table(transactions_test)"
   ]
  },
  {
   "cell_type": "markdown",
   "id": "48396497",
   "metadata": {},
   "source": [
    "### transactions_control_1"
   ]
  },
  {
   "cell_type": "code",
   "execution_count": 27,
   "id": "bc2a59ba",
   "metadata": {},
   "outputs": [
    {
     "data": {
      "text/html": [
       "<div>\n",
       "<style scoped>\n",
       "    .dataframe tbody tr th:only-of-type {\n",
       "        vertical-align: middle;\n",
       "    }\n",
       "\n",
       "    .dataframe tbody tr th {\n",
       "        vertical-align: top;\n",
       "    }\n",
       "\n",
       "    .dataframe thead th {\n",
       "        text-align: right;\n",
       "    }\n",
       "</style>\n",
       "<table border=\"1\" class=\"dataframe\">\n",
       "  <thead>\n",
       "    <tr style=\"text-align: right;\">\n",
       "      <th></th>\n",
       "      <th>uid</th>\n",
       "      <th>country</th>\n",
       "      <th>joined_at</th>\n",
       "      <th>paid_at</th>\n",
       "      <th>revenue</th>\n",
       "      <th>payment_id</th>\n",
       "      <th>from_page</th>\n",
       "      <th>product_type</th>\n",
       "    </tr>\n",
       "  </thead>\n",
       "  <tbody>\n",
       "    <tr>\n",
       "      <th>0</th>\n",
       "      <td>891319275.0</td>\n",
       "      <td>France</td>\n",
       "      <td>2017-05-11 19:57:00</td>\n",
       "      <td>2017-12-11 21:57:00</td>\n",
       "      <td>12727.0</td>\n",
       "      <td>147.0</td>\n",
       "      <td>trial_vip_popup</td>\n",
       "      <td>trial_premium</td>\n",
       "    </tr>\n",
       "    <tr>\n",
       "      <th>1</th>\n",
       "      <td>892421826.0</td>\n",
       "      <td>Israel</td>\n",
       "      <td>2017-10-14 12:46:00</td>\n",
       "      <td>2017-10-23 12:54:00</td>\n",
       "      <td>14586.0</td>\n",
       "      <td>147.0</td>\n",
       "      <td>trial_vip_popup</td>\n",
       "      <td>trial_premium</td>\n",
       "    </tr>\n",
       "    <tr>\n",
       "      <th>2</th>\n",
       "      <td>891822480.0</td>\n",
       "      <td>Italy</td>\n",
       "      <td>2017-10-26 22:27:00</td>\n",
       "      <td>2017-12-11 20:59:00</td>\n",
       "      <td>1911.0</td>\n",
       "      <td>19.0</td>\n",
       "      <td>none</td>\n",
       "      <td>coins</td>\n",
       "    </tr>\n",
       "    <tr>\n",
       "      <th>3</th>\n",
       "      <td>891367521.0</td>\n",
       "      <td>Italy</td>\n",
       "      <td>2017-05-11 02:37:00</td>\n",
       "      <td>2017-06-11 19:15:00</td>\n",
       "      <td>1456.0</td>\n",
       "      <td>127.0</td>\n",
       "      <td>sympathy</td>\n",
       "      <td>other_type</td>\n",
       "    </tr>\n",
       "    <tr>\n",
       "      <th>4</th>\n",
       "      <td>892207959.0</td>\n",
       "      <td>France</td>\n",
       "      <td>2017-10-18 18:30:00</td>\n",
       "      <td>2017-12-11 12:03:00</td>\n",
       "      <td>1261.0</td>\n",
       "      <td>19.0</td>\n",
       "      <td>empty_likes</td>\n",
       "      <td>coins</td>\n",
       "    </tr>\n",
       "  </tbody>\n",
       "</table>\n",
       "</div>"
      ],
      "text/plain": [
       "           uid country           joined_at             paid_at  revenue  \\\n",
       "0  891319275.0  France 2017-05-11 19:57:00 2017-12-11 21:57:00  12727.0   \n",
       "1  892421826.0  Israel 2017-10-14 12:46:00 2017-10-23 12:54:00  14586.0   \n",
       "2  891822480.0   Italy 2017-10-26 22:27:00 2017-12-11 20:59:00   1911.0   \n",
       "3  891367521.0   Italy 2017-05-11 02:37:00 2017-06-11 19:15:00   1456.0   \n",
       "4  892207959.0  France 2017-10-18 18:30:00 2017-12-11 12:03:00   1261.0   \n",
       "\n",
       "   payment_id        from_page   product_type  \n",
       "0       147.0  trial_vip_popup  trial_premium  \n",
       "1       147.0  trial_vip_popup  trial_premium  \n",
       "2        19.0             none          coins  \n",
       "3       127.0         sympathy     other_type  \n",
       "4        19.0      empty_likes          coins  "
      ]
     },
     "execution_count": 27,
     "metadata": {},
     "output_type": "execute_result"
    }
   ],
   "source": [
    "transactions_control_1.head()"
   ]
  },
  {
   "cell_type": "code",
   "execution_count": 28,
   "id": "067f116e",
   "metadata": {},
   "outputs": [
    {
     "data": {
      "text/plain": [
       "uid                    float64\n",
       "country                 object\n",
       "joined_at       datetime64[ns]\n",
       "paid_at         datetime64[ns]\n",
       "revenue                float64\n",
       "payment_id             float64\n",
       "from_page               object\n",
       "product_type            object\n",
       "dtype: object"
      ]
     },
     "execution_count": 28,
     "metadata": {},
     "output_type": "execute_result"
    }
   ],
   "source": [
    "transactions_control_1.dtypes"
   ]
  },
  {
   "cell_type": "code",
   "execution_count": 29,
   "id": "bd6aef5a",
   "metadata": {},
   "outputs": [
    {
     "name": "stdout",
     "output_type": "stream",
     "text": [
      "1007 строк и 8 колонок\n",
      "377 строк после удаления строк, содержащих NULL\n",
      "357 строк после удаления дубликатов\n"
     ]
    }
   ],
   "source": [
    "spelling.check_table(transactions_control_1)"
   ]
  },
  {
   "cell_type": "markdown",
   "id": "dc513f54",
   "metadata": {},
   "source": [
    "### transactions_control_2"
   ]
  },
  {
   "cell_type": "code",
   "execution_count": 30,
   "id": "bca13a85",
   "metadata": {},
   "outputs": [
    {
     "data": {
      "text/html": [
       "<div>\n",
       "<style scoped>\n",
       "    .dataframe tbody tr th:only-of-type {\n",
       "        vertical-align: middle;\n",
       "    }\n",
       "\n",
       "    .dataframe tbody tr th {\n",
       "        vertical-align: top;\n",
       "    }\n",
       "\n",
       "    .dataframe thead th {\n",
       "        text-align: right;\n",
       "    }\n",
       "</style>\n",
       "<table border=\"1\" class=\"dataframe\">\n",
       "  <thead>\n",
       "    <tr style=\"text-align: right;\">\n",
       "      <th></th>\n",
       "      <th>uid</th>\n",
       "      <th>country</th>\n",
       "      <th>joined_at</th>\n",
       "      <th>paid_at</th>\n",
       "      <th>revenue</th>\n",
       "      <th>payment_id</th>\n",
       "      <th>from_page</th>\n",
       "      <th>product_type</th>\n",
       "    </tr>\n",
       "  </thead>\n",
       "  <tbody>\n",
       "    <tr>\n",
       "      <th>0</th>\n",
       "      <td>891266616</td>\n",
       "      <td>Argentina</td>\n",
       "      <td>2017-06-11 15:25:00</td>\n",
       "      <td>2017-10-11 17:35:00</td>\n",
       "      <td>6305</td>\n",
       "      <td>19</td>\n",
       "      <td>autorefill</td>\n",
       "      <td>coins</td>\n",
       "    </tr>\n",
       "    <tr>\n",
       "      <th>1</th>\n",
       "      <td>892186737</td>\n",
       "      <td>Chile</td>\n",
       "      <td>2017-10-19 06:03:00</td>\n",
       "      <td>2017-04-11 08:53:00</td>\n",
       "      <td>4732</td>\n",
       "      <td>147</td>\n",
       "      <td>promo_09</td>\n",
       "      <td>premium_no_trial</td>\n",
       "    </tr>\n",
       "    <tr>\n",
       "      <th>2</th>\n",
       "      <td>891959004</td>\n",
       "      <td>United States of America</td>\n",
       "      <td>2017-10-24 00:12:00</td>\n",
       "      <td>2017-10-31 02:12:00</td>\n",
       "      <td>10153</td>\n",
       "      <td>147</td>\n",
       "      <td>trial_vip_popup</td>\n",
       "      <td>trial_premium</td>\n",
       "    </tr>\n",
       "    <tr>\n",
       "      <th>3</th>\n",
       "      <td>892115478</td>\n",
       "      <td>Spain</td>\n",
       "      <td>2017-10-20 20:39:00</td>\n",
       "      <td>2017-10-26 06:26:00</td>\n",
       "      <td>2366</td>\n",
       "      <td>67</td>\n",
       "      <td>empty_likes</td>\n",
       "      <td>other_type</td>\n",
       "    </tr>\n",
       "    <tr>\n",
       "      <th>4</th>\n",
       "      <td>891592941</td>\n",
       "      <td>Switzerland</td>\n",
       "      <td>2017-10-31 12:40:00</td>\n",
       "      <td>2017-03-11 16:25:00</td>\n",
       "      <td>6292</td>\n",
       "      <td>147</td>\n",
       "      <td>promo_09</td>\n",
       "      <td>premium_no_trial</td>\n",
       "    </tr>\n",
       "  </tbody>\n",
       "</table>\n",
       "</div>"
      ],
      "text/plain": [
       "         uid                   country           joined_at  \\\n",
       "0  891266616                 Argentina 2017-06-11 15:25:00   \n",
       "1  892186737                     Chile 2017-10-19 06:03:00   \n",
       "2  891959004  United States of America 2017-10-24 00:12:00   \n",
       "3  892115478                     Spain 2017-10-20 20:39:00   \n",
       "4  891592941               Switzerland 2017-10-31 12:40:00   \n",
       "\n",
       "              paid_at  revenue  payment_id        from_page      product_type  \n",
       "0 2017-10-11 17:35:00     6305          19       autorefill             coins  \n",
       "1 2017-04-11 08:53:00     4732         147         promo_09  premium_no_trial  \n",
       "2 2017-10-31 02:12:00    10153         147  trial_vip_popup     trial_premium  \n",
       "3 2017-10-26 06:26:00     2366          67      empty_likes        other_type  \n",
       "4 2017-03-11 16:25:00     6292         147         promo_09  premium_no_trial  "
      ]
     },
     "execution_count": 30,
     "metadata": {},
     "output_type": "execute_result"
    }
   ],
   "source": [
    "transactions_control_2.head()"
   ]
  },
  {
   "cell_type": "code",
   "execution_count": 31,
   "id": "a069a98a",
   "metadata": {
    "scrolled": true
   },
   "outputs": [
    {
     "data": {
      "text/plain": [
       "uid                      int64\n",
       "country                 object\n",
       "joined_at       datetime64[ns]\n",
       "paid_at         datetime64[ns]\n",
       "revenue                  int64\n",
       "payment_id               int64\n",
       "from_page               object\n",
       "product_type            object\n",
       "dtype: object"
      ]
     },
     "execution_count": 31,
     "metadata": {},
     "output_type": "execute_result"
    }
   ],
   "source": [
    "transactions_control_2.dtypes"
   ]
  },
  {
   "cell_type": "code",
   "execution_count": 32,
   "id": "e515f5bd",
   "metadata": {
    "scrolled": false
   },
   "outputs": [
    {
     "name": "stdout",
     "output_type": "stream",
     "text": [
      "328 строк и 8 колонок\n",
      "328 строк после удаления строк, содержащих NULL\n",
      "323 строки после удаления дубликатов\n"
     ]
    }
   ],
   "source": [
    "spelling.check_table(transactions_control_2)"
   ]
  },
  {
   "cell_type": "markdown",
   "id": "d7fe583a",
   "metadata": {},
   "source": [
    "## Создание объектов и функций для удобного доступа к таблицам <a class=\"anchor\" id=\"base_fun\"></a>"
   ]
  },
  {
   "cell_type": "code",
   "execution_count": 33,
   "id": "a67fd1ad",
   "metadata": {},
   "outputs": [],
   "source": [
    "tables = {'test': [users_test, transactions_test],\n",
    "          'control_1': [users_control_1, transactions_control_1],\n",
    "          'control_2': [users_control_2, transactions_control_2]}"
   ]
  },
  {
   "cell_type": "code",
   "execution_count": 34,
   "id": "c4c94946",
   "metadata": {},
   "outputs": [],
   "source": [
    "groups = ['test', 'control_1', 'control_2']"
   ]
  },
  {
   "cell_type": "code",
   "execution_count": 35,
   "id": "c957d909",
   "metadata": {},
   "outputs": [],
   "source": [
    "def get_users_table(group) :\n",
    "    return tables[group][0]\n",
    "\n",
    "def get_transactions_table(group) :\n",
    "    return tables[group][1]\n",
    "\n",
    "def update_tables() :\n",
    "    global tables\n",
    "    tables = {'test': [users_test, transactions_test],\n",
    "              'control_1': [users_control_1, transactions_control_1],\n",
    "              'control_2': [users_control_2, transactions_control_2]}"
   ]
  },
  {
   "cell_type": "markdown",
   "id": "d9c989f3",
   "metadata": {},
   "source": [
    "## Проверка корректности данных по оплатам <a class=\"anchor\" id=\"check_revenue\"></a>\n",
    "\n",
    "Небольшая проверка на согласование данных между таблицами. В данном случае -- равны ли полные суммы покупок."
   ]
  },
  {
   "cell_type": "code",
   "execution_count": 36,
   "id": "af2c5422",
   "metadata": {
    "scrolled": true
   },
   "outputs": [
    {
     "name": "stdout",
     "output_type": "stream",
     "text": [
      "Полные траты пользователей в группе \"test\" составили:\n",
      "2300818 согласно таблице пользователей\n",
      "2344901 согласно таблице транзакций\n",
      "Ошибка равна 1.9 % или 44083\n",
      "----------------------------------------------------\n",
      "Полные траты пользователей в группе \"control_1\" составили:\n",
      "2581267 согласно таблице пользователей\n",
      "2612311.0 согласно таблице транзакций\n",
      "Ошибка равна 1.2 % или 31044.0\n",
      "----------------------------------------------------\n",
      "Полные траты пользователей в группе \"control_2\" составили:\n",
      "1920438 согласно таблице пользователей\n",
      "1920438 согласно таблице транзакций\n",
      "Ошибка равна 0.0 % или 0\n",
      "----------------------------------------------------\n"
     ]
    }
   ],
   "source": [
    "for group_name in groups :\n",
    "    users_table = get_users_table(group_name)\n",
    "    trans_table = get_transactions_table(group_name)\n",
    "    \n",
    "    total_revenue_from_users_table = users_table.total_revenue.sum()\n",
    "    total_revenue_from_trans_table = trans_table.revenue.sum()\n",
    "    \n",
    "    print('Полные траты пользователей в группе \"{}\" составили:'.format(group_name))\n",
    "    print(total_revenue_from_users_table, 'согласно таблице пользователей')\n",
    "    print(total_revenue_from_trans_table, 'согласно таблице транзакций')\n",
    "    print('Ошибка равна',\n",
    "          round(100 * \\\n",
    "                    abs(total_revenue_from_trans_table \\\n",
    "                        - total_revenue_from_users_table) \\\n",
    "                    / total_revenue_from_trans_table,\\\n",
    "                1),\n",
    "          '% или',\n",
    "          abs(total_revenue_from_trans_table - total_revenue_from_users_table))\n",
    "    print('----------------------------------------------------')"
   ]
  },
  {
   "cell_type": "markdown",
   "id": "4a658e00",
   "metadata": {},
   "source": [
    "В двух первых таблицах есть расхождения, ошибка не превышает 2 %. \n",
    "\n",
    "Ответственным за сбор и обработку данных для исследования необходимо будет найти причину такой ошибки и исправить её."
   ]
  },
  {
   "cell_type": "markdown",
   "id": "f21725e0",
   "metadata": {},
   "source": [
    "### Смотрим на uid с несовпадающими значениями суммарных трат в группе `test`"
   ]
  },
  {
   "cell_type": "code",
   "execution_count": 37,
   "id": "eb9d4ea1",
   "metadata": {},
   "outputs": [],
   "source": [
    "def compare_revenue(group_name) :\n",
    "\n",
    "    revenue_users = \\\n",
    "        get_users_table(group_name) \\\n",
    "        [['uid', 'total_revenue']]\n",
    "\n",
    "    revenue_trans = \\\n",
    "        get_transactions_table(group_name) \\\n",
    "        .groupby('uid', as_index = False) \\\n",
    "        .agg({'revenue': 'sum'})\n",
    "\n",
    "    revenue_compare = revenue_users.merge(revenue_trans, on = 'uid', how = 'outer')\n",
    "    revenue_compare = revenue_compare.fillna(value = {'revenue': 0})\n",
    "    revenue_compare['revenue'] = revenue_compare['revenue']\n",
    "\n",
    "    diff = \\\n",
    "        revenue_compare[revenue_compare['revenue'] \\\n",
    "                        != revenue_compare['total_revenue']]\n",
    "\n",
    "    return diff"
   ]
  },
  {
   "cell_type": "code",
   "execution_count": 38,
   "id": "8f772498",
   "metadata": {},
   "outputs": [
    {
     "data": {
      "text/html": [
       "<div>\n",
       "<style scoped>\n",
       "    .dataframe tbody tr th:only-of-type {\n",
       "        vertical-align: middle;\n",
       "    }\n",
       "\n",
       "    .dataframe tbody tr th {\n",
       "        vertical-align: top;\n",
       "    }\n",
       "\n",
       "    .dataframe thead th {\n",
       "        text-align: right;\n",
       "    }\n",
       "</style>\n",
       "<table border=\"1\" class=\"dataframe\">\n",
       "  <thead>\n",
       "    <tr style=\"text-align: right;\">\n",
       "      <th></th>\n",
       "      <th>uid</th>\n",
       "      <th>total_revenue</th>\n",
       "      <th>revenue</th>\n",
       "    </tr>\n",
       "  </thead>\n",
       "  <tbody>\n",
       "    <tr>\n",
       "      <th>2070</th>\n",
       "      <td>892275462</td>\n",
       "      <td>14885</td>\n",
       "      <td>58968.0</td>\n",
       "    </tr>\n",
       "  </tbody>\n",
       "</table>\n",
       "</div>"
      ],
      "text/plain": [
       "            uid  total_revenue  revenue\n",
       "2070  892275462          14885  58968.0"
      ]
     },
     "execution_count": 38,
     "metadata": {},
     "output_type": "execute_result"
    }
   ],
   "source": [
    "diff_test = compare_revenue('test')\n",
    "diff_test"
   ]
  },
  {
   "cell_type": "code",
   "execution_count": 39,
   "id": "859efc1e",
   "metadata": {},
   "outputs": [
    {
     "data": {
      "text/plain": [
       "2070    44083.0\n",
       "dtype: float64"
      ]
     },
     "execution_count": 39,
     "metadata": {},
     "output_type": "execute_result"
    }
   ],
   "source": [
    "abs(diff_test['total_revenue'] - diff_test['revenue'])"
   ]
  },
  {
   "cell_type": "markdown",
   "id": "c4148e6c",
   "metadata": {},
   "source": [
    "Разница между значениями как раз равна общей разнице между полными суммами покупок в двух таблицах.\n",
    "\n",
    "Необходимо исключить данного пользователя для чистоты эксперимента."
   ]
  },
  {
   "cell_type": "markdown",
   "id": "dd546f85",
   "metadata": {},
   "source": [
    "### Смотрим на uid с несовпадающими значениями суммарных трат в группе `control_1`"
   ]
  },
  {
   "cell_type": "code",
   "execution_count": 40,
   "id": "aa7b58a3",
   "metadata": {},
   "outputs": [
    {
     "data": {
      "text/html": [
       "<div>\n",
       "<style scoped>\n",
       "    .dataframe tbody tr th:only-of-type {\n",
       "        vertical-align: middle;\n",
       "    }\n",
       "\n",
       "    .dataframe tbody tr th {\n",
       "        vertical-align: top;\n",
       "    }\n",
       "\n",
       "    .dataframe thead th {\n",
       "        text-align: right;\n",
       "    }\n",
       "</style>\n",
       "<table border=\"1\" class=\"dataframe\">\n",
       "  <thead>\n",
       "    <tr style=\"text-align: right;\">\n",
       "      <th></th>\n",
       "      <th>uid</th>\n",
       "      <th>total_revenue</th>\n",
       "      <th>revenue</th>\n",
       "    </tr>\n",
       "  </thead>\n",
       "  <tbody>\n",
       "    <tr>\n",
       "      <th>510</th>\n",
       "      <td>960936960</td>\n",
       "      <td>26</td>\n",
       "      <td>806.0</td>\n",
       "    </tr>\n",
       "    <tr>\n",
       "      <th>3370</th>\n",
       "      <td>892355163</td>\n",
       "      <td>0</td>\n",
       "      <td>30264.0</td>\n",
       "    </tr>\n",
       "  </tbody>\n",
       "</table>\n",
       "</div>"
      ],
      "text/plain": [
       "            uid  total_revenue  revenue\n",
       "510   960936960             26    806.0\n",
       "3370  892355163              0  30264.0"
      ]
     },
     "execution_count": 40,
     "metadata": {},
     "output_type": "execute_result"
    }
   ],
   "source": [
    "diff_control_1 = compare_revenue('control_1')\n",
    "diff_control_1"
   ]
  },
  {
   "cell_type": "code",
   "execution_count": 41,
   "id": "5d95555f",
   "metadata": {},
   "outputs": [
    {
     "data": {
      "text/plain": [
       "510       780.0\n",
       "3370    30264.0\n",
       "dtype: float64"
      ]
     },
     "execution_count": 41,
     "metadata": {},
     "output_type": "execute_result"
    }
   ],
   "source": [
    "diff_control_1['revenue'] - diff_control_1['total_revenue']"
   ]
  },
  {
   "cell_type": "code",
   "execution_count": 42,
   "id": "c7169730",
   "metadata": {},
   "outputs": [
    {
     "data": {
      "text/plain": [
       "31044.0"
      ]
     },
     "execution_count": 42,
     "metadata": {},
     "output_type": "execute_result"
    }
   ],
   "source": [
    "(diff_control_1['revenue'] - diff_control_1['total_revenue']).sum()"
   ]
  },
  {
   "cell_type": "markdown",
   "id": "d098c385",
   "metadata": {},
   "source": [
    "### Обновляем таблицы"
   ]
  },
  {
   "cell_type": "code",
   "execution_count": 43,
   "id": "7c57d60b",
   "metadata": {},
   "outputs": [
    {
     "data": {
      "text/plain": [
       "892275462"
      ]
     },
     "execution_count": 43,
     "metadata": {},
     "output_type": "execute_result"
    }
   ],
   "source": [
    "diff_test['uid'].item()"
   ]
  },
  {
   "cell_type": "code",
   "execution_count": 44,
   "id": "25e579c5",
   "metadata": {},
   "outputs": [],
   "source": [
    "users_test = users_test[users_test['uid'] != diff_test['uid'].item()]\n",
    "transactions_test = transactions_test[transactions_test['uid'] != diff_test['uid'].item()]"
   ]
  },
  {
   "cell_type": "code",
   "execution_count": 45,
   "id": "fd496e76",
   "metadata": {},
   "outputs": [
    {
     "data": {
      "text/plain": [
       "510     960936960\n",
       "3370    892355163\n",
       "Name: uid, dtype: int64"
      ]
     },
     "execution_count": 45,
     "metadata": {},
     "output_type": "execute_result"
    }
   ],
   "source": [
    "diff_control_1['uid']"
   ]
  },
  {
   "cell_type": "code",
   "execution_count": 46,
   "id": "aea17577",
   "metadata": {},
   "outputs": [],
   "source": [
    "users_control_1 = \\\n",
    "    users_control_1[~users_control_1['uid'].isin(diff_control_1['uid'])]\n",
    "\n",
    "transactions_control_1 = \\\n",
    "    transactions_control_1[~transactions_control_1['uid'].isin(diff_control_1['uid'])]"
   ]
  },
  {
   "cell_type": "code",
   "execution_count": 47,
   "id": "14ab67b6",
   "metadata": {},
   "outputs": [],
   "source": [
    "update_tables()"
   ]
  },
  {
   "cell_type": "markdown",
   "id": "2501331b",
   "metadata": {},
   "source": [
    "## Проверка независимости групп  <a class=\"anchor\" id=\"group_indepencence\"></a>"
   ]
  },
  {
   "cell_type": "code",
   "execution_count": 48,
   "id": "7c4221e5",
   "metadata": {},
   "outputs": [
    {
     "data": {
      "text/plain": [
       "True"
      ]
     },
     "execution_count": 48,
     "metadata": {},
     "output_type": "execute_result"
    }
   ],
   "source": [
    "uids_test = users_test['uid']\n",
    "uids_test.shape[0] == uids_test.nunique()"
   ]
  },
  {
   "cell_type": "code",
   "execution_count": 49,
   "id": "c3342c85",
   "metadata": {},
   "outputs": [
    {
     "data": {
      "text/plain": [
       "True"
      ]
     },
     "execution_count": 49,
     "metadata": {},
     "output_type": "execute_result"
    }
   ],
   "source": [
    "uids_control_1 = users_control_1['uid']\n",
    "uids_control_1.shape[0] == uids_control_1.nunique()"
   ]
  },
  {
   "cell_type": "code",
   "execution_count": 50,
   "id": "f4831636",
   "metadata": {},
   "outputs": [
    {
     "data": {
      "text/plain": [
       "True"
      ]
     },
     "execution_count": 50,
     "metadata": {},
     "output_type": "execute_result"
    }
   ],
   "source": [
    "uids_control_2 = users_control_2['uid']\n",
    "uids_control_2.shape[0] == uids_control_2.nunique()"
   ]
  },
  {
   "cell_type": "code",
   "execution_count": 51,
   "id": "ddc5fbf3",
   "metadata": {},
   "outputs": [
    {
     "name": "stdout",
     "output_type": "stream",
     "text": [
      "True\n",
      "True\n",
      "True\n"
     ]
    }
   ],
   "source": [
    "all_uids = [uids_test.to_frame(), uids_control_1.to_frame(), uids_control_2.to_frame()]\n",
    "N = len(all_uids)\n",
    "\n",
    "for i in range(N) :\n",
    "    print(all_uids[i].merge(all_uids[(i + 1) % N], on = 'uid', how = 'inner').shape[0] == 0)"
   ]
  },
  {
   "cell_type": "markdown",
   "id": "7ec3c931",
   "metadata": {},
   "source": [
    "## Объединяем данные в большие таблицы <a class=\"anchor\" id=\"get_big_tables\"></a>"
   ]
  },
  {
   "cell_type": "code",
   "execution_count": 52,
   "id": "4a6397b1",
   "metadata": {},
   "outputs": [],
   "source": [
    "def create_big_table(group_name) :\n",
    "    big_table = \\\n",
    "        get_transactions_table(group_name) \\\n",
    "        .merge(get_users_table(group_name).drop(['country'], axis = 1),\n",
    "               on = 'uid',\n",
    "               how = 'outer')\n",
    "    \n",
    "    return big_table"
   ]
  },
  {
   "cell_type": "code",
   "execution_count": 53,
   "id": "ac176018",
   "metadata": {},
   "outputs": [],
   "source": [
    "def create_big_tables() :\n",
    "    big_tables = {}\n",
    "\n",
    "    for group_name in groups :\n",
    "        big_tables = big_tables | {group_name : create_big_table(group_name)}\n",
    "    return big_tables"
   ]
  },
  {
   "cell_type": "markdown",
   "id": "2cd527d8",
   "metadata": {},
   "source": [
    "Создаём объект для хранения больших таблиц с обновлёнными данными:"
   ]
  },
  {
   "cell_type": "code",
   "execution_count": 54,
   "id": "4dea1e18",
   "metadata": {},
   "outputs": [],
   "source": [
    "big_tables = create_big_tables()"
   ]
  },
  {
   "cell_type": "code",
   "execution_count": 55,
   "id": "3c43b223",
   "metadata": {},
   "outputs": [],
   "source": [
    "def update_big_tables() :\n",
    "    global big_tables\n",
    "    big_tables = create_big_tables()"
   ]
  },
  {
   "cell_type": "code",
   "execution_count": 56,
   "id": "c19b8989",
   "metadata": {},
   "outputs": [],
   "source": [
    "products = ['trial_premium', 'premium_no_trial', 'coins', 'other_type']"
   ]
  },
  {
   "cell_type": "markdown",
   "id": "344bd023",
   "metadata": {},
   "source": [
    "# Исследование данных <a class=\"anchor\" id=\"research\"></a>"
   ]
  },
  {
   "cell_type": "markdown",
   "id": "90183cf9",
   "metadata": {},
   "source": [
    "## Построение таблицы с метриками <a class=\"anchor\" id=\"main_table\"></a>"
   ]
  },
  {
   "cell_type": "code",
   "execution_count": 57,
   "id": "a2315503",
   "metadata": {},
   "outputs": [
    {
     "data": {
      "text/html": [
       "<div>\n",
       "<style scoped>\n",
       "    .dataframe tbody tr th:only-of-type {\n",
       "        vertical-align: middle;\n",
       "    }\n",
       "\n",
       "    .dataframe tbody tr th {\n",
       "        vertical-align: top;\n",
       "    }\n",
       "\n",
       "    .dataframe thead th {\n",
       "        text-align: right;\n",
       "    }\n",
       "</style>\n",
       "<table border=\"1\" class=\"dataframe\">\n",
       "  <thead>\n",
       "    <tr style=\"text-align: right;\">\n",
       "      <th></th>\n",
       "      <th>users</th>\n",
       "      <th>c1</th>\n",
       "      <th>buyers</th>\n",
       "      <th>RPR</th>\n",
       "      <th>orders</th>\n",
       "      <th>AP</th>\n",
       "      <th>revenue</th>\n",
       "      <th>RB</th>\n",
       "      <th>RU</th>\n",
       "    </tr>\n",
       "  </thead>\n",
       "  <tbody>\n",
       "    <tr>\n",
       "      <th>test</th>\n",
       "      <td>4307</td>\n",
       "      <td>0.0337</td>\n",
       "      <td>145</td>\n",
       "      <td>1.8690</td>\n",
       "      <td>271</td>\n",
       "      <td>8435.02</td>\n",
       "      <td>2285933.0</td>\n",
       "      <td>15765.06</td>\n",
       "      <td>530.75</td>\n",
       "    </tr>\n",
       "    <tr>\n",
       "      <th>control_1</th>\n",
       "      <td>4338</td>\n",
       "      <td>0.0440</td>\n",
       "      <td>191</td>\n",
       "      <td>1.9529</td>\n",
       "      <td>373</td>\n",
       "      <td>6920.14</td>\n",
       "      <td>2581241.0</td>\n",
       "      <td>13514.35</td>\n",
       "      <td>595.03</td>\n",
       "    </tr>\n",
       "    <tr>\n",
       "      <th>control_2</th>\n",
       "      <td>4264</td>\n",
       "      <td>0.0439</td>\n",
       "      <td>187</td>\n",
       "      <td>1.7540</td>\n",
       "      <td>328</td>\n",
       "      <td>5855.03</td>\n",
       "      <td>1920438.0</td>\n",
       "      <td>10269.72</td>\n",
       "      <td>450.38</td>\n",
       "    </tr>\n",
       "  </tbody>\n",
       "</table>\n",
       "</div>"
      ],
      "text/plain": [
       "           users      c1  buyers     RPR  orders       AP    revenue  \\\n",
       "test        4307  0.0337     145  1.8690     271  8435.02  2285933.0   \n",
       "control_1   4338  0.0440     191  1.9529     373  6920.14  2581241.0   \n",
       "control_2   4264  0.0439     187  1.7540     328  5855.03  1920438.0   \n",
       "\n",
       "                 RB      RU  \n",
       "test       15765.06  530.75  \n",
       "control_1  13514.35  595.03  \n",
       "control_2  10269.72  450.38  "
      ]
     },
     "execution_count": 57,
     "metadata": {},
     "output_type": "execute_result"
    }
   ],
   "source": [
    "listof_df = []\n",
    "\n",
    "# pair = [users_table, transactions_table]\n",
    "for group_name in groups :\n",
    "    users_table = get_users_table(group_name)\n",
    "    transactions_table = get_transactions_table(group_name)\n",
    "    \n",
    "    users = users_table['uid'].nunique()\n",
    "    buyers = users_table.query(\"total_revenue > 0\")[\"uid\"].nunique()\n",
    "    c1 = round(buyers / users, 4)\n",
    "    revenue = transactions_table.revenue.sum()\n",
    "    RB = round(revenue / buyers, 2)\n",
    "    RU = round(revenue / users, 2)\n",
    "    orders = transactions_table['payment_id'].count()\n",
    "    RPR = round(orders / buyers, 4)\n",
    "    AP = round(RB / RPR, 2)\n",
    "    \n",
    "    listof_df.append(pd.DataFrame(index = [group_name],\n",
    "                                  data = {'users' : users,\n",
    "                                          'c1' : c1,\n",
    "                                          'buyers' : buyers,\n",
    "                                          'RPR' : RPR,\n",
    "                                          'orders' : orders,\n",
    "                                          'AP' : AP,\n",
    "                                          'revenue' : revenue,\n",
    "                                          'RB' : RB,\n",
    "                                          'RU' : RU}))\n",
    "\n",
    "metrics_table = pd.concat(listof_df)\n",
    "metrics_table"
   ]
  },
  {
   "cell_type": "markdown",
   "id": "facc4004",
   "metadata": {},
   "source": [
    "## Сравнение основных метрик <a class=\"anchor\" id=\"compare_metrics\"></a>"
   ]
  },
  {
   "cell_type": "markdown",
   "id": "09226068",
   "metadata": {},
   "source": [
    "### Различия в C1 между группами"
   ]
  },
  {
   "cell_type": "markdown",
   "id": "6bef880b",
   "metadata": {},
   "source": [
    "Строим таблицу и графики для сравнения количества (относительного) оплативших в разных группах:"
   ]
  },
  {
   "cell_type": "code",
   "execution_count": 58,
   "id": "7330c4f6",
   "metadata": {},
   "outputs": [],
   "source": [
    "base_c1 = metrics_table.loc['test', 'c1']\n",
    "metrics_table['c1_change'] = round(metrics_table['c1'] / base_c1, 2)"
   ]
  },
  {
   "cell_type": "code",
   "execution_count": 59,
   "id": "28c3d8d2",
   "metadata": {
    "scrolled": true
   },
   "outputs": [
    {
     "data": {
      "text/html": [
       "<div>\n",
       "<style scoped>\n",
       "    .dataframe tbody tr th:only-of-type {\n",
       "        vertical-align: middle;\n",
       "    }\n",
       "\n",
       "    .dataframe tbody tr th {\n",
       "        vertical-align: top;\n",
       "    }\n",
       "\n",
       "    .dataframe thead th {\n",
       "        text-align: right;\n",
       "    }\n",
       "</style>\n",
       "<table border=\"1\" class=\"dataframe\">\n",
       "  <thead>\n",
       "    <tr style=\"text-align: right;\">\n",
       "      <th></th>\n",
       "      <th>c1</th>\n",
       "      <th>c1_change</th>\n",
       "    </tr>\n",
       "  </thead>\n",
       "  <tbody>\n",
       "    <tr>\n",
       "      <th>test</th>\n",
       "      <td>0.0337</td>\n",
       "      <td>1.00</td>\n",
       "    </tr>\n",
       "    <tr>\n",
       "      <th>control_1</th>\n",
       "      <td>0.0440</td>\n",
       "      <td>1.31</td>\n",
       "    </tr>\n",
       "    <tr>\n",
       "      <th>control_2</th>\n",
       "      <td>0.0439</td>\n",
       "      <td>1.30</td>\n",
       "    </tr>\n",
       "  </tbody>\n",
       "</table>\n",
       "</div>"
      ],
      "text/plain": [
       "               c1  c1_change\n",
       "test       0.0337       1.00\n",
       "control_1  0.0440       1.31\n",
       "control_2  0.0439       1.30"
      ]
     },
     "execution_count": 59,
     "metadata": {},
     "output_type": "execute_result"
    }
   ],
   "source": [
    "metrics_table[['c1', 'c1_change']]"
   ]
  },
  {
   "cell_type": "markdown",
   "id": "096cc6e3",
   "metadata": {},
   "source": [
    "Видно, что доля оплативших в обоих контрольных группах примерно на 30 % больше, чем в тестовой."
   ]
  },
  {
   "cell_type": "markdown",
   "id": "2f8865a3",
   "metadata": {},
   "source": [
    "## Общая функция для характеризации покупок заданного продукта <a class=\"anchor\" id=\"product_purchases_fun\"></a>\n",
    "\n",
    "Создаёт таблицу, где для каждого `uid` вычислены:\n",
    "- количество покупок заданного продукта,\n",
    "- сумма затрат на покупки.\n",
    "\n",
    "На вход принимается таблица с информацией о транзакциях -- например,`test` или `transactions_test`."
   ]
  },
  {
   "cell_type": "code",
   "execution_count": 60,
   "id": "3a90d7e8",
   "metadata": {},
   "outputs": [],
   "source": [
    "def product_purchases(group_name, product_type = 'all') :\n",
    "    \"\"\"\n",
    "    @product_type принимает значения из @products = ['trial_premium', 'premium_no_trial', 'coins', 'other_type'].\n",
    "    Для объединения данных для всех продуктов из списка, нужно вводить значение 'all'.\n",
    "    \"\"\"\n",
    "    table = big_tables[group_name]\n",
    "    if (product_type != 'all') :\n",
    "        table = table.query(\"product_type == @product_type\")\n",
    "    \n",
    "    df = table \\\n",
    "        .groupby(['uid'], as_index = False) \\\n",
    "        .agg({'paid_at' : 'count', 'revenue' : 'sum'}) \\\n",
    "        .rename(columns = {'paid_at' : 'purchases'}) \\\n",
    "        .sort_values(by = 'purchases', ascending = False) \\\n",
    "        .reset_index(drop = True)\n",
    "    \n",
    "    users_table = get_users_table(group_name)\n",
    "    \n",
    "    df = df \\\n",
    "        .merge(users_table[['uid', 'gender', 'age', 'attraction_coeff', 'country']],\n",
    "               on = 'uid',\n",
    "               how = 'left')\n",
    "    \n",
    "    return df"
   ]
  },
  {
   "cell_type": "markdown",
   "id": "9d0c7be0",
   "metadata": {},
   "source": [
    "## Смотрим на половое разнообразие <a class=\"anchor\" id=\"gender_distr\"></a>"
   ]
  },
  {
   "cell_type": "code",
   "execution_count": 61,
   "id": "4ffcf772",
   "metadata": {},
   "outputs": [],
   "source": [
    "listof_df = []\n",
    "\n",
    "for group_name in groups :\n",
    "    df = product_purchases(group_name, 'all')\n",
    "    df['group'] = group_name\n",
    "    df['gender'] = pd.Categorical(df['gender'], ordered = True)\n",
    "    df['uid'] = df['uid'].astype('int64')\n",
    "    listof_df.append(df)\n",
    "    \n",
    "purchases = pd.concat(listof_df, axis = 0)"
   ]
  },
  {
   "cell_type": "code",
   "execution_count": 62,
   "id": "6c812a2d",
   "metadata": {
    "scrolled": true
   },
   "outputs": [
    {
     "data": {
      "image/png": "[encoded data removed]",
      "text/plain": [
       "<Figure size 1080x360 with 3 Axes>"
      ]
     },
     "metadata": {
      "needs_background": "light"
     },
     "output_type": "display_data"
    }
   ],
   "source": [
    "plt.figure(figsize = (15, 5)) # ширина, высота полотна\n",
    "\n",
    "plt.subplot(1, 3, 1)\n",
    "plt.title('Тестовая группа', fontsize = 12)\n",
    "sns.histplot(data = purchases.query(\"group == 'test'\"), x = 'gender', stat = 'percent')\n",
    "\n",
    "plt.subplot(1, 3, 2)\n",
    "plt.title('Контрольная группа 1', fontsize = 12)\n",
    "sns.histplot(data = purchases.query(\"group == 'control_1'\"), x = 'gender', stat = 'percent')\n",
    "\n",
    "plt.subplot(1, 3, 3)\n",
    "plt.title('Контрольная группа 2', fontsize = 12)\n",
    "sns.histplot(data = purchases.query(\"group == 'control_2'\"), x = 'gender', stat = 'percent')\n",
    "\n",
    "plt.show()"
   ]
  },
  {
   "cell_type": "markdown",
   "id": "ca3c9ccb",
   "metadata": {},
   "source": [
    "**Вывод:** дисбаланса по полу между группами нет. Очень малое количество пользователей пола '0', по сравнению с противоположным."
   ]
  },
  {
   "cell_type": "markdown",
   "id": "0fbcebe7",
   "metadata": {},
   "source": [
    "## Выявление повторных покупок премиум-подписок <a class=\"anchor\" id=\"repeat_purchase_prem\"></a>"
   ]
  },
  {
   "cell_type": "markdown",
   "id": "f1d29d57",
   "metadata": {},
   "source": [
    "### Пробная подписка (`trial_premium`)"
   ]
  },
  {
   "cell_type": "code",
   "execution_count": 63,
   "id": "be5bea15",
   "metadata": {},
   "outputs": [
    {
     "data": {
      "text/plain": [
       "1    60\n",
       "2     1\n",
       "Name: purchases, dtype: int64"
      ]
     },
     "execution_count": 63,
     "metadata": {},
     "output_type": "execute_result"
    }
   ],
   "source": [
    "trial_premium_purchases_test = product_purchases('test', 'trial_premium')\n",
    "\n",
    "trial_premium_purchases_test['purchases'].value_counts()"
   ]
  },
  {
   "cell_type": "code",
   "execution_count": 64,
   "id": "f75aaf9c",
   "metadata": {},
   "outputs": [
    {
     "data": {
      "text/plain": [
       "0    891297711\n",
       "Name: uid, dtype: int64"
      ]
     },
     "execution_count": 64,
     "metadata": {},
     "output_type": "execute_result"
    }
   ],
   "source": [
    "trial_premium_purchases_test.head(1)['uid']"
   ]
  },
  {
   "cell_type": "code",
   "execution_count": 65,
   "id": "44f8f39b",
   "metadata": {},
   "outputs": [
    {
     "data": {
      "text/plain": [
       "1    67\n",
       "Name: purchases, dtype: int64"
      ]
     },
     "execution_count": 65,
     "metadata": {},
     "output_type": "execute_result"
    }
   ],
   "source": [
    "trial_premium_purchases_control_1 = product_purchases('control_1', 'trial_premium')\n",
    "\n",
    "trial_premium_purchases_control_1['purchases'].value_counts()"
   ]
  },
  {
   "cell_type": "code",
   "execution_count": 66,
   "id": "505fcf18",
   "metadata": {},
   "outputs": [
    {
     "data": {
      "text/plain": [
       "1    53\n",
       "Name: purchases, dtype: int64"
      ]
     },
     "execution_count": 66,
     "metadata": {},
     "output_type": "execute_result"
    }
   ],
   "source": [
    "trial_premium_purchases_control_2 = product_purchases('control_2', 'trial_premium')\n",
    "\n",
    "trial_premium_purchases_control_2['purchases'].value_counts()"
   ]
  },
  {
   "cell_type": "markdown",
   "id": "70f211d3",
   "metadata": {},
   "source": [
    "Лишь в одном случае (для одного пользователя) мы видим повторную покупку пробной подписки, когда человек отменил подписку и потом снова её купил."
   ]
  },
  {
   "cell_type": "markdown",
   "id": "2d60b2e2",
   "metadata": {},
   "source": [
    "### Обычная подписка (`premium_no_trial`)"
   ]
  },
  {
   "cell_type": "code",
   "execution_count": 67,
   "id": "38004780",
   "metadata": {},
   "outputs": [
    {
     "data": {
      "text/plain": [
       "1    61\n",
       "3     3\n",
       "2     3\n",
       "Name: purchases, dtype: int64"
      ]
     },
     "execution_count": 67,
     "metadata": {},
     "output_type": "execute_result"
    }
   ],
   "source": [
    "premium_no_trial_purchases_test = product_purchases('test', 'premium_no_trial')\n",
    "\n",
    "premium_no_trial_purchases_test['purchases'].value_counts()"
   ]
  },
  {
   "cell_type": "code",
   "execution_count": 68,
   "id": "0c1af3aa",
   "metadata": {},
   "outputs": [
    {
     "data": {
      "text/plain": [
       "1    92\n",
       "2     7\n",
       "Name: purchases, dtype: int64"
      ]
     },
     "execution_count": 68,
     "metadata": {},
     "output_type": "execute_result"
    }
   ],
   "source": [
    "premium_no_trial_purchases_control_1 = product_purchases('control_1', 'premium_no_trial')\n",
    "\n",
    "premium_no_trial_purchases_control_1['purchases'].value_counts()"
   ]
  },
  {
   "cell_type": "code",
   "execution_count": 69,
   "id": "02a374a9",
   "metadata": {
    "scrolled": true
   },
   "outputs": [
    {
     "data": {
      "text/plain": [
       "1    98\n",
       "2     3\n",
       "3     1\n",
       "Name: purchases, dtype: int64"
      ]
     },
     "execution_count": 69,
     "metadata": {},
     "output_type": "execute_result"
    }
   ],
   "source": [
    "premium_no_trial_purchases_control_2 = product_purchases('control_2', 'premium_no_trial')\n",
    "\n",
    "premium_no_trial_purchases_control_2['purchases'].value_counts()"
   ]
  },
  {
   "cell_type": "markdown",
   "id": "b6f23476",
   "metadata": {},
   "source": [
    "**Вывод:** видно абсолютное увеличение количества покупок обычной подписки."
   ]
  },
  {
   "cell_type": "markdown",
   "id": "d902a2a2",
   "metadata": {},
   "source": [
    "### Выявление покупок разных типов подписок\n",
    "\n",
    "Для начала попробуем выяснить, есть ли те, кто покупал обе этих подписки.\n",
    "\n",
    "У нас уже есть список `uid`, которые купили пробную подписку:\n",
    "```python\n",
    "trial_premium_purchases_test['uid']\n",
    "trial_premium_purchases_control_1['uid']\n",
    "trial_premium_purchases_control_1['uid']\n",
    "```\n",
    "и которые купили обычную подписку:\n",
    "```python\n",
    "premium_no_trial_purchases_test['uid']\n",
    "premium_no_trial_purchases_control_1['uid']\n",
    "premium_no_trial_purchases_control_1['uid']\n",
    "```\n",
    "\n",
    "Выявим пересечения."
   ]
  },
  {
   "cell_type": "code",
   "execution_count": 70,
   "id": "be576da7",
   "metadata": {},
   "outputs": [
    {
     "data": {
      "text/html": [
       "<div>\n",
       "<style scoped>\n",
       "    .dataframe tbody tr th:only-of-type {\n",
       "        vertical-align: middle;\n",
       "    }\n",
       "\n",
       "    .dataframe tbody tr th {\n",
       "        vertical-align: top;\n",
       "    }\n",
       "\n",
       "    .dataframe thead th {\n",
       "        text-align: right;\n",
       "    }\n",
       "</style>\n",
       "<table border=\"1\" class=\"dataframe\">\n",
       "  <thead>\n",
       "    <tr style=\"text-align: right;\">\n",
       "      <th></th>\n",
       "      <th>uid</th>\n",
       "    </tr>\n",
       "  </thead>\n",
       "  <tbody>\n",
       "    <tr>\n",
       "      <th>0</th>\n",
       "      <td>892065108</td>\n",
       "    </tr>\n",
       "  </tbody>\n",
       "</table>\n",
       "</div>"
      ],
      "text/plain": [
       "         uid\n",
       "0  892065108"
      ]
     },
     "execution_count": 70,
     "metadata": {},
     "output_type": "execute_result"
    }
   ],
   "source": [
    "trial_premium_purchases_test['uid'].to_frame() \\\n",
    "    .merge(premium_no_trial_purchases_test['uid'].to_frame(),\n",
    "           on = 'uid',\n",
    "           how = 'inner')"
   ]
  },
  {
   "cell_type": "markdown",
   "id": "96e0eb27",
   "metadata": {},
   "source": [
    "Здесь лишь одно пересечение, при этом это не тот же `uid = 891297711`, который дважды приобретал пробную подписку."
   ]
  },
  {
   "cell_type": "code",
   "execution_count": 71,
   "id": "93209500",
   "metadata": {},
   "outputs": [
    {
     "data": {
      "text/html": [
       "<div>\n",
       "<style scoped>\n",
       "    .dataframe tbody tr th:only-of-type {\n",
       "        vertical-align: middle;\n",
       "    }\n",
       "\n",
       "    .dataframe tbody tr th {\n",
       "        vertical-align: top;\n",
       "    }\n",
       "\n",
       "    .dataframe thead th {\n",
       "        text-align: right;\n",
       "    }\n",
       "</style>\n",
       "<table border=\"1\" class=\"dataframe\">\n",
       "  <thead>\n",
       "    <tr style=\"text-align: right;\">\n",
       "      <th></th>\n",
       "      <th>uid</th>\n",
       "    </tr>\n",
       "  </thead>\n",
       "  <tbody>\n",
       "  </tbody>\n",
       "</table>\n",
       "</div>"
      ],
      "text/plain": [
       "Empty DataFrame\n",
       "Columns: [uid]\n",
       "Index: []"
      ]
     },
     "execution_count": 71,
     "metadata": {},
     "output_type": "execute_result"
    }
   ],
   "source": [
    "trial_premium_purchases_control_1['uid'].to_frame() \\\n",
    "    .merge(premium_no_trial_purchases_control_1['uid'].to_frame(),\n",
    "           on = 'uid',\n",
    "           how = 'inner')"
   ]
  },
  {
   "cell_type": "code",
   "execution_count": 72,
   "id": "eb4bb7f6",
   "metadata": {},
   "outputs": [
    {
     "data": {
      "text/html": [
       "<div>\n",
       "<style scoped>\n",
       "    .dataframe tbody tr th:only-of-type {\n",
       "        vertical-align: middle;\n",
       "    }\n",
       "\n",
       "    .dataframe tbody tr th {\n",
       "        vertical-align: top;\n",
       "    }\n",
       "\n",
       "    .dataframe thead th {\n",
       "        text-align: right;\n",
       "    }\n",
       "</style>\n",
       "<table border=\"1\" class=\"dataframe\">\n",
       "  <thead>\n",
       "    <tr style=\"text-align: right;\">\n",
       "      <th></th>\n",
       "      <th>uid</th>\n",
       "    </tr>\n",
       "  </thead>\n",
       "  <tbody>\n",
       "  </tbody>\n",
       "</table>\n",
       "</div>"
      ],
      "text/plain": [
       "Empty DataFrame\n",
       "Columns: [uid]\n",
       "Index: []"
      ]
     },
     "execution_count": 72,
     "metadata": {},
     "output_type": "execute_result"
    }
   ],
   "source": [
    "trial_premium_purchases_control_2['uid'].to_frame() \\\n",
    "    .merge(premium_no_trial_purchases_control_2['uid'].to_frame(),\n",
    "           on = 'uid',\n",
    "           how = 'inner')"
   ]
  },
  {
   "cell_type": "markdown",
   "id": "5de589cf",
   "metadata": {},
   "source": [
    "**Вывод:** как для повторных покупок пробной подписки, так и для покупок разных типов подписки, встречается лишь по одному `uid`. В силу малости по сравнению с остальной выборкой, эти случаи можно не рассматривать отдельно."
   ]
  },
  {
   "cell_type": "markdown",
   "id": "f43fe33c",
   "metadata": {},
   "source": [
    "## Общие групповые различия расходов <a class=\"anchor\" id=\"diff_revenue\"></a>"
   ]
  },
  {
   "cell_type": "code",
   "execution_count": 73,
   "id": "0204071e",
   "metadata": {},
   "outputs": [],
   "source": [
    "def divide_with_precaution(num, den) :\n",
    "    return (num / den) if (den != 0) else 0"
   ]
  },
  {
   "cell_type": "code",
   "execution_count": 74,
   "id": "0bff621e",
   "metadata": {},
   "outputs": [],
   "source": [
    "def product_sales(product_type, gender = 'all', country = 'all') :\n",
    "    listof_rows = []\n",
    "\n",
    "    for group_name in groups :\n",
    "        big_table = big_tables[group_name]\n",
    "        users_table = get_users_table(group_name)\n",
    "        \n",
    "        # Полное количество людей в группе, купивших данный продукт (БЕЗ фильтрафии по параметрам)\n",
    "        buyers_all = big_table.query(\"revenue > 0 & (product_type == @product_type)\")['uid'].nunique()\n",
    "        \n",
    "        if (gender != 'all') :\n",
    "            big_table = big_table.query(\"gender == @gender\")\n",
    "            users_table = users_table.query(\"gender == @gender\")\n",
    "      \n",
    "        if (country != 'all') :\n",
    "            big_table = big_table.query(\"country == @country\")\n",
    "            users_table = users_table.query(\"country == @country\")\n",
    "\n",
    "        ## Для входящих в данную группу людей с заданными параметрами:\n",
    "        users = big_table['uid'].nunique()\n",
    "        # Количество людей, купившие ДАННЫЙ ПРОДУКТ\n",
    "        buyers = big_table.query(\"(revenue > 0) & (product_type == @product_type)\")['uid'].nunique()\n",
    "        # Полная сумма всех покупок ДАННОГО ПРОДУКТА\n",
    "        revenue = big_table.query(\"(revenue > 0) & (product_type == @product_type)\")['revenue'].sum()\n",
    "        # Количество людей, совершивших хотя бы одну покупку ЛЮБОГО ПРОДУКТА\n",
    "        buyers_all_products = users_table.query(\"total_revenue > 0\")['uid'].nunique()\n",
    "        # Полная сумма всех покупок (по ВСЕМ ПРОДУКТАМ)\n",
    "        revenue_all_products = users_table.query(\"total_revenue > 0\")['total_revenue'].sum()        \n",
    "        \n",
    "\n",
    "        c1 = round(divide_with_precaution(buyers, users), 4)\n",
    "        # Какая доля покупателей в данной группе имеет такие пол и страну:\n",
    "        buyers_rel = round(divide_with_precaution(buyers, buyers_all), 2)\n",
    "        # Какая доля покупателей (с заданными параметрами и из в данной группы) купила именно этот продукт:\n",
    "        buyers_this_product_rel = round(divide_with_precaution(buyers, buyers_all_products), 2)\n",
    "        # average revenue per buyer\n",
    "        RB = round(divide_with_precaution(revenue, buyers), 2)\n",
    "        # average revenue per user\n",
    "        RU = round(divide_with_precaution(revenue, users), 2)\n",
    "        revenue_rel = round(divide_with_precaution(revenue, revenue_all_products), 2)\n",
    "        \n",
    "        data = {'users' : users,\n",
    "                'c1' : c1,\n",
    "                'buyers' : buyers,\n",
    "                'buyers_rel' : buyers_rel,\n",
    "                'buyers_this_product_rel' : buyers_this_product_rel,\n",
    "                'revenue' : revenue,\n",
    "                'revenue_rel' : revenue_rel,\n",
    "                'RB' : RB,\n",
    "                'RU' : RU}\n",
    "\n",
    "        table_row = pd.DataFrame(index = [group_name], data = data)\n",
    "        listof_rows.append(table_row)\n",
    "        \n",
    "    summary = pd.concat(listof_rows, axis = 0)\n",
    "    summary.name = product_type\n",
    "\n",
    "    return summary"
   ]
  },
  {
   "cell_type": "code",
   "execution_count": 75,
   "id": "fd86c5e3",
   "metadata": {},
   "outputs": [
    {
     "data": {
      "text/html": [
       "<div>\n",
       "<style scoped>\n",
       "    .dataframe tbody tr th:only-of-type {\n",
       "        vertical-align: middle;\n",
       "    }\n",
       "\n",
       "    .dataframe tbody tr th {\n",
       "        vertical-align: top;\n",
       "    }\n",
       "\n",
       "    .dataframe thead th {\n",
       "        text-align: right;\n",
       "    }\n",
       "</style>\n",
       "<table border=\"1\" class=\"dataframe\">\n",
       "  <thead>\n",
       "    <tr style=\"text-align: right;\">\n",
       "      <th></th>\n",
       "      <th>users</th>\n",
       "      <th>c1</th>\n",
       "      <th>buyers</th>\n",
       "      <th>buyers_rel</th>\n",
       "      <th>buyers_this_product_rel</th>\n",
       "      <th>revenue</th>\n",
       "      <th>revenue_rel</th>\n",
       "      <th>RB</th>\n",
       "      <th>RU</th>\n",
       "    </tr>\n",
       "  </thead>\n",
       "  <tbody>\n",
       "    <tr>\n",
       "      <th>test</th>\n",
       "      <td>4307</td>\n",
       "      <td>0.0142</td>\n",
       "      <td>61</td>\n",
       "      <td>1.0</td>\n",
       "      <td>0.42</td>\n",
       "      <td>800202.0</td>\n",
       "      <td>0.35</td>\n",
       "      <td>13118.07</td>\n",
       "      <td>185.79</td>\n",
       "    </tr>\n",
       "    <tr>\n",
       "      <th>control_1</th>\n",
       "      <td>4338</td>\n",
       "      <td>0.0154</td>\n",
       "      <td>67</td>\n",
       "      <td>1.0</td>\n",
       "      <td>0.35</td>\n",
       "      <td>772720.0</td>\n",
       "      <td>0.30</td>\n",
       "      <td>11533.13</td>\n",
       "      <td>178.13</td>\n",
       "    </tr>\n",
       "    <tr>\n",
       "      <th>control_2</th>\n",
       "      <td>4264</td>\n",
       "      <td>0.0124</td>\n",
       "      <td>53</td>\n",
       "      <td>1.0</td>\n",
       "      <td>0.28</td>\n",
       "      <td>643981.0</td>\n",
       "      <td>0.34</td>\n",
       "      <td>12150.58</td>\n",
       "      <td>151.03</td>\n",
       "    </tr>\n",
       "  </tbody>\n",
       "</table>\n",
       "</div>"
      ],
      "text/plain": [
       "           users      c1  buyers  buyers_rel  buyers_this_product_rel  \\\n",
       "test        4307  0.0142      61         1.0                     0.42   \n",
       "control_1   4338  0.0154      67         1.0                     0.35   \n",
       "control_2   4264  0.0124      53         1.0                     0.28   \n",
       "\n",
       "            revenue  revenue_rel        RB      RU  \n",
       "test       800202.0         0.35  13118.07  185.79  \n",
       "control_1  772720.0         0.30  11533.13  178.13  \n",
       "control_2  643981.0         0.34  12150.58  151.03  "
      ]
     },
     "execution_count": 75,
     "metadata": {},
     "output_type": "execute_result"
    }
   ],
   "source": [
    "sales_trial_premium = product_sales('trial_premium')\n",
    "sales_trial_premium"
   ]
  },
  {
   "cell_type": "markdown",
   "id": "69a9a882",
   "metadata": {},
   "source": [
    "Для пробной версии премиум подписки:\n",
    "- уменьшилась доля покупателей (`buyers_this_product_rel`),\n",
    "- уменьшилась доля прибыли от этих продаж (`revenue_rel`),\n",
    "- уменьшилась средняя сумма общих расходов от одного пользователя (`RU`).\n",
    "\n",
    "\\* Параметр `buyers_rel` говорит о том, какую долю от всех пользователей составляют пользователи с указанными полом и страной (в данном подразделе мы такого разделения не проводим, поэтому эта величина везде равна 1)"
   ]
  },
  {
   "cell_type": "code",
   "execution_count": 76,
   "id": "97f6687d",
   "metadata": {
    "scrolled": true
   },
   "outputs": [
    {
     "data": {
      "text/html": [
       "<div>\n",
       "<style scoped>\n",
       "    .dataframe tbody tr th:only-of-type {\n",
       "        vertical-align: middle;\n",
       "    }\n",
       "\n",
       "    .dataframe tbody tr th {\n",
       "        vertical-align: top;\n",
       "    }\n",
       "\n",
       "    .dataframe thead th {\n",
       "        text-align: right;\n",
       "    }\n",
       "</style>\n",
       "<table border=\"1\" class=\"dataframe\">\n",
       "  <thead>\n",
       "    <tr style=\"text-align: right;\">\n",
       "      <th></th>\n",
       "      <th>users</th>\n",
       "      <th>c1</th>\n",
       "      <th>buyers</th>\n",
       "      <th>buyers_rel</th>\n",
       "      <th>buyers_this_product_rel</th>\n",
       "      <th>revenue</th>\n",
       "      <th>revenue_rel</th>\n",
       "      <th>RB</th>\n",
       "      <th>RU</th>\n",
       "    </tr>\n",
       "  </thead>\n",
       "  <tbody>\n",
       "    <tr>\n",
       "      <th>test</th>\n",
       "      <td>4307</td>\n",
       "      <td>0.0156</td>\n",
       "      <td>67</td>\n",
       "      <td>1.0</td>\n",
       "      <td>0.46</td>\n",
       "      <td>810706.0</td>\n",
       "      <td>0.35</td>\n",
       "      <td>12100.09</td>\n",
       "      <td>188.23</td>\n",
       "    </tr>\n",
       "    <tr>\n",
       "      <th>control_1</th>\n",
       "      <td>4338</td>\n",
       "      <td>0.0228</td>\n",
       "      <td>99</td>\n",
       "      <td>1.0</td>\n",
       "      <td>0.52</td>\n",
       "      <td>779259.0</td>\n",
       "      <td>0.30</td>\n",
       "      <td>7871.30</td>\n",
       "      <td>179.64</td>\n",
       "    </tr>\n",
       "    <tr>\n",
       "      <th>control_2</th>\n",
       "      <td>4264</td>\n",
       "      <td>0.0239</td>\n",
       "      <td>102</td>\n",
       "      <td>1.0</td>\n",
       "      <td>0.55</td>\n",
       "      <td>744809.0</td>\n",
       "      <td>0.39</td>\n",
       "      <td>7302.05</td>\n",
       "      <td>174.67</td>\n",
       "    </tr>\n",
       "  </tbody>\n",
       "</table>\n",
       "</div>"
      ],
      "text/plain": [
       "           users      c1  buyers  buyers_rel  buyers_this_product_rel  \\\n",
       "test        4307  0.0156      67         1.0                     0.46   \n",
       "control_1   4338  0.0228      99         1.0                     0.52   \n",
       "control_2   4264  0.0239     102         1.0                     0.55   \n",
       "\n",
       "            revenue  revenue_rel        RB      RU  \n",
       "test       810706.0         0.35  12100.09  188.23  \n",
       "control_1  779259.0         0.30   7871.30  179.64  \n",
       "control_2  744809.0         0.39   7302.05  174.67  "
      ]
     },
     "execution_count": 76,
     "metadata": {},
     "output_type": "execute_result"
    }
   ],
   "source": [
    "sales_premium_no_trial = product_sales('premium_no_trial')\n",
    "sales_premium_no_trial"
   ]
  },
  {
   "cell_type": "markdown",
   "id": "9161582c",
   "metadata": {},
   "source": [
    "Для обычной премиум-подписки:\n",
    "- увеличились доли покупателей (`buyers_this_product_rel`),\n",
    "- для контрольной группы 1 доля прибыли от продаж этого продукта  (`revenue_rel`)уменьшилась, для контрольной группы 2 - возросла,\n",
    "- для обоих контрольных групп видно, **как и должно быть по условию задачи**, уменьшение усреднённых расходов (`RU`)."
   ]
  },
  {
   "cell_type": "code",
   "execution_count": 77,
   "id": "617d65c2",
   "metadata": {},
   "outputs": [
    {
     "data": {
      "text/html": [
       "<div>\n",
       "<style scoped>\n",
       "    .dataframe tbody tr th:only-of-type {\n",
       "        vertical-align: middle;\n",
       "    }\n",
       "\n",
       "    .dataframe tbody tr th {\n",
       "        vertical-align: top;\n",
       "    }\n",
       "\n",
       "    .dataframe thead th {\n",
       "        text-align: right;\n",
       "    }\n",
       "</style>\n",
       "<table border=\"1\" class=\"dataframe\">\n",
       "  <thead>\n",
       "    <tr style=\"text-align: right;\">\n",
       "      <th></th>\n",
       "      <th>users</th>\n",
       "      <th>c1</th>\n",
       "      <th>buyers</th>\n",
       "      <th>buyers_rel</th>\n",
       "      <th>buyers_this_product_rel</th>\n",
       "      <th>revenue</th>\n",
       "      <th>revenue_rel</th>\n",
       "      <th>RB</th>\n",
       "      <th>RU</th>\n",
       "    </tr>\n",
       "  </thead>\n",
       "  <tbody>\n",
       "    <tr>\n",
       "      <th>test</th>\n",
       "      <td>4307</td>\n",
       "      <td>0.0121</td>\n",
       "      <td>52</td>\n",
       "      <td>1.0</td>\n",
       "      <td>0.36</td>\n",
       "      <td>566176.0</td>\n",
       "      <td>0.25</td>\n",
       "      <td>10888.00</td>\n",
       "      <td>131.45</td>\n",
       "    </tr>\n",
       "    <tr>\n",
       "      <th>control_1</th>\n",
       "      <td>4338</td>\n",
       "      <td>0.0150</td>\n",
       "      <td>65</td>\n",
       "      <td>1.0</td>\n",
       "      <td>0.34</td>\n",
       "      <td>871910.0</td>\n",
       "      <td>0.34</td>\n",
       "      <td>13414.00</td>\n",
       "      <td>200.99</td>\n",
       "    </tr>\n",
       "    <tr>\n",
       "      <th>control_2</th>\n",
       "      <td>4264</td>\n",
       "      <td>0.0162</td>\n",
       "      <td>69</td>\n",
       "      <td>1.0</td>\n",
       "      <td>0.37</td>\n",
       "      <td>402909.0</td>\n",
       "      <td>0.21</td>\n",
       "      <td>5839.26</td>\n",
       "      <td>94.49</td>\n",
       "    </tr>\n",
       "  </tbody>\n",
       "</table>\n",
       "</div>"
      ],
      "text/plain": [
       "           users      c1  buyers  buyers_rel  buyers_this_product_rel  \\\n",
       "test        4307  0.0121      52         1.0                     0.36   \n",
       "control_1   4338  0.0150      65         1.0                     0.34   \n",
       "control_2   4264  0.0162      69         1.0                     0.37   \n",
       "\n",
       "            revenue  revenue_rel        RB      RU  \n",
       "test       566176.0         0.25  10888.00  131.45  \n",
       "control_1  871910.0         0.34  13414.00  200.99  \n",
       "control_2  402909.0         0.21   5839.26   94.49  "
      ]
     },
     "execution_count": 77,
     "metadata": {},
     "output_type": "execute_result"
    }
   ],
   "source": [
    "sales_coins = product_sales('coins')\n",
    "sales_coins"
   ]
  },
  {
   "cell_type": "markdown",
   "id": "353bef08",
   "metadata": {},
   "source": [
    "Для контрольной группы 1 несколько увеличилась доля прибыли (`revenue_rel`) от продажи монет и чуть уменьшилась -- во второй группе."
   ]
  },
  {
   "cell_type": "code",
   "execution_count": 78,
   "id": "7dcba246",
   "metadata": {},
   "outputs": [
    {
     "data": {
      "text/html": [
       "<div>\n",
       "<style scoped>\n",
       "    .dataframe tbody tr th:only-of-type {\n",
       "        vertical-align: middle;\n",
       "    }\n",
       "\n",
       "    .dataframe tbody tr th {\n",
       "        vertical-align: top;\n",
       "    }\n",
       "\n",
       "    .dataframe thead th {\n",
       "        text-align: right;\n",
       "    }\n",
       "</style>\n",
       "<table border=\"1\" class=\"dataframe\">\n",
       "  <thead>\n",
       "    <tr style=\"text-align: right;\">\n",
       "      <th></th>\n",
       "      <th>users</th>\n",
       "      <th>c1</th>\n",
       "      <th>buyers</th>\n",
       "      <th>buyers_rel</th>\n",
       "      <th>buyers_this_product_rel</th>\n",
       "      <th>revenue</th>\n",
       "      <th>revenue_rel</th>\n",
       "      <th>RB</th>\n",
       "      <th>RU</th>\n",
       "    </tr>\n",
       "  </thead>\n",
       "  <tbody>\n",
       "    <tr>\n",
       "      <th>test</th>\n",
       "      <td>4307</td>\n",
       "      <td>0.0042</td>\n",
       "      <td>18</td>\n",
       "      <td>1.0</td>\n",
       "      <td>0.12</td>\n",
       "      <td>108849.0</td>\n",
       "      <td>0.05</td>\n",
       "      <td>6047.17</td>\n",
       "      <td>25.27</td>\n",
       "    </tr>\n",
       "    <tr>\n",
       "      <th>control_1</th>\n",
       "      <td>4338</td>\n",
       "      <td>0.0065</td>\n",
       "      <td>28</td>\n",
       "      <td>1.0</td>\n",
       "      <td>0.15</td>\n",
       "      <td>157352.0</td>\n",
       "      <td>0.06</td>\n",
       "      <td>5619.71</td>\n",
       "      <td>36.27</td>\n",
       "    </tr>\n",
       "    <tr>\n",
       "      <th>control_2</th>\n",
       "      <td>4264</td>\n",
       "      <td>0.0077</td>\n",
       "      <td>33</td>\n",
       "      <td>1.0</td>\n",
       "      <td>0.18</td>\n",
       "      <td>128739.0</td>\n",
       "      <td>0.07</td>\n",
       "      <td>3901.18</td>\n",
       "      <td>30.19</td>\n",
       "    </tr>\n",
       "  </tbody>\n",
       "</table>\n",
       "</div>"
      ],
      "text/plain": [
       "           users      c1  buyers  buyers_rel  buyers_this_product_rel  \\\n",
       "test        4307  0.0042      18         1.0                     0.12   \n",
       "control_1   4338  0.0065      28         1.0                     0.15   \n",
       "control_2   4264  0.0077      33         1.0                     0.18   \n",
       "\n",
       "            revenue  revenue_rel       RB     RU  \n",
       "test       108849.0         0.05  6047.17  25.27  \n",
       "control_1  157352.0         0.06  5619.71  36.27  \n",
       "control_2  128739.0         0.07  3901.18  30.19  "
      ]
     },
     "execution_count": 78,
     "metadata": {},
     "output_type": "execute_result"
    }
   ],
   "source": [
    "sales_other_type = product_sales('other_type')\n",
    "sales_other_type"
   ]
  },
  {
   "cell_type": "markdown",
   "id": "12cf1087",
   "metadata": {},
   "source": [
    "Доли прибыли (`revenue_rel`) от продажи прочих продуктов в общей прибыли -- примерно равны для всех групп."
   ]
  },
  {
   "cell_type": "markdown",
   "id": "13de037c",
   "metadata": {},
   "source": [
    "## Распределение трат на пробную и обычную подписки в разных группах <a class=\"anchor\" id=\"compare_averages\"></a>"
   ]
  },
  {
   "cell_type": "code",
   "execution_count": 79,
   "id": "4e4fbf33",
   "metadata": {
    "scrolled": false
   },
   "outputs": [
    {
     "data": {
      "image/png": "[encoded data removed]",
      "text/plain": [
       "<Figure size 2880x1800 with 6 Axes>"
      ]
     },
     "metadata": {
      "needs_background": "light"
     },
     "output_type": "display_data"
    }
   ],
   "source": [
    "plt.figure(figsize = (40, 25)) # ширина, высота полотна\n",
    "\n",
    "plt.subplot(3, 2, 1)\n",
    "sns.histplot(data = trial_premium_purchases_test['revenue'], stat = 'percent', bins = 50)\n",
    "plt.title('Пробная подписка, тестовая группа', fontsize = 20)\n",
    "\n",
    "plt.subplot(3, 2, 2)\n",
    "sns.histplot(data = premium_no_trial_purchases_test['revenue'], stat = 'percent', bins = 50)\n",
    "plt.title('Обычная подписка, тестовая группа', fontsize = 20)\n",
    "\n",
    "plt.subplot(3, 2, 3)\n",
    "sns.histplot(data = trial_premium_purchases_control_1['revenue'], stat = 'percent', bins = 50)\n",
    "plt.title('Пробная подписка, контрольная группа 1', fontsize = 20)\n",
    "\n",
    "plt.subplot(3, 2, 4)\n",
    "sns.histplot(data = premium_no_trial_purchases_control_1['revenue'], stat = 'percent', bins = 50)\n",
    "plt.title('Обычная подписка, контрольная группа 1', fontsize = 20)\n",
    "\n",
    "plt.subplot(3, 2, 5)\n",
    "sns.histplot(data = trial_premium_purchases_control_2['revenue'], stat = 'percent', bins = 50)\n",
    "plt.title('Пробная подписка, контрольная группа 2', fontsize = 20)\n",
    "\n",
    "plt.subplot(3, 2, 6)\n",
    "sns.histplot(data = premium_no_trial_purchases_control_2['revenue'], stat = 'percent', bins = 50)\n",
    "plt.title('Обычная подписка, контрольная группа 2', fontsize = 20)\n",
    "\n",
    "plt.show()"
   ]
  },
  {
   "cell_type": "markdown",
   "id": "e43599a4",
   "metadata": {},
   "source": [
    "Для обычной подписки мы видим компактное распределение. Проведём сравнение средних -- чтобы показать, что удельные траты пользователей в группах в таблице ```product_sales('premium_no_trial')``` действительно различны."
   ]
  },
  {
   "cell_type": "code",
   "execution_count": 80,
   "id": "d2dfd83b",
   "metadata": {},
   "outputs": [],
   "source": [
    "from scipy.stats import mannwhitneyu"
   ]
  },
  {
   "cell_type": "code",
   "execution_count": 81,
   "id": "25594c13",
   "metadata": {},
   "outputs": [
    {
     "data": {
      "text/plain": [
       "MannwhitneyuResult(statistic=4949.5, pvalue=5.962668862144281e-08)"
      ]
     },
     "execution_count": 81,
     "metadata": {},
     "output_type": "execute_result"
    }
   ],
   "source": [
    "mannwhitneyu(premium_no_trial_purchases_test['revenue'],\n",
    "             premium_no_trial_purchases_control_1['revenue'])"
   ]
  },
  {
   "cell_type": "code",
   "execution_count": 82,
   "id": "64ccb823",
   "metadata": {},
   "outputs": [
    {
     "data": {
      "text/plain": [
       "MannwhitneyuResult(statistic=5034.5, pvalue=1.5494296303089133e-07)"
      ]
     },
     "execution_count": 82,
     "metadata": {},
     "output_type": "execute_result"
    }
   ],
   "source": [
    "mannwhitneyu(premium_no_trial_purchases_test['revenue'],\n",
    "             premium_no_trial_purchases_control_2['revenue'])"
   ]
  },
  {
   "cell_type": "code",
   "execution_count": 83,
   "id": "f60bfcb4",
   "metadata": {},
   "outputs": [
    {
     "data": {
      "text/plain": [
       "MannwhitneyuResult(statistic=4848.0, pvalue=0.6169279889276287)"
      ]
     },
     "execution_count": 83,
     "metadata": {},
     "output_type": "execute_result"
    }
   ],
   "source": [
    "mannwhitneyu(premium_no_trial_purchases_control_1['revenue'],\n",
    "             premium_no_trial_purchases_control_2['revenue'])"
   ]
  },
  {
   "cell_type": "markdown",
   "id": "773cfe0b",
   "metadata": {},
   "source": [
    "Значения средних расходов покупателей (на приобретение обычной подписки) для обоих контрольных групп значимо отличаются от тестовой группы, но при этом близки друг к другу.\n",
    "\n",
    "Изменение доли купивших:"
   ]
  },
  {
   "cell_type": "code",
   "execution_count": 84,
   "id": "b1cf3621",
   "metadata": {},
   "outputs": [
    {
     "data": {
      "text/html": [
       "<div>\n",
       "<style scoped>\n",
       "    .dataframe tbody tr th:only-of-type {\n",
       "        vertical-align: middle;\n",
       "    }\n",
       "\n",
       "    .dataframe tbody tr th {\n",
       "        vertical-align: top;\n",
       "    }\n",
       "\n",
       "    .dataframe thead th {\n",
       "        text-align: right;\n",
       "    }\n",
       "</style>\n",
       "<table border=\"1\" class=\"dataframe\">\n",
       "  <thead>\n",
       "    <tr style=\"text-align: right;\">\n",
       "      <th></th>\n",
       "      <th>users</th>\n",
       "      <th>c1</th>\n",
       "      <th>buyers</th>\n",
       "      <th>buyers_rel</th>\n",
       "      <th>buyers_this_product_rel</th>\n",
       "      <th>revenue</th>\n",
       "      <th>revenue_rel</th>\n",
       "      <th>RB</th>\n",
       "      <th>RU</th>\n",
       "      <th>buyers_rel_change_pc</th>\n",
       "      <th>RU_change_pc</th>\n",
       "    </tr>\n",
       "  </thead>\n",
       "  <tbody>\n",
       "    <tr>\n",
       "      <th>test</th>\n",
       "      <td>4307</td>\n",
       "      <td>0.0156</td>\n",
       "      <td>67</td>\n",
       "      <td>1.0</td>\n",
       "      <td>0.46</td>\n",
       "      <td>810706.0</td>\n",
       "      <td>0.35</td>\n",
       "      <td>12100.09</td>\n",
       "      <td>188.23</td>\n",
       "      <td>0.0</td>\n",
       "      <td>0.0</td>\n",
       "    </tr>\n",
       "    <tr>\n",
       "      <th>control_1</th>\n",
       "      <td>4338</td>\n",
       "      <td>0.0228</td>\n",
       "      <td>99</td>\n",
       "      <td>1.0</td>\n",
       "      <td>0.52</td>\n",
       "      <td>779259.0</td>\n",
       "      <td>0.30</td>\n",
       "      <td>7871.30</td>\n",
       "      <td>179.64</td>\n",
       "      <td>0.0</td>\n",
       "      <td>-4.6</td>\n",
       "    </tr>\n",
       "    <tr>\n",
       "      <th>control_2</th>\n",
       "      <td>4264</td>\n",
       "      <td>0.0239</td>\n",
       "      <td>102</td>\n",
       "      <td>1.0</td>\n",
       "      <td>0.55</td>\n",
       "      <td>744809.0</td>\n",
       "      <td>0.39</td>\n",
       "      <td>7302.05</td>\n",
       "      <td>174.67</td>\n",
       "      <td>0.0</td>\n",
       "      <td>-7.2</td>\n",
       "    </tr>\n",
       "  </tbody>\n",
       "</table>\n",
       "</div>"
      ],
      "text/plain": [
       "           users      c1  buyers  buyers_rel  buyers_this_product_rel  \\\n",
       "test        4307  0.0156      67         1.0                     0.46   \n",
       "control_1   4338  0.0228      99         1.0                     0.52   \n",
       "control_2   4264  0.0239     102         1.0                     0.55   \n",
       "\n",
       "            revenue  revenue_rel        RB      RU  buyers_rel_change_pc  \\\n",
       "test       810706.0         0.35  12100.09  188.23                   0.0   \n",
       "control_1  779259.0         0.30   7871.30  179.64                   0.0   \n",
       "control_2  744809.0         0.39   7302.05  174.67                   0.0   \n",
       "\n",
       "           RU_change_pc  \n",
       "test                0.0  \n",
       "control_1          -4.6  \n",
       "control_2          -7.2  "
      ]
     },
     "execution_count": 84,
     "metadata": {},
     "output_type": "execute_result"
    }
   ],
   "source": [
    "product_sales_1 = product_sales('premium_no_trial')\n",
    "\n",
    "base_buyers_rel_1 = product_sales_1.loc['test', 'buyers_rel']\n",
    "product_sales_1['buyers_rel_change_pc'] = round(100 * (product_sales_1['buyers_rel'] / base_buyers_rel_1 - 1), 1)\n",
    "\n",
    "base_RU_1 = product_sales_1.loc['test', 'RU']\n",
    "product_sales_1['RU_change_pc'] = round(100 * (product_sales_1['RU'] / base_RU_1 - 1), 1)\n",
    "\n",
    "product_sales_1"
   ]
  },
  {
   "cell_type": "markdown",
   "id": "f7988bbc",
   "metadata": {},
   "source": [
    "В первой контрольной группе количество купивших обычную премиум подписку увеличилось более чем на 12 %, во второй - более чем на 18 %.\n",
    "\n",
    "Однако, мы получили снижение средней величины покупок одного пользователя (дохода с продажи данного продукта, в расчёте на одного пользователя) (**RU**) на 4 % и 8 % соответственно, то есть увеличение количества покупок не компенсирует снижения цены.\n",
    "\n",
    "**Вывод:** увеличение притока покупателей обычной подписки не компенсирует снижение цены."
   ]
  },
  {
   "cell_type": "markdown",
   "id": "858f166e",
   "metadata": {},
   "source": [
    "## Сопоставление средних покупок разных продуктов <a class=\"anchor\" id=\"products_sales\"></a>"
   ]
  },
  {
   "cell_type": "code",
   "execution_count": 85,
   "id": "b870eb15",
   "metadata": {},
   "outputs": [
    {
     "data": {
      "text/html": [
       "<div>\n",
       "<style scoped>\n",
       "    .dataframe tbody tr th:only-of-type {\n",
       "        vertical-align: middle;\n",
       "    }\n",
       "\n",
       "    .dataframe tbody tr th {\n",
       "        vertical-align: top;\n",
       "    }\n",
       "\n",
       "    .dataframe thead th {\n",
       "        text-align: right;\n",
       "    }\n",
       "</style>\n",
       "<table border=\"1\" class=\"dataframe\">\n",
       "  <thead>\n",
       "    <tr style=\"text-align: right;\">\n",
       "      <th></th>\n",
       "      <th>group</th>\n",
       "      <th>users</th>\n",
       "      <th>c1</th>\n",
       "      <th>buyers</th>\n",
       "      <th>buyers_rel</th>\n",
       "      <th>buyers_this_product_rel</th>\n",
       "      <th>revenue</th>\n",
       "      <th>revenue_rel</th>\n",
       "      <th>RB</th>\n",
       "      <th>RU</th>\n",
       "    </tr>\n",
       "  </thead>\n",
       "  <tbody>\n",
       "    <tr>\n",
       "      <th>0</th>\n",
       "      <td>test</td>\n",
       "      <td>4307</td>\n",
       "      <td>0.0142</td>\n",
       "      <td>61</td>\n",
       "      <td>1.0</td>\n",
       "      <td>0.42</td>\n",
       "      <td>800202.0</td>\n",
       "      <td>0.35</td>\n",
       "      <td>13118.07</td>\n",
       "      <td>185.79</td>\n",
       "    </tr>\n",
       "    <tr>\n",
       "      <th>1</th>\n",
       "      <td>control_1</td>\n",
       "      <td>4338</td>\n",
       "      <td>0.0154</td>\n",
       "      <td>67</td>\n",
       "      <td>1.0</td>\n",
       "      <td>0.35</td>\n",
       "      <td>772720.0</td>\n",
       "      <td>0.30</td>\n",
       "      <td>11533.13</td>\n",
       "      <td>178.13</td>\n",
       "    </tr>\n",
       "    <tr>\n",
       "      <th>2</th>\n",
       "      <td>control_2</td>\n",
       "      <td>4264</td>\n",
       "      <td>0.0124</td>\n",
       "      <td>53</td>\n",
       "      <td>1.0</td>\n",
       "      <td>0.28</td>\n",
       "      <td>643981.0</td>\n",
       "      <td>0.34</td>\n",
       "      <td>12150.58</td>\n",
       "      <td>151.03</td>\n",
       "    </tr>\n",
       "  </tbody>\n",
       "</table>\n",
       "</div>"
      ],
      "text/plain": [
       "       group  users      c1  buyers  buyers_rel  buyers_this_product_rel  \\\n",
       "0       test   4307  0.0142      61         1.0                     0.42   \n",
       "1  control_1   4338  0.0154      67         1.0                     0.35   \n",
       "2  control_2   4264  0.0124      53         1.0                     0.28   \n",
       "\n",
       "    revenue  revenue_rel        RB      RU  \n",
       "0  800202.0         0.35  13118.07  185.79  \n",
       "1  772720.0         0.30  11533.13  178.13  \n",
       "2  643981.0         0.34  12150.58  151.03  "
      ]
     },
     "execution_count": 85,
     "metadata": {},
     "output_type": "execute_result"
    }
   ],
   "source": [
    "sales_trial_premium.reset_index().rename(columns = {'index': 'group'})"
   ]
  },
  {
   "cell_type": "code",
   "execution_count": 86,
   "id": "e3d4832c",
   "metadata": {},
   "outputs": [],
   "source": [
    "sales = [sales_trial_premium,\n",
    "         sales_premium_no_trial,\n",
    "         sales_coins,\n",
    "         sales_other_type]"
   ]
  },
  {
   "cell_type": "code",
   "execution_count": 87,
   "id": "5012ca82",
   "metadata": {},
   "outputs": [],
   "source": [
    "tmp_lst = []\n",
    "for ps in sales :\n",
    "    tmp_df = ps.reset_index().rename(columns = {'index': 'group'})[['revenue', 'revenue_rel', 'RU', 'group']]\n",
    "    tmp_df['product'] = ps.name\n",
    "    tmp_lst.append(tmp_df)\n",
    "\n",
    "summary = pd.concat(tmp_lst, axis = 0).reset_index(drop = True)"
   ]
  },
  {
   "cell_type": "code",
   "execution_count": 88,
   "id": "7044180c",
   "metadata": {},
   "outputs": [
    {
     "data": {
      "text/html": [
       "<div>\n",
       "<style scoped>\n",
       "    .dataframe tbody tr th:only-of-type {\n",
       "        vertical-align: middle;\n",
       "    }\n",
       "\n",
       "    .dataframe tbody tr th {\n",
       "        vertical-align: top;\n",
       "    }\n",
       "\n",
       "    .dataframe thead th {\n",
       "        text-align: right;\n",
       "    }\n",
       "</style>\n",
       "<table border=\"1\" class=\"dataframe\">\n",
       "  <thead>\n",
       "    <tr style=\"text-align: right;\">\n",
       "      <th></th>\n",
       "      <th>revenue</th>\n",
       "      <th>revenue_rel</th>\n",
       "      <th>RU</th>\n",
       "      <th>group</th>\n",
       "      <th>product</th>\n",
       "    </tr>\n",
       "  </thead>\n",
       "  <tbody>\n",
       "    <tr>\n",
       "      <th>0</th>\n",
       "      <td>800202.0</td>\n",
       "      <td>0.35</td>\n",
       "      <td>185.79</td>\n",
       "      <td>test</td>\n",
       "      <td>trial_premium</td>\n",
       "    </tr>\n",
       "    <tr>\n",
       "      <th>1</th>\n",
       "      <td>772720.0</td>\n",
       "      <td>0.30</td>\n",
       "      <td>178.13</td>\n",
       "      <td>control_1</td>\n",
       "      <td>trial_premium</td>\n",
       "    </tr>\n",
       "    <tr>\n",
       "      <th>2</th>\n",
       "      <td>643981.0</td>\n",
       "      <td>0.34</td>\n",
       "      <td>151.03</td>\n",
       "      <td>control_2</td>\n",
       "      <td>trial_premium</td>\n",
       "    </tr>\n",
       "    <tr>\n",
       "      <th>3</th>\n",
       "      <td>810706.0</td>\n",
       "      <td>0.35</td>\n",
       "      <td>188.23</td>\n",
       "      <td>test</td>\n",
       "      <td>premium_no_trial</td>\n",
       "    </tr>\n",
       "    <tr>\n",
       "      <th>4</th>\n",
       "      <td>779259.0</td>\n",
       "      <td>0.30</td>\n",
       "      <td>179.64</td>\n",
       "      <td>control_1</td>\n",
       "      <td>premium_no_trial</td>\n",
       "    </tr>\n",
       "    <tr>\n",
       "      <th>5</th>\n",
       "      <td>744809.0</td>\n",
       "      <td>0.39</td>\n",
       "      <td>174.67</td>\n",
       "      <td>control_2</td>\n",
       "      <td>premium_no_trial</td>\n",
       "    </tr>\n",
       "    <tr>\n",
       "      <th>6</th>\n",
       "      <td>566176.0</td>\n",
       "      <td>0.25</td>\n",
       "      <td>131.45</td>\n",
       "      <td>test</td>\n",
       "      <td>coins</td>\n",
       "    </tr>\n",
       "    <tr>\n",
       "      <th>7</th>\n",
       "      <td>871910.0</td>\n",
       "      <td>0.34</td>\n",
       "      <td>200.99</td>\n",
       "      <td>control_1</td>\n",
       "      <td>coins</td>\n",
       "    </tr>\n",
       "    <tr>\n",
       "      <th>8</th>\n",
       "      <td>402909.0</td>\n",
       "      <td>0.21</td>\n",
       "      <td>94.49</td>\n",
       "      <td>control_2</td>\n",
       "      <td>coins</td>\n",
       "    </tr>\n",
       "    <tr>\n",
       "      <th>9</th>\n",
       "      <td>108849.0</td>\n",
       "      <td>0.05</td>\n",
       "      <td>25.27</td>\n",
       "      <td>test</td>\n",
       "      <td>other_type</td>\n",
       "    </tr>\n",
       "    <tr>\n",
       "      <th>10</th>\n",
       "      <td>157352.0</td>\n",
       "      <td>0.06</td>\n",
       "      <td>36.27</td>\n",
       "      <td>control_1</td>\n",
       "      <td>other_type</td>\n",
       "    </tr>\n",
       "    <tr>\n",
       "      <th>11</th>\n",
       "      <td>128739.0</td>\n",
       "      <td>0.07</td>\n",
       "      <td>30.19</td>\n",
       "      <td>control_2</td>\n",
       "      <td>other_type</td>\n",
       "    </tr>\n",
       "  </tbody>\n",
       "</table>\n",
       "</div>"
      ],
      "text/plain": [
       "     revenue  revenue_rel      RU      group           product\n",
       "0   800202.0         0.35  185.79       test     trial_premium\n",
       "1   772720.0         0.30  178.13  control_1     trial_premium\n",
       "2   643981.0         0.34  151.03  control_2     trial_premium\n",
       "3   810706.0         0.35  188.23       test  premium_no_trial\n",
       "4   779259.0         0.30  179.64  control_1  premium_no_trial\n",
       "5   744809.0         0.39  174.67  control_2  premium_no_trial\n",
       "6   566176.0         0.25  131.45       test             coins\n",
       "7   871910.0         0.34  200.99  control_1             coins\n",
       "8   402909.0         0.21   94.49  control_2             coins\n",
       "9   108849.0         0.05   25.27       test        other_type\n",
       "10  157352.0         0.06   36.27  control_1        other_type\n",
       "11  128739.0         0.07   30.19  control_2        other_type"
      ]
     },
     "execution_count": 88,
     "metadata": {},
     "output_type": "execute_result"
    }
   ],
   "source": [
    "summary"
   ]
  },
  {
   "cell_type": "code",
   "execution_count": 89,
   "id": "497b6cf8",
   "metadata": {},
   "outputs": [],
   "source": [
    "new_index = summary.shape[0]\n",
    "\n",
    "for group_name in groups :\n",
    "    \n",
    "    subset = summary[summary['group'] == group_name]\n",
    "    \n",
    "    revenue_sum = subset['revenue'].sum()\n",
    "    revenue_rel_sum = subset['revenue_rel'].sum()\n",
    "    RU_sum = subset['RU'].sum()\n",
    "        \n",
    "    new_row = pd.DataFrame(index = [new_index],\n",
    "                           data = {'revenue' : revenue_sum,\n",
    "                                   'revenue_rel' : revenue_rel_sum,\n",
    "                                   'RU' : RU_sum,\n",
    "                                   'group' : group_name,\n",
    "                                   'product' : 'all'})\n",
    "    \n",
    "    summary = pd.concat([summary, new_row], axis = 0)\n",
    "    \n",
    "    new_index += 1"
   ]
  },
  {
   "cell_type": "code",
   "execution_count": 90,
   "id": "77d8eeff",
   "metadata": {
    "scrolled": false
   },
   "outputs": [
    {
     "data": {
      "text/plain": [
       "<seaborn.axisgrid.FacetGrid at 0x7f1a08965c10>"
      ]
     },
     "execution_count": 90,
     "metadata": {},
     "output_type": "execute_result"
    },
    {
     "data": {
      "image/png": "[encoded data removed]",
      "text/plain": [
       "<Figure size 441.875x360 with 1 Axes>"
      ]
     },
     "metadata": {
      "needs_background": "light"
     },
     "output_type": "display_data"
    }
   ],
   "source": [
    "sns.catplot(data = summary,\n",
    "            kind = 'bar',\n",
    "            x = 'RU',\n",
    "            y = 'product',\n",
    "            hue = 'group',\n",
    "            ci = None,\n",
    "            orient = 'h')"
   ]
  },
  {
   "cell_type": "markdown",
   "id": "5cb2aa03",
   "metadata": {},
   "source": [
    "**Вывод:** увеличение средней величины всех покупок на одного пользователя дал вариант 1.\n",
    "Прежде всего, за счёт резкого увеличения продаж монет (`coins`)."
   ]
  },
  {
   "cell_type": "markdown",
   "id": "26d3beb3",
   "metadata": {},
   "source": [
    "## Зависимость между полом и покупками <a class=\"anchor\" id=\"gender_sales\"></a>"
   ]
  },
  {
   "cell_type": "code",
   "execution_count": 91,
   "id": "8d1614c1",
   "metadata": {},
   "outputs": [
    {
     "data": {
      "text/html": [
       "<div>\n",
       "<style scoped>\n",
       "    .dataframe tbody tr th:only-of-type {\n",
       "        vertical-align: middle;\n",
       "    }\n",
       "\n",
       "    .dataframe tbody tr th {\n",
       "        vertical-align: top;\n",
       "    }\n",
       "\n",
       "    .dataframe thead th {\n",
       "        text-align: right;\n",
       "    }\n",
       "</style>\n",
       "<table border=\"1\" class=\"dataframe\">\n",
       "  <thead>\n",
       "    <tr style=\"text-align: right;\">\n",
       "      <th></th>\n",
       "      <th></th>\n",
       "      <th>test</th>\n",
       "      <th>control_1</th>\n",
       "      <th>control_2</th>\n",
       "    </tr>\n",
       "    <tr>\n",
       "      <th>gender</th>\n",
       "      <th>product_type</th>\n",
       "      <th></th>\n",
       "      <th></th>\n",
       "      <th></th>\n",
       "    </tr>\n",
       "  </thead>\n",
       "  <tbody>\n",
       "    <tr>\n",
       "      <th rowspan=\"3\" valign=\"top\">0</th>\n",
       "      <th>other_type</th>\n",
       "      <td>0.0</td>\n",
       "      <td>0.0</td>\n",
       "      <td>2730.0</td>\n",
       "    </tr>\n",
       "    <tr>\n",
       "      <th>premium_no_trial</th>\n",
       "      <td>0.0</td>\n",
       "      <td>0.0</td>\n",
       "      <td>25402.0</td>\n",
       "    </tr>\n",
       "    <tr>\n",
       "      <th>trial_premium</th>\n",
       "      <td>27079.0</td>\n",
       "      <td>45409.0</td>\n",
       "      <td>12727.0</td>\n",
       "    </tr>\n",
       "    <tr>\n",
       "      <th rowspan=\"4\" valign=\"top\">1</th>\n",
       "      <th>coins</th>\n",
       "      <td>566176.0</td>\n",
       "      <td>871910.0</td>\n",
       "      <td>402909.0</td>\n",
       "    </tr>\n",
       "    <tr>\n",
       "      <th>other_type</th>\n",
       "      <td>108849.0</td>\n",
       "      <td>157352.0</td>\n",
       "      <td>126009.0</td>\n",
       "    </tr>\n",
       "    <tr>\n",
       "      <th>premium_no_trial</th>\n",
       "      <td>810706.0</td>\n",
       "      <td>779259.0</td>\n",
       "      <td>719407.0</td>\n",
       "    </tr>\n",
       "    <tr>\n",
       "      <th>trial_premium</th>\n",
       "      <td>773123.0</td>\n",
       "      <td>727311.0</td>\n",
       "      <td>631254.0</td>\n",
       "    </tr>\n",
       "  </tbody>\n",
       "</table>\n",
       "</div>"
      ],
      "text/plain": [
       "                             test  control_1  control_2\n",
       "gender product_type                                    \n",
       "0      other_type             0.0        0.0     2730.0\n",
       "       premium_no_trial       0.0        0.0    25402.0\n",
       "       trial_premium      27079.0    45409.0    12727.0\n",
       "1      coins             566176.0   871910.0   402909.0\n",
       "       other_type        108849.0   157352.0   126009.0\n",
       "       premium_no_trial  810706.0   779259.0   719407.0\n",
       "       trial_premium     773123.0   727311.0   631254.0"
      ]
     },
     "execution_count": 91,
     "metadata": {},
     "output_type": "execute_result"
    }
   ],
   "source": [
    "listof_df = []\n",
    "\n",
    "for group_name in groups :\n",
    "    df = \\\n",
    "        big_tables[group_name] \\\n",
    "        .fillna(value = {'revenue' : 0}) \\\n",
    "        .groupby(['gender', 'product_type']) \\\n",
    "        .agg({'revenue' : 'sum'}) \\\n",
    "        .rename(columns = {'revenue' : group_name })\n",
    "    \n",
    "    listof_df.append(df)\n",
    "\n",
    "pd.concat(listof_df, axis = 1).fillna(0)"
   ]
  },
  {
   "cell_type": "markdown",
   "id": "f35db843",
   "metadata": {},
   "source": [
    "Если считать отдельные метрики, то:"
   ]
  },
  {
   "cell_type": "code",
   "execution_count": 92,
   "id": "5dbf264d",
   "metadata": {},
   "outputs": [
    {
     "data": {
      "text/html": [
       "<div>\n",
       "<style scoped>\n",
       "    .dataframe tbody tr th:only-of-type {\n",
       "        vertical-align: middle;\n",
       "    }\n",
       "\n",
       "    .dataframe tbody tr th {\n",
       "        vertical-align: top;\n",
       "    }\n",
       "\n",
       "    .dataframe thead th {\n",
       "        text-align: right;\n",
       "    }\n",
       "</style>\n",
       "<table border=\"1\" class=\"dataframe\">\n",
       "  <thead>\n",
       "    <tr style=\"text-align: right;\">\n",
       "      <th></th>\n",
       "      <th>users</th>\n",
       "      <th>c1</th>\n",
       "      <th>buyers</th>\n",
       "      <th>buyers_rel</th>\n",
       "      <th>buyers_this_product_rel</th>\n",
       "      <th>revenue</th>\n",
       "      <th>revenue_rel</th>\n",
       "      <th>RB</th>\n",
       "      <th>RU</th>\n",
       "    </tr>\n",
       "  </thead>\n",
       "  <tbody>\n",
       "    <tr>\n",
       "      <th>test</th>\n",
       "      <td>202</td>\n",
       "      <td>0.0000</td>\n",
       "      <td>0</td>\n",
       "      <td>0.00</td>\n",
       "      <td>0.00</td>\n",
       "      <td>0.0</td>\n",
       "      <td>0.00</td>\n",
       "      <td>0.0</td>\n",
       "      <td>0.00</td>\n",
       "    </tr>\n",
       "    <tr>\n",
       "      <th>control_1</th>\n",
       "      <td>182</td>\n",
       "      <td>0.0000</td>\n",
       "      <td>0</td>\n",
       "      <td>0.00</td>\n",
       "      <td>0.00</td>\n",
       "      <td>0.0</td>\n",
       "      <td>0.00</td>\n",
       "      <td>0.0</td>\n",
       "      <td>0.00</td>\n",
       "    </tr>\n",
       "    <tr>\n",
       "      <th>control_2</th>\n",
       "      <td>195</td>\n",
       "      <td>0.0256</td>\n",
       "      <td>5</td>\n",
       "      <td>0.05</td>\n",
       "      <td>0.71</td>\n",
       "      <td>25402.0</td>\n",
       "      <td>0.62</td>\n",
       "      <td>5080.4</td>\n",
       "      <td>130.27</td>\n",
       "    </tr>\n",
       "  </tbody>\n",
       "</table>\n",
       "</div>"
      ],
      "text/plain": [
       "           users      c1  buyers  buyers_rel  buyers_this_product_rel  \\\n",
       "test         202  0.0000       0        0.00                     0.00   \n",
       "control_1    182  0.0000       0        0.00                     0.00   \n",
       "control_2    195  0.0256       5        0.05                     0.71   \n",
       "\n",
       "           revenue  revenue_rel      RB      RU  \n",
       "test           0.0         0.00     0.0    0.00  \n",
       "control_1      0.0         0.00     0.0    0.00  \n",
       "control_2  25402.0         0.62  5080.4  130.27  "
      ]
     },
     "execution_count": 92,
     "metadata": {},
     "output_type": "execute_result"
    }
   ],
   "source": [
    "product_sales('premium_no_trial', gender = '0')"
   ]
  },
  {
   "cell_type": "code",
   "execution_count": 93,
   "id": "3a201cb3",
   "metadata": {
    "scrolled": true
   },
   "outputs": [
    {
     "data": {
      "text/html": [
       "<div>\n",
       "<style scoped>\n",
       "    .dataframe tbody tr th:only-of-type {\n",
       "        vertical-align: middle;\n",
       "    }\n",
       "\n",
       "    .dataframe tbody tr th {\n",
       "        vertical-align: top;\n",
       "    }\n",
       "\n",
       "    .dataframe thead th {\n",
       "        text-align: right;\n",
       "    }\n",
       "</style>\n",
       "<table border=\"1\" class=\"dataframe\">\n",
       "  <thead>\n",
       "    <tr style=\"text-align: right;\">\n",
       "      <th></th>\n",
       "      <th>users</th>\n",
       "      <th>c1</th>\n",
       "      <th>buyers</th>\n",
       "      <th>buyers_rel</th>\n",
       "      <th>buyers_this_product_rel</th>\n",
       "      <th>revenue</th>\n",
       "      <th>revenue_rel</th>\n",
       "      <th>RB</th>\n",
       "      <th>RU</th>\n",
       "    </tr>\n",
       "  </thead>\n",
       "  <tbody>\n",
       "    <tr>\n",
       "      <th>test</th>\n",
       "      <td>4105</td>\n",
       "      <td>0.0163</td>\n",
       "      <td>67</td>\n",
       "      <td>1.00</td>\n",
       "      <td>0.47</td>\n",
       "      <td>810706.0</td>\n",
       "      <td>0.36</td>\n",
       "      <td>12100.09</td>\n",
       "      <td>197.49</td>\n",
       "    </tr>\n",
       "    <tr>\n",
       "      <th>control_1</th>\n",
       "      <td>4156</td>\n",
       "      <td>0.0238</td>\n",
       "      <td>99</td>\n",
       "      <td>1.00</td>\n",
       "      <td>0.53</td>\n",
       "      <td>779259.0</td>\n",
       "      <td>0.31</td>\n",
       "      <td>7871.30</td>\n",
       "      <td>187.50</td>\n",
       "    </tr>\n",
       "    <tr>\n",
       "      <th>control_2</th>\n",
       "      <td>4069</td>\n",
       "      <td>0.0238</td>\n",
       "      <td>97</td>\n",
       "      <td>0.95</td>\n",
       "      <td>0.54</td>\n",
       "      <td>719407.0</td>\n",
       "      <td>0.38</td>\n",
       "      <td>7416.57</td>\n",
       "      <td>176.80</td>\n",
       "    </tr>\n",
       "  </tbody>\n",
       "</table>\n",
       "</div>"
      ],
      "text/plain": [
       "           users      c1  buyers  buyers_rel  buyers_this_product_rel  \\\n",
       "test        4105  0.0163      67        1.00                     0.47   \n",
       "control_1   4156  0.0238      99        1.00                     0.53   \n",
       "control_2   4069  0.0238      97        0.95                     0.54   \n",
       "\n",
       "            revenue  revenue_rel        RB      RU  \n",
       "test       810706.0         0.36  12100.09  197.49  \n",
       "control_1  779259.0         0.31   7871.30  187.50  \n",
       "control_2  719407.0         0.38   7416.57  176.80  "
      ]
     },
     "execution_count": 93,
     "metadata": {},
     "output_type": "execute_result"
    }
   ],
   "source": [
    "product_sales('premium_no_trial', gender = '1')"
   ]
  },
  {
   "cell_type": "code",
   "execution_count": 94,
   "id": "11aba729",
   "metadata": {},
   "outputs": [
    {
     "data": {
      "text/plain": [
       "1.5"
      ]
     },
     "execution_count": 94,
     "metadata": {},
     "output_type": "execute_result"
    }
   ],
   "source": [
    "round(0.0238/0.0163, 1)"
   ]
  },
  {
   "cell_type": "markdown",
   "id": "ee91d9e9",
   "metadata": {},
   "source": [
    "Для пола '1' в обоих случаях в полтора раза увеличилась конверсия в покупателя обычной подписки.\n",
    "\n",
    "Для пола '0' покупателей в двух группах (в том числе и в тестовой) вообще не было. В контрольной группе 2 конверсия примерно равна конверсии для пола '1'."
   ]
  },
  {
   "cell_type": "code",
   "execution_count": 95,
   "id": "6a3646bc",
   "metadata": {
    "scrolled": true
   },
   "outputs": [
    {
     "data": {
      "text/html": [
       "<div>\n",
       "<style scoped>\n",
       "    .dataframe tbody tr th:only-of-type {\n",
       "        vertical-align: middle;\n",
       "    }\n",
       "\n",
       "    .dataframe tbody tr th {\n",
       "        vertical-align: top;\n",
       "    }\n",
       "\n",
       "    .dataframe thead th {\n",
       "        text-align: right;\n",
       "    }\n",
       "</style>\n",
       "<table border=\"1\" class=\"dataframe\">\n",
       "  <thead>\n",
       "    <tr style=\"text-align: right;\">\n",
       "      <th></th>\n",
       "      <th>users</th>\n",
       "      <th>c1</th>\n",
       "      <th>buyers</th>\n",
       "      <th>buyers_rel</th>\n",
       "      <th>buyers_this_product_rel</th>\n",
       "      <th>revenue</th>\n",
       "      <th>revenue_rel</th>\n",
       "      <th>RB</th>\n",
       "      <th>RU</th>\n",
       "    </tr>\n",
       "  </thead>\n",
       "  <tbody>\n",
       "    <tr>\n",
       "      <th>test</th>\n",
       "      <td>202</td>\n",
       "      <td>0.0099</td>\n",
       "      <td>2</td>\n",
       "      <td>0.03</td>\n",
       "      <td>1.00</td>\n",
       "      <td>27079.0</td>\n",
       "      <td>1.00</td>\n",
       "      <td>13539.50</td>\n",
       "      <td>134.05</td>\n",
       "    </tr>\n",
       "    <tr>\n",
       "      <th>control_1</th>\n",
       "      <td>182</td>\n",
       "      <td>0.0220</td>\n",
       "      <td>4</td>\n",
       "      <td>0.06</td>\n",
       "      <td>1.00</td>\n",
       "      <td>45409.0</td>\n",
       "      <td>1.00</td>\n",
       "      <td>11352.25</td>\n",
       "      <td>249.50</td>\n",
       "    </tr>\n",
       "    <tr>\n",
       "      <th>control_2</th>\n",
       "      <td>195</td>\n",
       "      <td>0.0051</td>\n",
       "      <td>1</td>\n",
       "      <td>0.02</td>\n",
       "      <td>0.14</td>\n",
       "      <td>12727.0</td>\n",
       "      <td>0.31</td>\n",
       "      <td>12727.00</td>\n",
       "      <td>65.27</td>\n",
       "    </tr>\n",
       "  </tbody>\n",
       "</table>\n",
       "</div>"
      ],
      "text/plain": [
       "           users      c1  buyers  buyers_rel  buyers_this_product_rel  \\\n",
       "test         202  0.0099       2        0.03                     1.00   \n",
       "control_1    182  0.0220       4        0.06                     1.00   \n",
       "control_2    195  0.0051       1        0.02                     0.14   \n",
       "\n",
       "           revenue  revenue_rel        RB      RU  \n",
       "test       27079.0         1.00  13539.50  134.05  \n",
       "control_1  45409.0         1.00  11352.25  249.50  \n",
       "control_2  12727.0         0.31  12727.00   65.27  "
      ]
     },
     "execution_count": 95,
     "metadata": {},
     "output_type": "execute_result"
    }
   ],
   "source": [
    "product_sales('trial_premium', gender = '0')"
   ]
  },
  {
   "cell_type": "markdown",
   "id": "ae9e1741",
   "metadata": {},
   "source": [
    "Для пола '0' очень маленькое количество покупателей. Сложно делать статистические выводы.\n",
    "Пользователи этого пола из тестовой группы покупали только `trial_premium`."
   ]
  },
  {
   "cell_type": "code",
   "execution_count": 96,
   "id": "d3d088af",
   "metadata": {
    "scrolled": true
   },
   "outputs": [
    {
     "data": {
      "text/html": [
       "<div>\n",
       "<style scoped>\n",
       "    .dataframe tbody tr th:only-of-type {\n",
       "        vertical-align: middle;\n",
       "    }\n",
       "\n",
       "    .dataframe tbody tr th {\n",
       "        vertical-align: top;\n",
       "    }\n",
       "\n",
       "    .dataframe thead th {\n",
       "        text-align: right;\n",
       "    }\n",
       "</style>\n",
       "<table border=\"1\" class=\"dataframe\">\n",
       "  <thead>\n",
       "    <tr style=\"text-align: right;\">\n",
       "      <th></th>\n",
       "      <th>users</th>\n",
       "      <th>c1</th>\n",
       "      <th>buyers</th>\n",
       "      <th>buyers_rel</th>\n",
       "      <th>buyers_this_product_rel</th>\n",
       "      <th>revenue</th>\n",
       "      <th>revenue_rel</th>\n",
       "      <th>RB</th>\n",
       "      <th>RU</th>\n",
       "    </tr>\n",
       "  </thead>\n",
       "  <tbody>\n",
       "    <tr>\n",
       "      <th>test</th>\n",
       "      <td>4105</td>\n",
       "      <td>0.0144</td>\n",
       "      <td>59</td>\n",
       "      <td>0.97</td>\n",
       "      <td>0.41</td>\n",
       "      <td>773123.0</td>\n",
       "      <td>0.34</td>\n",
       "      <td>13103.78</td>\n",
       "      <td>188.34</td>\n",
       "    </tr>\n",
       "    <tr>\n",
       "      <th>control_1</th>\n",
       "      <td>4156</td>\n",
       "      <td>0.0152</td>\n",
       "      <td>63</td>\n",
       "      <td>0.94</td>\n",
       "      <td>0.34</td>\n",
       "      <td>727311.0</td>\n",
       "      <td>0.29</td>\n",
       "      <td>11544.62</td>\n",
       "      <td>175.00</td>\n",
       "    </tr>\n",
       "    <tr>\n",
       "      <th>control_2</th>\n",
       "      <td>4069</td>\n",
       "      <td>0.0128</td>\n",
       "      <td>52</td>\n",
       "      <td>0.98</td>\n",
       "      <td>0.29</td>\n",
       "      <td>631254.0</td>\n",
       "      <td>0.34</td>\n",
       "      <td>12139.50</td>\n",
       "      <td>155.14</td>\n",
       "    </tr>\n",
       "  </tbody>\n",
       "</table>\n",
       "</div>"
      ],
      "text/plain": [
       "           users      c1  buyers  buyers_rel  buyers_this_product_rel  \\\n",
       "test        4105  0.0144      59        0.97                     0.41   \n",
       "control_1   4156  0.0152      63        0.94                     0.34   \n",
       "control_2   4069  0.0128      52        0.98                     0.29   \n",
       "\n",
       "            revenue  revenue_rel        RB      RU  \n",
       "test       773123.0         0.34  13103.78  188.34  \n",
       "control_1  727311.0         0.29  11544.62  175.00  \n",
       "control_2  631254.0         0.34  12139.50  155.14  "
      ]
     },
     "execution_count": 96,
     "metadata": {},
     "output_type": "execute_result"
    }
   ],
   "source": [
    "product_sales('trial_premium', gender = '1')"
   ]
  },
  {
   "cell_type": "markdown",
   "id": "4f38d55f",
   "metadata": {},
   "source": [
    "Конверсия c1 примерно на том же уровне. Доля покупок пробной подписки снизилась, так же как и траты на неё."
   ]
  },
  {
   "cell_type": "code",
   "execution_count": 97,
   "id": "33745868",
   "metadata": {},
   "outputs": [
    {
     "data": {
      "text/html": [
       "<div>\n",
       "<style scoped>\n",
       "    .dataframe tbody tr th:only-of-type {\n",
       "        vertical-align: middle;\n",
       "    }\n",
       "\n",
       "    .dataframe tbody tr th {\n",
       "        vertical-align: top;\n",
       "    }\n",
       "\n",
       "    .dataframe thead th {\n",
       "        text-align: right;\n",
       "    }\n",
       "</style>\n",
       "<table border=\"1\" class=\"dataframe\">\n",
       "  <thead>\n",
       "    <tr style=\"text-align: right;\">\n",
       "      <th></th>\n",
       "      <th>users</th>\n",
       "      <th>c1</th>\n",
       "      <th>buyers</th>\n",
       "      <th>buyers_rel</th>\n",
       "      <th>buyers_this_product_rel</th>\n",
       "      <th>revenue</th>\n",
       "      <th>revenue_rel</th>\n",
       "      <th>RB</th>\n",
       "      <th>RU</th>\n",
       "    </tr>\n",
       "  </thead>\n",
       "  <tbody>\n",
       "    <tr>\n",
       "      <th>test</th>\n",
       "      <td>202</td>\n",
       "      <td>0.0</td>\n",
       "      <td>0</td>\n",
       "      <td>0.0</td>\n",
       "      <td>0.0</td>\n",
       "      <td>0.0</td>\n",
       "      <td>0.0</td>\n",
       "      <td>0</td>\n",
       "      <td>0.0</td>\n",
       "    </tr>\n",
       "    <tr>\n",
       "      <th>control_1</th>\n",
       "      <td>182</td>\n",
       "      <td>0.0</td>\n",
       "      <td>0</td>\n",
       "      <td>0.0</td>\n",
       "      <td>0.0</td>\n",
       "      <td>0.0</td>\n",
       "      <td>0.0</td>\n",
       "      <td>0</td>\n",
       "      <td>0.0</td>\n",
       "    </tr>\n",
       "    <tr>\n",
       "      <th>control_2</th>\n",
       "      <td>195</td>\n",
       "      <td>0.0</td>\n",
       "      <td>0</td>\n",
       "      <td>0.0</td>\n",
       "      <td>0.0</td>\n",
       "      <td>0.0</td>\n",
       "      <td>0.0</td>\n",
       "      <td>0</td>\n",
       "      <td>0.0</td>\n",
       "    </tr>\n",
       "  </tbody>\n",
       "</table>\n",
       "</div>"
      ],
      "text/plain": [
       "           users   c1  buyers  buyers_rel  buyers_this_product_rel  revenue  \\\n",
       "test         202  0.0       0         0.0                      0.0      0.0   \n",
       "control_1    182  0.0       0         0.0                      0.0      0.0   \n",
       "control_2    195  0.0       0         0.0                      0.0      0.0   \n",
       "\n",
       "           revenue_rel  RB   RU  \n",
       "test               0.0   0  0.0  \n",
       "control_1          0.0   0  0.0  \n",
       "control_2          0.0   0  0.0  "
      ]
     },
     "execution_count": 97,
     "metadata": {},
     "output_type": "execute_result"
    }
   ],
   "source": [
    "product_sales('coins', gender = '0')"
   ]
  },
  {
   "cell_type": "markdown",
   "id": "607f1a4e",
   "metadata": {},
   "source": [
    "Пол '0' вообще не покупал монеты."
   ]
  },
  {
   "cell_type": "code",
   "execution_count": 98,
   "id": "e5920b8f",
   "metadata": {},
   "outputs": [
    {
     "data": {
      "text/html": [
       "<div>\n",
       "<style scoped>\n",
       "    .dataframe tbody tr th:only-of-type {\n",
       "        vertical-align: middle;\n",
       "    }\n",
       "\n",
       "    .dataframe tbody tr th {\n",
       "        vertical-align: top;\n",
       "    }\n",
       "\n",
       "    .dataframe thead th {\n",
       "        text-align: right;\n",
       "    }\n",
       "</style>\n",
       "<table border=\"1\" class=\"dataframe\">\n",
       "  <thead>\n",
       "    <tr style=\"text-align: right;\">\n",
       "      <th></th>\n",
       "      <th>users</th>\n",
       "      <th>c1</th>\n",
       "      <th>buyers</th>\n",
       "      <th>buyers_rel</th>\n",
       "      <th>buyers_this_product_rel</th>\n",
       "      <th>revenue</th>\n",
       "      <th>revenue_rel</th>\n",
       "      <th>RB</th>\n",
       "      <th>RU</th>\n",
       "    </tr>\n",
       "  </thead>\n",
       "  <tbody>\n",
       "    <tr>\n",
       "      <th>test</th>\n",
       "      <td>4105</td>\n",
       "      <td>0.0127</td>\n",
       "      <td>52</td>\n",
       "      <td>1.0</td>\n",
       "      <td>0.36</td>\n",
       "      <td>566176.0</td>\n",
       "      <td>0.25</td>\n",
       "      <td>10888.00</td>\n",
       "      <td>137.92</td>\n",
       "    </tr>\n",
       "    <tr>\n",
       "      <th>control_1</th>\n",
       "      <td>4156</td>\n",
       "      <td>0.0156</td>\n",
       "      <td>65</td>\n",
       "      <td>1.0</td>\n",
       "      <td>0.35</td>\n",
       "      <td>871910.0</td>\n",
       "      <td>0.34</td>\n",
       "      <td>13414.00</td>\n",
       "      <td>209.80</td>\n",
       "    </tr>\n",
       "    <tr>\n",
       "      <th>control_2</th>\n",
       "      <td>4069</td>\n",
       "      <td>0.0170</td>\n",
       "      <td>69</td>\n",
       "      <td>1.0</td>\n",
       "      <td>0.38</td>\n",
       "      <td>402909.0</td>\n",
       "      <td>0.21</td>\n",
       "      <td>5839.26</td>\n",
       "      <td>99.02</td>\n",
       "    </tr>\n",
       "  </tbody>\n",
       "</table>\n",
       "</div>"
      ],
      "text/plain": [
       "           users      c1  buyers  buyers_rel  buyers_this_product_rel  \\\n",
       "test        4105  0.0127      52         1.0                     0.36   \n",
       "control_1   4156  0.0156      65         1.0                     0.35   \n",
       "control_2   4069  0.0170      69         1.0                     0.38   \n",
       "\n",
       "            revenue  revenue_rel        RB      RU  \n",
       "test       566176.0         0.25  10888.00  137.92  \n",
       "control_1  871910.0         0.34  13414.00  209.80  \n",
       "control_2  402909.0         0.21   5839.26   99.02  "
      ]
     },
     "execution_count": 98,
     "metadata": {},
     "output_type": "execute_result"
    }
   ],
   "source": [
    "product_sales('coins', gender = '1')"
   ]
  },
  {
   "cell_type": "markdown",
   "id": "774be0a4",
   "metadata": {},
   "source": [
    "В обоих случаях рост конверсии, резкое увеличие относительных расходов в контрольной группе 1 и уменьшение - в группе 2."
   ]
  },
  {
   "cell_type": "code",
   "execution_count": 99,
   "id": "943f6a51",
   "metadata": {},
   "outputs": [
    {
     "data": {
      "text/html": [
       "<div>\n",
       "<style scoped>\n",
       "    .dataframe tbody tr th:only-of-type {\n",
       "        vertical-align: middle;\n",
       "    }\n",
       "\n",
       "    .dataframe tbody tr th {\n",
       "        vertical-align: top;\n",
       "    }\n",
       "\n",
       "    .dataframe thead th {\n",
       "        text-align: right;\n",
       "    }\n",
       "</style>\n",
       "<table border=\"1\" class=\"dataframe\">\n",
       "  <thead>\n",
       "    <tr style=\"text-align: right;\">\n",
       "      <th></th>\n",
       "      <th>users</th>\n",
       "      <th>c1</th>\n",
       "      <th>buyers</th>\n",
       "      <th>buyers_rel</th>\n",
       "      <th>buyers_this_product_rel</th>\n",
       "      <th>revenue</th>\n",
       "      <th>revenue_rel</th>\n",
       "      <th>RB</th>\n",
       "      <th>RU</th>\n",
       "    </tr>\n",
       "  </thead>\n",
       "  <tbody>\n",
       "    <tr>\n",
       "      <th>test</th>\n",
       "      <td>202</td>\n",
       "      <td>0.0000</td>\n",
       "      <td>0</td>\n",
       "      <td>0.00</td>\n",
       "      <td>0.00</td>\n",
       "      <td>0.0</td>\n",
       "      <td>0.00</td>\n",
       "      <td>0.0</td>\n",
       "      <td>0.0</td>\n",
       "    </tr>\n",
       "    <tr>\n",
       "      <th>control_1</th>\n",
       "      <td>182</td>\n",
       "      <td>0.0000</td>\n",
       "      <td>0</td>\n",
       "      <td>0.00</td>\n",
       "      <td>0.00</td>\n",
       "      <td>0.0</td>\n",
       "      <td>0.00</td>\n",
       "      <td>0.0</td>\n",
       "      <td>0.0</td>\n",
       "    </tr>\n",
       "    <tr>\n",
       "      <th>control_2</th>\n",
       "      <td>195</td>\n",
       "      <td>0.0051</td>\n",
       "      <td>1</td>\n",
       "      <td>0.03</td>\n",
       "      <td>0.14</td>\n",
       "      <td>2730.0</td>\n",
       "      <td>0.07</td>\n",
       "      <td>2730.0</td>\n",
       "      <td>14.0</td>\n",
       "    </tr>\n",
       "  </tbody>\n",
       "</table>\n",
       "</div>"
      ],
      "text/plain": [
       "           users      c1  buyers  buyers_rel  buyers_this_product_rel  \\\n",
       "test         202  0.0000       0        0.00                     0.00   \n",
       "control_1    182  0.0000       0        0.00                     0.00   \n",
       "control_2    195  0.0051       1        0.03                     0.14   \n",
       "\n",
       "           revenue  revenue_rel      RB    RU  \n",
       "test           0.0         0.00     0.0   0.0  \n",
       "control_1      0.0         0.00     0.0   0.0  \n",
       "control_2   2730.0         0.07  2730.0  14.0  "
      ]
     },
     "execution_count": 99,
     "metadata": {},
     "output_type": "execute_result"
    }
   ],
   "source": [
    "product_sales('other_type', gender = '0')"
   ]
  },
  {
   "cell_type": "markdown",
   "id": "6ce7b70f",
   "metadata": {},
   "source": [
    "Всего один покупатель в группе 2, результат статистически не значимый. В других группах покупателей нет."
   ]
  },
  {
   "cell_type": "code",
   "execution_count": 100,
   "id": "f259ef98",
   "metadata": {},
   "outputs": [
    {
     "data": {
      "text/html": [
       "<div>\n",
       "<style scoped>\n",
       "    .dataframe tbody tr th:only-of-type {\n",
       "        vertical-align: middle;\n",
       "    }\n",
       "\n",
       "    .dataframe tbody tr th {\n",
       "        vertical-align: top;\n",
       "    }\n",
       "\n",
       "    .dataframe thead th {\n",
       "        text-align: right;\n",
       "    }\n",
       "</style>\n",
       "<table border=\"1\" class=\"dataframe\">\n",
       "  <thead>\n",
       "    <tr style=\"text-align: right;\">\n",
       "      <th></th>\n",
       "      <th>users</th>\n",
       "      <th>c1</th>\n",
       "      <th>buyers</th>\n",
       "      <th>buyers_rel</th>\n",
       "      <th>buyers_this_product_rel</th>\n",
       "      <th>revenue</th>\n",
       "      <th>revenue_rel</th>\n",
       "      <th>RB</th>\n",
       "      <th>RU</th>\n",
       "    </tr>\n",
       "  </thead>\n",
       "  <tbody>\n",
       "    <tr>\n",
       "      <th>test</th>\n",
       "      <td>4105</td>\n",
       "      <td>0.0044</td>\n",
       "      <td>18</td>\n",
       "      <td>1.00</td>\n",
       "      <td>0.13</td>\n",
       "      <td>108849.0</td>\n",
       "      <td>0.05</td>\n",
       "      <td>6047.17</td>\n",
       "      <td>26.52</td>\n",
       "    </tr>\n",
       "    <tr>\n",
       "      <th>control_1</th>\n",
       "      <td>4156</td>\n",
       "      <td>0.0067</td>\n",
       "      <td>28</td>\n",
       "      <td>1.00</td>\n",
       "      <td>0.15</td>\n",
       "      <td>157352.0</td>\n",
       "      <td>0.06</td>\n",
       "      <td>5619.71</td>\n",
       "      <td>37.86</td>\n",
       "    </tr>\n",
       "    <tr>\n",
       "      <th>control_2</th>\n",
       "      <td>4069</td>\n",
       "      <td>0.0079</td>\n",
       "      <td>32</td>\n",
       "      <td>0.97</td>\n",
       "      <td>0.18</td>\n",
       "      <td>126009.0</td>\n",
       "      <td>0.07</td>\n",
       "      <td>3937.78</td>\n",
       "      <td>30.97</td>\n",
       "    </tr>\n",
       "  </tbody>\n",
       "</table>\n",
       "</div>"
      ],
      "text/plain": [
       "           users      c1  buyers  buyers_rel  buyers_this_product_rel  \\\n",
       "test        4105  0.0044      18        1.00                     0.13   \n",
       "control_1   4156  0.0067      28        1.00                     0.15   \n",
       "control_2   4069  0.0079      32        0.97                     0.18   \n",
       "\n",
       "            revenue  revenue_rel       RB     RU  \n",
       "test       108849.0         0.05  6047.17  26.52  \n",
       "control_1  157352.0         0.06  5619.71  37.86  \n",
       "control_2  126009.0         0.07  3937.78  30.97  "
      ]
     },
     "execution_count": 100,
     "metadata": {},
     "output_type": "execute_result"
    }
   ],
   "source": [
    "product_sales('other_type', gender = '1')"
   ]
  },
  {
   "cell_type": "markdown",
   "id": "54c8939b",
   "metadata": {},
   "source": [
    "Виден рост количества покупателей пола '1' и суммы их расходов на \"прочие\" продукты."
   ]
  },
  {
   "cell_type": "markdown",
   "id": "d88c9dc0",
   "metadata": {},
   "source": [
    "**Выводы:**\n",
    "\n",
    "1. Нужно значительное привлечение пользователей пола '0'. Дабы исследования давали статистически значимые результаты. В отдельных случаях конверсия в покупателя близка к значениям для пола '1', однако в большинстве случаев она или нулевая, или намного меньше таковой для пола '1'.\n",
    "2. Возможным вариантом исследования является введение больших скидок на подписку для пола '0'.\n",
    "3. Пол '1', 'coins': в обоих обоих контрольных группах рост конверсии, с резким увеличие относительных расходов в контрольной группе 1 и уменьшением - в группе 2. Что соответствует общей картине."
   ]
  },
  {
   "cell_type": "markdown",
   "id": "5e7f8419",
   "metadata": {},
   "source": [
    "## Cтрановое разнообразие по расходам и покупателям <a class=\"anchor\" id=\"country_sales\"></a>"
   ]
  },
  {
   "cell_type": "code",
   "execution_count": 101,
   "id": "11585e2c",
   "metadata": {},
   "outputs": [],
   "source": [
    "revenue_by_countries = \\\n",
    "    purchases \\\n",
    "    .groupby(['country']) \\\n",
    "    .agg({'revenue' : 'sum', 'uid' : 'nunique'})\n",
    "\n",
    "# Сразу посчитаем метрику прибыли на одного пользователя\n",
    "revenue_by_countries['RU'] = round(revenue_by_countries['revenue'] / revenue_by_countries['uid'], 2)\n",
    "\n",
    "revenue_by_countries = revenue_by_countries.sort_values(by = ['uid'], ascending = False)"
   ]
  },
  {
   "cell_type": "code",
   "execution_count": 102,
   "id": "6387c0d2",
   "metadata": {},
   "outputs": [],
   "source": [
    "countries_with_money = revenue_by_countries.query(\"revenue > 0\")"
   ]
  },
  {
   "cell_type": "code",
   "execution_count": 103,
   "id": "1d8e5537",
   "metadata": {},
   "outputs": [
    {
     "data": {
      "text/html": [
       "<div>\n",
       "<style scoped>\n",
       "    .dataframe tbody tr th:only-of-type {\n",
       "        vertical-align: middle;\n",
       "    }\n",
       "\n",
       "    .dataframe tbody tr th {\n",
       "        vertical-align: top;\n",
       "    }\n",
       "\n",
       "    .dataframe thead th {\n",
       "        text-align: right;\n",
       "    }\n",
       "</style>\n",
       "<table border=\"1\" class=\"dataframe\">\n",
       "  <thead>\n",
       "    <tr style=\"text-align: right;\">\n",
       "      <th></th>\n",
       "      <th>revenue</th>\n",
       "      <th>uid</th>\n",
       "      <th>RU</th>\n",
       "    </tr>\n",
       "    <tr>\n",
       "      <th>country</th>\n",
       "      <th></th>\n",
       "      <th></th>\n",
       "      <th></th>\n",
       "    </tr>\n",
       "  </thead>\n",
       "  <tbody>\n",
       "    <tr>\n",
       "      <th>United States of America</th>\n",
       "      <td>2019732.0</td>\n",
       "      <td>4406</td>\n",
       "      <td>458.40</td>\n",
       "    </tr>\n",
       "    <tr>\n",
       "      <th>Argentina</th>\n",
       "      <td>453726.0</td>\n",
       "      <td>1182</td>\n",
       "      <td>383.86</td>\n",
       "    </tr>\n",
       "    <tr>\n",
       "      <th>France</th>\n",
       "      <td>572156.0</td>\n",
       "      <td>1104</td>\n",
       "      <td>518.26</td>\n",
       "    </tr>\n",
       "    <tr>\n",
       "      <th>Italy</th>\n",
       "      <td>866112.0</td>\n",
       "      <td>954</td>\n",
       "      <td>907.87</td>\n",
       "    </tr>\n",
       "    <tr>\n",
       "      <th>Spain</th>\n",
       "      <td>578266.0</td>\n",
       "      <td>953</td>\n",
       "      <td>606.78</td>\n",
       "    </tr>\n",
       "    <tr>\n",
       "      <th>Chile</th>\n",
       "      <td>276120.0</td>\n",
       "      <td>845</td>\n",
       "      <td>326.77</td>\n",
       "    </tr>\n",
       "    <tr>\n",
       "      <th>United Arab Emirates</th>\n",
       "      <td>406471.0</td>\n",
       "      <td>644</td>\n",
       "      <td>631.17</td>\n",
       "    </tr>\n",
       "    <tr>\n",
       "      <th>Germany</th>\n",
       "      <td>191503.0</td>\n",
       "      <td>599</td>\n",
       "      <td>319.70</td>\n",
       "    </tr>\n",
       "    <tr>\n",
       "      <th>United Kingdom (Great Britain)</th>\n",
       "      <td>372814.0</td>\n",
       "      <td>461</td>\n",
       "      <td>808.71</td>\n",
       "    </tr>\n",
       "    <tr>\n",
       "      <th>Canada</th>\n",
       "      <td>186056.0</td>\n",
       "      <td>405</td>\n",
       "      <td>459.40</td>\n",
       "    </tr>\n",
       "    <tr>\n",
       "      <th>Israel</th>\n",
       "      <td>282126.0</td>\n",
       "      <td>293</td>\n",
       "      <td>962.89</td>\n",
       "    </tr>\n",
       "    <tr>\n",
       "      <th>Portugal</th>\n",
       "      <td>73242.0</td>\n",
       "      <td>291</td>\n",
       "      <td>251.69</td>\n",
       "    </tr>\n",
       "    <tr>\n",
       "      <th>Belgium</th>\n",
       "      <td>218530.0</td>\n",
       "      <td>290</td>\n",
       "      <td>753.55</td>\n",
       "    </tr>\n",
       "    <tr>\n",
       "      <th>Australia</th>\n",
       "      <td>53547.0</td>\n",
       "      <td>163</td>\n",
       "      <td>328.51</td>\n",
       "    </tr>\n",
       "    <tr>\n",
       "      <th>Switzerland</th>\n",
       "      <td>76921.0</td>\n",
       "      <td>112</td>\n",
       "      <td>686.79</td>\n",
       "    </tr>\n",
       "    <tr>\n",
       "      <th>Ukraine</th>\n",
       "      <td>8879.0</td>\n",
       "      <td>41</td>\n",
       "      <td>216.56</td>\n",
       "    </tr>\n",
       "    <tr>\n",
       "      <th>Turkey</th>\n",
       "      <td>100542.0</td>\n",
       "      <td>18</td>\n",
       "      <td>5585.67</td>\n",
       "    </tr>\n",
       "    <tr>\n",
       "      <th>Mexico</th>\n",
       "      <td>6214.0</td>\n",
       "      <td>15</td>\n",
       "      <td>414.27</td>\n",
       "    </tr>\n",
       "    <tr>\n",
       "      <th>India</th>\n",
       "      <td>9620.0</td>\n",
       "      <td>12</td>\n",
       "      <td>801.67</td>\n",
       "    </tr>\n",
       "    <tr>\n",
       "      <th>Latvia</th>\n",
       "      <td>10101.0</td>\n",
       "      <td>2</td>\n",
       "      <td>5050.50</td>\n",
       "    </tr>\n",
       "    <tr>\n",
       "      <th>Austria</th>\n",
       "      <td>12168.0</td>\n",
       "      <td>2</td>\n",
       "      <td>6084.00</td>\n",
       "    </tr>\n",
       "    <tr>\n",
       "      <th>Lithuania</th>\n",
       "      <td>12766.0</td>\n",
       "      <td>1</td>\n",
       "      <td>12766.00</td>\n",
       "    </tr>\n",
       "  </tbody>\n",
       "</table>\n",
       "</div>"
      ],
      "text/plain": [
       "                                  revenue   uid        RU\n",
       "country                                                  \n",
       "United States of America        2019732.0  4406    458.40\n",
       "Argentina                        453726.0  1182    383.86\n",
       "France                           572156.0  1104    518.26\n",
       "Italy                            866112.0   954    907.87\n",
       "Spain                            578266.0   953    606.78\n",
       "Chile                            276120.0   845    326.77\n",
       "United Arab Emirates             406471.0   644    631.17\n",
       "Germany                          191503.0   599    319.70\n",
       "United Kingdom (Great Britain)   372814.0   461    808.71\n",
       "Canada                           186056.0   405    459.40\n",
       "Israel                           282126.0   293    962.89\n",
       "Portugal                          73242.0   291    251.69\n",
       "Belgium                          218530.0   290    753.55\n",
       "Australia                         53547.0   163    328.51\n",
       "Switzerland                       76921.0   112    686.79\n",
       "Ukraine                            8879.0    41    216.56\n",
       "Turkey                           100542.0    18   5585.67\n",
       "Mexico                             6214.0    15    414.27\n",
       "India                              9620.0    12    801.67\n",
       "Latvia                            10101.0     2   5050.50\n",
       "Austria                           12168.0     2   6084.00\n",
       "Lithuania                         12766.0     1  12766.00"
      ]
     },
     "execution_count": 103,
     "metadata": {},
     "output_type": "execute_result"
    }
   ],
   "source": [
    "countries_with_money"
   ]
  },
  {
   "cell_type": "markdown",
   "id": "30aaaac4",
   "metadata": {},
   "source": [
    "Стран, пользователи которых совершали какие-то покупки:"
   ]
  },
  {
   "cell_type": "code",
   "execution_count": 104,
   "id": "8818671e",
   "metadata": {},
   "outputs": [
    {
     "data": {
      "text/plain": [
       "22"
      ]
     },
     "execution_count": 104,
     "metadata": {},
     "output_type": "execute_result"
    }
   ],
   "source": [
    "countries_with_money.shape[0]"
   ]
  },
  {
   "cell_type": "markdown",
   "id": "8c7f1554",
   "metadata": {},
   "source": [
    "Тогда как всего стран:"
   ]
  },
  {
   "cell_type": "code",
   "execution_count": 105,
   "id": "729bc60b",
   "metadata": {},
   "outputs": [
    {
     "data": {
      "text/plain": [
       "72"
      ]
     },
     "execution_count": 105,
     "metadata": {},
     "output_type": "execute_result"
    }
   ],
   "source": [
    "revenue_by_countries.shape[0]"
   ]
  },
  {
   "cell_type": "markdown",
   "id": "2fe47d04",
   "metadata": {},
   "source": [
    "**Вывод:** ни в тестовой, ни в контрольных группах никак не проявили себя пользователи из 72 - 22 = 50 стран. Необходимо понять, как можно продать пользователям из этих стран платные услуги."
   ]
  },
  {
   "cell_type": "markdown",
   "id": "1ce505ca",
   "metadata": {},
   "source": [
    "Также видно, что для отдельных стран (*Литва, Австрия, Латвия*) получены очень большие значения удельной средней величины покупок при очень небольшом числе пользователей -- то есть за счёт отдельных особо богатых пользователей.\n",
    "\n",
    "В *Турции* число богатых покупателей достаточно большое -- 18 человек."
   ]
  },
  {
   "cell_type": "markdown",
   "id": "5c5544b9",
   "metadata": {},
   "source": [
    "Остальные страны можно поделить на две категории исходя из медианного значения удельных трат:"
   ]
  },
  {
   "cell_type": "code",
   "execution_count": 107,
   "id": "3aa0036c",
   "metadata": {},
   "outputs": [
    {
     "data": {
      "text/plain": [
       "618.97"
      ]
     },
     "execution_count": 107,
     "metadata": {},
     "output_type": "execute_result"
    }
   ],
   "source": [
    "RU_median = round(countries_with_money['RU'].median(), 2)\n",
    "RU_median"
   ]
  },
  {
   "cell_type": "code",
   "execution_count": 108,
   "id": "85ed3263",
   "metadata": {},
   "outputs": [
    {
     "data": {
      "text/html": [
       "<div>\n",
       "<style scoped>\n",
       "    .dataframe tbody tr th:only-of-type {\n",
       "        vertical-align: middle;\n",
       "    }\n",
       "\n",
       "    .dataframe tbody tr th {\n",
       "        vertical-align: top;\n",
       "    }\n",
       "\n",
       "    .dataframe thead th {\n",
       "        text-align: right;\n",
       "    }\n",
       "</style>\n",
       "<table border=\"1\" class=\"dataframe\">\n",
       "  <thead>\n",
       "    <tr style=\"text-align: right;\">\n",
       "      <th></th>\n",
       "      <th>revenue</th>\n",
       "      <th>uid</th>\n",
       "      <th>RU</th>\n",
       "    </tr>\n",
       "    <tr>\n",
       "      <th>country</th>\n",
       "      <th></th>\n",
       "      <th></th>\n",
       "      <th></th>\n",
       "    </tr>\n",
       "  </thead>\n",
       "  <tbody>\n",
       "    <tr>\n",
       "      <th>Lithuania</th>\n",
       "      <td>12766.0</td>\n",
       "      <td>1</td>\n",
       "      <td>12766.00</td>\n",
       "    </tr>\n",
       "    <tr>\n",
       "      <th>Austria</th>\n",
       "      <td>12168.0</td>\n",
       "      <td>2</td>\n",
       "      <td>6084.00</td>\n",
       "    </tr>\n",
       "    <tr>\n",
       "      <th>Turkey</th>\n",
       "      <td>100542.0</td>\n",
       "      <td>18</td>\n",
       "      <td>5585.67</td>\n",
       "    </tr>\n",
       "    <tr>\n",
       "      <th>Latvia</th>\n",
       "      <td>10101.0</td>\n",
       "      <td>2</td>\n",
       "      <td>5050.50</td>\n",
       "    </tr>\n",
       "  </tbody>\n",
       "</table>\n",
       "</div>"
      ],
      "text/plain": [
       "            revenue  uid        RU\n",
       "country                           \n",
       "Lithuania   12766.0    1  12766.00\n",
       "Austria     12168.0    2   6084.00\n",
       "Turkey     100542.0   18   5585.67\n",
       "Latvia      10101.0    2   5050.50"
      ]
     },
     "execution_count": 108,
     "metadata": {},
     "output_type": "execute_result"
    }
   ],
   "source": [
    "countries_with_money[(countries_with_money['RU'] > 2*RU_median)] \\\n",
    "    .sort_values(by = ['RU'], ascending = False)"
   ]
  },
  {
   "cell_type": "code",
   "execution_count": 109,
   "id": "7aacbcb2",
   "metadata": {},
   "outputs": [
    {
     "data": {
      "text/html": [
       "<div>\n",
       "<style scoped>\n",
       "    .dataframe tbody tr th:only-of-type {\n",
       "        vertical-align: middle;\n",
       "    }\n",
       "\n",
       "    .dataframe tbody tr th {\n",
       "        vertical-align: top;\n",
       "    }\n",
       "\n",
       "    .dataframe thead th {\n",
       "        text-align: right;\n",
       "    }\n",
       "</style>\n",
       "<table border=\"1\" class=\"dataframe\">\n",
       "  <thead>\n",
       "    <tr style=\"text-align: right;\">\n",
       "      <th></th>\n",
       "      <th>revenue</th>\n",
       "      <th>uid</th>\n",
       "      <th>RU</th>\n",
       "    </tr>\n",
       "    <tr>\n",
       "      <th>country</th>\n",
       "      <th></th>\n",
       "      <th></th>\n",
       "      <th></th>\n",
       "    </tr>\n",
       "  </thead>\n",
       "  <tbody>\n",
       "    <tr>\n",
       "      <th>Israel</th>\n",
       "      <td>282126.0</td>\n",
       "      <td>293</td>\n",
       "      <td>962.89</td>\n",
       "    </tr>\n",
       "    <tr>\n",
       "      <th>Italy</th>\n",
       "      <td>866112.0</td>\n",
       "      <td>954</td>\n",
       "      <td>907.87</td>\n",
       "    </tr>\n",
       "    <tr>\n",
       "      <th>United Kingdom (Great Britain)</th>\n",
       "      <td>372814.0</td>\n",
       "      <td>461</td>\n",
       "      <td>808.71</td>\n",
       "    </tr>\n",
       "    <tr>\n",
       "      <th>India</th>\n",
       "      <td>9620.0</td>\n",
       "      <td>12</td>\n",
       "      <td>801.67</td>\n",
       "    </tr>\n",
       "    <tr>\n",
       "      <th>Belgium</th>\n",
       "      <td>218530.0</td>\n",
       "      <td>290</td>\n",
       "      <td>753.55</td>\n",
       "    </tr>\n",
       "    <tr>\n",
       "      <th>Switzerland</th>\n",
       "      <td>76921.0</td>\n",
       "      <td>112</td>\n",
       "      <td>686.79</td>\n",
       "    </tr>\n",
       "    <tr>\n",
       "      <th>United Arab Emirates</th>\n",
       "      <td>406471.0</td>\n",
       "      <td>644</td>\n",
       "      <td>631.17</td>\n",
       "    </tr>\n",
       "  </tbody>\n",
       "</table>\n",
       "</div>"
      ],
      "text/plain": [
       "                                 revenue  uid      RU\n",
       "country                                              \n",
       "Israel                          282126.0  293  962.89\n",
       "Italy                           866112.0  954  907.87\n",
       "United Kingdom (Great Britain)  372814.0  461  808.71\n",
       "India                             9620.0   12  801.67\n",
       "Belgium                         218530.0  290  753.55\n",
       "Switzerland                      76921.0  112  686.79\n",
       "United Arab Emirates            406471.0  644  631.17"
      ]
     },
     "execution_count": 109,
     "metadata": {},
     "output_type": "execute_result"
    }
   ],
   "source": [
    "countries_with_money[(countries_with_money['RU'] >= RU_median) & (countries_with_money['RU'] <= 2*RU_median)] \\\n",
    "    .sort_values(by = ['RU'], ascending = False)"
   ]
  },
  {
   "cell_type": "code",
   "execution_count": 110,
   "id": "6d43be23",
   "metadata": {},
   "outputs": [
    {
     "data": {
      "text/html": [
       "<div>\n",
       "<style scoped>\n",
       "    .dataframe tbody tr th:only-of-type {\n",
       "        vertical-align: middle;\n",
       "    }\n",
       "\n",
       "    .dataframe tbody tr th {\n",
       "        vertical-align: top;\n",
       "    }\n",
       "\n",
       "    .dataframe thead th {\n",
       "        text-align: right;\n",
       "    }\n",
       "</style>\n",
       "<table border=\"1\" class=\"dataframe\">\n",
       "  <thead>\n",
       "    <tr style=\"text-align: right;\">\n",
       "      <th></th>\n",
       "      <th>revenue</th>\n",
       "      <th>uid</th>\n",
       "      <th>RU</th>\n",
       "    </tr>\n",
       "    <tr>\n",
       "      <th>country</th>\n",
       "      <th></th>\n",
       "      <th></th>\n",
       "      <th></th>\n",
       "    </tr>\n",
       "  </thead>\n",
       "  <tbody>\n",
       "    <tr>\n",
       "      <th>Spain</th>\n",
       "      <td>578266.0</td>\n",
       "      <td>953</td>\n",
       "      <td>606.78</td>\n",
       "    </tr>\n",
       "    <tr>\n",
       "      <th>France</th>\n",
       "      <td>572156.0</td>\n",
       "      <td>1104</td>\n",
       "      <td>518.26</td>\n",
       "    </tr>\n",
       "    <tr>\n",
       "      <th>Canada</th>\n",
       "      <td>186056.0</td>\n",
       "      <td>405</td>\n",
       "      <td>459.40</td>\n",
       "    </tr>\n",
       "    <tr>\n",
       "      <th>United States of America</th>\n",
       "      <td>2019732.0</td>\n",
       "      <td>4406</td>\n",
       "      <td>458.40</td>\n",
       "    </tr>\n",
       "    <tr>\n",
       "      <th>Mexico</th>\n",
       "      <td>6214.0</td>\n",
       "      <td>15</td>\n",
       "      <td>414.27</td>\n",
       "    </tr>\n",
       "    <tr>\n",
       "      <th>Argentina</th>\n",
       "      <td>453726.0</td>\n",
       "      <td>1182</td>\n",
       "      <td>383.86</td>\n",
       "    </tr>\n",
       "    <tr>\n",
       "      <th>Australia</th>\n",
       "      <td>53547.0</td>\n",
       "      <td>163</td>\n",
       "      <td>328.51</td>\n",
       "    </tr>\n",
       "    <tr>\n",
       "      <th>Chile</th>\n",
       "      <td>276120.0</td>\n",
       "      <td>845</td>\n",
       "      <td>326.77</td>\n",
       "    </tr>\n",
       "    <tr>\n",
       "      <th>Germany</th>\n",
       "      <td>191503.0</td>\n",
       "      <td>599</td>\n",
       "      <td>319.70</td>\n",
       "    </tr>\n",
       "    <tr>\n",
       "      <th>Portugal</th>\n",
       "      <td>73242.0</td>\n",
       "      <td>291</td>\n",
       "      <td>251.69</td>\n",
       "    </tr>\n",
       "    <tr>\n",
       "      <th>Ukraine</th>\n",
       "      <td>8879.0</td>\n",
       "      <td>41</td>\n",
       "      <td>216.56</td>\n",
       "    </tr>\n",
       "  </tbody>\n",
       "</table>\n",
       "</div>"
      ],
      "text/plain": [
       "                            revenue   uid      RU\n",
       "country                                          \n",
       "Spain                      578266.0   953  606.78\n",
       "France                     572156.0  1104  518.26\n",
       "Canada                     186056.0   405  459.40\n",
       "United States of America  2019732.0  4406  458.40\n",
       "Mexico                       6214.0    15  414.27\n",
       "Argentina                  453726.0  1182  383.86\n",
       "Australia                   53547.0   163  328.51\n",
       "Chile                      276120.0   845  326.77\n",
       "Germany                    191503.0   599  319.70\n",
       "Portugal                    73242.0   291  251.69\n",
       "Ukraine                      8879.0    41  216.56"
      ]
     },
     "execution_count": 110,
     "metadata": {},
     "output_type": "execute_result"
    }
   ],
   "source": [
    "countries_with_money[(countries_with_money['RU'] < RU_median)] \\\n",
    "    .sort_values(by = ['RU'], ascending = False)"
   ]
  },
  {
   "cell_type": "code",
   "execution_count": 111,
   "id": "e04b2f84",
   "metadata": {},
   "outputs": [
    {
     "data": {
      "text/html": [
       "<div>\n",
       "<style scoped>\n",
       "    .dataframe tbody tr th:only-of-type {\n",
       "        vertical-align: middle;\n",
       "    }\n",
       "\n",
       "    .dataframe tbody tr th {\n",
       "        vertical-align: top;\n",
       "    }\n",
       "\n",
       "    .dataframe thead th {\n",
       "        text-align: right;\n",
       "    }\n",
       "</style>\n",
       "<table border=\"1\" class=\"dataframe\">\n",
       "  <thead>\n",
       "    <tr style=\"text-align: right;\">\n",
       "      <th></th>\n",
       "      <th>uid</th>\n",
       "      <th>purchases</th>\n",
       "      <th>revenue</th>\n",
       "      <th>gender</th>\n",
       "      <th>age</th>\n",
       "      <th>attraction_coeff</th>\n",
       "      <th>country</th>\n",
       "      <th>group</th>\n",
       "    </tr>\n",
       "  </thead>\n",
       "  <tbody>\n",
       "    <tr>\n",
       "      <th>0</th>\n",
       "      <td>892236423</td>\n",
       "      <td>14</td>\n",
       "      <td>95823.0</td>\n",
       "      <td>1</td>\n",
       "      <td>23</td>\n",
       "      <td>262</td>\n",
       "      <td>United States of America</td>\n",
       "      <td>test</td>\n",
       "    </tr>\n",
       "    <tr>\n",
       "      <th>1</th>\n",
       "      <td>892065108</td>\n",
       "      <td>9</td>\n",
       "      <td>47242.0</td>\n",
       "      <td>1</td>\n",
       "      <td>99</td>\n",
       "      <td>475</td>\n",
       "      <td>France</td>\n",
       "      <td>test</td>\n",
       "    </tr>\n",
       "    <tr>\n",
       "      <th>2</th>\n",
       "      <td>892057347</td>\n",
       "      <td>9</td>\n",
       "      <td>30459.0</td>\n",
       "      <td>1</td>\n",
       "      <td>29</td>\n",
       "      <td>366</td>\n",
       "      <td>France</td>\n",
       "      <td>test</td>\n",
       "    </tr>\n",
       "    <tr>\n",
       "      <th>3</th>\n",
       "      <td>892339626</td>\n",
       "      <td>9</td>\n",
       "      <td>17758.0</td>\n",
       "      <td>1</td>\n",
       "      <td>37</td>\n",
       "      <td>684</td>\n",
       "      <td>United States of America</td>\n",
       "      <td>test</td>\n",
       "    </tr>\n",
       "    <tr>\n",
       "      <th>4</th>\n",
       "      <td>891174411</td>\n",
       "      <td>6</td>\n",
       "      <td>28080.0</td>\n",
       "      <td>1</td>\n",
       "      <td>35</td>\n",
       "      <td>150</td>\n",
       "      <td>Israel</td>\n",
       "      <td>test</td>\n",
       "    </tr>\n",
       "    <tr>\n",
       "      <th>...</th>\n",
       "      <td>...</td>\n",
       "      <td>...</td>\n",
       "      <td>...</td>\n",
       "      <td>...</td>\n",
       "      <td>...</td>\n",
       "      <td>...</td>\n",
       "      <td>...</td>\n",
       "      <td>...</td>\n",
       "    </tr>\n",
       "    <tr>\n",
       "      <th>4259</th>\n",
       "      <td>891462819</td>\n",
       "      <td>0</td>\n",
       "      <td>0.0</td>\n",
       "      <td>1</td>\n",
       "      <td>21</td>\n",
       "      <td>0</td>\n",
       "      <td>Chile</td>\n",
       "      <td>control_2</td>\n",
       "    </tr>\n",
       "    <tr>\n",
       "      <th>4260</th>\n",
       "      <td>891462984</td>\n",
       "      <td>0</td>\n",
       "      <td>0.0</td>\n",
       "      <td>1</td>\n",
       "      <td>16</td>\n",
       "      <td>0</td>\n",
       "      <td>United States of America</td>\n",
       "      <td>control_2</td>\n",
       "    </tr>\n",
       "    <tr>\n",
       "      <th>4261</th>\n",
       "      <td>891463065</td>\n",
       "      <td>0</td>\n",
       "      <td>0.0</td>\n",
       "      <td>1</td>\n",
       "      <td>34</td>\n",
       "      <td>903</td>\n",
       "      <td>Argentina</td>\n",
       "      <td>control_2</td>\n",
       "    </tr>\n",
       "    <tr>\n",
       "      <th>4262</th>\n",
       "      <td>891463146</td>\n",
       "      <td>0</td>\n",
       "      <td>0.0</td>\n",
       "      <td>1</td>\n",
       "      <td>48</td>\n",
       "      <td>500</td>\n",
       "      <td>France</td>\n",
       "      <td>control_2</td>\n",
       "    </tr>\n",
       "    <tr>\n",
       "      <th>4263</th>\n",
       "      <td>1053059022</td>\n",
       "      <td>0</td>\n",
       "      <td>0.0</td>\n",
       "      <td>0</td>\n",
       "      <td>21</td>\n",
       "      <td>1</td>\n",
       "      <td>Russian Federation</td>\n",
       "      <td>control_2</td>\n",
       "    </tr>\n",
       "  </tbody>\n",
       "</table>\n",
       "<p>12909 rows × 8 columns</p>\n",
       "</div>"
      ],
      "text/plain": [
       "             uid  purchases  revenue gender  age  attraction_coeff  \\\n",
       "0      892236423         14  95823.0      1   23               262   \n",
       "1      892065108          9  47242.0      1   99               475   \n",
       "2      892057347          9  30459.0      1   29               366   \n",
       "3      892339626          9  17758.0      1   37               684   \n",
       "4      891174411          6  28080.0      1   35               150   \n",
       "...          ...        ...      ...    ...  ...               ...   \n",
       "4259   891462819          0      0.0      1   21                 0   \n",
       "4260   891462984          0      0.0      1   16                 0   \n",
       "4261   891463065          0      0.0      1   34               903   \n",
       "4262   891463146          0      0.0      1   48               500   \n",
       "4263  1053059022          0      0.0      0   21                 1   \n",
       "\n",
       "                       country      group  \n",
       "0     United States of America       test  \n",
       "1                       France       test  \n",
       "2                       France       test  \n",
       "3     United States of America       test  \n",
       "4                       Israel       test  \n",
       "...                        ...        ...  \n",
       "4259                     Chile  control_2  \n",
       "4260  United States of America  control_2  \n",
       "4261                 Argentina  control_2  \n",
       "4262                    France  control_2  \n",
       "4263        Russian Federation  control_2  \n",
       "\n",
       "[12909 rows x 8 columns]"
      ]
     },
     "execution_count": 111,
     "metadata": {},
     "output_type": "execute_result"
    }
   ],
   "source": [
    "purchases "
   ]
  },
  {
   "cell_type": "code",
   "execution_count": 112,
   "id": "211722f2",
   "metadata": {},
   "outputs": [],
   "source": [
    "listof_df = []\n",
    "\n",
    "for group_name in groups :\n",
    "    df = \\\n",
    "        purchases \\\n",
    "        .query(\"group == @group_name\") \\\n",
    "        .groupby('country') \\\n",
    "        .agg({'revenue': 'sum', 'uid' : 'count'}) \\\n",
    "        .rename(columns = {'uid' : 'U', 'revenue' : 'R'}) \\\n",
    "        .sort_values('country')\n",
    "    \n",
    "    df['RU'] = round(df['R'] / df['U'], 2)\n",
    "    \n",
    "    df2 = \\\n",
    "        purchases \\\n",
    "        .query(\"(group == @group_name) & (purchases > 0)\") \\\n",
    "        .groupby('country') \\\n",
    "        .agg({'uid': 'nunique'}) \\\n",
    "        .rename(columns = {'uid' : 'B'}) \\\n",
    "        .sort_values('country')\n",
    "    \n",
    "    df = df.merge(df2, on = 'country', how = 'left').fillna(0)\n",
    "    \n",
    "    df = df \\\n",
    "        .rename(columns = {'R': 'R_' + group_name,\n",
    "                           'U': 'U_' + group_name,\n",
    "                           'B': 'B_' + group_name,\n",
    "                           'RU': 'RU_' + group_name})\n",
    "  \n",
    "\n",
    "    listof_df.append(df)\n",
    "\n",
    "countries_summary = pd.concat(listof_df, axis = 1).fillna(0)"
   ]
  },
  {
   "cell_type": "code",
   "execution_count": 113,
   "id": "c5c36dce",
   "metadata": {},
   "outputs": [
    {
     "data": {
      "text/html": [
       "<div>\n",
       "<style scoped>\n",
       "    .dataframe tbody tr th:only-of-type {\n",
       "        vertical-align: middle;\n",
       "    }\n",
       "\n",
       "    .dataframe tbody tr th {\n",
       "        vertical-align: top;\n",
       "    }\n",
       "\n",
       "    .dataframe thead th {\n",
       "        text-align: right;\n",
       "    }\n",
       "</style>\n",
       "<table border=\"1\" class=\"dataframe\">\n",
       "  <thead>\n",
       "    <tr style=\"text-align: right;\">\n",
       "      <th></th>\n",
       "      <th>R_test</th>\n",
       "      <th>U_test</th>\n",
       "      <th>RU_test</th>\n",
       "      <th>B_test</th>\n",
       "      <th>R_control_1</th>\n",
       "      <th>U_control_1</th>\n",
       "      <th>RU_control_1</th>\n",
       "      <th>B_control_1</th>\n",
       "      <th>R_control_2</th>\n",
       "      <th>U_control_2</th>\n",
       "      <th>RU_control_2</th>\n",
       "      <th>B_control_2</th>\n",
       "    </tr>\n",
       "    <tr>\n",
       "      <th>country</th>\n",
       "      <th></th>\n",
       "      <th></th>\n",
       "      <th></th>\n",
       "      <th></th>\n",
       "      <th></th>\n",
       "      <th></th>\n",
       "      <th></th>\n",
       "      <th></th>\n",
       "      <th></th>\n",
       "      <th></th>\n",
       "      <th></th>\n",
       "      <th></th>\n",
       "    </tr>\n",
       "  </thead>\n",
       "  <tbody>\n",
       "    <tr>\n",
       "      <th>Algeria</th>\n",
       "      <td>0.0</td>\n",
       "      <td>2.0</td>\n",
       "      <td>0.00</td>\n",
       "      <td>0.0</td>\n",
       "      <td>0.0</td>\n",
       "      <td>2.0</td>\n",
       "      <td>0.00</td>\n",
       "      <td>0.0</td>\n",
       "      <td>0.0</td>\n",
       "      <td>0.0</td>\n",
       "      <td>0.00</td>\n",
       "      <td>0.0</td>\n",
       "    </tr>\n",
       "    <tr>\n",
       "      <th>Argentina</th>\n",
       "      <td>188019.0</td>\n",
       "      <td>396.0</td>\n",
       "      <td>474.80</td>\n",
       "      <td>7.0</td>\n",
       "      <td>144690.0</td>\n",
       "      <td>389.0</td>\n",
       "      <td>371.95</td>\n",
       "      <td>12.0</td>\n",
       "      <td>121017.0</td>\n",
       "      <td>397.0</td>\n",
       "      <td>304.83</td>\n",
       "      <td>10.0</td>\n",
       "    </tr>\n",
       "    <tr>\n",
       "      <th>Australia</th>\n",
       "      <td>12597.0</td>\n",
       "      <td>62.0</td>\n",
       "      <td>203.18</td>\n",
       "      <td>1.0</td>\n",
       "      <td>18304.0</td>\n",
       "      <td>50.0</td>\n",
       "      <td>366.08</td>\n",
       "      <td>3.0</td>\n",
       "      <td>22646.0</td>\n",
       "      <td>51.0</td>\n",
       "      <td>444.04</td>\n",
       "      <td>2.0</td>\n",
       "    </tr>\n",
       "    <tr>\n",
       "      <th>Azerbaijan</th>\n",
       "      <td>0.0</td>\n",
       "      <td>1.0</td>\n",
       "      <td>0.00</td>\n",
       "      <td>0.0</td>\n",
       "      <td>0.0</td>\n",
       "      <td>0.0</td>\n",
       "      <td>0.00</td>\n",
       "      <td>0.0</td>\n",
       "      <td>0.0</td>\n",
       "      <td>0.0</td>\n",
       "      <td>0.00</td>\n",
       "      <td>0.0</td>\n",
       "    </tr>\n",
       "    <tr>\n",
       "      <th>Belgium</th>\n",
       "      <td>62686.0</td>\n",
       "      <td>92.0</td>\n",
       "      <td>681.37</td>\n",
       "      <td>4.0</td>\n",
       "      <td>45630.0</td>\n",
       "      <td>108.0</td>\n",
       "      <td>422.50</td>\n",
       "      <td>4.0</td>\n",
       "      <td>110214.0</td>\n",
       "      <td>90.0</td>\n",
       "      <td>1224.60</td>\n",
       "      <td>10.0</td>\n",
       "    </tr>\n",
       "    <tr>\n",
       "      <th>...</th>\n",
       "      <td>...</td>\n",
       "      <td>...</td>\n",
       "      <td>...</td>\n",
       "      <td>...</td>\n",
       "      <td>...</td>\n",
       "      <td>...</td>\n",
       "      <td>...</td>\n",
       "      <td>...</td>\n",
       "      <td>...</td>\n",
       "      <td>...</td>\n",
       "      <td>...</td>\n",
       "      <td>...</td>\n",
       "    </tr>\n",
       "    <tr>\n",
       "      <th>New Zealand</th>\n",
       "      <td>0.0</td>\n",
       "      <td>0.0</td>\n",
       "      <td>0.00</td>\n",
       "      <td>0.0</td>\n",
       "      <td>0.0</td>\n",
       "      <td>0.0</td>\n",
       "      <td>0.00</td>\n",
       "      <td>0.0</td>\n",
       "      <td>0.0</td>\n",
       "      <td>1.0</td>\n",
       "      <td>0.00</td>\n",
       "      <td>0.0</td>\n",
       "    </tr>\n",
       "    <tr>\n",
       "      <th>Nicaragua</th>\n",
       "      <td>0.0</td>\n",
       "      <td>0.0</td>\n",
       "      <td>0.00</td>\n",
       "      <td>0.0</td>\n",
       "      <td>0.0</td>\n",
       "      <td>0.0</td>\n",
       "      <td>0.00</td>\n",
       "      <td>0.0</td>\n",
       "      <td>0.0</td>\n",
       "      <td>1.0</td>\n",
       "      <td>0.00</td>\n",
       "      <td>0.0</td>\n",
       "    </tr>\n",
       "    <tr>\n",
       "      <th>Paraguay</th>\n",
       "      <td>0.0</td>\n",
       "      <td>0.0</td>\n",
       "      <td>0.00</td>\n",
       "      <td>0.0</td>\n",
       "      <td>0.0</td>\n",
       "      <td>0.0</td>\n",
       "      <td>0.00</td>\n",
       "      <td>0.0</td>\n",
       "      <td>0.0</td>\n",
       "      <td>1.0</td>\n",
       "      <td>0.00</td>\n",
       "      <td>0.0</td>\n",
       "    </tr>\n",
       "    <tr>\n",
       "      <th>Somalia</th>\n",
       "      <td>0.0</td>\n",
       "      <td>0.0</td>\n",
       "      <td>0.00</td>\n",
       "      <td>0.0</td>\n",
       "      <td>0.0</td>\n",
       "      <td>0.0</td>\n",
       "      <td>0.00</td>\n",
       "      <td>0.0</td>\n",
       "      <td>0.0</td>\n",
       "      <td>1.0</td>\n",
       "      <td>0.00</td>\n",
       "      <td>0.0</td>\n",
       "    </tr>\n",
       "    <tr>\n",
       "      <th>Uganda</th>\n",
       "      <td>0.0</td>\n",
       "      <td>0.0</td>\n",
       "      <td>0.00</td>\n",
       "      <td>0.0</td>\n",
       "      <td>0.0</td>\n",
       "      <td>0.0</td>\n",
       "      <td>0.00</td>\n",
       "      <td>0.0</td>\n",
       "      <td>0.0</td>\n",
       "      <td>1.0</td>\n",
       "      <td>0.00</td>\n",
       "      <td>0.0</td>\n",
       "    </tr>\n",
       "  </tbody>\n",
       "</table>\n",
       "<p>72 rows × 12 columns</p>\n",
       "</div>"
      ],
      "text/plain": [
       "               R_test  U_test  RU_test  B_test  R_control_1  U_control_1  \\\n",
       "country                                                                    \n",
       "Algeria           0.0     2.0     0.00     0.0          0.0          2.0   \n",
       "Argentina    188019.0   396.0   474.80     7.0     144690.0        389.0   \n",
       "Australia     12597.0    62.0   203.18     1.0      18304.0         50.0   \n",
       "Azerbaijan        0.0     1.0     0.00     0.0          0.0          0.0   \n",
       "Belgium       62686.0    92.0   681.37     4.0      45630.0        108.0   \n",
       "...               ...     ...      ...     ...          ...          ...   \n",
       "New Zealand       0.0     0.0     0.00     0.0          0.0          0.0   \n",
       "Nicaragua         0.0     0.0     0.00     0.0          0.0          0.0   \n",
       "Paraguay          0.0     0.0     0.00     0.0          0.0          0.0   \n",
       "Somalia           0.0     0.0     0.00     0.0          0.0          0.0   \n",
       "Uganda            0.0     0.0     0.00     0.0          0.0          0.0   \n",
       "\n",
       "             RU_control_1  B_control_1  R_control_2  U_control_2  \\\n",
       "country                                                            \n",
       "Algeria              0.00          0.0          0.0          0.0   \n",
       "Argentina          371.95         12.0     121017.0        397.0   \n",
       "Australia          366.08          3.0      22646.0         51.0   \n",
       "Azerbaijan           0.00          0.0          0.0          0.0   \n",
       "Belgium            422.50          4.0     110214.0         90.0   \n",
       "...                   ...          ...          ...          ...   \n",
       "New Zealand          0.00          0.0          0.0          1.0   \n",
       "Nicaragua            0.00          0.0          0.0          1.0   \n",
       "Paraguay             0.00          0.0          0.0          1.0   \n",
       "Somalia              0.00          0.0          0.0          1.0   \n",
       "Uganda               0.00          0.0          0.0          1.0   \n",
       "\n",
       "             RU_control_2  B_control_2  \n",
       "country                                 \n",
       "Algeria              0.00          0.0  \n",
       "Argentina          304.83         10.0  \n",
       "Australia          444.04          2.0  \n",
       "Azerbaijan           0.00          0.0  \n",
       "Belgium           1224.60         10.0  \n",
       "...                   ...          ...  \n",
       "New Zealand          0.00          0.0  \n",
       "Nicaragua            0.00          0.0  \n",
       "Paraguay             0.00          0.0  \n",
       "Somalia              0.00          0.0  \n",
       "Uganda               0.00          0.0  \n",
       "\n",
       "[72 rows x 12 columns]"
      ]
     },
     "execution_count": 113,
     "metadata": {},
     "output_type": "execute_result"
    }
   ],
   "source": [
    "countries_summary"
   ]
  },
  {
   "cell_type": "markdown",
   "id": "1bfaaa69",
   "metadata": {},
   "source": [
    "Страны, где не было нулевых продаж ни в одной группе (группа стран А (англ.))."
   ]
  },
  {
   "cell_type": "code",
   "execution_count": 114,
   "id": "6823cdcd",
   "metadata": {
    "scrolled": false
   },
   "outputs": [
    {
     "data": {
      "text/html": [
       "<div>\n",
       "<style scoped>\n",
       "    .dataframe tbody tr th:only-of-type {\n",
       "        vertical-align: middle;\n",
       "    }\n",
       "\n",
       "    .dataframe tbody tr th {\n",
       "        vertical-align: top;\n",
       "    }\n",
       "\n",
       "    .dataframe thead th {\n",
       "        text-align: right;\n",
       "    }\n",
       "</style>\n",
       "<table border=\"1\" class=\"dataframe\">\n",
       "  <thead>\n",
       "    <tr style=\"text-align: right;\">\n",
       "      <th></th>\n",
       "      <th>R_test</th>\n",
       "      <th>U_test</th>\n",
       "      <th>RU_test</th>\n",
       "      <th>B_test</th>\n",
       "      <th>R_control_1</th>\n",
       "      <th>U_control_1</th>\n",
       "      <th>RU_control_1</th>\n",
       "      <th>B_control_1</th>\n",
       "      <th>R_control_2</th>\n",
       "      <th>U_control_2</th>\n",
       "      <th>RU_control_2</th>\n",
       "      <th>B_control_2</th>\n",
       "    </tr>\n",
       "    <tr>\n",
       "      <th>country</th>\n",
       "      <th></th>\n",
       "      <th></th>\n",
       "      <th></th>\n",
       "      <th></th>\n",
       "      <th></th>\n",
       "      <th></th>\n",
       "      <th></th>\n",
       "      <th></th>\n",
       "      <th></th>\n",
       "      <th></th>\n",
       "      <th></th>\n",
       "      <th></th>\n",
       "    </tr>\n",
       "  </thead>\n",
       "  <tbody>\n",
       "    <tr>\n",
       "      <th>Argentina</th>\n",
       "      <td>188019.0</td>\n",
       "      <td>396.0</td>\n",
       "      <td>474.80</td>\n",
       "      <td>7.0</td>\n",
       "      <td>144690.0</td>\n",
       "      <td>389.0</td>\n",
       "      <td>371.95</td>\n",
       "      <td>12.0</td>\n",
       "      <td>121017.0</td>\n",
       "      <td>397.0</td>\n",
       "      <td>304.83</td>\n",
       "      <td>10.0</td>\n",
       "    </tr>\n",
       "    <tr>\n",
       "      <th>Australia</th>\n",
       "      <td>12597.0</td>\n",
       "      <td>62.0</td>\n",
       "      <td>203.18</td>\n",
       "      <td>1.0</td>\n",
       "      <td>18304.0</td>\n",
       "      <td>50.0</td>\n",
       "      <td>366.08</td>\n",
       "      <td>3.0</td>\n",
       "      <td>22646.0</td>\n",
       "      <td>51.0</td>\n",
       "      <td>444.04</td>\n",
       "      <td>2.0</td>\n",
       "    </tr>\n",
       "    <tr>\n",
       "      <th>Belgium</th>\n",
       "      <td>62686.0</td>\n",
       "      <td>92.0</td>\n",
       "      <td>681.37</td>\n",
       "      <td>4.0</td>\n",
       "      <td>45630.0</td>\n",
       "      <td>108.0</td>\n",
       "      <td>422.50</td>\n",
       "      <td>4.0</td>\n",
       "      <td>110214.0</td>\n",
       "      <td>90.0</td>\n",
       "      <td>1224.60</td>\n",
       "      <td>10.0</td>\n",
       "    </tr>\n",
       "    <tr>\n",
       "      <th>Canada</th>\n",
       "      <td>63466.0</td>\n",
       "      <td>137.0</td>\n",
       "      <td>463.26</td>\n",
       "      <td>6.0</td>\n",
       "      <td>92053.0</td>\n",
       "      <td>134.0</td>\n",
       "      <td>686.96</td>\n",
       "      <td>9.0</td>\n",
       "      <td>30537.0</td>\n",
       "      <td>134.0</td>\n",
       "      <td>227.89</td>\n",
       "      <td>4.0</td>\n",
       "    </tr>\n",
       "    <tr>\n",
       "      <th>Chile</th>\n",
       "      <td>69940.0</td>\n",
       "      <td>272.0</td>\n",
       "      <td>257.13</td>\n",
       "      <td>4.0</td>\n",
       "      <td>97565.0</td>\n",
       "      <td>287.0</td>\n",
       "      <td>339.95</td>\n",
       "      <td>10.0</td>\n",
       "      <td>108615.0</td>\n",
       "      <td>286.0</td>\n",
       "      <td>379.77</td>\n",
       "      <td>11.0</td>\n",
       "    </tr>\n",
       "    <tr>\n",
       "      <th>France</th>\n",
       "      <td>238732.0</td>\n",
       "      <td>358.0</td>\n",
       "      <td>666.85</td>\n",
       "      <td>12.0</td>\n",
       "      <td>184353.0</td>\n",
       "      <td>370.0</td>\n",
       "      <td>498.25</td>\n",
       "      <td>22.0</td>\n",
       "      <td>149071.0</td>\n",
       "      <td>376.0</td>\n",
       "      <td>396.47</td>\n",
       "      <td>19.0</td>\n",
       "    </tr>\n",
       "    <tr>\n",
       "      <th>Germany</th>\n",
       "      <td>96096.0</td>\n",
       "      <td>209.0</td>\n",
       "      <td>459.79</td>\n",
       "      <td>7.0</td>\n",
       "      <td>23998.0</td>\n",
       "      <td>188.0</td>\n",
       "      <td>127.65</td>\n",
       "      <td>5.0</td>\n",
       "      <td>71409.0</td>\n",
       "      <td>202.0</td>\n",
       "      <td>353.51</td>\n",
       "      <td>5.0</td>\n",
       "    </tr>\n",
       "    <tr>\n",
       "      <th>Israel</th>\n",
       "      <td>94809.0</td>\n",
       "      <td>106.0</td>\n",
       "      <td>894.42</td>\n",
       "      <td>5.0</td>\n",
       "      <td>118391.0</td>\n",
       "      <td>109.0</td>\n",
       "      <td>1086.16</td>\n",
       "      <td>14.0</td>\n",
       "      <td>68926.0</td>\n",
       "      <td>78.0</td>\n",
       "      <td>883.67</td>\n",
       "      <td>6.0</td>\n",
       "    </tr>\n",
       "    <tr>\n",
       "      <th>Italy</th>\n",
       "      <td>113425.0</td>\n",
       "      <td>323.0</td>\n",
       "      <td>351.16</td>\n",
       "      <td>9.0</td>\n",
       "      <td>633698.0</td>\n",
       "      <td>338.0</td>\n",
       "      <td>1874.85</td>\n",
       "      <td>17.0</td>\n",
       "      <td>118989.0</td>\n",
       "      <td>293.0</td>\n",
       "      <td>406.11</td>\n",
       "      <td>16.0</td>\n",
       "    </tr>\n",
       "    <tr>\n",
       "      <th>Spain</th>\n",
       "      <td>285428.0</td>\n",
       "      <td>301.0</td>\n",
       "      <td>948.27</td>\n",
       "      <td>15.0</td>\n",
       "      <td>99060.0</td>\n",
       "      <td>342.0</td>\n",
       "      <td>289.65</td>\n",
       "      <td>9.0</td>\n",
       "      <td>193778.0</td>\n",
       "      <td>310.0</td>\n",
       "      <td>625.09</td>\n",
       "      <td>12.0</td>\n",
       "    </tr>\n",
       "    <tr>\n",
       "      <th>Switzerland</th>\n",
       "      <td>22256.0</td>\n",
       "      <td>35.0</td>\n",
       "      <td>635.89</td>\n",
       "      <td>3.0</td>\n",
       "      <td>26572.0</td>\n",
       "      <td>42.0</td>\n",
       "      <td>632.67</td>\n",
       "      <td>3.0</td>\n",
       "      <td>28093.0</td>\n",
       "      <td>35.0</td>\n",
       "      <td>802.66</td>\n",
       "      <td>3.0</td>\n",
       "    </tr>\n",
       "    <tr>\n",
       "      <th>Turkey</th>\n",
       "      <td>9165.0</td>\n",
       "      <td>5.0</td>\n",
       "      <td>1833.00</td>\n",
       "      <td>1.0</td>\n",
       "      <td>79677.0</td>\n",
       "      <td>8.0</td>\n",
       "      <td>9959.62</td>\n",
       "      <td>3.0</td>\n",
       "      <td>11700.0</td>\n",
       "      <td>5.0</td>\n",
       "      <td>2340.00</td>\n",
       "      <td>1.0</td>\n",
       "    </tr>\n",
       "    <tr>\n",
       "      <th>United Arab Emirates</th>\n",
       "      <td>213785.0</td>\n",
       "      <td>226.0</td>\n",
       "      <td>945.95</td>\n",
       "      <td>9.0</td>\n",
       "      <td>75543.0</td>\n",
       "      <td>207.0</td>\n",
       "      <td>364.94</td>\n",
       "      <td>7.0</td>\n",
       "      <td>117143.0</td>\n",
       "      <td>211.0</td>\n",
       "      <td>555.18</td>\n",
       "      <td>5.0</td>\n",
       "    </tr>\n",
       "    <tr>\n",
       "      <th>United Kingdom (Great Britain)</th>\n",
       "      <td>77376.0</td>\n",
       "      <td>169.0</td>\n",
       "      <td>457.85</td>\n",
       "      <td>8.0</td>\n",
       "      <td>198965.0</td>\n",
       "      <td>146.0</td>\n",
       "      <td>1362.77</td>\n",
       "      <td>10.0</td>\n",
       "      <td>96473.0</td>\n",
       "      <td>146.0</td>\n",
       "      <td>660.77</td>\n",
       "      <td>10.0</td>\n",
       "    </tr>\n",
       "    <tr>\n",
       "      <th>United States of America</th>\n",
       "      <td>721838.0</td>\n",
       "      <td>1450.0</td>\n",
       "      <td>497.82</td>\n",
       "      <td>52.0</td>\n",
       "      <td>713687.0</td>\n",
       "      <td>1470.0</td>\n",
       "      <td>485.50</td>\n",
       "      <td>59.0</td>\n",
       "      <td>584207.0</td>\n",
       "      <td>1486.0</td>\n",
       "      <td>393.14</td>\n",
       "      <td>64.0</td>\n",
       "    </tr>\n",
       "  </tbody>\n",
       "</table>\n",
       "</div>"
      ],
      "text/plain": [
       "                                  R_test  U_test  RU_test  B_test  \\\n",
       "country                                                             \n",
       "Argentina                       188019.0   396.0   474.80     7.0   \n",
       "Australia                        12597.0    62.0   203.18     1.0   \n",
       "Belgium                          62686.0    92.0   681.37     4.0   \n",
       "Canada                           63466.0   137.0   463.26     6.0   \n",
       "Chile                            69940.0   272.0   257.13     4.0   \n",
       "France                          238732.0   358.0   666.85    12.0   \n",
       "Germany                          96096.0   209.0   459.79     7.0   \n",
       "Israel                           94809.0   106.0   894.42     5.0   \n",
       "Italy                           113425.0   323.0   351.16     9.0   \n",
       "Spain                           285428.0   301.0   948.27    15.0   \n",
       "Switzerland                      22256.0    35.0   635.89     3.0   \n",
       "Turkey                            9165.0     5.0  1833.00     1.0   \n",
       "United Arab Emirates            213785.0   226.0   945.95     9.0   \n",
       "United Kingdom (Great Britain)   77376.0   169.0   457.85     8.0   \n",
       "United States of America        721838.0  1450.0   497.82    52.0   \n",
       "\n",
       "                                R_control_1  U_control_1  RU_control_1  \\\n",
       "country                                                                  \n",
       "Argentina                          144690.0        389.0        371.95   \n",
       "Australia                           18304.0         50.0        366.08   \n",
       "Belgium                             45630.0        108.0        422.50   \n",
       "Canada                              92053.0        134.0        686.96   \n",
       "Chile                               97565.0        287.0        339.95   \n",
       "France                             184353.0        370.0        498.25   \n",
       "Germany                             23998.0        188.0        127.65   \n",
       "Israel                             118391.0        109.0       1086.16   \n",
       "Italy                              633698.0        338.0       1874.85   \n",
       "Spain                               99060.0        342.0        289.65   \n",
       "Switzerland                         26572.0         42.0        632.67   \n",
       "Turkey                              79677.0          8.0       9959.62   \n",
       "United Arab Emirates                75543.0        207.0        364.94   \n",
       "United Kingdom (Great Britain)     198965.0        146.0       1362.77   \n",
       "United States of America           713687.0       1470.0        485.50   \n",
       "\n",
       "                                B_control_1  R_control_2  U_control_2  \\\n",
       "country                                                                 \n",
       "Argentina                              12.0     121017.0        397.0   \n",
       "Australia                               3.0      22646.0         51.0   \n",
       "Belgium                                 4.0     110214.0         90.0   \n",
       "Canada                                  9.0      30537.0        134.0   \n",
       "Chile                                  10.0     108615.0        286.0   \n",
       "France                                 22.0     149071.0        376.0   \n",
       "Germany                                 5.0      71409.0        202.0   \n",
       "Israel                                 14.0      68926.0         78.0   \n",
       "Italy                                  17.0     118989.0        293.0   \n",
       "Spain                                   9.0     193778.0        310.0   \n",
       "Switzerland                             3.0      28093.0         35.0   \n",
       "Turkey                                  3.0      11700.0          5.0   \n",
       "United Arab Emirates                    7.0     117143.0        211.0   \n",
       "United Kingdom (Great Britain)         10.0      96473.0        146.0   \n",
       "United States of America               59.0     584207.0       1486.0   \n",
       "\n",
       "                                RU_control_2  B_control_2  \n",
       "country                                                    \n",
       "Argentina                             304.83         10.0  \n",
       "Australia                             444.04          2.0  \n",
       "Belgium                              1224.60         10.0  \n",
       "Canada                                227.89          4.0  \n",
       "Chile                                 379.77         11.0  \n",
       "France                                396.47         19.0  \n",
       "Germany                               353.51          5.0  \n",
       "Israel                                883.67          6.0  \n",
       "Italy                                 406.11         16.0  \n",
       "Spain                                 625.09         12.0  \n",
       "Switzerland                           802.66          3.0  \n",
       "Turkey                               2340.00          1.0  \n",
       "United Arab Emirates                  555.18          5.0  \n",
       "United Kingdom (Great Britain)        660.77         10.0  \n",
       "United States of America              393.14         64.0  "
      ]
     },
     "execution_count": 114,
     "metadata": {},
     "output_type": "execute_result"
    }
   ],
   "source": [
    "group_countries_A = \\\n",
    "    countries_summary \\\n",
    "    .query(\"RU_test * RU_control_1 * RU_control_2 > 0\")\n",
    "    \n",
    "group_countries_A"
   ]
  },
  {
   "cell_type": "markdown",
   "id": "1a096887",
   "metadata": {},
   "source": [
    "Страны, где нулевые продажи были хотя бы в одной группе (группа стран B (англ.)):"
   ]
  },
  {
   "cell_type": "code",
   "execution_count": 115,
   "id": "fab8758c",
   "metadata": {},
   "outputs": [
    {
     "data": {
      "text/html": [
       "<div>\n",
       "<style scoped>\n",
       "    .dataframe tbody tr th:only-of-type {\n",
       "        vertical-align: middle;\n",
       "    }\n",
       "\n",
       "    .dataframe tbody tr th {\n",
       "        vertical-align: top;\n",
       "    }\n",
       "\n",
       "    .dataframe thead th {\n",
       "        text-align: right;\n",
       "    }\n",
       "</style>\n",
       "<table border=\"1\" class=\"dataframe\">\n",
       "  <thead>\n",
       "    <tr style=\"text-align: right;\">\n",
       "      <th></th>\n",
       "      <th>RU_test</th>\n",
       "      <th>U_test</th>\n",
       "      <th>B_test</th>\n",
       "      <th>RU_control_1</th>\n",
       "      <th>U_control_1</th>\n",
       "      <th>B_control_1</th>\n",
       "      <th>RU_control_2</th>\n",
       "      <th>U_control_2</th>\n",
       "      <th>B_control_2</th>\n",
       "    </tr>\n",
       "    <tr>\n",
       "      <th>country</th>\n",
       "      <th></th>\n",
       "      <th></th>\n",
       "      <th></th>\n",
       "      <th></th>\n",
       "      <th></th>\n",
       "      <th></th>\n",
       "      <th></th>\n",
       "      <th></th>\n",
       "      <th></th>\n",
       "    </tr>\n",
       "  </thead>\n",
       "  <tbody>\n",
       "    <tr>\n",
       "      <th>India</th>\n",
       "      <td>0.00</td>\n",
       "      <td>4.0</td>\n",
       "      <td>0.0</td>\n",
       "      <td>1603.33</td>\n",
       "      <td>6.0</td>\n",
       "      <td>2.0</td>\n",
       "      <td>0.00</td>\n",
       "      <td>2.0</td>\n",
       "      <td>0.0</td>\n",
       "    </tr>\n",
       "    <tr>\n",
       "      <th>Latvia</th>\n",
       "      <td>5050.50</td>\n",
       "      <td>2.0</td>\n",
       "      <td>1.0</td>\n",
       "      <td>0.00</td>\n",
       "      <td>0.0</td>\n",
       "      <td>0.0</td>\n",
       "      <td>0.00</td>\n",
       "      <td>0.0</td>\n",
       "      <td>0.0</td>\n",
       "    </tr>\n",
       "    <tr>\n",
       "      <th>Mexico</th>\n",
       "      <td>887.71</td>\n",
       "      <td>7.0</td>\n",
       "      <td>1.0</td>\n",
       "      <td>0.00</td>\n",
       "      <td>4.0</td>\n",
       "      <td>0.0</td>\n",
       "      <td>0.00</td>\n",
       "      <td>4.0</td>\n",
       "      <td>0.0</td>\n",
       "    </tr>\n",
       "    <tr>\n",
       "      <th>Portugal</th>\n",
       "      <td>0.00</td>\n",
       "      <td>91.0</td>\n",
       "      <td>0.0</td>\n",
       "      <td>194.35</td>\n",
       "      <td>100.0</td>\n",
       "      <td>2.0</td>\n",
       "      <td>538.07</td>\n",
       "      <td>100.0</td>\n",
       "      <td>6.0</td>\n",
       "    </tr>\n",
       "    <tr>\n",
       "      <th>Ukraine</th>\n",
       "      <td>0.00</td>\n",
       "      <td>15.0</td>\n",
       "      <td>0.0</td>\n",
       "      <td>0.00</td>\n",
       "      <td>8.0</td>\n",
       "      <td>0.0</td>\n",
       "      <td>493.28</td>\n",
       "      <td>18.0</td>\n",
       "      <td>1.0</td>\n",
       "    </tr>\n",
       "    <tr>\n",
       "      <th>Austria</th>\n",
       "      <td>0.00</td>\n",
       "      <td>0.0</td>\n",
       "      <td>0.0</td>\n",
       "      <td>0.00</td>\n",
       "      <td>0.0</td>\n",
       "      <td>0.0</td>\n",
       "      <td>6084.00</td>\n",
       "      <td>2.0</td>\n",
       "      <td>1.0</td>\n",
       "    </tr>\n",
       "    <tr>\n",
       "      <th>Lithuania</th>\n",
       "      <td>0.00</td>\n",
       "      <td>0.0</td>\n",
       "      <td>0.0</td>\n",
       "      <td>0.00</td>\n",
       "      <td>0.0</td>\n",
       "      <td>0.0</td>\n",
       "      <td>12766.00</td>\n",
       "      <td>1.0</td>\n",
       "      <td>1.0</td>\n",
       "    </tr>\n",
       "  </tbody>\n",
       "</table>\n",
       "</div>"
      ],
      "text/plain": [
       "           RU_test  U_test  B_test  RU_control_1  U_control_1  B_control_1  \\\n",
       "country                                                                      \n",
       "India         0.00     4.0     0.0       1603.33          6.0          2.0   \n",
       "Latvia     5050.50     2.0     1.0          0.00          0.0          0.0   \n",
       "Mexico      887.71     7.0     1.0          0.00          4.0          0.0   \n",
       "Portugal      0.00    91.0     0.0        194.35        100.0          2.0   \n",
       "Ukraine       0.00    15.0     0.0          0.00          8.0          0.0   \n",
       "Austria       0.00     0.0     0.0          0.00          0.0          0.0   \n",
       "Lithuania     0.00     0.0     0.0          0.00          0.0          0.0   \n",
       "\n",
       "           RU_control_2  U_control_2  B_control_2  \n",
       "country                                            \n",
       "India              0.00          2.0          0.0  \n",
       "Latvia             0.00          0.0          0.0  \n",
       "Mexico             0.00          4.0          0.0  \n",
       "Portugal         538.07        100.0          6.0  \n",
       "Ukraine          493.28         18.0          1.0  \n",
       "Austria         6084.00          2.0          1.0  \n",
       "Lithuania      12766.00          1.0          1.0  "
      ]
     },
     "execution_count": 115,
     "metadata": {},
     "output_type": "execute_result"
    }
   ],
   "source": [
    "group_countries_B = \\\n",
    "    countries_summary[['RU_test', 'U_test', 'B_test',\n",
    "                       'RU_control_1', 'U_control_1', 'B_control_1',\n",
    "                       'RU_control_2', 'U_control_2', 'B_control_2']] \\\n",
    "    .query(\"(RU_test + RU_control_1 + RU_control_2 > 0) & (RU_test * RU_control_1 * RU_control_2 == 0)\")\n",
    "\n",
    "group_countries_B"
   ]
  },
  {
   "cell_type": "markdown",
   "id": "990f2fcc",
   "metadata": {},
   "source": [
    "Как видим, последние две страны относятся к странам с немногочисленными богатыми клиентами это покупки всего одного человека (и такой рост можно рассматривать как выброс).\n",
    "\n",
    "В Украине -- рост в контрольной группе 2 не такой большой, но значительный, однако там тоже покупки одного клиента, при полной выборке пользователей всего в 18 человек < 30 и << 100.\n",
    "\n",
    "В Португалии выборки во всех группах около 100 человек. Включаем её в **группу А**.\n",
    "\n",
    "В **группу B** включим Турцию, так как там рост продаж обеспечил всего один сверхбогатый покупатель.\n",
    "\n",
    "В **группе C** -- все остальные страны, где никто не купил ничего."
   ]
  },
  {
   "cell_type": "code",
   "execution_count": 116,
   "id": "a6390af0",
   "metadata": {},
   "outputs": [],
   "source": [
    "group_countries_A = pd.concat([group_countries_A,\n",
    "                               group_countries_B[group_countries_B.index == 'Portugal']],\n",
    "                              axis = 0)\n",
    "\n",
    "group_countries_B = pd.concat([group_countries_B,\n",
    "                               group_countries_A[group_countries_A.index == 'Turkey']],\n",
    "                              axis = 0)\n",
    "\n",
    "group_countries_A = group_countries_A[group_countries_A.index != 'Turkey']\n",
    "group_countries_B = group_countries_B[group_countries_B.index != 'Portugal']"
   ]
  },
  {
   "cell_type": "markdown",
   "id": "3dfc86cc",
   "metadata": {},
   "source": [
    "## Связь возраста и наличия покупок"
   ]
  },
  {
   "cell_type": "code",
   "execution_count": 117,
   "id": "1a74e3e1",
   "metadata": {},
   "outputs": [],
   "source": [
    "def age_group(age) :\n",
    "    if (age <= 25) :\n",
    "        group = 'young'\n",
    "    elif (age <= 35) :\n",
    "        group = 'middle'\n",
    "    elif (age < 50) :\n",
    "        group = 'mature'\n",
    "    else :\n",
    "        group = 'old'\n",
    "    return group"
   ]
  },
  {
   "cell_type": "code",
   "execution_count": 118,
   "id": "d021a8b8",
   "metadata": {},
   "outputs": [],
   "source": [
    "age_groups = ['young', 'middle', 'mature', 'old']"
   ]
  },
  {
   "cell_type": "code",
   "execution_count": 119,
   "id": "1f18a5fb",
   "metadata": {},
   "outputs": [],
   "source": [
    "def buyers(group_name, age) :\n",
    "    users_table = get_users_table(group_name)\n",
    "    buyers = users_table.query(\"(total_revenue > 0) & (age == @age)\")['uid'].nunique()\n",
    "    return buyers"
   ]
  },
  {
   "cell_type": "code",
   "execution_count": 120,
   "id": "38fd37e6",
   "metadata": {},
   "outputs": [],
   "source": [
    "listof_summary_by_age = []\n",
    "\n",
    "for group_name in groups :\n",
    "    df = \\\n",
    "        product_purchases(group_name, 'all') \\\n",
    "        .groupby('age', as_index = False) \\\n",
    "        .agg({'uid': 'count', 'purchases': 'sum', 'revenue' : sum}) \\\n",
    "        .rename(columns = {'uid' : 'users'})\n",
    "    df = df.query(\"age < 90\")\n",
    "    df['age_group'] = df['age'].apply(age_group)\n",
    "    df['buyers'] = df['age'].apply(lambda x: buyers(group_name, x))\n",
    "\n",
    "    df_2 = \\\n",
    "        df \\\n",
    "        .groupby('age_group', as_index = False) \\\n",
    "        .agg({'users': sum, 'buyers': sum, 'purchases': sum, 'revenue' : sum})\n",
    "    df_2['RU'] = df_2['revenue'] / df_2['users']\n",
    "    df_2['c1'] = df_2['buyers'] / df_2['users']\n",
    "    df_2['age_group'] = \\\n",
    "        pd.Categorical(df_2['age_group'],\n",
    "                       ordered = True,\n",
    "                       categories = age_groups)\n",
    "    \n",
    "    df_2 = df_2.sort_values(by = 'age_group', ascending = True).reset_index(drop = True)\n",
    "    df_2['group'] = group_name\n",
    "    \n",
    "    listof_summary_by_age.append(df_2)\n",
    "\n",
    "summary_by_age = pd.concat(listof_summary_by_age, axis = 0).reset_index(drop = True)"
   ]
  },
  {
   "cell_type": "code",
   "execution_count": 121,
   "id": "15f67ed9",
   "metadata": {},
   "outputs": [
    {
     "data": {
      "text/html": [
       "<div>\n",
       "<style scoped>\n",
       "    .dataframe tbody tr th:only-of-type {\n",
       "        vertical-align: middle;\n",
       "    }\n",
       "\n",
       "    .dataframe tbody tr th {\n",
       "        vertical-align: top;\n",
       "    }\n",
       "\n",
       "    .dataframe thead th {\n",
       "        text-align: right;\n",
       "    }\n",
       "</style>\n",
       "<table border=\"1\" class=\"dataframe\">\n",
       "  <thead>\n",
       "    <tr style=\"text-align: right;\">\n",
       "      <th></th>\n",
       "      <th>age_group</th>\n",
       "      <th>users</th>\n",
       "      <th>buyers</th>\n",
       "      <th>purchases</th>\n",
       "      <th>revenue</th>\n",
       "      <th>RU</th>\n",
       "      <th>c1</th>\n",
       "      <th>group</th>\n",
       "    </tr>\n",
       "  </thead>\n",
       "  <tbody>\n",
       "    <tr>\n",
       "      <th>0</th>\n",
       "      <td>young</td>\n",
       "      <td>1305</td>\n",
       "      <td>37</td>\n",
       "      <td>74</td>\n",
       "      <td>584311.0</td>\n",
       "      <td>447.747893</td>\n",
       "      <td>0.028352</td>\n",
       "      <td>test</td>\n",
       "    </tr>\n",
       "    <tr>\n",
       "      <th>1</th>\n",
       "      <td>middle</td>\n",
       "      <td>1657</td>\n",
       "      <td>57</td>\n",
       "      <td>111</td>\n",
       "      <td>891592.0</td>\n",
       "      <td>538.076041</td>\n",
       "      <td>0.034400</td>\n",
       "      <td>test</td>\n",
       "    </tr>\n",
       "    <tr>\n",
       "      <th>2</th>\n",
       "      <td>mature</td>\n",
       "      <td>1092</td>\n",
       "      <td>41</td>\n",
       "      <td>65</td>\n",
       "      <td>676104.0</td>\n",
       "      <td>619.142857</td>\n",
       "      <td>0.037546</td>\n",
       "      <td>test</td>\n",
       "    </tr>\n",
       "    <tr>\n",
       "      <th>3</th>\n",
       "      <td>old</td>\n",
       "      <td>245</td>\n",
       "      <td>9</td>\n",
       "      <td>12</td>\n",
       "      <td>86684.0</td>\n",
       "      <td>353.812245</td>\n",
       "      <td>0.036735</td>\n",
       "      <td>test</td>\n",
       "    </tr>\n",
       "    <tr>\n",
       "      <th>4</th>\n",
       "      <td>young</td>\n",
       "      <td>1318</td>\n",
       "      <td>62</td>\n",
       "      <td>152</td>\n",
       "      <td>1206608.0</td>\n",
       "      <td>915.484067</td>\n",
       "      <td>0.047041</td>\n",
       "      <td>control_1</td>\n",
       "    </tr>\n",
       "    <tr>\n",
       "      <th>5</th>\n",
       "      <td>middle</td>\n",
       "      <td>1600</td>\n",
       "      <td>75</td>\n",
       "      <td>132</td>\n",
       "      <td>771771.0</td>\n",
       "      <td>482.356875</td>\n",
       "      <td>0.046875</td>\n",
       "      <td>control_1</td>\n",
       "    </tr>\n",
       "    <tr>\n",
       "      <th>6</th>\n",
       "      <td>mature</td>\n",
       "      <td>1155</td>\n",
       "      <td>42</td>\n",
       "      <td>75</td>\n",
       "      <td>490373.0</td>\n",
       "      <td>424.565368</td>\n",
       "      <td>0.036364</td>\n",
       "      <td>control_1</td>\n",
       "    </tr>\n",
       "    <tr>\n",
       "      <th>7</th>\n",
       "      <td>old</td>\n",
       "      <td>256</td>\n",
       "      <td>11</td>\n",
       "      <td>13</td>\n",
       "      <td>105157.0</td>\n",
       "      <td>410.769531</td>\n",
       "      <td>0.042969</td>\n",
       "      <td>control_1</td>\n",
       "    </tr>\n",
       "    <tr>\n",
       "      <th>8</th>\n",
       "      <td>young</td>\n",
       "      <td>1298</td>\n",
       "      <td>55</td>\n",
       "      <td>87</td>\n",
       "      <td>426296.0</td>\n",
       "      <td>328.425270</td>\n",
       "      <td>0.042373</td>\n",
       "      <td>control_2</td>\n",
       "    </tr>\n",
       "    <tr>\n",
       "      <th>9</th>\n",
       "      <td>middle</td>\n",
       "      <td>1627</td>\n",
       "      <td>73</td>\n",
       "      <td>131</td>\n",
       "      <td>848523.0</td>\n",
       "      <td>521.526122</td>\n",
       "      <td>0.044868</td>\n",
       "      <td>control_2</td>\n",
       "    </tr>\n",
       "    <tr>\n",
       "      <th>10</th>\n",
       "      <td>mature</td>\n",
       "      <td>1061</td>\n",
       "      <td>51</td>\n",
       "      <td>88</td>\n",
       "      <td>539383.0</td>\n",
       "      <td>508.372290</td>\n",
       "      <td>0.048068</td>\n",
       "      <td>control_2</td>\n",
       "    </tr>\n",
       "    <tr>\n",
       "      <th>11</th>\n",
       "      <td>old</td>\n",
       "      <td>274</td>\n",
       "      <td>7</td>\n",
       "      <td>19</td>\n",
       "      <td>97357.0</td>\n",
       "      <td>355.317518</td>\n",
       "      <td>0.025547</td>\n",
       "      <td>control_2</td>\n",
       "    </tr>\n",
       "  </tbody>\n",
       "</table>\n",
       "</div>"
      ],
      "text/plain": [
       "   age_group  users  buyers  purchases    revenue          RU        c1  \\\n",
       "0      young   1305      37         74   584311.0  447.747893  0.028352   \n",
       "1     middle   1657      57        111   891592.0  538.076041  0.034400   \n",
       "2     mature   1092      41         65   676104.0  619.142857  0.037546   \n",
       "3        old    245       9         12    86684.0  353.812245  0.036735   \n",
       "4      young   1318      62        152  1206608.0  915.484067  0.047041   \n",
       "5     middle   1600      75        132   771771.0  482.356875  0.046875   \n",
       "6     mature   1155      42         75   490373.0  424.565368  0.036364   \n",
       "7        old    256      11         13   105157.0  410.769531  0.042969   \n",
       "8      young   1298      55         87   426296.0  328.425270  0.042373   \n",
       "9     middle   1627      73        131   848523.0  521.526122  0.044868   \n",
       "10    mature   1061      51         88   539383.0  508.372290  0.048068   \n",
       "11       old    274       7         19    97357.0  355.317518  0.025547   \n",
       "\n",
       "        group  \n",
       "0        test  \n",
       "1        test  \n",
       "2        test  \n",
       "3        test  \n",
       "4   control_1  \n",
       "5   control_1  \n",
       "6   control_1  \n",
       "7   control_1  \n",
       "8   control_2  \n",
       "9   control_2  \n",
       "10  control_2  \n",
       "11  control_2  "
      ]
     },
     "execution_count": 121,
     "metadata": {},
     "output_type": "execute_result"
    }
   ],
   "source": [
    "summary_by_age"
   ]
  },
  {
   "cell_type": "code",
   "execution_count": 122,
   "id": "7b1561fa",
   "metadata": {},
   "outputs": [
    {
     "data": {
      "image/png": "[encoded data removed]",
      "text/plain": [
       "<Figure size 576x288 with 1 Axes>"
      ]
     },
     "metadata": {
      "needs_background": "light"
     },
     "output_type": "display_data"
    }
   ],
   "source": [
    "plt.figure(figsize = (8, 4))\n",
    "sns.lineplot(data = summary_by_age, x = 'age_group', y = 'RU', hue = 'group')\n",
    "plt.show()"
   ]
  },
  {
   "cell_type": "code",
   "execution_count": 123,
   "id": "31c7672e",
   "metadata": {},
   "outputs": [
    {
     "data": {
      "image/png": "[encoded data removed]",
      "text/plain": [
       "<Figure size 576x288 with 1 Axes>"
      ]
     },
     "metadata": {
      "needs_background": "light"
     },
     "output_type": "display_data"
    }
   ],
   "source": [
    "plt.figure(figsize = (8, 4))\n",
    "sns.lineplot(data = summary_by_age, x = 'age_group', y = 'c1', hue = 'group')\n",
    "plt.show()"
   ]
  },
  {
   "cell_type": "markdown",
   "id": "72e78d27",
   "metadata": {},
   "source": [
    "**Вывод:**\n",
    "\n",
    "Обозначения:\n",
    "- ТГ - тестовая группа (`test`)\n",
    "- КГ - контрольная группа (группы)\n",
    "- КГ_1 - контрольная группа 1 (`control_1`)\n",
    "- КГ_2 - контрольная группа 1 (`control_2`)\n",
    "\n",
    "- Конверсия в покупателя:\n",
    "    1. У молодой (до 25 лет) и взрослой (до 40 лет) аудиторий в обоих КГ выше, чем в тестовой, \n",
    "    2. У возрастной (до 50 лет) аудитории падает для КГ_1 и остаётся высокой в КГ_2.\n",
    "    3. У пожилой (старше 50 лет) аудитории возрастает в КГ_1 и резко падает в КГ_2.\n",
    "- Средняя величина покупок пользователя:\n",
    "    1. У молодёжи (до 25 лет) очень высока в КГ_1, падает в КГ_2.\n",
    "    2. Для более старших возрастов находится ниже или сравнима с тестовой группой."
   ]
  },
  {
   "cell_type": "markdown",
   "id": "ef49a46c",
   "metadata": {},
   "source": [
    "# Выводы  <a class=\"anchor\" id=\"summary\"></a>\n",
    "\n",
    "### Общий результат\n",
    "\n",
    "Доля оплативших (конверсия из пользователя в покупателя) в обоих КГ примерно на 30 % больше, чем в ТГ.\n",
    "\n",
    "Для пробной версии премиум подписки:\n",
    "- уменьшилась доля покупателей (`buyers_this_product_rel`),\n",
    "- уменьшилась доля прибыли от этих продаж (`revenue_rel`),\n",
    "- уменьшилась средняя сумма общих расходов от одного пользователя (`RU`).\n",
    "\n",
    "Для обычной премиум-подписки:\n",
    "- увеличились доли покупателей (`buyers_this_product_rel`),\n",
    "- для контрольной группы 1 доля прибыли от продаж этого продукта  (`revenue_rel`)уменьшилась, для контрольной группы 2 - возросла,\n",
    "- для обоих контрольных групп видно, уменьшение усреднённых расходов (`RU`).\n",
    "\n",
    "В КГ_1 количество купивших обычную премиум-подписку увеличилось более чем на 12 %, в КГ_2 -- более чем на 18 %. Для обычной подписки средняя величина покупок на одного пользователя обоих КГ снижается на 4 % и 8 % соответственно, то есть увеличение количества покупок этой подписки не компенсирует снижения ей цены.\n",
    "\n",
    "Однако, **если рассматривать общие продажи всех продуктов, увеличение средней величины покупок на одного пользователя есть в КГ_1 -- за счёт резкого увеличения продаж монет (coins)**.\n",
    "\n",
    "### Влияние пола\n",
    "\n",
    "Очень малое количество пользователей пола '0', по сравнению с противоположным. Решающее влияние на общую картину оказывает поведение пользователей пола '1'. *Нужно значительное привлечение пользователей этого пола. В том числе для того, чтобы исследования давали статистически значимые результаты.*\n",
    "\n",
    "В отдельных случаях конверсия в покупателя близка к значениям для пола '1', однако в большинстве случаев она или нулевая, или намного меньше таковой для пола '1'.\n",
    "\n",
    "Возможным вариантом исследования является *введение больших скидок на подписку для пола '0'.*\n",
    "\n",
    "### Влияние страны\n",
    "\n",
    "Ни в ТГ, ни в обоих КГ никак не проявили себя пользователи из 72 - 22 = 50 стран. Необходимо понять, как можно продать пользователям из этих стран платные услуги.\n",
    "\n",
    "Страны можно разделить на несколько групп (для обозначения используются символы английского алфавита A, B, C):\n",
    "1. Группа стран A - большое количество пользователей и покупателей, не было нулевых продаж в рамках экспериментальных (ТГ и КГ) групп. Группу можно разделить пополам: в A1 средняя величина покупок на пользователя превышает медианное значение (619 УЕ), в A2 - меньше него.\n",
    "2. Группа стран B - нулевые продажи как минимум в одной из экспериментальных групп. Например, в Турции лишь в одной группе был всего один очень щедрый покупатель.\n",
    "3. Группа стран C - не было продаж.\n",
    "\n",
    "### Влияние возраста\n",
    "\n",
    "- Конверсия в покупателя:\n",
    "\t1. *У молодой (до 25 лет) и взрослой (до 40 лет) аудиторий в обоих КГ выше, чем в тестовой*.\n",
    "\t2. У возрастной (до 50 лет) аудитории падает для КГ_1 и остаётся высокой в КГ_2.\n",
    "\t3. У пожилой (старше 50 лет) аудитории возрастает в КГ_1 и резко падает в КГ_2.\n",
    "- Средняя величина покупок пользователя:\n",
    "\t1. *У молодёжи (до 25 лет) очень высока в КГ_1*, падает в КГ_2.\n",
    "\t2. Для более старших возрастов находится ниже или сравнима с тестовой группой.\n",
    "\n",
    "## Предложения\n",
    "\n",
    "1. Эксперимент оказался удачным благодаря увеличению продаж монет (`coins`) в КГ_1\n",
    "2. Нужно искать способы повысить количество пользователей и конвверсию в странах групп B и C.\n",
    "3. Нужно активно привлекать пользователей пола '0', которых сейчас в несколько раз меньше, чем пользователей противоположного пола.\n",
    "4. Необходимо искать способы повысить конверсию и покупательную способность взрослой аудитории."
   ]
  }
 ],
 "metadata": {
  "kernelspec": {
   "display_name": "Python 3 (ipykernel)",
   "language": "python",
   "name": "python3"
  },
  "language_info": {
   "codemirror_mode": {
    "name": "ipython",
    "version": 3
   },
   "file_extension": ".py",
   "mimetype": "text/x-python",
   "name": "python",
   "nbconvert_exporter": "python",
   "pygments_lexer": "ipython3",
   "version": "3.9.7"
  }
 },
 "nbformat": 4,
 "nbformat_minor": 5
}
