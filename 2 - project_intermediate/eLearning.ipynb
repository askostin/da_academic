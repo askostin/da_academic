{
 "cells": [
  {
   "cell_type": "markdown",
   "id": "51ea8b5c",
   "metadata": {},
   "source": [
    "# Первый (промежуточный) проект e-learning\n",
    "******"
   ]
  },
  {
   "cell_type": "markdown",
   "id": "795607c1",
   "metadata": {},
   "source": [
    "## Содержание\n",
    "\n",
    "- [Постановка задач](#tasks)\n",
    "- [Загрузка необходимых библиотек](#libs)\n",
    "- [Загрузка данных](#data)\n",
    "- [Предварительный обзор данных](#preliminary)\n",
    "\t- [assesments](#assesments)\n",
    "\t- [courses](#courses)\n",
    "\t- [students_assessments](#students_assessments)\n",
    "\t- [students_registration](#students_registration)\n",
    "- [Решение поставленных задач](#tasks)\n",
    "- [Задание 1](#task1)\n",
    "- [Задание 2](#task2)\n",
    "- [Задание 3](#task3)\n",
    "- [Задание 4](#task4)\n",
    "- [Задание 5](#task5)\n",
    "- [Задание 6](#task6)\n",
    "\t- [Построение общей таблицы с данными о студентах. Предварительный анализ данных](#main_table)\n",
    "\t- [Проект разбиения по кластерам](#RFM_clasters)\n",
    "\t- [Определение параметров для разбиения по параметру M (оценки на экзаменах)](#cat_M)\n",
    "\t- [Определение параметров для разбиения по параметру F (завершаемость)](#cat_F)\n",
    "\t- [Определение параметров для разбиения по параметру R (среднее время сдачи одного экзамена)](#cat_R)\n",
    "\t- [Дополнительное исследование](#additional_research)\n",
    "\t- [Результат](#result)\n",
    "- [Дополнительное исследование 2](#additional_research2)\n",
    "- [Дополнительное исследование 3](#additional_research3)"
   ]
  },
  {
   "cell_type": "markdown",
   "id": "64f654cb",
   "metadata": {},
   "source": [
    "# Постановка задач  <a class=\"anchor\" id=\"tasks\"></a>"
   ]
  },
  {
   "cell_type": "markdown",
   "id": "aeec5726",
   "metadata": {},
   "source": [
    "Необходимо проанализировать завершенные уроки в системе онлайн-образования и ответить на следующие вопросы:\n",
    "\n",
    "1. Сколько студентов успешно сдали только один курс? (Успешная сдача — это зачёт по курсу на экзамене).\n",
    "\n",
    "2. Выявить самый сложный и самый простой экзамены: найти курсы и экзамены в рамках курса, которые обладают самой низкой и самой высокой завершаемостью*.\n",
    "\n",
    "3. По каждому предмету определить средний срок сдачи экзаменов (под сдачей понимаем последнее успешное прохождение экзамена студентом).\n",
    "\n",
    "4. Выявить самые популярные курсы (ТОП-3) по количеству регистраций на них. А также курсы с самым большим оттоком (ТОП-3).\n",
    "\n",
    "5. Написать функцию на python, позволяющую строить когортный (семестровый) анализ. В период с начала 2013 по конец 2014 выявить семестр с самой низкой завершаемостью курсов и самыми долгими средними сроками сдачи курсов.\n",
    "\n",
    "6. Построить адаптированные под задачу обучения RFM-кластеры студентов. Где R — среднее время сдачи одного экзамена, F — завершаемость\\* курсов, M — среднее количество баллов, получаемое за экзамен. Подробно описать, как создавал кластеры. Примерное описание подхода можно найти тут.\n",
    "\n",
    "\\*завершаемость = кол-во успешных экзаменов / кол-во всех попыток сдать экзамен"
   ]
  },
  {
   "cell_type": "markdown",
   "id": "6344decd",
   "metadata": {},
   "source": [
    "# Загрузка необходимых библиотек <a class=\"anchor\" id=\"libs\"></a>"
   ]
  },
  {
   "cell_type": "code",
   "execution_count": 88,
   "id": "2c12c0ac",
   "metadata": {},
   "outputs": [],
   "source": [
    "import pandas as pd\n",
    "\n",
    "%matplotlib inline\n",
    "import matplotlib.pyplot as plt\n",
    "import seaborn as sns"
   ]
  },
  {
   "cell_type": "markdown",
   "id": "3d93921a",
   "metadata": {},
   "source": [
    "# Загрузка данных <a class=\"anchor\" id=\"data\"></a>"
   ]
  },
  {
   "cell_type": "code",
   "execution_count": 89,
   "id": "6a2014ab",
   "metadata": {},
   "outputs": [],
   "source": [
    "assessments = pd.read_csv('./assessments.csv')\n",
    "courses = pd.read_csv('./courses.csv')\n",
    "students_assessments = pd.read_csv('./studentAssessment.csv')\n",
    "students_registration = pd.read_csv('./studentRegistration.csv')"
   ]
  },
  {
   "cell_type": "markdown",
   "id": "5eca620f",
   "metadata": {},
   "source": [
    "# Предварительный обзор данных <a class=\"anchor\" id=\"preliminary\"></a>"
   ]
  },
  {
   "cell_type": "markdown",
   "id": "f7198c13",
   "metadata": {},
   "source": [
    "## assesments <a class=\"anchor\" id=\"assesments\"></a>\n",
    "\n",
    "Информация об оценках по курсам. Обычно в ходе прохождения курса проводится несколько контрольных работ, за которыми следует заключительный экзамен.\n",
    "\n",
    "- ```code_module``` — идентификационный код модуля (предмета, курса по предмету),\n",
    "- ```code_presentation``` — идентификационный код презентации -- если по-русски, то это код семестра,\n",
    "- ```id_assessment``` — идентификационный номер контрольной работы,\n",
    "- ```assessment_type``` — тип оценки. Существуют три типа оценивания: оценка преподавателя (TMA), компьютерная оценка (СМА), экзамен по курсу (Exam),\n",
    "- ```date``` — информация об окончательной дате сдачи контрольной работы. Рассчитывается как количество дней с момента начала модуля-презентации. Дата начала презентации имеет номер 0 (ноль),\n",
    "- ```weight``` — вес оценки в %. Обычно экзамены рассматриваются отдельно и имеют вес 100%; сумма всех остальных оценок составляет 100%."
   ]
  },
  {
   "cell_type": "code",
   "execution_count": 90,
   "id": "bede336a",
   "metadata": {
    "scrolled": true
   },
   "outputs": [
    {
     "data": {
      "text/html": [
       "<div>\n",
       "<style scoped>\n",
       "    .dataframe tbody tr th:only-of-type {\n",
       "        vertical-align: middle;\n",
       "    }\n",
       "\n",
       "    .dataframe tbody tr th {\n",
       "        vertical-align: top;\n",
       "    }\n",
       "\n",
       "    .dataframe thead th {\n",
       "        text-align: right;\n",
       "    }\n",
       "</style>\n",
       "<table border=\"1\" class=\"dataframe\">\n",
       "  <thead>\n",
       "    <tr style=\"text-align: right;\">\n",
       "      <th></th>\n",
       "      <th>code_module</th>\n",
       "      <th>code_presentation</th>\n",
       "      <th>id_assessment</th>\n",
       "      <th>assessment_type</th>\n",
       "      <th>date</th>\n",
       "      <th>weight</th>\n",
       "    </tr>\n",
       "  </thead>\n",
       "  <tbody>\n",
       "    <tr>\n",
       "      <th>0</th>\n",
       "      <td>AAA</td>\n",
       "      <td>2013J</td>\n",
       "      <td>1752</td>\n",
       "      <td>TMA</td>\n",
       "      <td>19.0</td>\n",
       "      <td>10.0</td>\n",
       "    </tr>\n",
       "    <tr>\n",
       "      <th>1</th>\n",
       "      <td>AAA</td>\n",
       "      <td>2013J</td>\n",
       "      <td>1753</td>\n",
       "      <td>TMA</td>\n",
       "      <td>54.0</td>\n",
       "      <td>20.0</td>\n",
       "    </tr>\n",
       "    <tr>\n",
       "      <th>2</th>\n",
       "      <td>AAA</td>\n",
       "      <td>2013J</td>\n",
       "      <td>1754</td>\n",
       "      <td>TMA</td>\n",
       "      <td>117.0</td>\n",
       "      <td>20.0</td>\n",
       "    </tr>\n",
       "    <tr>\n",
       "      <th>3</th>\n",
       "      <td>AAA</td>\n",
       "      <td>2013J</td>\n",
       "      <td>1755</td>\n",
       "      <td>TMA</td>\n",
       "      <td>166.0</td>\n",
       "      <td>20.0</td>\n",
       "    </tr>\n",
       "    <tr>\n",
       "      <th>4</th>\n",
       "      <td>AAA</td>\n",
       "      <td>2013J</td>\n",
       "      <td>1756</td>\n",
       "      <td>TMA</td>\n",
       "      <td>215.0</td>\n",
       "      <td>30.0</td>\n",
       "    </tr>\n",
       "  </tbody>\n",
       "</table>\n",
       "</div>"
      ],
      "text/plain": [
       "  code_module code_presentation  id_assessment assessment_type   date  weight\n",
       "0         AAA             2013J           1752             TMA   19.0    10.0\n",
       "1         AAA             2013J           1753             TMA   54.0    20.0\n",
       "2         AAA             2013J           1754             TMA  117.0    20.0\n",
       "3         AAA             2013J           1755             TMA  166.0    20.0\n",
       "4         AAA             2013J           1756             TMA  215.0    30.0"
      ]
     },
     "execution_count": 90,
     "metadata": {},
     "output_type": "execute_result"
    }
   ],
   "source": [
    "assessments.head()"
   ]
  },
  {
   "cell_type": "markdown",
   "id": "bc28b2da",
   "metadata": {},
   "source": [
    "Проверка типов данных:"
   ]
  },
  {
   "cell_type": "code",
   "execution_count": 91,
   "id": "c4986b40",
   "metadata": {},
   "outputs": [
    {
     "data": {
      "text/plain": [
       "code_module           object\n",
       "code_presentation     object\n",
       "id_assessment          int64\n",
       "assessment_type       object\n",
       "date                 float64\n",
       "weight               float64\n",
       "dtype: object"
      ]
     },
     "execution_count": 91,
     "metadata": {},
     "output_type": "execute_result"
    }
   ],
   "source": [
    "assessments.dtypes"
   ]
  },
  {
   "cell_type": "markdown",
   "id": "26e4162f",
   "metadata": {},
   "source": [
    "Проверка на дубликаты и отсутствующие значения:"
   ]
  },
  {
   "cell_type": "code",
   "execution_count": 92,
   "id": "7bab3fce",
   "metadata": {
    "scrolled": true
   },
   "outputs": [
    {
     "name": "stdout",
     "output_type": "stream",
     "text": [
      "206 строк и 6 колонок\n",
      "195 строк после удаления строк, содержащих NULL\n",
      "206 строк после удаления дубликатов\n"
     ]
    }
   ],
   "source": [
    "import spelling\n",
    "\n",
    "a0 = assessments.shape[0]\n",
    "a1 = assessments.shape[1]\n",
    "a2 = assessments.dropna().shape[0]\n",
    "a3 = assessments.drop_duplicates().shape[0]\n",
    "\n",
    "print(a0, spelling.rows_word(a0), \"и\", a1, spelling.cols_word(a1))\n",
    "print(a2, spelling.rows_word(a2), \"после удаления строк, содержащих NULL\")\n",
    "print(a3, spelling.rows_word(a3), \"после удаления дубликатов\")"
   ]
  },
  {
   "cell_type": "markdown",
   "id": "35574a84",
   "metadata": {},
   "source": [
    "## courses <a class=\"anchor\" id=\"courses\"></a>\n",
    "\n",
    "Список всех доступных модулей (курсов) и их презентации\n",
    "\n",
    "- ```code_module``` — идентификационный код модуля (предмета),\n",
    "- ```code_presentation``` — идентификационный код семестра, в котором проводился курс,\n",
    "- ```module_presentation_length``` — продолжительность модуля-презентации в днях."
   ]
  },
  {
   "cell_type": "code",
   "execution_count": 93,
   "id": "e8924186",
   "metadata": {},
   "outputs": [
    {
     "data": {
      "text/html": [
       "<div>\n",
       "<style scoped>\n",
       "    .dataframe tbody tr th:only-of-type {\n",
       "        vertical-align: middle;\n",
       "    }\n",
       "\n",
       "    .dataframe tbody tr th {\n",
       "        vertical-align: top;\n",
       "    }\n",
       "\n",
       "    .dataframe thead th {\n",
       "        text-align: right;\n",
       "    }\n",
       "</style>\n",
       "<table border=\"1\" class=\"dataframe\">\n",
       "  <thead>\n",
       "    <tr style=\"text-align: right;\">\n",
       "      <th></th>\n",
       "      <th>code_module</th>\n",
       "      <th>code_presentation</th>\n",
       "      <th>module_presentation_length</th>\n",
       "    </tr>\n",
       "  </thead>\n",
       "  <tbody>\n",
       "    <tr>\n",
       "      <th>0</th>\n",
       "      <td>AAA</td>\n",
       "      <td>2013J</td>\n",
       "      <td>268</td>\n",
       "    </tr>\n",
       "    <tr>\n",
       "      <th>1</th>\n",
       "      <td>AAA</td>\n",
       "      <td>2014J</td>\n",
       "      <td>269</td>\n",
       "    </tr>\n",
       "    <tr>\n",
       "      <th>2</th>\n",
       "      <td>BBB</td>\n",
       "      <td>2013J</td>\n",
       "      <td>268</td>\n",
       "    </tr>\n",
       "    <tr>\n",
       "      <th>3</th>\n",
       "      <td>BBB</td>\n",
       "      <td>2014J</td>\n",
       "      <td>262</td>\n",
       "    </tr>\n",
       "    <tr>\n",
       "      <th>4</th>\n",
       "      <td>BBB</td>\n",
       "      <td>2013B</td>\n",
       "      <td>240</td>\n",
       "    </tr>\n",
       "  </tbody>\n",
       "</table>\n",
       "</div>"
      ],
      "text/plain": [
       "  code_module code_presentation  module_presentation_length\n",
       "0         AAA             2013J                         268\n",
       "1         AAA             2014J                         269\n",
       "2         BBB             2013J                         268\n",
       "3         BBB             2014J                         262\n",
       "4         BBB             2013B                         240"
      ]
     },
     "execution_count": 93,
     "metadata": {},
     "output_type": "execute_result"
    }
   ],
   "source": [
    "courses.head()"
   ]
  },
  {
   "cell_type": "markdown",
   "id": "e812f19d",
   "metadata": {},
   "source": [
    "Проверка типов данных:"
   ]
  },
  {
   "cell_type": "code",
   "execution_count": 94,
   "id": "74aa016b",
   "metadata": {},
   "outputs": [
    {
     "data": {
      "text/plain": [
       "code_module                   object\n",
       "code_presentation             object\n",
       "module_presentation_length     int64\n",
       "dtype: object"
      ]
     },
     "execution_count": 94,
     "metadata": {},
     "output_type": "execute_result"
    }
   ],
   "source": [
    "courses.dtypes"
   ]
  },
  {
   "cell_type": "code",
   "execution_count": 95,
   "id": "dbec9314",
   "metadata": {},
   "outputs": [
    {
     "data": {
      "text/html": [
       "<div>\n",
       "<style scoped>\n",
       "    .dataframe tbody tr th:only-of-type {\n",
       "        vertical-align: middle;\n",
       "    }\n",
       "\n",
       "    .dataframe tbody tr th {\n",
       "        vertical-align: top;\n",
       "    }\n",
       "\n",
       "    .dataframe thead th {\n",
       "        text-align: right;\n",
       "    }\n",
       "</style>\n",
       "<table border=\"1\" class=\"dataframe\">\n",
       "  <thead>\n",
       "    <tr style=\"text-align: right;\">\n",
       "      <th></th>\n",
       "      <th>code_module</th>\n",
       "      <th>code_presentation</th>\n",
       "      <th>module_presentation_length</th>\n",
       "    </tr>\n",
       "  </thead>\n",
       "  <tbody>\n",
       "    <tr>\n",
       "      <th>0</th>\n",
       "      <td>AAA</td>\n",
       "      <td>2013J</td>\n",
       "      <td>268</td>\n",
       "    </tr>\n",
       "    <tr>\n",
       "      <th>1</th>\n",
       "      <td>AAA</td>\n",
       "      <td>2014J</td>\n",
       "      <td>269</td>\n",
       "    </tr>\n",
       "    <tr>\n",
       "      <th>2</th>\n",
       "      <td>BBB</td>\n",
       "      <td>2013J</td>\n",
       "      <td>268</td>\n",
       "    </tr>\n",
       "    <tr>\n",
       "      <th>3</th>\n",
       "      <td>BBB</td>\n",
       "      <td>2014J</td>\n",
       "      <td>262</td>\n",
       "    </tr>\n",
       "    <tr>\n",
       "      <th>4</th>\n",
       "      <td>BBB</td>\n",
       "      <td>2013B</td>\n",
       "      <td>240</td>\n",
       "    </tr>\n",
       "  </tbody>\n",
       "</table>\n",
       "</div>"
      ],
      "text/plain": [
       "  code_module code_presentation  module_presentation_length\n",
       "0         AAA             2013J                         268\n",
       "1         AAA             2014J                         269\n",
       "2         BBB             2013J                         268\n",
       "3         BBB             2014J                         262\n",
       "4         BBB             2013B                         240"
      ]
     },
     "execution_count": 95,
     "metadata": {},
     "output_type": "execute_result"
    }
   ],
   "source": [
    "courses.head()"
   ]
  },
  {
   "cell_type": "markdown",
   "id": "d53980ca",
   "metadata": {},
   "source": [
    "Проверка типов данных:"
   ]
  },
  {
   "cell_type": "code",
   "execution_count": 96,
   "id": "0f2a0465",
   "metadata": {},
   "outputs": [
    {
     "data": {
      "text/plain": [
       "code_module                   object\n",
       "code_presentation             object\n",
       "module_presentation_length     int64\n",
       "dtype: object"
      ]
     },
     "execution_count": 96,
     "metadata": {},
     "output_type": "execute_result"
    }
   ],
   "source": [
    "courses.dtypes"
   ]
  },
  {
   "cell_type": "markdown",
   "id": "8609b3dc",
   "metadata": {},
   "source": [
    "Проверка на дубликаты и отсутствующие значения:"
   ]
  },
  {
   "cell_type": "code",
   "execution_count": 97,
   "id": "2e2eef85",
   "metadata": {},
   "outputs": [
    {
     "name": "stdout",
     "output_type": "stream",
     "text": [
      "22 строки и 3 колонки\n",
      "22 строки после удаления строк, содержащих NULL\n",
      "22 строки после удаления дубликатов\n"
     ]
    }
   ],
   "source": [
    "a0 = courses.shape[0]\n",
    "a1 = courses.shape[1]\n",
    "a2 = courses.dropna().shape[0]\n",
    "a3 = courses.drop_duplicates().shape[0]\n",
    "\n",
    "print(a0, spelling.rows_word(a0), \"и\", a1, spelling.cols_word(a1))\n",
    "print(a2, spelling.rows_word(a2), \"после удаления строк, содержащих NULL\")\n",
    "print(a3, spelling.rows_word(a3), \"после удаления дубликатов\")"
   ]
  },
  {
   "cell_type": "markdown",
   "id": "42676bba",
   "metadata": {},
   "source": [
    "## students_assessments <a class=\"anchor\" id=\"students_assessments\"></a>\n",
    "\n",
    "Результаты ассессментов студентов. Если учащийся не сдает (не сдаёт работу, не высылает результат) ассессмент, результат не записывается в таблицу. Заключительные экзамены не принимаются, если результат предварительных ассессментов отсутствуют в системе.\n",
    "\n",
    "- ```id_assessment``` — идентификационный номер ассессмента,\n",
    "- ```id_student``` — идентификационный номер студента,\n",
    "- ```date_submitted``` — дата подачи заявки студентом, измеряемая как количество дней с начала презентации модуля,\n",
    "- ```is_banked``` — флаг состояния, указывающий, что результат оценки был перенесен из предыдущей презентации,\n",
    "- ```score``` — оценка учащегося в этом ассессмента. Диапазон составляет от 0 до 100. Оценка ниже 40 интерпретируется как несдача."
   ]
  },
  {
   "cell_type": "code",
   "execution_count": 98,
   "id": "cbd6c88c",
   "metadata": {},
   "outputs": [
    {
     "data": {
      "text/html": [
       "<div>\n",
       "<style scoped>\n",
       "    .dataframe tbody tr th:only-of-type {\n",
       "        vertical-align: middle;\n",
       "    }\n",
       "\n",
       "    .dataframe tbody tr th {\n",
       "        vertical-align: top;\n",
       "    }\n",
       "\n",
       "    .dataframe thead th {\n",
       "        text-align: right;\n",
       "    }\n",
       "</style>\n",
       "<table border=\"1\" class=\"dataframe\">\n",
       "  <thead>\n",
       "    <tr style=\"text-align: right;\">\n",
       "      <th></th>\n",
       "      <th>id_assessment</th>\n",
       "      <th>id_student</th>\n",
       "      <th>date_submitted</th>\n",
       "      <th>is_banked</th>\n",
       "      <th>score</th>\n",
       "    </tr>\n",
       "  </thead>\n",
       "  <tbody>\n",
       "    <tr>\n",
       "      <th>0</th>\n",
       "      <td>1752</td>\n",
       "      <td>11391</td>\n",
       "      <td>18</td>\n",
       "      <td>0</td>\n",
       "      <td>78.0</td>\n",
       "    </tr>\n",
       "    <tr>\n",
       "      <th>1</th>\n",
       "      <td>1752</td>\n",
       "      <td>28400</td>\n",
       "      <td>22</td>\n",
       "      <td>0</td>\n",
       "      <td>70.0</td>\n",
       "    </tr>\n",
       "    <tr>\n",
       "      <th>2</th>\n",
       "      <td>1752</td>\n",
       "      <td>31604</td>\n",
       "      <td>17</td>\n",
       "      <td>0</td>\n",
       "      <td>72.0</td>\n",
       "    </tr>\n",
       "    <tr>\n",
       "      <th>3</th>\n",
       "      <td>1752</td>\n",
       "      <td>32885</td>\n",
       "      <td>26</td>\n",
       "      <td>0</td>\n",
       "      <td>69.0</td>\n",
       "    </tr>\n",
       "    <tr>\n",
       "      <th>4</th>\n",
       "      <td>1752</td>\n",
       "      <td>38053</td>\n",
       "      <td>19</td>\n",
       "      <td>0</td>\n",
       "      <td>79.0</td>\n",
       "    </tr>\n",
       "  </tbody>\n",
       "</table>\n",
       "</div>"
      ],
      "text/plain": [
       "   id_assessment  id_student  date_submitted  is_banked  score\n",
       "0           1752       11391              18          0   78.0\n",
       "1           1752       28400              22          0   70.0\n",
       "2           1752       31604              17          0   72.0\n",
       "3           1752       32885              26          0   69.0\n",
       "4           1752       38053              19          0   79.0"
      ]
     },
     "execution_count": 98,
     "metadata": {},
     "output_type": "execute_result"
    }
   ],
   "source": [
    "students_assessments.head()"
   ]
  },
  {
   "cell_type": "markdown",
   "id": "f06f06d2",
   "metadata": {},
   "source": [
    "Проверка типов данных:"
   ]
  },
  {
   "cell_type": "code",
   "execution_count": 99,
   "id": "2f2c9e80",
   "metadata": {},
   "outputs": [
    {
     "data": {
      "text/plain": [
       "id_assessment       int64\n",
       "id_student          int64\n",
       "date_submitted      int64\n",
       "is_banked           int64\n",
       "score             float64\n",
       "dtype: object"
      ]
     },
     "execution_count": 99,
     "metadata": {},
     "output_type": "execute_result"
    }
   ],
   "source": [
    "students_assessments.dtypes"
   ]
  },
  {
   "cell_type": "markdown",
   "id": "1549429c",
   "metadata": {},
   "source": [
    "Проверка на дубликаты и отсутствующие значения:"
   ]
  },
  {
   "cell_type": "code",
   "execution_count": 100,
   "id": "95430a47",
   "metadata": {},
   "outputs": [
    {
     "name": "stdout",
     "output_type": "stream",
     "text": [
      "173912 колонок и 5 колонок\n",
      "173739 строк после удаления строк, содержащих NULL\n",
      "173912 колонок после удаления дубликатов\n"
     ]
    }
   ],
   "source": [
    "a0 = students_assessments.shape[0]\n",
    "a1 = students_assessments.shape[1]\n",
    "a2 = students_assessments.dropna().shape[0]\n",
    "a3 = students_assessments.drop_duplicates().shape[0]\n",
    "\n",
    "print(a0, spelling.rows_word(a0), \"и\", a1, spelling.cols_word(a1))\n",
    "print(a2, spelling.rows_word(a2), \"после удаления строк, содержащих NULL\")\n",
    "print(a3, spelling.rows_word(a3), \"после удаления дубликатов\")"
   ]
  },
  {
   "cell_type": "markdown",
   "id": "40f2e791",
   "metadata": {},
   "source": [
    "## students_registration <a class=\"anchor\" id=\"students_registration\"></a>\n",
    "\n",
    "Информация о времени, когда студент зарегистрировался для участия в курсе.\n",
    "- ```code_module``` — идентификационный код модуля (предмета),\n",
    "- ```code_presentation``` — идентификационный код презентации,\n",
    "- ```id_student``` — идентификационный номер студента,\n",
    "- ```date_registration``` — дата регистрации студента на презентации модуля, это количество дней, измеренное от начала презентации модуля (например, отрицательное значение -30 означает, что студент зарегистрировался на презентацию модуля за 30 дней до ее начала),\n",
    "- ```date_unregistration``` — дата отмены регистрации студента с презентации модуля, это количество дней, отсчитываемое от начала модуля-презентации. У студентов, окончивших курс, это поле остается пустым."
   ]
  },
  {
   "cell_type": "code",
   "execution_count": 101,
   "id": "630e794f",
   "metadata": {},
   "outputs": [
    {
     "data": {
      "text/html": [
       "<div>\n",
       "<style scoped>\n",
       "    .dataframe tbody tr th:only-of-type {\n",
       "        vertical-align: middle;\n",
       "    }\n",
       "\n",
       "    .dataframe tbody tr th {\n",
       "        vertical-align: top;\n",
       "    }\n",
       "\n",
       "    .dataframe thead th {\n",
       "        text-align: right;\n",
       "    }\n",
       "</style>\n",
       "<table border=\"1\" class=\"dataframe\">\n",
       "  <thead>\n",
       "    <tr style=\"text-align: right;\">\n",
       "      <th></th>\n",
       "      <th>code_module</th>\n",
       "      <th>code_presentation</th>\n",
       "      <th>id_student</th>\n",
       "      <th>date_registration</th>\n",
       "      <th>date_unregistration</th>\n",
       "    </tr>\n",
       "  </thead>\n",
       "  <tbody>\n",
       "    <tr>\n",
       "      <th>0</th>\n",
       "      <td>AAA</td>\n",
       "      <td>2013J</td>\n",
       "      <td>11391</td>\n",
       "      <td>-159.0</td>\n",
       "      <td>NaN</td>\n",
       "    </tr>\n",
       "    <tr>\n",
       "      <th>1</th>\n",
       "      <td>AAA</td>\n",
       "      <td>2013J</td>\n",
       "      <td>28400</td>\n",
       "      <td>-53.0</td>\n",
       "      <td>NaN</td>\n",
       "    </tr>\n",
       "    <tr>\n",
       "      <th>2</th>\n",
       "      <td>AAA</td>\n",
       "      <td>2013J</td>\n",
       "      <td>30268</td>\n",
       "      <td>-92.0</td>\n",
       "      <td>12.0</td>\n",
       "    </tr>\n",
       "    <tr>\n",
       "      <th>3</th>\n",
       "      <td>AAA</td>\n",
       "      <td>2013J</td>\n",
       "      <td>31604</td>\n",
       "      <td>-52.0</td>\n",
       "      <td>NaN</td>\n",
       "    </tr>\n",
       "    <tr>\n",
       "      <th>4</th>\n",
       "      <td>AAA</td>\n",
       "      <td>2013J</td>\n",
       "      <td>32885</td>\n",
       "      <td>-176.0</td>\n",
       "      <td>NaN</td>\n",
       "    </tr>\n",
       "  </tbody>\n",
       "</table>\n",
       "</div>"
      ],
      "text/plain": [
       "  code_module code_presentation  id_student  date_registration  \\\n",
       "0         AAA             2013J       11391             -159.0   \n",
       "1         AAA             2013J       28400              -53.0   \n",
       "2         AAA             2013J       30268              -92.0   \n",
       "3         AAA             2013J       31604              -52.0   \n",
       "4         AAA             2013J       32885             -176.0   \n",
       "\n",
       "   date_unregistration  \n",
       "0                  NaN  \n",
       "1                  NaN  \n",
       "2                 12.0  \n",
       "3                  NaN  \n",
       "4                  NaN  "
      ]
     },
     "execution_count": 101,
     "metadata": {},
     "output_type": "execute_result"
    }
   ],
   "source": [
    "students_registration.head()"
   ]
  },
  {
   "cell_type": "markdown",
   "id": "a077a804",
   "metadata": {},
   "source": [
    "Проверка типов данных:"
   ]
  },
  {
   "cell_type": "code",
   "execution_count": 102,
   "id": "01f462be",
   "metadata": {},
   "outputs": [
    {
     "data": {
      "text/plain": [
       "code_module             object\n",
       "code_presentation       object\n",
       "id_student               int64\n",
       "date_registration      float64\n",
       "date_unregistration    float64\n",
       "dtype: object"
      ]
     },
     "execution_count": 102,
     "metadata": {},
     "output_type": "execute_result"
    }
   ],
   "source": [
    "students_registration.dtypes"
   ]
  },
  {
   "cell_type": "markdown",
   "id": "82824d5a",
   "metadata": {},
   "source": [
    "Проверка на дубликаты и отсутствующие значения:"
   ]
  },
  {
   "cell_type": "code",
   "execution_count": 103,
   "id": "76b8d2ea",
   "metadata": {
    "scrolled": false
   },
   "outputs": [
    {
     "name": "stdout",
     "output_type": "stream",
     "text": [
      "32593 строки и 5 колонок\n",
      "10033 строки после удаления строк, содержащих NULL\n",
      "32593 строки после удаления дубликатов\n"
     ]
    }
   ],
   "source": [
    "a0 = students_registration.shape[0]\n",
    "a1 = students_registration.shape[1]\n",
    "a2 = students_registration.dropna().shape[0]\n",
    "a3 = students_registration.drop_duplicates().shape[0]\n",
    "\n",
    "print(a0, spelling.rows_word(a0), \"и\", a1, spelling.cols_word(a1))\n",
    "print(a2, spelling.rows_word(a2), \"после удаления строк, содержащих NULL\")\n",
    "print(a3, spelling.rows_word(a3), \"после удаления дубликатов\")"
   ]
  },
  {
   "cell_type": "markdown",
   "id": "ab26c4f7",
   "metadata": {},
   "source": [
    "***\n",
    "# Решение поставленных задач <a class=\"anchor\" id=\"tasks\"></a>"
   ]
  },
  {
   "cell_type": "markdown",
   "id": "62672d60",
   "metadata": {},
   "source": [
    "# Задание 1 <a class=\"anchor\" id=\"task1\"></a>\n",
    "\n",
    "Определение количества успешно сдавших студентов (успешная сдача — это зачёт по курсу на экзамене)."
   ]
  },
  {
   "cell_type": "code",
   "execution_count": 104,
   "id": "01d5f1db",
   "metadata": {},
   "outputs": [],
   "source": [
    "students_and_exams = \\\n",
    "    students_assessments \\\n",
    "    .merge(assessments.query(\"assessment_type == 'Exam'\"), \\\n",
    "           how = 'inner',\n",
    "           on = 'id_assessment') \\\n",
    "    .sort_values(['id_student','id_assessment']) \\\n",
    "    .reset_index(drop = True)\n",
    "\n",
    "students_and_exams['is_exam_passed'] = (students_and_exams['score'] >= 40)"
   ]
  },
  {
   "cell_type": "code",
   "execution_count": 105,
   "id": "dd47bb3f",
   "metadata": {
    "scrolled": true
   },
   "outputs": [
    {
     "data": {
      "text/plain": [
       "code_module  code_presentation\n",
       "CCC          2014J                1168\n",
       "DDD          2013J                 968\n",
       "             2014J                 950\n",
       "CCC          2014B                 747\n",
       "DDD          2013B                 602\n",
       "             2014B                 524\n",
       "dtype: int64"
      ]
     },
     "execution_count": 105,
     "metadata": {},
     "output_type": "execute_result"
    }
   ],
   "source": [
    "students_and_exams[['code_module', 'code_presentation']].value_counts()"
   ]
  },
  {
   "cell_type": "markdown",
   "id": "933e32a4",
   "metadata": {},
   "source": [
    "Подсчитаем распределение количества сдавших экзамены студентов в зависимости от того, сколько экзаменов они сдали:"
   ]
  },
  {
   "cell_type": "code",
   "execution_count": 106,
   "id": "f0f1b82d",
   "metadata": {},
   "outputs": [
    {
     "data": {
      "text/plain": [
       "is_exam_passed\n",
       "1                 3802\n",
       "0                  536\n",
       "2                  295\n",
       "dtype: int64"
      ]
     },
     "execution_count": 106,
     "metadata": {},
     "output_type": "execute_result"
    }
   ],
   "source": [
    "students_and_exams \\\n",
    "    .groupby('id_student') \\\n",
    "    .agg({'is_exam_passed': 'sum'}) \\\n",
    "    .value_counts()"
   ]
  },
  {
   "cell_type": "markdown",
   "id": "434cc53a",
   "metadata": {},
   "source": [
    "Немножко другой способ:"
   ]
  },
  {
   "cell_type": "code",
   "execution_count": 107,
   "id": "5539aaf3",
   "metadata": {},
   "outputs": [
    {
     "data": {
      "text/plain": [
       "3802"
      ]
     },
     "execution_count": 107,
     "metadata": {},
     "output_type": "execute_result"
    }
   ],
   "source": [
    "students_and_exams \\\n",
    "    .query(\"is_exam_passed\") \\\n",
    "    .groupby('id_student') \\\n",
    "    .size() \\\n",
    "    .where(lambda x : x == 1) \\\n",
    "    .dropna() \\\n",
    "    .shape[0]"
   ]
  },
  {
   "cell_type": "markdown",
   "id": "1cbbdea3",
   "metadata": {},
   "source": [
    "Сдали только один курс 3802 студента."
   ]
  },
  {
   "cell_type": "markdown",
   "id": "1fe5480d",
   "metadata": {},
   "source": [
    "# Задание 2 <a class=\"anchor\" id=\"task2\"></a>\n",
    "\n",
    "Выявим самый сложный и самый простой экзамен: найдём курсы и экзамены в рамках курса, которые обладают самой низкой и самой высокой завершаемостью.\n",
    "\n",
    "```завершаемость = кол-во успешных экзаменов / кол-во всех попыток сдать экзамен```"
   ]
  },
  {
   "cell_type": "markdown",
   "id": "313917f2",
   "metadata": {},
   "source": [
    "Используем построенную ранее таблицу ```students_and_exams```, в которую из всех типов проверок входят только экзамены, промежуточные зачёты не включены."
   ]
  },
  {
   "cell_type": "markdown",
   "id": "896b5366",
   "metadata": {},
   "source": [
    "Сначала посчитаем, какое количество попыток сдать экзамен было для каждого модуля и презентации:"
   ]
  },
  {
   "cell_type": "code",
   "execution_count": 108,
   "id": "613492c8",
   "metadata": {},
   "outputs": [],
   "source": [
    "exam_attempts = \\\n",
    "    students_and_exams \\\n",
    "    .groupby(['code_module', 'code_presentation']) \\\n",
    "    .agg({'id_assessment': 'count'}) \\\n",
    "    .rename(columns = {'id_assessment': 'exam_attempts'})"
   ]
  },
  {
   "cell_type": "code",
   "execution_count": 109,
   "id": "51675443",
   "metadata": {},
   "outputs": [
    {
     "data": {
      "text/html": [
       "<div>\n",
       "<style scoped>\n",
       "    .dataframe tbody tr th:only-of-type {\n",
       "        vertical-align: middle;\n",
       "    }\n",
       "\n",
       "    .dataframe tbody tr th {\n",
       "        vertical-align: top;\n",
       "    }\n",
       "\n",
       "    .dataframe thead th {\n",
       "        text-align: right;\n",
       "    }\n",
       "</style>\n",
       "<table border=\"1\" class=\"dataframe\">\n",
       "  <thead>\n",
       "    <tr style=\"text-align: right;\">\n",
       "      <th></th>\n",
       "      <th></th>\n",
       "      <th>exam_attempts</th>\n",
       "    </tr>\n",
       "    <tr>\n",
       "      <th>code_module</th>\n",
       "      <th>code_presentation</th>\n",
       "      <th></th>\n",
       "    </tr>\n",
       "  </thead>\n",
       "  <tbody>\n",
       "    <tr>\n",
       "      <th rowspan=\"2\" valign=\"top\">CCC</th>\n",
       "      <th>2014B</th>\n",
       "      <td>747</td>\n",
       "    </tr>\n",
       "    <tr>\n",
       "      <th>2014J</th>\n",
       "      <td>1168</td>\n",
       "    </tr>\n",
       "    <tr>\n",
       "      <th rowspan=\"4\" valign=\"top\">DDD</th>\n",
       "      <th>2013B</th>\n",
       "      <td>602</td>\n",
       "    </tr>\n",
       "    <tr>\n",
       "      <th>2013J</th>\n",
       "      <td>968</td>\n",
       "    </tr>\n",
       "    <tr>\n",
       "      <th>2014B</th>\n",
       "      <td>524</td>\n",
       "    </tr>\n",
       "    <tr>\n",
       "      <th>2014J</th>\n",
       "      <td>950</td>\n",
       "    </tr>\n",
       "  </tbody>\n",
       "</table>\n",
       "</div>"
      ],
      "text/plain": [
       "                               exam_attempts\n",
       "code_module code_presentation               \n",
       "CCC         2014B                        747\n",
       "            2014J                       1168\n",
       "DDD         2013B                        602\n",
       "            2013J                        968\n",
       "            2014B                        524\n",
       "            2014J                        950"
      ]
     },
     "execution_count": 109,
     "metadata": {},
     "output_type": "execute_result"
    }
   ],
   "source": [
    "exam_attempts"
   ]
  },
  {
   "cell_type": "markdown",
   "id": "4eb048cf",
   "metadata": {},
   "source": [
    "Теперь посчитаем только успешные попытки:"
   ]
  },
  {
   "cell_type": "code",
   "execution_count": 110,
   "id": "fc24a656",
   "metadata": {
    "scrolled": true
   },
   "outputs": [],
   "source": [
    "exam_attempts_successful = \\\n",
    "    students_and_exams.query(\"is_exam_passed\") \\\n",
    "    .groupby(['code_module', 'code_presentation']) \\\n",
    "    .agg({'id_assessment': 'count'}) \\\n",
    "    .rename(columns = {'id_assessment': 'exam_attempts_successful'})"
   ]
  },
  {
   "cell_type": "markdown",
   "id": "8d0107e0",
   "metadata": {},
   "source": [
    "Сливаем обе таблицы. При этом мы используем **все** ключи из обоих таблиц, их объединение, поскольку во второй таблице каких-то строк (результата подсчёта для данного модуля и экзамена) может не быть, ибо успешных попыток не было вообще -- тогда ```completion_rate``` здесь будет равно 0."
   ]
  },
  {
   "cell_type": "code",
   "execution_count": 111,
   "id": "13cb7cc5",
   "metadata": {},
   "outputs": [],
   "source": [
    "exams_completion = \\\n",
    "    exam_attempts \\\n",
    "    .merge(exam_attempts_successful,\n",
    "           how = 'outer',\n",
    "           on = ['code_module', 'code_presentation'])"
   ]
  },
  {
   "cell_type": "code",
   "execution_count": 112,
   "id": "0803afac",
   "metadata": {
    "scrolled": true
   },
   "outputs": [
    {
     "data": {
      "text/html": [
       "<div>\n",
       "<style scoped>\n",
       "    .dataframe tbody tr th:only-of-type {\n",
       "        vertical-align: middle;\n",
       "    }\n",
       "\n",
       "    .dataframe tbody tr th {\n",
       "        vertical-align: top;\n",
       "    }\n",
       "\n",
       "    .dataframe thead th {\n",
       "        text-align: right;\n",
       "    }\n",
       "</style>\n",
       "<table border=\"1\" class=\"dataframe\">\n",
       "  <thead>\n",
       "    <tr style=\"text-align: right;\">\n",
       "      <th></th>\n",
       "      <th></th>\n",
       "      <th>exam_attempts</th>\n",
       "      <th>exam_attempts_successful</th>\n",
       "      <th>exam_completion_rate</th>\n",
       "    </tr>\n",
       "    <tr>\n",
       "      <th>code_module</th>\n",
       "      <th>code_presentation</th>\n",
       "      <th></th>\n",
       "      <th></th>\n",
       "      <th></th>\n",
       "    </tr>\n",
       "  </thead>\n",
       "  <tbody>\n",
       "    <tr>\n",
       "      <th rowspan=\"2\" valign=\"top\">CCC</th>\n",
       "      <th>2014B</th>\n",
       "      <td>747</td>\n",
       "      <td>664</td>\n",
       "      <td>0.889</td>\n",
       "    </tr>\n",
       "    <tr>\n",
       "      <th>2014J</th>\n",
       "      <td>1168</td>\n",
       "      <td>1019</td>\n",
       "      <td>0.872</td>\n",
       "    </tr>\n",
       "    <tr>\n",
       "      <th rowspan=\"4\" valign=\"top\">DDD</th>\n",
       "      <th>2013B</th>\n",
       "      <td>602</td>\n",
       "      <td>504</td>\n",
       "      <td>0.837</td>\n",
       "    </tr>\n",
       "    <tr>\n",
       "      <th>2013J</th>\n",
       "      <td>968</td>\n",
       "      <td>878</td>\n",
       "      <td>0.907</td>\n",
       "    </tr>\n",
       "    <tr>\n",
       "      <th>2014B</th>\n",
       "      <td>524</td>\n",
       "      <td>485</td>\n",
       "      <td>0.926</td>\n",
       "    </tr>\n",
       "    <tr>\n",
       "      <th>2014J</th>\n",
       "      <td>950</td>\n",
       "      <td>842</td>\n",
       "      <td>0.886</td>\n",
       "    </tr>\n",
       "  </tbody>\n",
       "</table>\n",
       "</div>"
      ],
      "text/plain": [
       "                               exam_attempts  exam_attempts_successful  \\\n",
       "code_module code_presentation                                            \n",
       "CCC         2014B                        747                       664   \n",
       "            2014J                       1168                      1019   \n",
       "DDD         2013B                        602                       504   \n",
       "            2013J                        968                       878   \n",
       "            2014B                        524                       485   \n",
       "            2014J                        950                       842   \n",
       "\n",
       "                               exam_completion_rate  \n",
       "code_module code_presentation                        \n",
       "CCC         2014B                             0.889  \n",
       "            2014J                             0.872  \n",
       "DDD         2013B                             0.837  \n",
       "            2013J                             0.907  \n",
       "            2014B                             0.926  \n",
       "            2014J                             0.886  "
      ]
     },
     "execution_count": 112,
     "metadata": {},
     "output_type": "execute_result"
    }
   ],
   "source": [
    "exams_completion['exam_completion_rate'] = \\\n",
    "    round(exams_completion['exam_attempts_successful'] \\\n",
    "          / exams_completion['exam_attempts'],\n",
    "          3)\n",
    "exams_completion"
   ]
  },
  {
   "cell_type": "markdown",
   "id": "c7df13ba",
   "metadata": {},
   "source": [
    "Экзамен с минимальной завершаемостью:"
   ]
  },
  {
   "cell_type": "code",
   "execution_count": 113,
   "id": "0e320467",
   "metadata": {
    "scrolled": true
   },
   "outputs": [
    {
     "data": {
      "text/plain": [
       "('DDD', '2013B')"
      ]
     },
     "execution_count": 113,
     "metadata": {},
     "output_type": "execute_result"
    }
   ],
   "source": [
    "exams_completion['exam_completion_rate'].idxmin()"
   ]
  },
  {
   "cell_type": "markdown",
   "id": "d83d3c5f",
   "metadata": {},
   "source": [
    "Экзамен с максимальной завершаемостью:"
   ]
  },
  {
   "cell_type": "code",
   "execution_count": 114,
   "id": "10781d5b",
   "metadata": {
    "scrolled": true
   },
   "outputs": [
    {
     "data": {
      "text/plain": [
       "('DDD', '2014B')"
      ]
     },
     "execution_count": 114,
     "metadata": {},
     "output_type": "execute_result"
    }
   ],
   "source": [
    "exams_completion['exam_completion_rate'].idxmax()"
   ]
  },
  {
   "cell_type": "markdown",
   "id": "ddbdd63c",
   "metadata": {},
   "source": [
    "Здесь предполагается, что один и тот же курс в новой презентации (в другом семестре, году) будет уже отличаться -- соответственно, экзамены будут отличаться."
   ]
  },
  {
   "cell_type": "markdown",
   "id": "96da50e1",
   "metadata": {},
   "source": [
    "# Задание 3 <a class=\"anchor\" id=\"task3\"></a>"
   ]
  },
  {
   "cell_type": "markdown",
   "id": "31ca0f1f",
   "metadata": {},
   "source": [
    "По каждому предмету определим средний срок сдачи экзаменов.\n",
    "\n",
    "Сдача - последнее успешное прохождение экзамена студентом.\n",
    "\n",
    "Даты сдач смотрим в поле ```date_submitted``` таблицы ```students_and_exams```."
   ]
  },
  {
   "cell_type": "code",
   "execution_count": 115,
   "id": "5ddfcea6",
   "metadata": {},
   "outputs": [
    {
     "data": {
      "text/html": [
       "<div>\n",
       "<style scoped>\n",
       "    .dataframe tbody tr th:only-of-type {\n",
       "        vertical-align: middle;\n",
       "    }\n",
       "\n",
       "    .dataframe tbody tr th {\n",
       "        vertical-align: top;\n",
       "    }\n",
       "\n",
       "    .dataframe thead th {\n",
       "        text-align: right;\n",
       "    }\n",
       "</style>\n",
       "<table border=\"1\" class=\"dataframe\">\n",
       "  <thead>\n",
       "    <tr style=\"text-align: right;\">\n",
       "      <th></th>\n",
       "      <th></th>\n",
       "      <th>date_submitted_mean</th>\n",
       "    </tr>\n",
       "    <tr>\n",
       "      <th>code_module</th>\n",
       "      <th>code_presentation</th>\n",
       "      <th></th>\n",
       "    </tr>\n",
       "  </thead>\n",
       "  <tbody>\n",
       "    <tr>\n",
       "      <th rowspan=\"2\" valign=\"top\">CCC</th>\n",
       "      <th>2014B</th>\n",
       "      <td>232.0</td>\n",
       "    </tr>\n",
       "    <tr>\n",
       "      <th>2014J</th>\n",
       "      <td>244.0</td>\n",
       "    </tr>\n",
       "    <tr>\n",
       "      <th rowspan=\"4\" valign=\"top\">DDD</th>\n",
       "      <th>2013B</th>\n",
       "      <td>230.0</td>\n",
       "    </tr>\n",
       "    <tr>\n",
       "      <th>2013J</th>\n",
       "      <td>240.0</td>\n",
       "    </tr>\n",
       "    <tr>\n",
       "      <th>2014B</th>\n",
       "      <td>235.0</td>\n",
       "    </tr>\n",
       "    <tr>\n",
       "      <th>2014J</th>\n",
       "      <td>243.0</td>\n",
       "    </tr>\n",
       "  </tbody>\n",
       "</table>\n",
       "</div>"
      ],
      "text/plain": [
       "                               date_submitted_mean\n",
       "code_module code_presentation                     \n",
       "CCC         2014B                            232.0\n",
       "            2014J                            244.0\n",
       "DDD         2013B                            230.0\n",
       "            2013J                            240.0\n",
       "            2014B                            235.0\n",
       "            2014J                            243.0"
      ]
     },
     "execution_count": 115,
     "metadata": {},
     "output_type": "execute_result"
    }
   ],
   "source": [
    "dates_of_submission_mean = \\\n",
    "    students_and_exams \\\n",
    "    .query(\"is_exam_passed\") \\\n",
    "    .groupby(['code_module', 'code_presentation', 'id_student'], as_index = False) \\\n",
    "    .agg({'date_submitted': 'max'}) \\\n",
    "    .groupby(['code_module', 'code_presentation']) \\\n",
    "    .agg({'date_submitted': 'mean'}) \\\n",
    "    .apply(lambda x: round(x, 0)) \\\n",
    "    .rename(columns = {'date_submitted': 'date_submitted_mean'})\n",
    "\n",
    "dates_of_submission_mean"
   ]
  },
  {
   "cell_type": "markdown",
   "id": "d4c3c7c3",
   "metadata": {},
   "source": [
    "# Задание 4 <a class=\"anchor\" id=\"task4\"></a>\n",
    "\n",
    "Выявим:\n",
    "\n",
    "- самые популярные курсы (ТОП-3) по количеству регистраций на них,\n",
    "- курсы с самым большим оттоком (ТОП-3)."
   ]
  },
  {
   "cell_type": "markdown",
   "id": "9adb3e6a",
   "metadata": {},
   "source": [
    "Проверяем, есть ли такие студенты, которые дважды записались на курс:"
   ]
  },
  {
   "cell_type": "code",
   "execution_count": 116,
   "id": "0cd84758",
   "metadata": {},
   "outputs": [],
   "source": [
    "students_registration_subset = \\\n",
    "    students_registration[['id_student', 'code_module', 'code_presentation']] \\\n",
    "    .sort_values(by = ['id_student', 'code_module', 'code_presentation'])"
   ]
  },
  {
   "cell_type": "code",
   "execution_count": 117,
   "id": "55cd8929",
   "metadata": {},
   "outputs": [
    {
     "data": {
      "text/plain": [
       "32593"
      ]
     },
     "execution_count": 117,
     "metadata": {},
     "output_type": "execute_result"
    }
   ],
   "source": [
    "students_registration_subset.shape[0]"
   ]
  },
  {
   "cell_type": "code",
   "execution_count": 118,
   "id": "cff90b9b",
   "metadata": {},
   "outputs": [
    {
     "data": {
      "text/plain": [
       "32593"
      ]
     },
     "execution_count": 118,
     "metadata": {},
     "output_type": "execute_result"
    }
   ],
   "source": [
    "students_registration_subset.drop_duplicates().shape[0]"
   ]
  },
  {
   "cell_type": "markdown",
   "id": "9aedf15e",
   "metadata": {},
   "source": [
    "Как видим, дубликатов нет, каждый студент регистрировался на каждый курс только один раз, повторных регистраций не было. Мы при группировке по курсам смело можем проводить агрегацию подсчётом количества студентов."
   ]
  },
  {
   "cell_type": "code",
   "execution_count": 119,
   "id": "be514664",
   "metadata": {},
   "outputs": [
    {
     "data": {
      "text/plain": [
       "28785"
      ]
     },
     "execution_count": 119,
     "metadata": {},
     "output_type": "execute_result"
    }
   ],
   "source": [
    "students_registration['id_student'].nunique()"
   ]
  },
  {
   "cell_type": "markdown",
   "id": "dade1379",
   "metadata": {},
   "source": [
    "А вот всего студентов меньше, чем регистраций -- есть студенты, которые регистрировались на несколько курсов."
   ]
  },
  {
   "cell_type": "markdown",
   "id": "009c6da7",
   "metadata": {},
   "source": [
    "Рассчитываем табличку с регистрациями на курс:"
   ]
  },
  {
   "cell_type": "code",
   "execution_count": 120,
   "id": "b5ac8f84",
   "metadata": {},
   "outputs": [],
   "source": [
    "courses_registrations = \\\n",
    "    students_registration \\\n",
    "    .groupby(['code_module', 'code_presentation']) \\\n",
    "    .agg({'id_student' : 'nunique'}) \\\n",
    "    .rename(columns = {'id_student' : 'registrations'}) \\\n",
    "    .sort_values(by = 'registrations', ascending = False)"
   ]
  },
  {
   "cell_type": "markdown",
   "id": "ec9004c7",
   "metadata": {},
   "source": [
    "Топ-3 курса по наибольшему количеству регистраций на них:"
   ]
  },
  {
   "cell_type": "code",
   "execution_count": 121,
   "id": "4ad85efc",
   "metadata": {
    "scrolled": true
   },
   "outputs": [
    {
     "data": {
      "text/html": [
       "<div>\n",
       "<style scoped>\n",
       "    .dataframe tbody tr th:only-of-type {\n",
       "        vertical-align: middle;\n",
       "    }\n",
       "\n",
       "    .dataframe tbody tr th {\n",
       "        vertical-align: top;\n",
       "    }\n",
       "\n",
       "    .dataframe thead th {\n",
       "        text-align: right;\n",
       "    }\n",
       "</style>\n",
       "<table border=\"1\" class=\"dataframe\">\n",
       "  <thead>\n",
       "    <tr style=\"text-align: right;\">\n",
       "      <th></th>\n",
       "      <th>code_module</th>\n",
       "      <th>code_presentation</th>\n",
       "      <th>registrations</th>\n",
       "    </tr>\n",
       "  </thead>\n",
       "  <tbody>\n",
       "    <tr>\n",
       "      <th>0</th>\n",
       "      <td>CCC</td>\n",
       "      <td>2014J</td>\n",
       "      <td>2498</td>\n",
       "    </tr>\n",
       "    <tr>\n",
       "      <th>1</th>\n",
       "      <td>FFF</td>\n",
       "      <td>2014J</td>\n",
       "      <td>2365</td>\n",
       "    </tr>\n",
       "    <tr>\n",
       "      <th>2</th>\n",
       "      <td>BBB</td>\n",
       "      <td>2014J</td>\n",
       "      <td>2292</td>\n",
       "    </tr>\n",
       "  </tbody>\n",
       "</table>\n",
       "</div>"
      ],
      "text/plain": [
       "  code_module code_presentation  registrations\n",
       "0         CCC             2014J           2498\n",
       "1         FFF             2014J           2365\n",
       "2         BBB             2014J           2292"
      ]
     },
     "execution_count": 121,
     "metadata": {},
     "output_type": "execute_result"
    }
   ],
   "source": [
    "courses_registrations.head(3).reset_index()"
   ]
  },
  {
   "cell_type": "markdown",
   "id": "95b97077",
   "metadata": {},
   "source": [
    "Теперь построим табличку с количеством ушедших с курсов:"
   ]
  },
  {
   "cell_type": "code",
   "execution_count": 122,
   "id": "817cfd14",
   "metadata": {},
   "outputs": [],
   "source": [
    "courses_escapes = \\\n",
    "    students_registration \\\n",
    "    .dropna(subset = ['date_unregistration']) \\\n",
    "    .groupby(['code_module', 'code_presentation']) \\\n",
    "    .agg({'id_student' : 'nunique'}) \\\n",
    "    .rename(columns = {'id_student' : 'escapes'}) \\\n",
    "    .sort_values(by = 'escapes', ascending = False)"
   ]
  },
  {
   "cell_type": "markdown",
   "id": "7e1e1cca",
   "metadata": {},
   "source": [
    "ТОП-3 курса по количеству ушедших с них:"
   ]
  },
  {
   "cell_type": "code",
   "execution_count": 123,
   "id": "cd517829",
   "metadata": {},
   "outputs": [
    {
     "data": {
      "text/html": [
       "<div>\n",
       "<style scoped>\n",
       "    .dataframe tbody tr th:only-of-type {\n",
       "        vertical-align: middle;\n",
       "    }\n",
       "\n",
       "    .dataframe tbody tr th {\n",
       "        vertical-align: top;\n",
       "    }\n",
       "\n",
       "    .dataframe thead th {\n",
       "        text-align: right;\n",
       "    }\n",
       "</style>\n",
       "<table border=\"1\" class=\"dataframe\">\n",
       "  <thead>\n",
       "    <tr style=\"text-align: right;\">\n",
       "      <th></th>\n",
       "      <th>code_module</th>\n",
       "      <th>code_presentation</th>\n",
       "      <th>escapes</th>\n",
       "    </tr>\n",
       "  </thead>\n",
       "  <tbody>\n",
       "    <tr>\n",
       "      <th>0</th>\n",
       "      <td>CCC</td>\n",
       "      <td>2014J</td>\n",
       "      <td>1049</td>\n",
       "    </tr>\n",
       "    <tr>\n",
       "      <th>1</th>\n",
       "      <td>CCC</td>\n",
       "      <td>2014B</td>\n",
       "      <td>898</td>\n",
       "    </tr>\n",
       "    <tr>\n",
       "      <th>2</th>\n",
       "      <td>FFF</td>\n",
       "      <td>2014J</td>\n",
       "      <td>831</td>\n",
       "    </tr>\n",
       "  </tbody>\n",
       "</table>\n",
       "</div>"
      ],
      "text/plain": [
       "  code_module code_presentation  escapes\n",
       "0         CCC             2014J     1049\n",
       "1         CCC             2014B      898\n",
       "2         FFF             2014J      831"
      ]
     },
     "execution_count": 123,
     "metadata": {},
     "output_type": "execute_result"
    }
   ],
   "source": [
    "courses_escapes.head(3).reset_index()"
   ]
  },
  {
   "cell_type": "markdown",
   "id": "6ae7deb6",
   "metadata": {},
   "source": [
    "Здесь мы подсчитываем количество уникальных ушедших пользователей, не учитывая возможные повторные регистрации."
   ]
  },
  {
   "cell_type": "markdown",
   "id": "fe373d7a",
   "metadata": {},
   "source": [
    "# Задание 5 <a class=\"anchor\" id=\"task5\"></a>\n",
    "\n",
    "Напишем функцию на python, позволяющую строить когортный (семестровый) анализ. В период с начала 2013 по конец 2014 выявим семестр с самой низкой завершаемостью курсов и самыми долгими средними сроками сдачи курсов."
   ]
  },
  {
   "cell_type": "markdown",
   "id": "79faa235",
   "metadata": {},
   "source": [
    "Завершаемость была определна при решении задачи 2, результаты записаны в таблицу ```exams_completion```.\n",
    "\n",
    "Средние сроки сдачи курсов были определены при решении задачи 3, результаты записаны в таблицу ```dates_of_submission_mean```.\n",
    "\n",
    "Объединим обе таблички:"
   ]
  },
  {
   "cell_type": "code",
   "execution_count": 124,
   "id": "93423383",
   "metadata": {
    "scrolled": true
   },
   "outputs": [
    {
     "data": {
      "text/html": [
       "<div>\n",
       "<style scoped>\n",
       "    .dataframe tbody tr th:only-of-type {\n",
       "        vertical-align: middle;\n",
       "    }\n",
       "\n",
       "    .dataframe tbody tr th {\n",
       "        vertical-align: top;\n",
       "    }\n",
       "\n",
       "    .dataframe thead th {\n",
       "        text-align: right;\n",
       "    }\n",
       "</style>\n",
       "<table border=\"1\" class=\"dataframe\">\n",
       "  <thead>\n",
       "    <tr style=\"text-align: right;\">\n",
       "      <th></th>\n",
       "      <th></th>\n",
       "      <th>date_submitted_mean</th>\n",
       "      <th>exam_attempts</th>\n",
       "      <th>exam_attempts_successful</th>\n",
       "    </tr>\n",
       "    <tr>\n",
       "      <th>code_module</th>\n",
       "      <th>code_presentation</th>\n",
       "      <th></th>\n",
       "      <th></th>\n",
       "      <th></th>\n",
       "    </tr>\n",
       "  </thead>\n",
       "  <tbody>\n",
       "    <tr>\n",
       "      <th rowspan=\"2\" valign=\"top\">CCC</th>\n",
       "      <th>2014B</th>\n",
       "      <td>232.0</td>\n",
       "      <td>747</td>\n",
       "      <td>664</td>\n",
       "    </tr>\n",
       "    <tr>\n",
       "      <th>2014J</th>\n",
       "      <td>244.0</td>\n",
       "      <td>1168</td>\n",
       "      <td>1019</td>\n",
       "    </tr>\n",
       "    <tr>\n",
       "      <th rowspan=\"4\" valign=\"top\">DDD</th>\n",
       "      <th>2013B</th>\n",
       "      <td>230.0</td>\n",
       "      <td>602</td>\n",
       "      <td>504</td>\n",
       "    </tr>\n",
       "    <tr>\n",
       "      <th>2013J</th>\n",
       "      <td>240.0</td>\n",
       "      <td>968</td>\n",
       "      <td>878</td>\n",
       "    </tr>\n",
       "    <tr>\n",
       "      <th>2014B</th>\n",
       "      <td>235.0</td>\n",
       "      <td>524</td>\n",
       "      <td>485</td>\n",
       "    </tr>\n",
       "    <tr>\n",
       "      <th>2014J</th>\n",
       "      <td>243.0</td>\n",
       "      <td>950</td>\n",
       "      <td>842</td>\n",
       "    </tr>\n",
       "  </tbody>\n",
       "</table>\n",
       "</div>"
      ],
      "text/plain": [
       "                               date_submitted_mean  exam_attempts  \\\n",
       "code_module code_presentation                                       \n",
       "CCC         2014B                            232.0            747   \n",
       "            2014J                            244.0           1168   \n",
       "DDD         2013B                            230.0            602   \n",
       "            2013J                            240.0            968   \n",
       "            2014B                            235.0            524   \n",
       "            2014J                            243.0            950   \n",
       "\n",
       "                               exam_attempts_successful  \n",
       "code_module code_presentation                            \n",
       "CCC         2014B                                   664  \n",
       "            2014J                                  1019  \n",
       "DDD         2013B                                   504  \n",
       "            2013J                                   878  \n",
       "            2014B                                   485  \n",
       "            2014J                                   842  "
      ]
     },
     "execution_count": 124,
     "metadata": {},
     "output_type": "execute_result"
    }
   ],
   "source": [
    "courses_data_united = \\\n",
    "    pd.concat([dates_of_submission_mean,\n",
    "               exams_completion.drop('exam_completion_rate', axis = 1)],\n",
    "              axis = 1)\n",
    "\n",
    "courses_data_united"
   ]
  },
  {
   "cell_type": "markdown",
   "id": "bb97a581",
   "metadata": {},
   "source": [
    "### Функция для группировки данных в таблице по семестрам"
   ]
  },
  {
   "cell_type": "code",
   "execution_count": 125,
   "id": "f0558255",
   "metadata": {},
   "outputs": [],
   "source": [
    "def cohort_grouping(data, cohort_column, values, aggfunc) :\n",
    "    return data[values].groupby(cohort_column).apply(aggfunc)"
   ]
  },
  {
   "cell_type": "markdown",
   "id": "534a52f1",
   "metadata": {},
   "source": [
    "### Анализ Exam Completion Rate (ECR) по семестрам"
   ]
  },
  {
   "cell_type": "markdown",
   "id": "8acdb8fd",
   "metadata": {},
   "source": [
    "Группируем данные по семестрам обычным способом:"
   ]
  },
  {
   "cell_type": "code",
   "execution_count": 126,
   "id": "e222c93b",
   "metadata": {},
   "outputs": [
    {
     "data": {
      "text/html": [
       "<div>\n",
       "<style scoped>\n",
       "    .dataframe tbody tr th:only-of-type {\n",
       "        vertical-align: middle;\n",
       "    }\n",
       "\n",
       "    .dataframe tbody tr th {\n",
       "        vertical-align: top;\n",
       "    }\n",
       "\n",
       "    .dataframe thead th {\n",
       "        text-align: right;\n",
       "    }\n",
       "</style>\n",
       "<table border=\"1\" class=\"dataframe\">\n",
       "  <thead>\n",
       "    <tr style=\"text-align: right;\">\n",
       "      <th></th>\n",
       "      <th></th>\n",
       "      <th>exam_attempts</th>\n",
       "      <th>exam_attempts_successful</th>\n",
       "    </tr>\n",
       "    <tr>\n",
       "      <th>code_module</th>\n",
       "      <th>code_presentation</th>\n",
       "      <th></th>\n",
       "      <th></th>\n",
       "    </tr>\n",
       "  </thead>\n",
       "  <tbody>\n",
       "    <tr>\n",
       "      <th rowspan=\"2\" valign=\"top\">CCC</th>\n",
       "      <th>2014B</th>\n",
       "      <td>747</td>\n",
       "      <td>664</td>\n",
       "    </tr>\n",
       "    <tr>\n",
       "      <th>2014J</th>\n",
       "      <td>1168</td>\n",
       "      <td>1019</td>\n",
       "    </tr>\n",
       "    <tr>\n",
       "      <th rowspan=\"4\" valign=\"top\">DDD</th>\n",
       "      <th>2013B</th>\n",
       "      <td>602</td>\n",
       "      <td>504</td>\n",
       "    </tr>\n",
       "    <tr>\n",
       "      <th>2013J</th>\n",
       "      <td>968</td>\n",
       "      <td>878</td>\n",
       "    </tr>\n",
       "    <tr>\n",
       "      <th>2014B</th>\n",
       "      <td>524</td>\n",
       "      <td>485</td>\n",
       "    </tr>\n",
       "    <tr>\n",
       "      <th>2014J</th>\n",
       "      <td>950</td>\n",
       "      <td>842</td>\n",
       "    </tr>\n",
       "  </tbody>\n",
       "</table>\n",
       "</div>"
      ],
      "text/plain": [
       "                               exam_attempts  exam_attempts_successful\n",
       "code_module code_presentation                                         \n",
       "CCC         2014B                        747                       664\n",
       "            2014J                       1168                      1019\n",
       "DDD         2013B                        602                       504\n",
       "            2013J                        968                       878\n",
       "            2014B                        524                       485\n",
       "            2014J                        950                       842"
      ]
     },
     "execution_count": 126,
     "metadata": {},
     "output_type": "execute_result"
    }
   ],
   "source": [
    "courses_data_united \\\n",
    "    .groupby(['code_module', 'code_presentation']) \\\n",
    "    .agg({'exam_attempts': 'sum', 'exam_attempts_successful': 'sum'})"
   ]
  },
  {
   "cell_type": "markdown",
   "id": "01b39f7e",
   "metadata": {},
   "source": [
    "Теперь то же самое, но с помощью написанной функции:"
   ]
  },
  {
   "cell_type": "code",
   "execution_count": 127,
   "id": "2d88ca2d",
   "metadata": {
    "scrolled": true
   },
   "outputs": [
    {
     "data": {
      "text/html": [
       "<div>\n",
       "<style scoped>\n",
       "    .dataframe tbody tr th:only-of-type {\n",
       "        vertical-align: middle;\n",
       "    }\n",
       "\n",
       "    .dataframe tbody tr th {\n",
       "        vertical-align: top;\n",
       "    }\n",
       "\n",
       "    .dataframe thead th {\n",
       "        text-align: right;\n",
       "    }\n",
       "</style>\n",
       "<table border=\"1\" class=\"dataframe\">\n",
       "  <thead>\n",
       "    <tr style=\"text-align: right;\">\n",
       "      <th></th>\n",
       "      <th>attempts</th>\n",
       "      <th>successes</th>\n",
       "      <th>ECR</th>\n",
       "    </tr>\n",
       "    <tr>\n",
       "      <th>code_presentation</th>\n",
       "      <th></th>\n",
       "      <th></th>\n",
       "      <th></th>\n",
       "    </tr>\n",
       "  </thead>\n",
       "  <tbody>\n",
       "    <tr>\n",
       "      <th>2013B</th>\n",
       "      <td>602</td>\n",
       "      <td>504</td>\n",
       "      <td>0.837</td>\n",
       "    </tr>\n",
       "    <tr>\n",
       "      <th>2013J</th>\n",
       "      <td>968</td>\n",
       "      <td>878</td>\n",
       "      <td>0.907</td>\n",
       "    </tr>\n",
       "    <tr>\n",
       "      <th>2014B</th>\n",
       "      <td>1271</td>\n",
       "      <td>1149</td>\n",
       "      <td>0.904</td>\n",
       "    </tr>\n",
       "    <tr>\n",
       "      <th>2014J</th>\n",
       "      <td>2118</td>\n",
       "      <td>1861</td>\n",
       "      <td>0.879</td>\n",
       "    </tr>\n",
       "  </tbody>\n",
       "</table>\n",
       "</div>"
      ],
      "text/plain": [
       "                   attempts  successes    ECR\n",
       "code_presentation                            \n",
       "2013B                   602        504  0.837\n",
       "2013J                   968        878  0.907\n",
       "2014B                  1271       1149  0.904\n",
       "2014J                  2118       1861  0.879"
      ]
     },
     "execution_count": 127,
     "metadata": {},
     "output_type": "execute_result"
    }
   ],
   "source": [
    "ECR_by_semesters = \\\n",
    "    cohort_grouping(data = courses_data_united,\n",
    "                    cohort_column = 'code_presentation',\n",
    "                    values = ['exam_attempts', 'exam_attempts_successful'],\n",
    "                    aggfunc = sum) \\\n",
    "    .rename(columns = {'exam_attempts': 'attempts', 'exam_attempts_successful': 'successes'})\n",
    "\n",
    "ECR_by_semesters['ECR'] = \\\n",
    "    round(ECR_by_semesters['successes'] \\\n",
    "          / ECR_by_semesters['attempts'],\n",
    "          3)\n",
    "\n",
    "ECR_by_semesters"
   ]
  },
  {
   "cell_type": "markdown",
   "id": "7c45fb3a",
   "metadata": {},
   "source": [
    "Семестр с самой низкой завершаемостью:"
   ]
  },
  {
   "cell_type": "code",
   "execution_count": 128,
   "id": "975b5380",
   "metadata": {
    "scrolled": true
   },
   "outputs": [
    {
     "name": "stdout",
     "output_type": "stream",
     "text": [
      "2013B\n"
     ]
    }
   ],
   "source": [
    "print(ECR_by_semesters['ECR'].idxmin())"
   ]
  },
  {
   "cell_type": "markdown",
   "id": "7e806913",
   "metadata": {},
   "source": [
    "### Анализ средних сроков сдачи курсов по семестрам."
   ]
  },
  {
   "cell_type": "markdown",
   "id": "5b50ea41",
   "metadata": {},
   "source": [
    "Сначала, для наглядности, покажем данные в виде сводной таблички:"
   ]
  },
  {
   "cell_type": "code",
   "execution_count": 129,
   "id": "80ac0a1e",
   "metadata": {
    "scrolled": true
   },
   "outputs": [
    {
     "data": {
      "text/html": [
       "<div>\n",
       "<style scoped>\n",
       "    .dataframe tbody tr th:only-of-type {\n",
       "        vertical-align: middle;\n",
       "    }\n",
       "\n",
       "    .dataframe tbody tr th {\n",
       "        vertical-align: top;\n",
       "    }\n",
       "\n",
       "    .dataframe thead th {\n",
       "        text-align: right;\n",
       "    }\n",
       "</style>\n",
       "<table border=\"1\" class=\"dataframe\">\n",
       "  <thead>\n",
       "    <tr style=\"text-align: right;\">\n",
       "      <th>code_presentation</th>\n",
       "      <th>2013B</th>\n",
       "      <th>2013J</th>\n",
       "      <th>2014B</th>\n",
       "      <th>2014J</th>\n",
       "    </tr>\n",
       "    <tr>\n",
       "      <th>code_module</th>\n",
       "      <th></th>\n",
       "      <th></th>\n",
       "      <th></th>\n",
       "      <th></th>\n",
       "    </tr>\n",
       "  </thead>\n",
       "  <tbody>\n",
       "    <tr>\n",
       "      <th>CCC</th>\n",
       "      <td>NaN</td>\n",
       "      <td>NaN</td>\n",
       "      <td>232.0</td>\n",
       "      <td>244.0</td>\n",
       "    </tr>\n",
       "    <tr>\n",
       "      <th>DDD</th>\n",
       "      <td>230.0</td>\n",
       "      <td>240.0</td>\n",
       "      <td>235.0</td>\n",
       "      <td>243.0</td>\n",
       "    </tr>\n",
       "  </tbody>\n",
       "</table>\n",
       "</div>"
      ],
      "text/plain": [
       "code_presentation  2013B  2013J  2014B  2014J\n",
       "code_module                                  \n",
       "CCC                  NaN    NaN  232.0  244.0\n",
       "DDD                230.0  240.0  235.0  243.0"
      ]
     },
     "execution_count": 129,
     "metadata": {},
     "output_type": "execute_result"
    }
   ],
   "source": [
    "pd.pivot_table(courses_data_united,\n",
    "               values = 'date_submitted_mean',\n",
    "               index = 'code_module',\n",
    "               columns = 'code_presentation')"
   ]
  },
  {
   "cell_type": "markdown",
   "id": "242da703",
   "metadata": {},
   "source": [
    "Группировка классическим способом, без применения функции:"
   ]
  },
  {
   "cell_type": "code",
   "execution_count": 130,
   "id": "f7b8a162",
   "metadata": {
    "scrolled": true
   },
   "outputs": [
    {
     "data": {
      "text/html": [
       "<div>\n",
       "<style scoped>\n",
       "    .dataframe tbody tr th:only-of-type {\n",
       "        vertical-align: middle;\n",
       "    }\n",
       "\n",
       "    .dataframe tbody tr th {\n",
       "        vertical-align: top;\n",
       "    }\n",
       "\n",
       "    .dataframe thead th {\n",
       "        text-align: right;\n",
       "    }\n",
       "</style>\n",
       "<table border=\"1\" class=\"dataframe\">\n",
       "  <thead>\n",
       "    <tr style=\"text-align: right;\">\n",
       "      <th></th>\n",
       "      <th>date_submitted_mean</th>\n",
       "    </tr>\n",
       "    <tr>\n",
       "      <th>code_presentation</th>\n",
       "      <th></th>\n",
       "    </tr>\n",
       "  </thead>\n",
       "  <tbody>\n",
       "    <tr>\n",
       "      <th>2013B</th>\n",
       "      <td>230.0</td>\n",
       "    </tr>\n",
       "    <tr>\n",
       "      <th>2013J</th>\n",
       "      <td>240.0</td>\n",
       "    </tr>\n",
       "    <tr>\n",
       "      <th>2014B</th>\n",
       "      <td>233.5</td>\n",
       "    </tr>\n",
       "    <tr>\n",
       "      <th>2014J</th>\n",
       "      <td>243.5</td>\n",
       "    </tr>\n",
       "  </tbody>\n",
       "</table>\n",
       "</div>"
      ],
      "text/plain": [
       "                   date_submitted_mean\n",
       "code_presentation                     \n",
       "2013B                            230.0\n",
       "2013J                            240.0\n",
       "2014B                            233.5\n",
       "2014J                            243.5"
      ]
     },
     "execution_count": 130,
     "metadata": {},
     "output_type": "execute_result"
    }
   ],
   "source": [
    "courses_data_united \\\n",
    "    .groupby('code_presentation') \\\n",
    "    .agg({'date_submitted_mean': 'mean'})"
   ]
  },
  {
   "cell_type": "markdown",
   "id": "2630963d",
   "metadata": {},
   "source": [
    "Используем функцию:"
   ]
  },
  {
   "cell_type": "code",
   "execution_count": 131,
   "id": "4811f62a",
   "metadata": {
    "scrolled": true
   },
   "outputs": [
    {
     "data": {
      "text/html": [
       "<div>\n",
       "<style scoped>\n",
       "    .dataframe tbody tr th:only-of-type {\n",
       "        vertical-align: middle;\n",
       "    }\n",
       "\n",
       "    .dataframe tbody tr th {\n",
       "        vertical-align: top;\n",
       "    }\n",
       "\n",
       "    .dataframe thead th {\n",
       "        text-align: right;\n",
       "    }\n",
       "</style>\n",
       "<table border=\"1\" class=\"dataframe\">\n",
       "  <thead>\n",
       "    <tr style=\"text-align: right;\">\n",
       "      <th></th>\n",
       "      <th>date_submitted_mean</th>\n",
       "    </tr>\n",
       "    <tr>\n",
       "      <th>code_presentation</th>\n",
       "      <th></th>\n",
       "    </tr>\n",
       "  </thead>\n",
       "  <tbody>\n",
       "    <tr>\n",
       "      <th>2013B</th>\n",
       "      <td>230.0</td>\n",
       "    </tr>\n",
       "    <tr>\n",
       "      <th>2013J</th>\n",
       "      <td>240.0</td>\n",
       "    </tr>\n",
       "    <tr>\n",
       "      <th>2014B</th>\n",
       "      <td>233.5</td>\n",
       "    </tr>\n",
       "    <tr>\n",
       "      <th>2014J</th>\n",
       "      <td>243.5</td>\n",
       "    </tr>\n",
       "  </tbody>\n",
       "</table>\n",
       "</div>"
      ],
      "text/plain": [
       "                   date_submitted_mean\n",
       "code_presentation                     \n",
       "2013B                            230.0\n",
       "2013J                            240.0\n",
       "2014B                            233.5\n",
       "2014J                            243.5"
      ]
     },
     "execution_count": 131,
     "metadata": {},
     "output_type": "execute_result"
    }
   ],
   "source": [
    "submission_date_by_semester = \\\n",
    "    cohort_grouping(data = courses_data_united,\n",
    "                    cohort_column = 'code_presentation',\n",
    "                    values = 'date_submitted_mean',\n",
    "                    aggfunc = lambda x: x.mean()) \\\n",
    "    .to_frame()\n",
    "\n",
    "submission_date_by_semester"
   ]
  },
  {
   "cell_type": "markdown",
   "id": "6b89d5b9",
   "metadata": {},
   "source": [
    "Семестр с самым долгим средним сроком сдачи:"
   ]
  },
  {
   "cell_type": "code",
   "execution_count": 132,
   "id": "2cb636be",
   "metadata": {
    "scrolled": true
   },
   "outputs": [
    {
     "name": "stdout",
     "output_type": "stream",
     "text": [
      "2014J\n"
     ]
    }
   ],
   "source": [
    "print(submission_date_by_semester.idxmax().item())"
   ]
  },
  {
   "cell_type": "markdown",
   "id": "3fa94ef9",
   "metadata": {},
   "source": [
    "# Задание 6 <a class=\"anchor\" id=\"task6\"></a>\n",
    "\n",
    "Построим адаптированные под задачу обучения RFM-кластеры студентов, где:\n",
    "- R — среднее время сдачи одного экзамена,\n",
    "- F — завершаемость курсов,\n",
    "- M — среднее количество баллов, получаемое за экзамен."
   ]
  },
  {
   "cell_type": "markdown",
   "id": "bc3e5236",
   "metadata": {},
   "source": [
    "## Построение общей таблицы с данными о студентах. Предварительный анализ данных <a class=\"anchor\" id=\"main_table\"></a>"
   ]
  },
  {
   "cell_type": "code",
   "execution_count": 133,
   "id": "ef1a3ed7",
   "metadata": {
    "scrolled": false
   },
   "outputs": [
    {
     "data": {
      "text/html": [
       "<div>\n",
       "<style scoped>\n",
       "    .dataframe tbody tr th:only-of-type {\n",
       "        vertical-align: middle;\n",
       "    }\n",
       "\n",
       "    .dataframe tbody tr th {\n",
       "        vertical-align: top;\n",
       "    }\n",
       "\n",
       "    .dataframe thead th {\n",
       "        text-align: right;\n",
       "    }\n",
       "</style>\n",
       "<table border=\"1\" class=\"dataframe\">\n",
       "  <thead>\n",
       "    <tr style=\"text-align: right;\">\n",
       "      <th></th>\n",
       "      <th>id_assessment</th>\n",
       "      <th>id_student</th>\n",
       "      <th>date_submitted</th>\n",
       "      <th>is_banked</th>\n",
       "      <th>score</th>\n",
       "      <th>code_module</th>\n",
       "      <th>code_presentation</th>\n",
       "      <th>assessment_type</th>\n",
       "      <th>date</th>\n",
       "      <th>weight</th>\n",
       "      <th>date_registration</th>\n",
       "      <th>date_unregistration</th>\n",
       "      <th>course</th>\n",
       "    </tr>\n",
       "  </thead>\n",
       "  <tbody>\n",
       "    <tr>\n",
       "      <th>0</th>\n",
       "      <td>1752.0</td>\n",
       "      <td>11391</td>\n",
       "      <td>18.0</td>\n",
       "      <td>0.0</td>\n",
       "      <td>78.0</td>\n",
       "      <td>AAA</td>\n",
       "      <td>2013J</td>\n",
       "      <td>TMA</td>\n",
       "      <td>19.0</td>\n",
       "      <td>10.0</td>\n",
       "      <td>-159.0</td>\n",
       "      <td>NaN</td>\n",
       "      <td>AAA | 2013J</td>\n",
       "    </tr>\n",
       "    <tr>\n",
       "      <th>1</th>\n",
       "      <td>1753.0</td>\n",
       "      <td>11391</td>\n",
       "      <td>53.0</td>\n",
       "      <td>0.0</td>\n",
       "      <td>85.0</td>\n",
       "      <td>AAA</td>\n",
       "      <td>2013J</td>\n",
       "      <td>TMA</td>\n",
       "      <td>54.0</td>\n",
       "      <td>20.0</td>\n",
       "      <td>-159.0</td>\n",
       "      <td>NaN</td>\n",
       "      <td>AAA | 2013J</td>\n",
       "    </tr>\n",
       "    <tr>\n",
       "      <th>2</th>\n",
       "      <td>1754.0</td>\n",
       "      <td>11391</td>\n",
       "      <td>115.0</td>\n",
       "      <td>0.0</td>\n",
       "      <td>80.0</td>\n",
       "      <td>AAA</td>\n",
       "      <td>2013J</td>\n",
       "      <td>TMA</td>\n",
       "      <td>117.0</td>\n",
       "      <td>20.0</td>\n",
       "      <td>-159.0</td>\n",
       "      <td>NaN</td>\n",
       "      <td>AAA | 2013J</td>\n",
       "    </tr>\n",
       "    <tr>\n",
       "      <th>3</th>\n",
       "      <td>1755.0</td>\n",
       "      <td>11391</td>\n",
       "      <td>164.0</td>\n",
       "      <td>0.0</td>\n",
       "      <td>85.0</td>\n",
       "      <td>AAA</td>\n",
       "      <td>2013J</td>\n",
       "      <td>TMA</td>\n",
       "      <td>166.0</td>\n",
       "      <td>20.0</td>\n",
       "      <td>-159.0</td>\n",
       "      <td>NaN</td>\n",
       "      <td>AAA | 2013J</td>\n",
       "    </tr>\n",
       "    <tr>\n",
       "      <th>4</th>\n",
       "      <td>1756.0</td>\n",
       "      <td>11391</td>\n",
       "      <td>212.0</td>\n",
       "      <td>0.0</td>\n",
       "      <td>82.0</td>\n",
       "      <td>AAA</td>\n",
       "      <td>2013J</td>\n",
       "      <td>TMA</td>\n",
       "      <td>215.0</td>\n",
       "      <td>30.0</td>\n",
       "      <td>-159.0</td>\n",
       "      <td>NaN</td>\n",
       "      <td>AAA | 2013J</td>\n",
       "    </tr>\n",
       "  </tbody>\n",
       "</table>\n",
       "</div>"
      ],
      "text/plain": [
       "   id_assessment  id_student  date_submitted  is_banked  score code_module  \\\n",
       "0         1752.0       11391            18.0        0.0   78.0         AAA   \n",
       "1         1753.0       11391            53.0        0.0   85.0         AAA   \n",
       "2         1754.0       11391           115.0        0.0   80.0         AAA   \n",
       "3         1755.0       11391           164.0        0.0   85.0         AAA   \n",
       "4         1756.0       11391           212.0        0.0   82.0         AAA   \n",
       "\n",
       "  code_presentation assessment_type   date  weight  date_registration  \\\n",
       "0             2013J             TMA   19.0    10.0             -159.0   \n",
       "1             2013J             TMA   54.0    20.0             -159.0   \n",
       "2             2013J             TMA  117.0    20.0             -159.0   \n",
       "3             2013J             TMA  166.0    20.0             -159.0   \n",
       "4             2013J             TMA  215.0    30.0             -159.0   \n",
       "\n",
       "   date_unregistration       course  \n",
       "0                  NaN  AAA | 2013J  \n",
       "1                  NaN  AAA | 2013J  \n",
       "2                  NaN  AAA | 2013J  \n",
       "3                  NaN  AAA | 2013J  \n",
       "4                  NaN  AAA | 2013J  "
      ]
     },
     "execution_count": 133,
     "metadata": {},
     "output_type": "execute_result"
    }
   ],
   "source": [
    "# Полная табличка\n",
    "students = \\\n",
    "    students_assessments \\\n",
    "    .merge(assessments, \\\n",
    "           how = 'left',\n",
    "           on = 'id_assessment') \\\n",
    "    .merge(students_registration,\n",
    "           how = 'outer',\n",
    "           on = ['id_student', 'code_module', 'code_presentation']) \\\n",
    "    .reset_index(drop = True)\n",
    "\n",
    "students['course'] = students['code_module'] + ' | ' + students['code_presentation']\n",
    "\n",
    "students.head()"
   ]
  },
  {
   "cell_type": "code",
   "execution_count": 134,
   "id": "9bd1e746",
   "metadata": {},
   "outputs": [
    {
     "data": {
      "text/plain": [
       "(180662, 13)"
      ]
     },
     "execution_count": 134,
     "metadata": {},
     "output_type": "execute_result"
    }
   ],
   "source": [
    "students.shape"
   ]
  },
  {
   "cell_type": "markdown",
   "id": "4e172b97",
   "metadata": {},
   "source": [
    "Небольшая предосторожность: проверим, насколько совпадают по \"населению\" (количество уникальных ```id_student```) таблица с результатами контрольных работ ```students_assessments``` и таблица с данными о регистрациях на курс ```students_registration```:"
   ]
  },
  {
   "cell_type": "code",
   "execution_count": 135,
   "id": "381f624a",
   "metadata": {},
   "outputs": [
    {
     "data": {
      "text/plain": [
       "23369"
      ]
     },
     "execution_count": 135,
     "metadata": {},
     "output_type": "execute_result"
    }
   ],
   "source": [
    "students_with_assessments = students_assessments['id_student'].drop_duplicates()\n",
    "students_with_assessments.shape[0]"
   ]
  },
  {
   "cell_type": "code",
   "execution_count": 136,
   "id": "889d973b",
   "metadata": {},
   "outputs": [
    {
     "data": {
      "text/plain": [
       "28785"
      ]
     },
     "execution_count": 136,
     "metadata": {},
     "output_type": "execute_result"
    }
   ],
   "source": [
    "students_with_registration = students_registration['id_student'].drop_duplicates()\n",
    "students_with_registration.shape[0]"
   ]
  },
  {
   "cell_type": "markdown",
   "id": "2a3b9e86",
   "metadata": {},
   "source": [
    "Есть ли такие ребята, которые сдавали контрольные работы, но нет данных об их регистрациях:"
   ]
  },
  {
   "cell_type": "code",
   "execution_count": 137,
   "id": "31dc8b40",
   "metadata": {},
   "outputs": [
    {
     "data": {
      "text/plain": [
       "0"
      ]
     },
     "execution_count": 137,
     "metadata": {},
     "output_type": "execute_result"
    }
   ],
   "source": [
    "students_with_assessments \\\n",
    "    [~students_with_assessments.isin(students_with_registration)].shape[0]"
   ]
  },
  {
   "cell_type": "markdown",
   "id": "ba06db65",
   "metadata": {},
   "source": [
    "Отдельно выделим ребят, которые регистрировались на курсы, но не сдавали никаких контрольных работ:"
   ]
  },
  {
   "cell_type": "code",
   "execution_count": 138,
   "id": "2ae43202",
   "metadata": {},
   "outputs": [
    {
     "data": {
      "text/plain": [
       "5416"
      ]
     },
     "execution_count": 138,
     "metadata": {},
     "output_type": "execute_result"
    }
   ],
   "source": [
    "students_with_registration_without_assessments = \\\n",
    "    students_with_registration \\\n",
    "    [~students_with_registration.isin(students_with_assessments)]\n",
    "\n",
    "students_with_registration_without_assessments.shape[0]"
   ]
  },
  {
   "cell_type": "markdown",
   "id": "6d092421",
   "metadata": {},
   "source": [
    "Проверяем, что все студенты из данных табличек записаны в общую таблицу ```students```:"
   ]
  },
  {
   "cell_type": "code",
   "execution_count": 139,
   "id": "291e6b4a",
   "metadata": {},
   "outputs": [],
   "source": [
    "students_all = students['id_student'].drop_duplicates()"
   ]
  },
  {
   "cell_type": "code",
   "execution_count": 140,
   "id": "17f2531e",
   "metadata": {},
   "outputs": [
    {
     "data": {
      "text/plain": [
       "23369"
      ]
     },
     "execution_count": 140,
     "metadata": {},
     "output_type": "execute_result"
    }
   ],
   "source": [
    "students_with_assessments.isin(students_all).sum()"
   ]
  },
  {
   "cell_type": "code",
   "execution_count": 141,
   "id": "e8bb2af1",
   "metadata": {},
   "outputs": [
    {
     "data": {
      "text/plain": [
       "28785"
      ]
     },
     "execution_count": 141,
     "metadata": {},
     "output_type": "execute_result"
    }
   ],
   "source": [
    "students_with_registration.isin(students_all).sum()"
   ]
  },
  {
   "cell_type": "markdown",
   "id": "17980477",
   "metadata": {},
   "source": [
    "Полное количество студентов, о которых есть данные в системе:"
   ]
  },
  {
   "cell_type": "code",
   "execution_count": 142,
   "id": "1dbfa01c",
   "metadata": {},
   "outputs": [
    {
     "data": {
      "text/plain": [
       "28785"
      ]
     },
     "execution_count": 142,
     "metadata": {},
     "output_type": "execute_result"
    }
   ],
   "source": [
    "students_total_number = students['id_student'].nunique()\n",
    "students_total_number"
   ]
  },
  {
   "cell_type": "markdown",
   "id": "9feeddef",
   "metadata": {},
   "source": [
    "### Вывод\n",
    "\n",
    "Из 28785 студентов, зарегистрировавшихся на курсы, 5416 не сдали ни одной контрольной работы. Сюда входят как студенты потоков, которые массово сдавали экзамены, так и те потоки, которые по своим курсам экзамены вообще не сдавали."
   ]
  },
  {
   "cell_type": "markdown",
   "id": "82a1654b",
   "metadata": {},
   "source": [
    "## Проект разбиения по кластерам <a class=\"anchor\" id=\"RFM_clasters\"></a>\n",
    "\n",
    "Предварительный шаблон разбиения следующий:\n",
    "\n",
    "[M — количество баллов, получаемое за экзамен](#cat_M):\n",
    "- категория ```-1```: студент не сдавал экзамен (в их число входят те, кто не сдал ни одной контрольной работы)\n",
    "- категория ```0```: m < 40 -- не сдал экзамен\n",
    "- категория ```1```: хотя бы один экзамен сдан с баллом 40 ≤ m < M\n",
    "- категория ```2```: хотя бы один экзамен сдан на балл m ≥ M\n",
    "\n",
    "[F - завершаемость курсов](#cat_F):\n",
    "\n",
    "- категория ```-1```: студент не сдавал экзаменов (здесь будет много людей, которые учатся на потоках, где ещё не было экзаменов)\n",
    "- категория ```0```: студент пытался сдать экзамены но не сдал ни один\n",
    "- категория ```1```: студент начал 1 или более курсов но завершил только один\n",
    "- категория ```2```: студент начал и завершил два курса (или более -- хотя в наших данных максимум это два курса)\n",
    "\n",
    "[R - время сдачи экзамена](#cat_R): \n",
    "- категория ```0```: студент ушёл со всех курсов, на которые записался, не сдал экзаменов\n",
    "- категория ```1```: студент сдал каждый из своих курсов за время, большее чем среднее время сдачи экзамена для данного курса\n",
    "- категория ```2```: студент сдал хотя бы один из курсов за время, не превышающее среднее время сдачи экзамена для данного курса\n",
    "\n",
    "Нам предстоит определить \"граничные\" значения \"средних\" параметров ```R``` и ```M```, которые для разных курсов будут различаться."
   ]
  },
  {
   "cell_type": "markdown",
   "id": "a84a84f7",
   "metadata": {},
   "source": [
    "## Определение параметров для разбиения по параметру ```M``` (оценки на экзаменах) <a class=\"anchor\" id=\"cat_M\"></a>"
   ]
  },
  {
   "cell_type": "markdown",
   "id": "71fafae9",
   "metadata": {},
   "source": [
    "Для удобства объединяем информацию о конкретном курсе (предмет + семестр) в одной колонке, что далее облегчит отображение графиков (иначе наименования графиков будут накладываться друг на друга) и не возникнет необходимости лишний раз плясать с бубном для настройки графиков:"
   ]
  },
  {
   "cell_type": "code",
   "execution_count": 143,
   "id": "b90b13dd",
   "metadata": {},
   "outputs": [
    {
     "data": {
      "text/plain": [
       "0    4959\n",
       "Name: is_banked, dtype: int64"
      ]
     },
     "execution_count": 143,
     "metadata": {},
     "output_type": "execute_result"
    }
   ],
   "source": [
    "students_and_exams.is_banked.value_counts()"
   ]
  },
  {
   "cell_type": "code",
   "execution_count": 144,
   "id": "d5ea684d",
   "metadata": {},
   "outputs": [
    {
     "data": {
      "text/html": [
       "<div>\n",
       "<style scoped>\n",
       "    .dataframe tbody tr th:only-of-type {\n",
       "        vertical-align: middle;\n",
       "    }\n",
       "\n",
       "    .dataframe tbody tr th {\n",
       "        vertical-align: top;\n",
       "    }\n",
       "\n",
       "    .dataframe thead th {\n",
       "        text-align: right;\n",
       "    }\n",
       "</style>\n",
       "<table border=\"1\" class=\"dataframe\">\n",
       "  <thead>\n",
       "    <tr style=\"text-align: right;\">\n",
       "      <th></th>\n",
       "      <th>id_assessment</th>\n",
       "      <th>id_student</th>\n",
       "      <th>date_submitted</th>\n",
       "      <th>score</th>\n",
       "      <th>code_module</th>\n",
       "      <th>code_presentation</th>\n",
       "      <th>is_exam_passed</th>\n",
       "      <th>course</th>\n",
       "    </tr>\n",
       "  </thead>\n",
       "  <tbody>\n",
       "    <tr>\n",
       "      <th>0</th>\n",
       "      <td>24299</td>\n",
       "      <td>23698</td>\n",
       "      <td>243</td>\n",
       "      <td>80.0</td>\n",
       "      <td>CCC</td>\n",
       "      <td>2014J</td>\n",
       "      <td>True</td>\n",
       "      <td>CCC | 2014J</td>\n",
       "    </tr>\n",
       "    <tr>\n",
       "      <th>1</th>\n",
       "      <td>25361</td>\n",
       "      <td>24213</td>\n",
       "      <td>236</td>\n",
       "      <td>58.0</td>\n",
       "      <td>DDD</td>\n",
       "      <td>2014B</td>\n",
       "      <td>True</td>\n",
       "      <td>DDD | 2014B</td>\n",
       "    </tr>\n",
       "    <tr>\n",
       "      <th>2</th>\n",
       "      <td>24299</td>\n",
       "      <td>27116</td>\n",
       "      <td>243</td>\n",
       "      <td>96.0</td>\n",
       "      <td>CCC</td>\n",
       "      <td>2014J</td>\n",
       "      <td>True</td>\n",
       "      <td>CCC | 2014J</td>\n",
       "    </tr>\n",
       "    <tr>\n",
       "      <th>3</th>\n",
       "      <td>25354</td>\n",
       "      <td>28046</td>\n",
       "      <td>237</td>\n",
       "      <td>40.0</td>\n",
       "      <td>DDD</td>\n",
       "      <td>2013J</td>\n",
       "      <td>True</td>\n",
       "      <td>DDD | 2013J</td>\n",
       "    </tr>\n",
       "    <tr>\n",
       "      <th>4</th>\n",
       "      <td>24299</td>\n",
       "      <td>28787</td>\n",
       "      <td>243</td>\n",
       "      <td>44.0</td>\n",
       "      <td>CCC</td>\n",
       "      <td>2014J</td>\n",
       "      <td>True</td>\n",
       "      <td>CCC | 2014J</td>\n",
       "    </tr>\n",
       "  </tbody>\n",
       "</table>\n",
       "</div>"
      ],
      "text/plain": [
       "   id_assessment  id_student  date_submitted  score code_module  \\\n",
       "0          24299       23698             243   80.0         CCC   \n",
       "1          25361       24213             236   58.0         DDD   \n",
       "2          24299       27116             243   96.0         CCC   \n",
       "3          25354       28046             237   40.0         DDD   \n",
       "4          24299       28787             243   44.0         CCC   \n",
       "\n",
       "  code_presentation  is_exam_passed       course  \n",
       "0             2014J            True  CCC | 2014J  \n",
       "1             2014B            True  DDD | 2014B  \n",
       "2             2014J            True  CCC | 2014J  \n",
       "3             2013J            True  DDD | 2013J  \n",
       "4             2014J            True  CCC | 2014J  "
      ]
     },
     "execution_count": 144,
     "metadata": {},
     "output_type": "execute_result"
    }
   ],
   "source": [
    "students_and_exams = \\\n",
    "    students_and_exams.drop(['is_banked', 'assessment_type', 'date', 'weight'], axis = 1)\n",
    "\n",
    "students_and_exams['course'] = \\\n",
    "    students_and_exams['code_module'] + ' | ' + students_and_exams['code_presentation']\n",
    "\n",
    "students_and_exams.head()"
   ]
  },
  {
   "cell_type": "markdown",
   "id": "01c08d2f",
   "metadata": {},
   "source": [
    "Строим распределение оценок по курсам и семестрам:"
   ]
  },
  {
   "cell_type": "code",
   "execution_count": 145,
   "id": "8fb7bceb",
   "metadata": {},
   "outputs": [],
   "source": [
    "ordered_courses = students_and_exams.course.value_counts().index.sort_values()"
   ]
  },
  {
   "cell_type": "code",
   "execution_count": 146,
   "id": "ea441d01",
   "metadata": {
    "scrolled": false
   },
   "outputs": [
    {
     "data": {
      "image/png": "[encoded data removed]",
      "text/plain": [
       "<Figure size 432x216 with 2 Axes>"
      ]
     },
     "metadata": {
      "needs_background": "light"
     },
     "output_type": "display_data"
    },
    {
     "data": {
      "image/png": "[encoded data removed]",
      "text/plain": [
       "<Figure size 864x216 with 4 Axes>"
      ]
     },
     "metadata": {
      "needs_background": "light"
     },
     "output_type": "display_data"
    }
   ],
   "source": [
    "grapharray_1 = sns.FacetGrid(students_and_exams.query(\"code_module == 'CCC'\"),\n",
    "                             col = 'course',\n",
    "                             col_order = ordered_courses[ordered_courses.str.startswith('CCC')])\n",
    "grapharray_1.map(sns.histplot, 'score')\n",
    "\n",
    "grapharray_2 = sns.FacetGrid(students_and_exams.query(\"code_module == 'DDD'\"),\n",
    "                             col = 'course',\n",
    "                             col_order = ordered_courses[ordered_courses.str.startswith('DDD')])\n",
    "grapharray_2.map(sns.histplot, 'score')\n",
    "\n",
    "plt.show()"
   ]
  },
  {
   "cell_type": "markdown",
   "id": "90ec87cd",
   "metadata": {},
   "source": [
    "### Промежуточный вывод\n",
    "\n",
    "Видна значительная разница в распределении оценок для модулей \"CCC\" и \"DDD\". Во втором случае распределение похоже на нормальное и хорошие баллы получает сравнительно мало учеников. В первом случае очень много отличников.\n",
    "\n",
    "Соответственно, нужно выяснить, почему. Например:\n",
    "- курс \"CCC\" сам по себе лёгкий,\n",
    "- контрольные работы по курсу \"CCC\" сравнительно лёгкие\n",
    "- на курсе \"CCC\" очень хорошее преподавание\n",
    "- на курсе \"DDD\" стоит улучшить преподавание\n",
    "- на курсе \"DDD\" излишне тяжёлый экзамен\n",
    "- и т.д.\n",
    "\n",
    "Нужны опросы среди всех прошедших эти курсы студентов. Вопросы стоит сформулировать для разных категорий (на которые мы разобъём дальше) отдельно.\n",
    "\n",
    "Также стоит привлечь сторонних специалистов для проверки материалов и заданий курсов, чтобы осмотрели их \"незамыленным\" взглядом."
   ]
  },
  {
   "cell_type": "markdown",
   "id": "d3b6d535",
   "metadata": {},
   "source": [
    "### Продолжение исследования\n",
    "\n",
    "Получаем \"граничные\" значения, при помощи которых разделим студентов на две категории -- \"отличники\" и \"успешно сдавшие экзамен\". Те, у кого менее 40 баллов, автоматически попадают в третью категорию \"не сдавшие экзамен\":"
   ]
  },
  {
   "cell_type": "code",
   "execution_count": 147,
   "id": "01079dae",
   "metadata": {},
   "outputs": [
    {
     "data": {
      "text/plain": [
       "course\n",
       "DDD | 2013B    56.0\n",
       "DDD | 2013J    67.0\n",
       "DDD | 2014B    71.0\n",
       "DDD | 2014J    62.0\n",
       "Name: score, dtype: float64"
      ]
     },
     "execution_count": 147,
     "metadata": {},
     "output_type": "execute_result"
    }
   ],
   "source": [
    "course_DDD_medians = \\\n",
    "    students_and_exams.query(\"code_module == 'DDD'\").groupby('course')['score'].median()\n",
    "\n",
    "course_DDD_medians"
   ]
  },
  {
   "cell_type": "markdown",
   "id": "35da6742",
   "metadata": {},
   "source": [
    "Значение \"отсечки\" для предмета \"DDD\":"
   ]
  },
  {
   "cell_type": "code",
   "execution_count": 148,
   "id": "5cef7091",
   "metadata": {},
   "outputs": [
    {
     "data": {
      "text/plain": [
       "64.0"
      ]
     },
     "execution_count": 148,
     "metadata": {},
     "output_type": "execute_result"
    }
   ],
   "source": [
    "M_D = course_DDD_medians.mean()\n",
    "M_D"
   ]
  },
  {
   "cell_type": "code",
   "execution_count": 149,
   "id": "2990f2db",
   "metadata": {},
   "outputs": [
    {
     "data": {
      "text/plain": [
       "course\n",
       "CCC | 2014B    90.0\n",
       "CCC | 2014J    90.0\n",
       "Name: score, dtype: float64"
      ]
     },
     "execution_count": 149,
     "metadata": {},
     "output_type": "execute_result"
    }
   ],
   "source": [
    "course_CCC_means = \\\n",
    "    students_and_exams.query(\"code_module == 'CCC'\").groupby('course')['score'].quantile(q = 0.75)\n",
    "\n",
    "course_CCC_means"
   ]
  },
  {
   "cell_type": "markdown",
   "id": "32e5e696",
   "metadata": {},
   "source": [
    "Значение \"отсечки\" для предмета \"CCC\":"
   ]
  },
  {
   "cell_type": "code",
   "execution_count": 150,
   "id": "36477d97",
   "metadata": {},
   "outputs": [
    {
     "data": {
      "text/plain": [
       "90.0"
      ]
     },
     "execution_count": 150,
     "metadata": {},
     "output_type": "execute_result"
    }
   ],
   "source": [
    "M_C = course_CCC_means.mean()\n",
    "M_C"
   ]
  },
  {
   "cell_type": "markdown",
   "id": "3b79162f",
   "metadata": {},
   "source": [
    "M = M_c или M_D - соответствующее значение \"отсечки\".\n",
    "\n",
    "Студент мог сдавать два (и, теоретически, больше) экзаменов -- тогда при нескольких полученных значениях категории выбирается наивысшая:\n",
    "\n",
    "- категория 2: хотя бы один экзамен сдан на балл m &geq; M\n",
    "- категория 1: хотя бы один экзамен сдан с баллом 40 ≤ m < M\n",
    "- категория 0: m < 40 -- не сдал экзамен\n",
    "- для не сдававших экзамен будет ```-1```"
   ]
  },
  {
   "cell_type": "code",
   "execution_count": 151,
   "id": "29a2dcd8",
   "metadata": {},
   "outputs": [],
   "source": [
    "def set_category_M(code_module, score) :\n",
    "\n",
    "    M = M_C if code_module == 'CCC' else M_D\n",
    "\n",
    "    if score >= M :\n",
    "        category = 2\n",
    "    elif (score < M) and (score >= 40) :\n",
    "        category = 1\n",
    "    else :\n",
    "        category = 0\n",
    "        \n",
    "    return category"
   ]
  },
  {
   "cell_type": "markdown",
   "id": "1e7dd5f3",
   "metadata": {},
   "source": [
    "Данные о студентах, сдавших экзамены, лежат в табличке ```students_and_exams_2``` (которая является немного модифицированной копией ```students_and_exams```):"
   ]
  },
  {
   "cell_type": "code",
   "execution_count": 152,
   "id": "5aab042d",
   "metadata": {},
   "outputs": [],
   "source": [
    "students_and_exams['category_M'] = \\\n",
    "    students_and_exams.apply(lambda x: set_category_M(x.code_module, x.score), axis = 1)"
   ]
  },
  {
   "cell_type": "code",
   "execution_count": 153,
   "id": "c9b5c165",
   "metadata": {},
   "outputs": [],
   "source": [
    "students_category_M = students_and_exams.groupby('id_student').agg({'category_M': max}).reset_index()"
   ]
  },
  {
   "cell_type": "markdown",
   "id": "c9f4f0b1",
   "metadata": {},
   "source": [
    "Добавляем в [основную таблицу](#main_table) значения категорий для параметра ```M```:"
   ]
  },
  {
   "cell_type": "code",
   "execution_count": 154,
   "id": "569f4569",
   "metadata": {},
   "outputs": [],
   "source": [
    "students = students.merge(students_category_M,\n",
    "                          on = 'id_student',\n",
    "                          how = 'left')\n",
    "\n",
    "students['category_M'] = students['category_M'].fillna(value = -1)\n",
    "\n",
    "students['category_M'] = students['category_M'].astype(int)"
   ]
  },
  {
   "cell_type": "code",
   "execution_count": 155,
   "id": "4aca8593",
   "metadata": {},
   "outputs": [
    {
     "data": {
      "text/html": [
       "<div>\n",
       "<style scoped>\n",
       "    .dataframe tbody tr th:only-of-type {\n",
       "        vertical-align: middle;\n",
       "    }\n",
       "\n",
       "    .dataframe tbody tr th {\n",
       "        vertical-align: top;\n",
       "    }\n",
       "\n",
       "    .dataframe thead th {\n",
       "        text-align: right;\n",
       "    }\n",
       "</style>\n",
       "<table border=\"1\" class=\"dataframe\">\n",
       "  <thead>\n",
       "    <tr style=\"text-align: right;\">\n",
       "      <th></th>\n",
       "      <th>category_M</th>\n",
       "      <th>students</th>\n",
       "      <th>students_pc</th>\n",
       "    </tr>\n",
       "  </thead>\n",
       "  <tbody>\n",
       "    <tr>\n",
       "      <th>0</th>\n",
       "      <td>-1</td>\n",
       "      <td>24152</td>\n",
       "      <td>84.0</td>\n",
       "    </tr>\n",
       "    <tr>\n",
       "      <th>1</th>\n",
       "      <td>0</td>\n",
       "      <td>536</td>\n",
       "      <td>2.0</td>\n",
       "    </tr>\n",
       "    <tr>\n",
       "      <th>2</th>\n",
       "      <td>1</td>\n",
       "      <td>2117</td>\n",
       "      <td>7.0</td>\n",
       "    </tr>\n",
       "    <tr>\n",
       "      <th>3</th>\n",
       "      <td>2</td>\n",
       "      <td>1980</td>\n",
       "      <td>7.0</td>\n",
       "    </tr>\n",
       "  </tbody>\n",
       "</table>\n",
       "</div>"
      ],
      "text/plain": [
       "   category_M  students  students_pc\n",
       "0          -1     24152         84.0\n",
       "1           0       536          2.0\n",
       "2           1      2117          7.0\n",
       "3           2      1980          7.0"
      ]
     },
     "execution_count": 155,
     "metadata": {},
     "output_type": "execute_result"
    }
   ],
   "source": [
    "students_performance_distribution = \\\n",
    "    students[['id_student', 'category_M']] \\\n",
    "    .drop_duplicates() \\\n",
    "    ['category_M'].value_counts() \\\n",
    "    .to_frame() \\\n",
    "    .reset_index() \\\n",
    "    .rename(columns = {'index': 'category_M', 'category_M': 'students'}) \\\n",
    "    .sort_values('category_M') \\\n",
    "    .reset_index(drop = True)\n",
    "\n",
    "students_performance_distribution['students_pc'] = \\\n",
    "    round(100 * students_performance_distribution['students'] / students_total_number, 0)\n",
    "\n",
    "students_performance_distribution"
   ]
  },
  {
   "cell_type": "code",
   "execution_count": 156,
   "id": "a9bf3fd8",
   "metadata": {},
   "outputs": [
    {
     "data": {
      "image/png": "[encoded data removed]",
      "text/plain": [
       "<Figure size 360x360 with 1 Axes>"
      ]
     },
     "metadata": {
      "needs_background": "light"
     },
     "output_type": "display_data"
    }
   ],
   "source": [
    "sns.catplot(data = students_performance_distribution,\n",
    "            x = 'category_M',\n",
    "            y = 'students_pc',\n",
    "            kind = 'bar')\n",
    "plt.show()"
   ]
  },
  {
   "cell_type": "markdown",
   "id": "4b6cda86",
   "metadata": {},
   "source": [
    "### Вывод\n",
    "\n",
    "У нас получилось разбить сдавших экзамены студентов на три категории согласно их успеваемости - и с этими людьми можно отдельно работать --  как было уже сказано выше, их нужно опрашивать и получать обратную связь. Для тех, кто учился на обоих курсах -- в опроснике нужно сравнение двух курсов. Здесь поможет разбиение в категории ```F```. Категория ```M``` должна определять \"вес\" мнения -- прислушиваемся прежде всего к хорошистам и отличникам.\n",
    "\n",
    "\n",
    "### Предложение\n",
    "\n",
    "Однако таких людей всего 20% от всех студентов, остальные 80 % (ещё) не сдавали экзаменов. Предлагается по имеющимся 20 % выявить корреляцию между средней успеваемостью по сданным тестам и успешностью сдачи экзаменов -- то есть попаданием в ту или иную категорию."
   ]
  },
  {
   "cell_type": "markdown",
   "id": "fadbbbb1",
   "metadata": {},
   "source": [
    "## Определение параметров для разбиения по параметру ```F``` (завершаемость) <a class=\"anchor\" id=\"cat_F\"></a>"
   ]
  },
  {
   "cell_type": "markdown",
   "id": "d71723f4",
   "metadata": {},
   "source": [
    "Для каждого студента просто производится подсчёт успешно сданных экзаменов -- полученная величина и определяет категорию.\n",
    "\n",
    "**Завершаемость** будем категоризировать следующим образом:\n",
    "- категория 0: студент пытался сдать экзамены но не сдал ни один\n",
    "- категория 1: студент начал 1 или более курсов но завершил только один\n",
    "- категория 2: студент начал и завершил два курса (или более -- хотя в наших данных максимум это два курса)\n",
    "- для не сдававших экзамен будет ```-1``` (здесь будет много людей, которые учатся на потоках, где ещё не было экзаменов)"
   ]
  },
  {
   "cell_type": "code",
   "execution_count": 157,
   "id": "2a9de5f0",
   "metadata": {},
   "outputs": [],
   "source": [
    "exams_passed = \\\n",
    "    students_and_exams \\\n",
    "    .groupby('id_student') \\\n",
    "    .agg({'is_exam_passed': 'sum'}) \\\n",
    "    .rename(columns = {'is_exam_passed': 'exams_passed'}) \\\n",
    "    .reset_index()"
   ]
  },
  {
   "cell_type": "code",
   "execution_count": 158,
   "id": "171126a9",
   "metadata": {},
   "outputs": [],
   "source": [
    "students = \\\n",
    "    students \\\n",
    "    .merge(exams_passed, on = 'id_student', how = 'left') \\\n",
    "    .rename(columns = {'exams_passed': 'category_F'})\n",
    "\n",
    "students['category_F'] = students['category_F'].fillna(value = -1)\n",
    "\n",
    "students['category_F'] = students['category_F'].astype(int)"
   ]
  },
  {
   "cell_type": "markdown",
   "id": "adf33a14",
   "metadata": {},
   "source": [
    "По сдаче экзаменов для таких категорий параметра ```M``` как ```0```, ```1``` и ```2``` получаем тот же результат, что и при решении [задания 1](#task1):"
   ]
  },
  {
   "cell_type": "code",
   "execution_count": 159,
   "id": "cfde0c17",
   "metadata": {},
   "outputs": [
    {
     "data": {
      "text/html": [
       "<div>\n",
       "<style scoped>\n",
       "    .dataframe tbody tr th:only-of-type {\n",
       "        vertical-align: middle;\n",
       "    }\n",
       "\n",
       "    .dataframe tbody tr th {\n",
       "        vertical-align: top;\n",
       "    }\n",
       "\n",
       "    .dataframe thead th {\n",
       "        text-align: right;\n",
       "    }\n",
       "</style>\n",
       "<table border=\"1\" class=\"dataframe\">\n",
       "  <thead>\n",
       "    <tr style=\"text-align: right;\">\n",
       "      <th></th>\n",
       "      <th>category_F</th>\n",
       "      <th>students</th>\n",
       "      <th>students_pc</th>\n",
       "    </tr>\n",
       "  </thead>\n",
       "  <tbody>\n",
       "    <tr>\n",
       "      <th>0</th>\n",
       "      <td>-1</td>\n",
       "      <td>24152</td>\n",
       "      <td>84.0</td>\n",
       "    </tr>\n",
       "    <tr>\n",
       "      <th>1</th>\n",
       "      <td>0</td>\n",
       "      <td>536</td>\n",
       "      <td>2.0</td>\n",
       "    </tr>\n",
       "    <tr>\n",
       "      <th>2</th>\n",
       "      <td>1</td>\n",
       "      <td>3802</td>\n",
       "      <td>13.0</td>\n",
       "    </tr>\n",
       "    <tr>\n",
       "      <th>3</th>\n",
       "      <td>2</td>\n",
       "      <td>295</td>\n",
       "      <td>1.0</td>\n",
       "    </tr>\n",
       "  </tbody>\n",
       "</table>\n",
       "</div>"
      ],
      "text/plain": [
       "   category_F  students  students_pc\n",
       "0          -1     24152         84.0\n",
       "1           0       536          2.0\n",
       "2           1      3802         13.0\n",
       "3           2       295          1.0"
      ]
     },
     "execution_count": 159,
     "metadata": {},
     "output_type": "execute_result"
    }
   ],
   "source": [
    "exams_passed_distribution = \\\n",
    "    students[['id_student', 'category_F']] \\\n",
    "    .drop_duplicates() \\\n",
    "    ['category_F'].value_counts() \\\n",
    "    .to_frame() \\\n",
    "    .reset_index() \\\n",
    "    .rename(columns = {'index': 'category_F', 'category_F': 'students'}) \\\n",
    "    .sort_values('category_F') \\\n",
    "    .reset_index(drop = True)\n",
    "\n",
    "exams_passed_distribution['students_pc'] = \\\n",
    "    round(100 * exams_passed_distribution['students'] / students_total_number, 0)\n",
    "\n",
    "exams_passed_distribution"
   ]
  },
  {
   "cell_type": "code",
   "execution_count": 160,
   "id": "b4ceabc8",
   "metadata": {},
   "outputs": [
    {
     "data": {
      "image/png": "[encoded data removed]",
      "text/plain": [
       "<Figure size 360x360 with 1 Axes>"
      ]
     },
     "metadata": {
      "needs_background": "light"
     },
     "output_type": "display_data"
    }
   ],
   "source": [
    "sns.catplot(data = exams_passed_distribution,\n",
    "            x = 'category_F',\n",
    "            y = 'students_pc',\n",
    "            kind = 'bar')\n",
    "plt.show()"
   ]
  },
  {
   "cell_type": "markdown",
   "id": "40b75009",
   "metadata": {},
   "source": [
    "## Определение параметров для разбиения по параметру ```R``` (среднее время сдачи одного экзамена) <a class=\"anchor\" id=\"cat_R\"></a>"
   ]
  },
  {
   "cell_type": "markdown",
   "id": "d32ba294",
   "metadata": {},
   "source": [
    "Ранее, при решении [задания 3](#task3), мы получили величины средних сроков сдачи экзаменов:"
   ]
  },
  {
   "cell_type": "code",
   "execution_count": 161,
   "id": "d0c63ee0",
   "metadata": {},
   "outputs": [
    {
     "data": {
      "text/html": [
       "<div>\n",
       "<style scoped>\n",
       "    .dataframe tbody tr th:only-of-type {\n",
       "        vertical-align: middle;\n",
       "    }\n",
       "\n",
       "    .dataframe tbody tr th {\n",
       "        vertical-align: top;\n",
       "    }\n",
       "\n",
       "    .dataframe thead th {\n",
       "        text-align: right;\n",
       "    }\n",
       "</style>\n",
       "<table border=\"1\" class=\"dataframe\">\n",
       "  <thead>\n",
       "    <tr style=\"text-align: right;\">\n",
       "      <th></th>\n",
       "      <th>code_module</th>\n",
       "      <th>code_presentation</th>\n",
       "      <th>date_submitted_mean</th>\n",
       "    </tr>\n",
       "  </thead>\n",
       "  <tbody>\n",
       "    <tr>\n",
       "      <th>0</th>\n",
       "      <td>CCC</td>\n",
       "      <td>2014B</td>\n",
       "      <td>232.0</td>\n",
       "    </tr>\n",
       "    <tr>\n",
       "      <th>1</th>\n",
       "      <td>CCC</td>\n",
       "      <td>2014J</td>\n",
       "      <td>244.0</td>\n",
       "    </tr>\n",
       "    <tr>\n",
       "      <th>2</th>\n",
       "      <td>DDD</td>\n",
       "      <td>2013B</td>\n",
       "      <td>230.0</td>\n",
       "    </tr>\n",
       "    <tr>\n",
       "      <th>3</th>\n",
       "      <td>DDD</td>\n",
       "      <td>2013J</td>\n",
       "      <td>240.0</td>\n",
       "    </tr>\n",
       "    <tr>\n",
       "      <th>4</th>\n",
       "      <td>DDD</td>\n",
       "      <td>2014B</td>\n",
       "      <td>235.0</td>\n",
       "    </tr>\n",
       "    <tr>\n",
       "      <th>5</th>\n",
       "      <td>DDD</td>\n",
       "      <td>2014J</td>\n",
       "      <td>243.0</td>\n",
       "    </tr>\n",
       "  </tbody>\n",
       "</table>\n",
       "</div>"
      ],
      "text/plain": [
       "  code_module code_presentation  date_submitted_mean\n",
       "0         CCC             2014B                232.0\n",
       "1         CCC             2014J                244.0\n",
       "2         DDD             2013B                230.0\n",
       "3         DDD             2013J                240.0\n",
       "4         DDD             2014B                235.0\n",
       "5         DDD             2014J                243.0"
      ]
     },
     "execution_count": 161,
     "metadata": {},
     "output_type": "execute_result"
    }
   ],
   "source": [
    "dates_of_submission_mean.reset_index()"
   ]
  },
  {
   "cell_type": "markdown",
   "id": "31d7962e",
   "metadata": {},
   "source": [
    "Предлагается следующие значения категорий:\n",
    "\n",
    "- категория ```0```: студент ушёл со всех курсов, на которые записался, не сдал экзаменов -- здесь конкретно выделяются студенты, записывавшиеся на курсы, по которым производилась сдача экзаменов -- из таблицы выше\n",
    "- категория ```1```: студент сдал все свои курсы за время, большее чем среднее время сдачи экзамена для данного курса\n",
    "- категория ```2```: студент сдал хотя бы один из курсов за время, не превышающее среднее время сдачи экзамена для данного курса\n",
    "- для не сдававших экзамен будет ```-1```"
   ]
  },
  {
   "cell_type": "code",
   "execution_count": 162,
   "id": "69b4e2c2",
   "metadata": {},
   "outputs": [],
   "source": [
    "students_and_exams = \\\n",
    "    students_and_exams \\\n",
    "    .merge(dates_of_submission_mean.reset_index(), on = ['code_module', 'code_presentation'])"
   ]
  },
  {
   "cell_type": "code",
   "execution_count": 163,
   "id": "6d820f34",
   "metadata": {},
   "outputs": [],
   "source": [
    "def set_category_R(date_submitted, date_submitted_mean) :\n",
    "\n",
    "    if date_submitted >= date_submitted_mean :\n",
    "        category = 1\n",
    "    else :\n",
    "        category = 2\n",
    "        \n",
    "    return category"
   ]
  },
  {
   "cell_type": "code",
   "execution_count": 164,
   "id": "f4ea4ebd",
   "metadata": {},
   "outputs": [],
   "source": [
    "students_and_exams['category_R'] = \\\n",
    "    students_and_exams\\\n",
    "    .apply(lambda x: set_category_R(x.date_submitted, x.date_submitted_mean),\n",
    "           axis = 1)"
   ]
  },
  {
   "cell_type": "code",
   "execution_count": 165,
   "id": "c4e8655c",
   "metadata": {},
   "outputs": [],
   "source": [
    "students_and_exams = \\\n",
    "    students_and_exams \\\n",
    "    .drop('category_R', axis = 1) \\\n",
    "    .merge(students_and_exams.groupby('id_student', as_index = False).agg({'category_R': max}),\n",
    "           on = 'id_student',\n",
    "           how = 'left')"
   ]
  },
  {
   "cell_type": "code",
   "execution_count": 166,
   "id": "85b7502c",
   "metadata": {
    "scrolled": false
   },
   "outputs": [
    {
     "data": {
      "text/html": [
       "<div>\n",
       "<style scoped>\n",
       "    .dataframe tbody tr th:only-of-type {\n",
       "        vertical-align: middle;\n",
       "    }\n",
       "\n",
       "    .dataframe tbody tr th {\n",
       "        vertical-align: top;\n",
       "    }\n",
       "\n",
       "    .dataframe thead th {\n",
       "        text-align: right;\n",
       "    }\n",
       "</style>\n",
       "<table border=\"1\" class=\"dataframe\">\n",
       "  <thead>\n",
       "    <tr style=\"text-align: right;\">\n",
       "      <th></th>\n",
       "      <th>id_student</th>\n",
       "      <th>id_assessment</th>\n",
       "      <th>course</th>\n",
       "      <th>is_exam_passed</th>\n",
       "      <th>score</th>\n",
       "      <th>category_M</th>\n",
       "      <th>date_submitted</th>\n",
       "      <th>date_submitted_mean</th>\n",
       "      <th>category_R</th>\n",
       "    </tr>\n",
       "  </thead>\n",
       "  <tbody>\n",
       "    <tr>\n",
       "      <th>0</th>\n",
       "      <td>23698</td>\n",
       "      <td>24299</td>\n",
       "      <td>CCC | 2014J</td>\n",
       "      <td>True</td>\n",
       "      <td>80.0</td>\n",
       "      <td>1</td>\n",
       "      <td>243</td>\n",
       "      <td>244.0</td>\n",
       "      <td>2</td>\n",
       "    </tr>\n",
       "    <tr>\n",
       "      <th>1</th>\n",
       "      <td>27116</td>\n",
       "      <td>24299</td>\n",
       "      <td>CCC | 2014J</td>\n",
       "      <td>True</td>\n",
       "      <td>96.0</td>\n",
       "      <td>2</td>\n",
       "      <td>243</td>\n",
       "      <td>244.0</td>\n",
       "      <td>2</td>\n",
       "    </tr>\n",
       "    <tr>\n",
       "      <th>2</th>\n",
       "      <td>28787</td>\n",
       "      <td>24299</td>\n",
       "      <td>CCC | 2014J</td>\n",
       "      <td>True</td>\n",
       "      <td>44.0</td>\n",
       "      <td>1</td>\n",
       "      <td>243</td>\n",
       "      <td>244.0</td>\n",
       "      <td>2</td>\n",
       "    </tr>\n",
       "    <tr>\n",
       "      <th>3</th>\n",
       "      <td>29420</td>\n",
       "      <td>24299</td>\n",
       "      <td>CCC | 2014J</td>\n",
       "      <td>True</td>\n",
       "      <td>62.0</td>\n",
       "      <td>1</td>\n",
       "      <td>244</td>\n",
       "      <td>244.0</td>\n",
       "      <td>1</td>\n",
       "    </tr>\n",
       "    <tr>\n",
       "      <th>4</th>\n",
       "      <td>29639</td>\n",
       "      <td>24299</td>\n",
       "      <td>CCC | 2014J</td>\n",
       "      <td>True</td>\n",
       "      <td>74.0</td>\n",
       "      <td>1</td>\n",
       "      <td>248</td>\n",
       "      <td>244.0</td>\n",
       "      <td>1</td>\n",
       "    </tr>\n",
       "  </tbody>\n",
       "</table>\n",
       "</div>"
      ],
      "text/plain": [
       "   id_student  id_assessment       course  is_exam_passed  score  category_M  \\\n",
       "0       23698          24299  CCC | 2014J            True   80.0           1   \n",
       "1       27116          24299  CCC | 2014J            True   96.0           2   \n",
       "2       28787          24299  CCC | 2014J            True   44.0           1   \n",
       "3       29420          24299  CCC | 2014J            True   62.0           1   \n",
       "4       29639          24299  CCC | 2014J            True   74.0           1   \n",
       "\n",
       "   date_submitted  date_submitted_mean  category_R  \n",
       "0             243                244.0           2  \n",
       "1             243                244.0           2  \n",
       "2             243                244.0           2  \n",
       "3             244                244.0           1  \n",
       "4             248                244.0           1  "
      ]
     },
     "execution_count": 166,
     "metadata": {},
     "output_type": "execute_result"
    }
   ],
   "source": [
    "students_and_exams = \\\n",
    "    students_and_exams \\\n",
    "    [['id_student',\n",
    "      'id_assessment',\n",
    "      'code_module',\n",
    "      'code_presentation',\n",
    "      'course',\n",
    "      'is_exam_passed',\n",
    "      'score',\n",
    "      'category_M',\n",
    "      'date_submitted',\n",
    "      'date_submitted_mean',\n",
    "      'category_R']]\n",
    "\n",
    "students_and_exams.drop(['code_module', 'code_presentation'], axis = 1).head()"
   ]
  },
  {
   "cell_type": "markdown",
   "id": "44fdb281",
   "metadata": {},
   "source": [
    "### Дополнительное исследование <a class=\"anchor\" id=\"additional_research\"></a>"
   ]
  },
  {
   "cell_type": "markdown",
   "id": "f307ecbe",
   "metadata": {},
   "source": [
    "Проверяем, есть ли такие студенты, которые дошли до сдачи экзамена и получили баллы, но ушли с курса:"
   ]
  },
  {
   "cell_type": "code",
   "execution_count": 167,
   "id": "729a75d9",
   "metadata": {},
   "outputs": [],
   "source": [
    "# все студенты, которые ушли с курсов\n",
    "\n",
    "studens_who_left_courses_and_tried_exams = \\\n",
    "    students[students['date_unregistration'].notna()] \\\n",
    "    [['id_student', 'code_module', 'code_presentation']] \\\n",
    "    .drop_duplicates() \\\n",
    "    .sort_values(['id_student', 'code_module', 'code_presentation'], ignore_index = True)\n",
    "\n",
    "studens_who_left_courses_and_tried_exams['left_course'] = True"
   ]
  },
  {
   "cell_type": "code",
   "execution_count": 168,
   "id": "fb79530e",
   "metadata": {},
   "outputs": [
    {
     "data": {
      "text/plain": [
       "1"
      ]
     },
     "execution_count": 168,
     "metadata": {},
     "output_type": "execute_result"
    }
   ],
   "source": [
    "students_and_exams = \\\n",
    "    students_and_exams \\\n",
    "    .merge(studens_who_left_courses_and_tried_exams,\n",
    "           how = 'left',\n",
    "           on = ['id_student', 'code_module', 'code_presentation'])\n",
    "\n",
    "students_and_exams['left_course'] = students_and_exams['left_course'].fillna(value = False)\n",
    "\n",
    "# количество студентов, которые при этом сдали (успешно или неуспешно) экзамены:\n",
    "students_and_exams['left_course'].sum()"
   ]
  },
  {
   "cell_type": "markdown",
   "id": "e27f9062",
   "metadata": {},
   "source": [
    "Всего один человек. Остальные отсеялись на этапе промежуточных контрольных работ. Его ID:"
   ]
  },
  {
   "cell_type": "code",
   "execution_count": 169,
   "id": "efaf2bbf",
   "metadata": {},
   "outputs": [
    {
     "data": {
      "text/plain": [
       "425543"
      ]
     },
     "execution_count": 169,
     "metadata": {},
     "output_type": "execute_result"
    }
   ],
   "source": [
    "students_and_exams[students_and_exams['left_course']]['id_student'].item()"
   ]
  },
  {
   "cell_type": "markdown",
   "id": "afb3b380",
   "metadata": {},
   "source": [
    "Как видим, решение он отправил быстро (на 237й день, при среднем 240):"
   ]
  },
  {
   "cell_type": "code",
   "execution_count": 170,
   "id": "013cc763",
   "metadata": {},
   "outputs": [
    {
     "data": {
      "text/html": [
       "<div>\n",
       "<style scoped>\n",
       "    .dataframe tbody tr th:only-of-type {\n",
       "        vertical-align: middle;\n",
       "    }\n",
       "\n",
       "    .dataframe tbody tr th {\n",
       "        vertical-align: top;\n",
       "    }\n",
       "\n",
       "    .dataframe thead th {\n",
       "        text-align: right;\n",
       "    }\n",
       "</style>\n",
       "<table border=\"1\" class=\"dataframe\">\n",
       "  <thead>\n",
       "    <tr style=\"text-align: right;\">\n",
       "      <th></th>\n",
       "      <th>id_student</th>\n",
       "      <th>id_assessment</th>\n",
       "      <th>code_module</th>\n",
       "      <th>code_presentation</th>\n",
       "      <th>course</th>\n",
       "      <th>is_exam_passed</th>\n",
       "      <th>score</th>\n",
       "      <th>category_M</th>\n",
       "      <th>date_submitted</th>\n",
       "      <th>date_submitted_mean</th>\n",
       "      <th>category_R</th>\n",
       "      <th>left_course</th>\n",
       "    </tr>\n",
       "  </thead>\n",
       "  <tbody>\n",
       "    <tr>\n",
       "      <th>1879</th>\n",
       "      <td>425543</td>\n",
       "      <td>25354</td>\n",
       "      <td>DDD</td>\n",
       "      <td>2013J</td>\n",
       "      <td>DDD | 2013J</td>\n",
       "      <td>False</td>\n",
       "      <td>33.0</td>\n",
       "      <td>0</td>\n",
       "      <td>237</td>\n",
       "      <td>240.0</td>\n",
       "      <td>2</td>\n",
       "      <td>True</td>\n",
       "    </tr>\n",
       "  </tbody>\n",
       "</table>\n",
       "</div>"
      ],
      "text/plain": [
       "      id_student  id_assessment code_module code_presentation       course  \\\n",
       "1879      425543          25354         DDD             2013J  DDD | 2013J   \n",
       "\n",
       "      is_exam_passed  score  category_M  date_submitted  date_submitted_mean  \\\n",
       "1879           False   33.0           0             237                240.0   \n",
       "\n",
       "      category_R  left_course  \n",
       "1879           2         True  "
      ]
     },
     "execution_count": 170,
     "metadata": {},
     "output_type": "execute_result"
    }
   ],
   "source": [
    "students_and_exams[students_and_exams.id_student == 425543]"
   ]
  },
  {
   "cell_type": "markdown",
   "id": "f6b5ba3c",
   "metadata": {},
   "source": [
    "Экзамен он сдал плохо. При этом ушёл с курса на 232 день, ДО отправки им экзаменационного задания. Что очень странно. Возможно, ошибка в данных, и у него неправильно укзана дата ухода -- он, возможно, и не уходил с курса."
   ]
  },
  {
   "cell_type": "code",
   "execution_count": 171,
   "id": "d0fbc809",
   "metadata": {
    "scrolled": false
   },
   "outputs": [
    {
     "data": {
      "text/html": [
       "<div>\n",
       "<style scoped>\n",
       "    .dataframe tbody tr th:only-of-type {\n",
       "        vertical-align: middle;\n",
       "    }\n",
       "\n",
       "    .dataframe tbody tr th {\n",
       "        vertical-align: top;\n",
       "    }\n",
       "\n",
       "    .dataframe thead th {\n",
       "        text-align: right;\n",
       "    }\n",
       "</style>\n",
       "<table border=\"1\" class=\"dataframe\">\n",
       "  <thead>\n",
       "    <tr style=\"text-align: right;\">\n",
       "      <th></th>\n",
       "      <th>id_assessment</th>\n",
       "      <th>id_student</th>\n",
       "      <th>date_submitted</th>\n",
       "      <th>is_banked</th>\n",
       "      <th>score</th>\n",
       "      <th>code_module</th>\n",
       "      <th>code_presentation</th>\n",
       "      <th>assessment_type</th>\n",
       "      <th>date</th>\n",
       "      <th>weight</th>\n",
       "      <th>date_registration</th>\n",
       "      <th>date_unregistration</th>\n",
       "      <th>course</th>\n",
       "      <th>category_M</th>\n",
       "      <th>category_F</th>\n",
       "    </tr>\n",
       "  </thead>\n",
       "  <tbody>\n",
       "    <tr>\n",
       "      <th>81532</th>\n",
       "      <td>25348.0</td>\n",
       "      <td>425543</td>\n",
       "      <td>34.0</td>\n",
       "      <td>0.0</td>\n",
       "      <td>64.0</td>\n",
       "      <td>DDD</td>\n",
       "      <td>2013J</td>\n",
       "      <td>TMA</td>\n",
       "      <td>25.0</td>\n",
       "      <td>10.0</td>\n",
       "      <td>-39.0</td>\n",
       "      <td>232.0</td>\n",
       "      <td>DDD | 2013J</td>\n",
       "      <td>0</td>\n",
       "      <td>0</td>\n",
       "    </tr>\n",
       "    <tr>\n",
       "      <th>81533</th>\n",
       "      <td>25349.0</td>\n",
       "      <td>425543</td>\n",
       "      <td>54.0</td>\n",
       "      <td>0.0</td>\n",
       "      <td>56.0</td>\n",
       "      <td>DDD</td>\n",
       "      <td>2013J</td>\n",
       "      <td>TMA</td>\n",
       "      <td>53.0</td>\n",
       "      <td>12.5</td>\n",
       "      <td>-39.0</td>\n",
       "      <td>232.0</td>\n",
       "      <td>DDD | 2013J</td>\n",
       "      <td>0</td>\n",
       "      <td>0</td>\n",
       "    </tr>\n",
       "    <tr>\n",
       "      <th>81534</th>\n",
       "      <td>25350.0</td>\n",
       "      <td>425543</td>\n",
       "      <td>121.0</td>\n",
       "      <td>0.0</td>\n",
       "      <td>65.0</td>\n",
       "      <td>DDD</td>\n",
       "      <td>2013J</td>\n",
       "      <td>TMA</td>\n",
       "      <td>88.0</td>\n",
       "      <td>17.5</td>\n",
       "      <td>-39.0</td>\n",
       "      <td>232.0</td>\n",
       "      <td>DDD | 2013J</td>\n",
       "      <td>0</td>\n",
       "      <td>0</td>\n",
       "    </tr>\n",
       "    <tr>\n",
       "      <th>81535</th>\n",
       "      <td>25354.0</td>\n",
       "      <td>425543</td>\n",
       "      <td>237.0</td>\n",
       "      <td>0.0</td>\n",
       "      <td>33.0</td>\n",
       "      <td>DDD</td>\n",
       "      <td>2013J</td>\n",
       "      <td>Exam</td>\n",
       "      <td>261.0</td>\n",
       "      <td>100.0</td>\n",
       "      <td>-39.0</td>\n",
       "      <td>232.0</td>\n",
       "      <td>DDD | 2013J</td>\n",
       "      <td>0</td>\n",
       "      <td>0</td>\n",
       "    </tr>\n",
       "  </tbody>\n",
       "</table>\n",
       "</div>"
      ],
      "text/plain": [
       "       id_assessment  id_student  date_submitted  is_banked  score  \\\n",
       "81532        25348.0      425543            34.0        0.0   64.0   \n",
       "81533        25349.0      425543            54.0        0.0   56.0   \n",
       "81534        25350.0      425543           121.0        0.0   65.0   \n",
       "81535        25354.0      425543           237.0        0.0   33.0   \n",
       "\n",
       "      code_module code_presentation assessment_type   date  weight  \\\n",
       "81532         DDD             2013J             TMA   25.0    10.0   \n",
       "81533         DDD             2013J             TMA   53.0    12.5   \n",
       "81534         DDD             2013J             TMA   88.0    17.5   \n",
       "81535         DDD             2013J            Exam  261.0   100.0   \n",
       "\n",
       "       date_registration  date_unregistration       course  category_M  \\\n",
       "81532              -39.0                232.0  DDD | 2013J           0   \n",
       "81533              -39.0                232.0  DDD | 2013J           0   \n",
       "81534              -39.0                232.0  DDD | 2013J           0   \n",
       "81535              -39.0                232.0  DDD | 2013J           0   \n",
       "\n",
       "       category_F  \n",
       "81532           0  \n",
       "81533           0  \n",
       "81534           0  \n",
       "81535           0  "
      ]
     },
     "execution_count": 171,
     "metadata": {},
     "output_type": "execute_result"
    }
   ],
   "source": [
    "students.query(\"id_student == 425543\")"
   ]
  },
  {
   "cell_type": "markdown",
   "id": "1818d981",
   "metadata": {},
   "source": [
    "### Промежуточный вывод\n",
    "\n",
    "Cдававших экзамены мы распределили по категориям ```1``` и ```2``` параметра ```R```.\n",
    "\n",
    "Осталось определить, есть ли те, кто попадает в категорию ```0```, и поместить всех оставшихся в категорию ```-1```.\n",
    "\n",
    "Чтобы зачислить кого-то в категорию ```0```, нужно для курсов, по которым были экзамены (из таблички ```students_and_exams```), определить тех ребят, кто записался но не сдавал экзамен, ушёл раньше. Выше мы вычислили человека, который ушёл но при этом сдал экзамен. :-)"
   ]
  },
  {
   "cell_type": "markdown",
   "id": "4e761241",
   "metadata": {},
   "source": [
    "### Продолжаем разбивать по категориям"
   ]
  },
  {
   "cell_type": "markdown",
   "id": "77539211",
   "metadata": {},
   "source": [
    "У нас есть результаты экзаменов по курсам ```CCC``` и ```DDD```:"
   ]
  },
  {
   "cell_type": "code",
   "execution_count": 172,
   "id": "4d91cc6d",
   "metadata": {
    "scrolled": false
   },
   "outputs": [
    {
     "data": {
      "text/html": [
       "<div>\n",
       "<style scoped>\n",
       "    .dataframe tbody tr th:only-of-type {\n",
       "        vertical-align: middle;\n",
       "    }\n",
       "\n",
       "    .dataframe tbody tr th {\n",
       "        vertical-align: top;\n",
       "    }\n",
       "\n",
       "    .dataframe thead th {\n",
       "        text-align: right;\n",
       "    }\n",
       "</style>\n",
       "<table border=\"1\" class=\"dataframe\">\n",
       "  <thead>\n",
       "    <tr style=\"text-align: right;\">\n",
       "      <th></th>\n",
       "      <th>code_module</th>\n",
       "      <th>code_presentation</th>\n",
       "      <th>course</th>\n",
       "    </tr>\n",
       "  </thead>\n",
       "  <tbody>\n",
       "    <tr>\n",
       "      <th>0</th>\n",
       "      <td>CCC</td>\n",
       "      <td>2014B</td>\n",
       "      <td>CCC | 2014B</td>\n",
       "    </tr>\n",
       "    <tr>\n",
       "      <th>1</th>\n",
       "      <td>CCC</td>\n",
       "      <td>2014J</td>\n",
       "      <td>CCC | 2014J</td>\n",
       "    </tr>\n",
       "    <tr>\n",
       "      <th>2</th>\n",
       "      <td>DDD</td>\n",
       "      <td>2013B</td>\n",
       "      <td>DDD | 2013B</td>\n",
       "    </tr>\n",
       "    <tr>\n",
       "      <th>3</th>\n",
       "      <td>DDD</td>\n",
       "      <td>2013J</td>\n",
       "      <td>DDD | 2013J</td>\n",
       "    </tr>\n",
       "    <tr>\n",
       "      <th>4</th>\n",
       "      <td>DDD</td>\n",
       "      <td>2014B</td>\n",
       "      <td>DDD | 2014B</td>\n",
       "    </tr>\n",
       "    <tr>\n",
       "      <th>5</th>\n",
       "      <td>DDD</td>\n",
       "      <td>2014J</td>\n",
       "      <td>DDD | 2014J</td>\n",
       "    </tr>\n",
       "  </tbody>\n",
       "</table>\n",
       "</div>"
      ],
      "text/plain": [
       "  code_module code_presentation       course\n",
       "0         CCC             2014B  CCC | 2014B\n",
       "1         CCC             2014J  CCC | 2014J\n",
       "2         DDD             2013B  DDD | 2013B\n",
       "3         DDD             2013J  DDD | 2013J\n",
       "4         DDD             2014B  DDD | 2014B\n",
       "5         DDD             2014J  DDD | 2014J"
      ]
     },
     "execution_count": 172,
     "metadata": {},
     "output_type": "execute_result"
    }
   ],
   "source": [
    "courses_with_exams = \\\n",
    "    students_and_exams[['code_module', 'code_presentation', 'course']] \\\n",
    "    .drop_duplicates() \\\n",
    "    .sort_values(['code_module', 'code_presentation']) \\\n",
    "    .reset_index(drop = True)\n",
    "\n",
    "courses_with_exams"
   ]
  },
  {
   "cell_type": "code",
   "execution_count": 173,
   "id": "82807de1",
   "metadata": {
    "scrolled": true
   },
   "outputs": [],
   "source": [
    "students = \\\n",
    "    students \\\n",
    "    .merge(students_and_exams[['id_student', 'category_R']].drop_duplicates(),\n",
    "           on = 'id_student', how = 'left')\n",
    "\n",
    "# students['category_R'] = \\\n",
    "#     students['category_R'].where(~students['category_R'].isna(),\n",
    "#                                  other = students['category_F'])\n",
    "\n",
    "students['category_R'] = \\\n",
    "    students['category_R'] \\\n",
    "    .where(~(students['course'].isin(courses_with_exams['course']) & students['category_R'].isna()),\n",
    "           other = 0)  \n",
    "\n",
    "students['category_R'] = students['category_R'].fillna(value = -1)\n",
    "\n",
    "students['category_R'] = students['category_R'].astype(int)"
   ]
  },
  {
   "cell_type": "code",
   "execution_count": 174,
   "id": "0bf01a2f",
   "metadata": {},
   "outputs": [
    {
     "data": {
      "text/html": [
       "<div>\n",
       "<style scoped>\n",
       "    .dataframe tbody tr th:only-of-type {\n",
       "        vertical-align: middle;\n",
       "    }\n",
       "\n",
       "    .dataframe tbody tr th {\n",
       "        vertical-align: top;\n",
       "    }\n",
       "\n",
       "    .dataframe thead th {\n",
       "        text-align: right;\n",
       "    }\n",
       "</style>\n",
       "<table border=\"1\" class=\"dataframe\">\n",
       "  <thead>\n",
       "    <tr style=\"text-align: right;\">\n",
       "      <th></th>\n",
       "      <th>category_R</th>\n",
       "      <th>students</th>\n",
       "      <th>students_pc</th>\n",
       "    </tr>\n",
       "  </thead>\n",
       "  <tbody>\n",
       "    <tr>\n",
       "      <th>0</th>\n",
       "      <td>-1</td>\n",
       "      <td>20470</td>\n",
       "      <td>71.0</td>\n",
       "    </tr>\n",
       "    <tr>\n",
       "      <th>1</th>\n",
       "      <td>0</td>\n",
       "      <td>4770</td>\n",
       "      <td>17.0</td>\n",
       "    </tr>\n",
       "    <tr>\n",
       "      <th>2</th>\n",
       "      <td>1</td>\n",
       "      <td>2737</td>\n",
       "      <td>10.0</td>\n",
       "    </tr>\n",
       "    <tr>\n",
       "      <th>3</th>\n",
       "      <td>2</td>\n",
       "      <td>1896</td>\n",
       "      <td>7.0</td>\n",
       "    </tr>\n",
       "  </tbody>\n",
       "</table>\n",
       "</div>"
      ],
      "text/plain": [
       "   category_R  students  students_pc\n",
       "0          -1     20470         71.0\n",
       "1           0      4770         17.0\n",
       "2           1      2737         10.0\n",
       "3           2      1896          7.0"
      ]
     },
     "execution_count": 174,
     "metadata": {},
     "output_type": "execute_result"
    }
   ],
   "source": [
    "timing_distribution = \\\n",
    "    students[['id_student', 'category_R']] \\\n",
    "    .drop_duplicates() \\\n",
    "    ['category_R'].value_counts() \\\n",
    "    .to_frame() \\\n",
    "    .reset_index() \\\n",
    "    .rename(columns = {'index': 'category_R', 'category_R': 'students'}) \\\n",
    "    .sort_values('category_R') \\\n",
    "    .reset_index(drop = True)\n",
    "\n",
    "timing_distribution['students_pc'] = \\\n",
    "    round(100 * timing_distribution['students'] / students_total_number, 0)\n",
    "\n",
    "timing_distribution"
   ]
  },
  {
   "cell_type": "code",
   "execution_count": 175,
   "id": "29429646",
   "metadata": {},
   "outputs": [
    {
     "data": {
      "image/png": "[encoded data removed]",
      "text/plain": [
       "<Figure size 360x360 with 1 Axes>"
      ]
     },
     "metadata": {
      "needs_background": "light"
     },
     "output_type": "display_data"
    }
   ],
   "source": [
    "sns.catplot(data = timing_distribution,\n",
    "            x = 'category_R',\n",
    "            y = 'students_pc',\n",
    "            kind = 'bar')\n",
    "plt.show()"
   ]
  },
  {
   "cell_type": "markdown",
   "id": "a6db4409",
   "metadata": {},
   "source": [
    "Здесь в категории ```0``` в 9 раз больше людей чем в такой же категории для параметров ```M``` и ```F``` (где число людей одинаково и равно ```536```) -- дело в том что для них в категорию ```0``` записывались все те, кто участвовал в эказаменах по предметам ```CCC``` и ```DDD```, но не сдал ни одного экзамена.\n",
    "\n",
    "Проверим правильность выделения в категорию 0 -- туда должны попасть те, кто записался на рассматриваемые предметы, но *не сдал ни одной контрольной работы*."
   ]
  },
  {
   "cell_type": "markdown",
   "id": "f1eddb5a",
   "metadata": {},
   "source": [
    "Полное количество уникальных пользователей, записавшихся на курсы из ```courses_with_exams```:"
   ]
  },
  {
   "cell_type": "code",
   "execution_count": 176,
   "id": "487070ab",
   "metadata": {
    "scrolled": false
   },
   "outputs": [
    {
     "data": {
      "text/plain": [
       "9403"
      ]
     },
     "execution_count": 176,
     "metadata": {},
     "output_type": "execute_result"
    }
   ],
   "source": [
    "students[students['course'].isin(courses_with_exams['course'])]['id_student'].nunique()"
   ]
  },
  {
   "cell_type": "markdown",
   "id": "74ee82a2",
   "metadata": {},
   "source": [
    "Студенты, которые сдавали хоть какие-то контрольные работы:"
   ]
  },
  {
   "cell_type": "code",
   "execution_count": 177,
   "id": "da4b0483",
   "metadata": {},
   "outputs": [],
   "source": [
    "students_who_tried_exams = \\\n",
    "    students_and_exams['id_student'] \\\n",
    "    .drop_duplicates() \\\n",
    "    .reset_index(drop = True)"
   ]
  },
  {
   "cell_type": "code",
   "execution_count": 178,
   "id": "8c891be4",
   "metadata": {
    "scrolled": true
   },
   "outputs": [
    {
     "data": {
      "text/plain": [
       "4633"
      ]
     },
     "execution_count": 178,
     "metadata": {},
     "output_type": "execute_result"
    }
   ],
   "source": [
    "students_who_tried_exams.shape[0]\n",
    "\n",
    "# что эквивалентно\n",
    "# students_and_exams['id_student'].nunique()"
   ]
  },
  {
   "cell_type": "markdown",
   "id": "aa35aee9",
   "metadata": {},
   "source": [
    "<a class=\"anchor\" id=\"students_who_left_courses\"></a>\n",
    "Люди, которые записывались на курсы из ```courses_with_exams```, но так и не сдали ни одной контрольной работы:"
   ]
  },
  {
   "cell_type": "code",
   "execution_count": 179,
   "id": "4a2ea20f",
   "metadata": {},
   "outputs": [
    {
     "data": {
      "text/plain": [
       "4770"
      ]
     },
     "execution_count": 179,
     "metadata": {},
     "output_type": "execute_result"
    }
   ],
   "source": [
    "students[students['course'].isin(courses_with_exams['course'])]['id_student'].nunique() \\\n",
    "    - students_and_exams['id_student'].nunique()"
   ]
  },
  {
   "cell_type": "code",
   "execution_count": 180,
   "id": "93589d7d",
   "metadata": {},
   "outputs": [
    {
     "data": {
      "text/plain": [
       "4770"
      ]
     },
     "execution_count": 180,
     "metadata": {},
     "output_type": "execute_result"
    }
   ],
   "source": [
    "students_who_left_courses = \\\n",
    "    students[students['course'].isin(courses_with_exams['course']) \\\n",
    "         & (~students['id_student'].isin(students_who_tried_exams))] \\\n",
    "    ['id_student'] \\\n",
    "    .drop_duplicates() \\\n",
    "    .reset_index(drop = True)\n",
    "\n",
    "students_who_left_courses.shape[0]"
   ]
  },
  {
   "cell_type": "markdown",
   "id": "95dda252",
   "metadata": {},
   "source": [
    "Эти значения, вычисленные по разным таблицам, не только равны между собой, но и совпадают с числом людей в категории 0:\n",
    "- мы не допустили ошибок при обработке таблиц ```students``` и ```students_and_exams```,\n",
    "- мы правильно распределили людей в категорию ```0```."
   ]
  },
  {
   "cell_type": "markdown",
   "id": "d61e50eb",
   "metadata": {},
   "source": [
    "## Результат <a class=\"anchor\" id=\"result\"></a>"
   ]
  },
  {
   "cell_type": "markdown",
   "id": "45832c12",
   "metadata": {},
   "source": [
    "В итоге, можно сформировать таблицу:"
   ]
  },
  {
   "cell_type": "code",
   "execution_count": 181,
   "id": "a49d3dff",
   "metadata": {
    "scrolled": true
   },
   "outputs": [],
   "source": [
    "result = students[['id_student', 'category_R', 'category_F', 'category_M']] \\\n",
    "    .drop_duplicates().reset_index(drop = True)"
   ]
  },
  {
   "cell_type": "markdown",
   "id": "e6ecbfaf",
   "metadata": {},
   "source": [
    "которую и использовать для сегментированного подхода к разным категориям клиентов/студентов."
   ]
  },
  {
   "cell_type": "markdown",
   "id": "f8fa3ba1",
   "metadata": {},
   "source": [
    "# Дополнительное исследование 2 <a class=\"anchor\" id=\"additional_research2\"></a>"
   ]
  },
  {
   "cell_type": "markdown",
   "id": "98213e48",
   "metadata": {},
   "source": [
    "При решении [задания 4](#task4) мы получили табличку ```courses_escapes``` для числа ушедших с курсов людей (без учёта повторных регистраций на один и тот же курс и уходов с него). Число уникальных пользователей, хотя бы раз покинувших курс:"
   ]
  },
  {
   "cell_type": "code",
   "execution_count": 182,
   "id": "35b923e6",
   "metadata": {
    "scrolled": true
   },
   "outputs": [
    {
     "data": {
      "text/plain": [
       "4182"
      ]
     },
     "execution_count": 182,
     "metadata": {},
     "output_type": "execute_result"
    }
   ],
   "source": [
    "courses_escapes.reset_index().query(\"code_module == 'CCC' | code_module == 'DDD'\")['escapes'].sum()"
   ]
  },
  {
   "cell_type": "markdown",
   "id": "0fd84741",
   "metadata": {},
   "source": [
    "Полученное значение **НЕ** совпадает с числом 4770 -- количеством тех, кто не сдал ни одной контрольной работы. Это означает, что есть те, кто не ушёл с курса (так отображается в системе), хотя и не учился на нём.\n",
    "\n",
    "Проверяем тех, кто попал в эту категорию -- они записывались на предмет ```CCC``` или ```DDD```:"
   ]
  },
  {
   "cell_type": "code",
   "execution_count": 183,
   "id": "1cc31112",
   "metadata": {},
   "outputs": [],
   "source": [
    "tmp = students[students['category_R'] == 0] \\\n",
    "    .query(\"code_module == 'CCC' | code_module == 'DDD'\")"
   ]
  },
  {
   "cell_type": "markdown",
   "id": "b3f4e048",
   "metadata": {},
   "source": [
    "Часть из них не прекращала регистрацию на курсе:"
   ]
  },
  {
   "cell_type": "code",
   "execution_count": 184,
   "id": "a278bd7c",
   "metadata": {},
   "outputs": [
    {
     "data": {
      "text/plain": [
       "1527"
      ]
     },
     "execution_count": 184,
     "metadata": {},
     "output_type": "execute_result"
    }
   ],
   "source": [
    "strange_students = \\\n",
    "    tmp[tmp['date_unregistration'].isna()] \\\n",
    "    [['id_student', 'course']].drop_duplicates() \\\n",
    "    .reset_index()\n",
    "\n",
    "strange_students.shape[0]"
   ]
  },
  {
   "cell_type": "code",
   "execution_count": 185,
   "id": "38cfdd1f",
   "metadata": {},
   "outputs": [
    {
     "data": {
      "text/plain": [
       "1484"
      ]
     },
     "execution_count": 185,
     "metadata": {},
     "output_type": "execute_result"
    }
   ],
   "source": [
    "strange_students['id_student'].nunique()"
   ]
  },
  {
   "cell_type": "markdown",
   "id": "42a7b1fd",
   "metadata": {},
   "source": [
    "При этом никто из этой подгруппы в 1484 человека не находится в таблице сдававших экзамены ```students_and_exams```:"
   ]
  },
  {
   "cell_type": "code",
   "execution_count": 186,
   "id": "15c1efad",
   "metadata": {},
   "outputs": [
    {
     "data": {
      "text/plain": [
       "0"
      ]
     },
     "execution_count": 186,
     "metadata": {},
     "output_type": "execute_result"
    }
   ],
   "source": [
    "students_and_exams['id_student'].isin(strange_students['id_student']).sum()"
   ]
  },
  {
   "cell_type": "markdown",
   "id": "0c5bdb34",
   "metadata": {},
   "source": [
    "Вторая подгруппа -- это те кто зарегистрировался на этих курсах, не сдавал никаких экзаменов, но при этом ушёл с курсов:"
   ]
  },
  {
   "cell_type": "code",
   "execution_count": 187,
   "id": "8673d08b",
   "metadata": {},
   "outputs": [
    {
     "data": {
      "text/plain": [
       "3802"
      ]
     },
     "execution_count": 187,
     "metadata": {},
     "output_type": "execute_result"
    }
   ],
   "source": [
    "strange_students_2 = \\\n",
    "    tmp[~tmp['date_unregistration'].isna()] \\\n",
    "    [['id_student', 'course']].drop_duplicates() \\\n",
    "    .reset_index()\n",
    "\n",
    "strange_students_2.shape[0]"
   ]
  },
  {
   "cell_type": "code",
   "execution_count": 188,
   "id": "6f36404c",
   "metadata": {},
   "outputs": [
    {
     "data": {
      "text/plain": [
       "3445"
      ]
     },
     "execution_count": 188,
     "metadata": {},
     "output_type": "execute_result"
    }
   ],
   "source": [
    "strange_students_2['id_student'].nunique()"
   ]
  },
  {
   "cell_type": "markdown",
   "id": "bbd7de52",
   "metadata": {},
   "source": [
    "Из них также никто не участвовал в экзаменах."
   ]
  },
  {
   "cell_type": "markdown",
   "id": "abb292b7",
   "metadata": {},
   "source": [
    "Эти множества частично пересекаются:"
   ]
  },
  {
   "cell_type": "code",
   "execution_count": 189,
   "id": "ad40c4af",
   "metadata": {},
   "outputs": [
    {
     "data": {
      "text/plain": [
       "161"
      ]
     },
     "execution_count": 189,
     "metadata": {},
     "output_type": "execute_result"
    }
   ],
   "source": [
    "strange_students['id_student'].isin(strange_students_2['id_student']).sum()"
   ]
  },
  {
   "cell_type": "markdown",
   "id": "a7dd7b09",
   "metadata": {},
   "source": [
    "По предмету ```CCC``` видим, что часть людей (не прошедших курс) регистрировалась повторно:"
   ]
  },
  {
   "cell_type": "code",
   "execution_count": 190,
   "id": "827b5f7d",
   "metadata": {},
   "outputs": [
    {
     "data": {
      "text/plain": [
       "1    2046\n",
       "2     102\n",
       "Name: course, dtype: int64"
      ]
     },
     "execution_count": 190,
     "metadata": {},
     "output_type": "execute_result"
    }
   ],
   "source": [
    "tmp.query(\"code_module == 'CCC'\") \\\n",
    "    [['id_student', 'course']] \\\n",
    "    .drop_duplicates() \\\n",
    "    .reset_index(drop = True) \\\n",
    "    .groupby('id_student', as_index = False) \\\n",
    "    .count() \\\n",
    "    ['course'].value_counts()"
   ]
  },
  {
   "cell_type": "markdown",
   "id": "f5110f7d",
   "metadata": {},
   "source": [
    "По предмету ```DDD``` мы видим, что повторных регистраций (среди не прошедших курс) здесь в два раза больше, и даже есть те, кто регистрировался по 3 раза, а один человек сделал 4 попытки."
   ]
  },
  {
   "cell_type": "code",
   "execution_count": 191,
   "id": "87c98768",
   "metadata": {},
   "outputs": [
    {
     "data": {
      "text/plain": [
       "1    2520\n",
       "2     261\n",
       "3      11\n",
       "4       1\n",
       "Name: course, dtype: int64"
      ]
     },
     "execution_count": 191,
     "metadata": {},
     "output_type": "execute_result"
    }
   ],
   "source": [
    "tmp.query(\"code_module == 'DDD'\") \\\n",
    "    [['id_student', 'course']] \\\n",
    "    .drop_duplicates() \\\n",
    "    .reset_index(drop = True) \\\n",
    "    .groupby('id_student', as_index = False) \\\n",
    "    .count() \\\n",
    "    ['course'].value_counts()"
   ]
  },
  {
   "cell_type": "markdown",
   "id": "225588fb",
   "metadata": {},
   "source": [
    "## Вывод\n",
    "\n",
    "Имеет смысл отдельная проработка группы повторников. Возможно, для них нужен формат облегчённого курса. Или более лёгкие, предварительные курсы (как в плане подачи материалов, так и дедлайнов). предложения хороших скидок (если курсы были платными, а у людей не было денег)."
   ]
  },
  {
   "cell_type": "markdown",
   "id": "9e5085f8",
   "metadata": {},
   "source": [
    "# Дополнительное исследование 3 <a class=\"anchor\" id=\"additional_research3\"></a>"
   ]
  },
  {
   "cell_type": "markdown",
   "id": "a850f61c",
   "metadata": {},
   "source": [
    "Как было предложено ранее, пронаблюдаем корреляцию между успеваемостью в течение курса и оценками на финальных экзаменах:"
   ]
  },
  {
   "cell_type": "code",
   "execution_count": 198,
   "id": "d36d9308",
   "metadata": {},
   "outputs": [],
   "source": [
    "students_and_tests = \\\n",
    "    students[students['course'].isin(courses_with_exams['course']) \\\n",
    "             & (students['id_student'].isin(students_who_tried_exams)) \\\n",
    "             & (students['assessment_type'] != 'Exam')] \\\n",
    "    .dropna(subset = ['score']) \\\n",
    "    .groupby(['id_student', 'course'], as_index = False) \\\n",
    "    .agg({'score': 'mean'}) \\\n",
    "    .merge(students_and_exams[['id_student', 'course', 'score']] \\\n",
    "               .rename(columns = {'score': 'exam_score'}),\n",
    "           on = ['id_student', 'course'])\n",
    "\n",
    "students_and_tests['score'] = students_and_tests['score'].apply(lambda x: round(x, 1))"
   ]
  },
  {
   "cell_type": "code",
   "execution_count": 199,
   "id": "dae7c314",
   "metadata": {},
   "outputs": [
    {
     "data": {
      "text/html": [
       "<div>\n",
       "<style scoped>\n",
       "    .dataframe tbody tr th:only-of-type {\n",
       "        vertical-align: middle;\n",
       "    }\n",
       "\n",
       "    .dataframe tbody tr th {\n",
       "        vertical-align: top;\n",
       "    }\n",
       "\n",
       "    .dataframe thead th {\n",
       "        text-align: right;\n",
       "    }\n",
       "</style>\n",
       "<table border=\"1\" class=\"dataframe\">\n",
       "  <thead>\n",
       "    <tr style=\"text-align: right;\">\n",
       "      <th></th>\n",
       "      <th>id_student</th>\n",
       "      <th>course</th>\n",
       "      <th>score</th>\n",
       "      <th>exam_score</th>\n",
       "    </tr>\n",
       "  </thead>\n",
       "  <tbody>\n",
       "    <tr>\n",
       "      <th>0</th>\n",
       "      <td>23698</td>\n",
       "      <td>CCC | 2014J</td>\n",
       "      <td>73.8</td>\n",
       "      <td>80.0</td>\n",
       "    </tr>\n",
       "    <tr>\n",
       "      <th>1</th>\n",
       "      <td>24213</td>\n",
       "      <td>DDD | 2014B</td>\n",
       "      <td>79.3</td>\n",
       "      <td>58.0</td>\n",
       "    </tr>\n",
       "    <tr>\n",
       "      <th>2</th>\n",
       "      <td>27116</td>\n",
       "      <td>CCC | 2014J</td>\n",
       "      <td>93.0</td>\n",
       "      <td>96.0</td>\n",
       "    </tr>\n",
       "    <tr>\n",
       "      <th>3</th>\n",
       "      <td>28046</td>\n",
       "      <td>DDD | 2013J</td>\n",
       "      <td>51.0</td>\n",
       "      <td>40.0</td>\n",
       "    </tr>\n",
       "    <tr>\n",
       "      <th>4</th>\n",
       "      <td>28787</td>\n",
       "      <td>CCC | 2014J</td>\n",
       "      <td>56.0</td>\n",
       "      <td>44.0</td>\n",
       "    </tr>\n",
       "    <tr>\n",
       "      <th>...</th>\n",
       "      <td>...</td>\n",
       "      <td>...</td>\n",
       "      <td>...</td>\n",
       "      <td>...</td>\n",
       "    </tr>\n",
       "    <tr>\n",
       "      <th>4950</th>\n",
       "      <td>2694886</td>\n",
       "      <td>DDD | 2014B</td>\n",
       "      <td>70.7</td>\n",
       "      <td>69.0</td>\n",
       "    </tr>\n",
       "    <tr>\n",
       "      <th>4951</th>\n",
       "      <td>2694933</td>\n",
       "      <td>DDD | 2013B</td>\n",
       "      <td>75.3</td>\n",
       "      <td>73.0</td>\n",
       "    </tr>\n",
       "    <tr>\n",
       "      <th>4952</th>\n",
       "      <td>2695608</td>\n",
       "      <td>DDD | 2013J</td>\n",
       "      <td>80.5</td>\n",
       "      <td>73.0</td>\n",
       "    </tr>\n",
       "    <tr>\n",
       "      <th>4953</th>\n",
       "      <td>2697181</td>\n",
       "      <td>CCC | 2014B</td>\n",
       "      <td>89.2</td>\n",
       "      <td>80.0</td>\n",
       "    </tr>\n",
       "    <tr>\n",
       "      <th>4954</th>\n",
       "      <td>2698251</td>\n",
       "      <td>DDD | 2014B</td>\n",
       "      <td>60.5</td>\n",
       "      <td>44.0</td>\n",
       "    </tr>\n",
       "  </tbody>\n",
       "</table>\n",
       "<p>4955 rows × 4 columns</p>\n",
       "</div>"
      ],
      "text/plain": [
       "      id_student       course  score  exam_score\n",
       "0          23698  CCC | 2014J   73.8        80.0\n",
       "1          24213  DDD | 2014B   79.3        58.0\n",
       "2          27116  CCC | 2014J   93.0        96.0\n",
       "3          28046  DDD | 2013J   51.0        40.0\n",
       "4          28787  CCC | 2014J   56.0        44.0\n",
       "...          ...          ...    ...         ...\n",
       "4950     2694886  DDD | 2014B   70.7        69.0\n",
       "4951     2694933  DDD | 2013B   75.3        73.0\n",
       "4952     2695608  DDD | 2013J   80.5        73.0\n",
       "4953     2697181  CCC | 2014B   89.2        80.0\n",
       "4954     2698251  DDD | 2014B   60.5        44.0\n",
       "\n",
       "[4955 rows x 4 columns]"
      ]
     },
     "execution_count": 199,
     "metadata": {},
     "output_type": "execute_result"
    }
   ],
   "source": [
    "students_and_tests"
   ]
  },
  {
   "cell_type": "code",
   "execution_count": 201,
   "id": "4ba5a4ae",
   "metadata": {},
   "outputs": [
    {
     "data": {
      "text/plain": [
       "Text(0, 0.5, 'Оценка на экзамене')"
      ]
     },
     "execution_count": 201,
     "metadata": {},
     "output_type": "execute_result"
    },
    {
     "data": {
      "image/png": "[encoded data removed]",
      "text/plain": [
       "<Figure size 720x360 with 1 Axes>"
      ]
     },
     "metadata": {},
     "output_type": "display_data"
    }
   ],
   "source": [
    "sns.set(style = 'whitegrid', rc = {'figure.figsize' : (10, 5)}) \n",
    "sns.scatterplot(x = 'score', y = 'exam_score', data = students_and_tests)\n",
    "plt.title('Взаимосвязь успеваемости в течение курса и оценки на экзамене')\n",
    "plt.xlabel('Средняя оценка по промежуточным тестам')\n",
    "plt.ylabel('Оценка на экзамене')"
   ]
  },
  {
   "cell_type": "markdown",
   "id": "22f5c705",
   "metadata": {},
   "source": [
    "Считаем коэффициент корреляции (Спирмана):"
   ]
  },
  {
   "cell_type": "code",
   "execution_count": 207,
   "id": "850413d3",
   "metadata": {},
   "outputs": [
    {
     "data": {
      "text/html": [
       "<div>\n",
       "<style scoped>\n",
       "    .dataframe tbody tr th:only-of-type {\n",
       "        vertical-align: middle;\n",
       "    }\n",
       "\n",
       "    .dataframe tbody tr th {\n",
       "        vertical-align: top;\n",
       "    }\n",
       "\n",
       "    .dataframe thead th {\n",
       "        text-align: right;\n",
       "    }\n",
       "</style>\n",
       "<table border=\"1\" class=\"dataframe\">\n",
       "  <thead>\n",
       "    <tr style=\"text-align: right;\">\n",
       "      <th></th>\n",
       "      <th>score</th>\n",
       "      <th>exam_score</th>\n",
       "    </tr>\n",
       "  </thead>\n",
       "  <tbody>\n",
       "    <tr>\n",
       "      <th>score</th>\n",
       "      <td>1.000000</td>\n",
       "      <td>0.703707</td>\n",
       "    </tr>\n",
       "    <tr>\n",
       "      <th>exam_score</th>\n",
       "      <td>0.703707</td>\n",
       "      <td>1.000000</td>\n",
       "    </tr>\n",
       "  </tbody>\n",
       "</table>\n",
       "</div>"
      ],
      "text/plain": [
       "               score  exam_score\n",
       "score       1.000000    0.703707\n",
       "exam_score  0.703707    1.000000"
      ]
     },
     "execution_count": 207,
     "metadata": {},
     "output_type": "execute_result"
    }
   ],
   "source": [
    "students_and_tests[['score', 'exam_score']].corr()"
   ]
  },
  {
   "cell_type": "markdown",
   "id": "2574b096",
   "metadata": {},
   "source": [
    "Как мы видим, положительная связь есть, но не очень сильная, R сильно меньше 1.\n",
    "\n",
    "В качестве эксперимента предлагается предварительно раскидать по категориям потоки студентов, ещё не сдавших экзамены по своим курсам. Категории обозначить, например, как ```10```, ```11```, ```12``` и т.д., т.е. вести разбиение аналогично тому как мы это делали для проэказменованных студентов, в названии категории указывая на различие между этими потоками (не прошедшими через экзамены, сидящих в категории ```-1```) и проэкзаменованными (которых мы раскидали по категориям ```0 - 2```)."
   ]
  }
 ],
 "metadata": {
  "kernelspec": {
   "display_name": "Python 3 (ipykernel)",
   "language": "python",
   "name": "python3"
  },
  "language_info": {
   "codemirror_mode": {
    "name": "ipython",
    "version": 3
   },
   "file_extension": ".py",
   "mimetype": "text/x-python",
   "name": "python",
   "nbconvert_exporter": "python",
   "pygments_lexer": "ipython3",
   "version": "3.9.7"
  }
 },
 "nbformat": 4,
 "nbformat_minor": 5
}
