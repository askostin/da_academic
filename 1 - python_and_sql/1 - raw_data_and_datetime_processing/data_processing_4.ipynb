{
 "cells": [
  {
   "cell_type": "markdown",
   "id": "38d334a9",
   "metadata": {},
   "source": [
    "# Обработка временных данных\n",
    "\n",
    "Используем `resample()`; объединяем данные из множества файлов в одну таблицу."
   ]
  },
  {
   "cell_type": "markdown",
   "id": "aac68da6",
   "metadata": {},
   "source": [
    "## Загрузка библиотек"
   ]
  },
  {
   "cell_type": "code",
   "execution_count": 2,
   "id": "2d9c7ba9",
   "metadata": {},
   "outputs": [],
   "source": [
    "import pandas as pd\n",
    "import os\n",
    "from datetime import datetime as dt\n",
    "\n",
    "%matplotlib inline\n",
    "import matplotlib.pyplot as plt\n",
    "import seaborn as sns"
   ]
  },
  {
   "cell_type": "markdown",
   "id": "766ed5a2",
   "metadata": {},
   "source": [
    "## Описание данных\n",
    "\n",
    "В следующих задачах мы будем работать с сэмплами данных об аренде велосипедов в Чикаго:\n",
    "\n",
    "- `trip_id` — id поездки;\n",
    "- `start_time` — Дата и время начала поездки\n",
    "- `end_time` — Дата и время конца поездки\n",
    "- `bikeid` — id велосипеда\n",
    "- `tripduration` — продолжительность поездки в минутах\n",
    "- `from_station_id` — id станции начала поездки\n",
    "- `from_station_name` — название пункта отправления\n",
    "- `to_station_id` — id пункта прибытия\n",
    "- `to_station_name` — название пункта прибытия\n",
    "- `usertype` — тип пользователя\n",
    "- `gender` — пол (если `subscriber`)\n",
    "- `birthyear` — год рождения (если `subscriber`)"
   ]
  },
  {
   "cell_type": "markdown",
   "id": "d5bbde8a",
   "metadata": {},
   "source": [
    "## Применяем `resample()` для данных за первый квартал"
   ]
  },
  {
   "cell_type": "code",
   "execution_count": 3,
   "id": "f8f77c51",
   "metadata": {},
   "outputs": [],
   "source": [
    "bikes_dir = './bikes/'"
   ]
  },
  {
   "cell_type": "markdown",
   "id": "03aa222d",
   "metadata": {},
   "source": [
    "Для начала, возьмем данные только за Q1 (первый квартал):"
   ]
  },
  {
   "cell_type": "code",
   "execution_count": 4,
   "id": "b91ae5e1",
   "metadata": {},
   "outputs": [],
   "source": [
    "bikes_q1 = pd.read_csv(bikes_dir + 'bikes_q1_sample.csv')"
   ]
  },
  {
   "cell_type": "code",
   "execution_count": 5,
   "id": "838c83d3",
   "metadata": {},
   "outputs": [
    {
     "name": "stdout",
     "output_type": "stream",
     "text": [
      "174215 строк и 12 колонок.\n",
      "164159 строк после удаления строк, содержащих NULL\n",
      "174215 строк после удаления дубликатов\n"
     ]
    }
   ],
   "source": [
    "print(bikes_q1.shape[0], \"строк и\", bikes_q1.shape[1], \"колонок.\")\n",
    "print(bikes_q1.dropna().shape[0], \"строк после удаления строк, содержащих NULL\")\n",
    "print(bikes_q1.drop_duplicates().shape[0], \"строк после удаления дубликатов\")"
   ]
  },
  {
   "cell_type": "code",
   "execution_count": 6,
   "id": "bff1c68e",
   "metadata": {
    "scrolled": true
   },
   "outputs": [
    {
     "data": {
      "text/html": [
       "<div>\n",
       "<style scoped>\n",
       "    .dataframe tbody tr th:only-of-type {\n",
       "        vertical-align: middle;\n",
       "    }\n",
       "\n",
       "    .dataframe tbody tr th {\n",
       "        vertical-align: top;\n",
       "    }\n",
       "\n",
       "    .dataframe thead th {\n",
       "        text-align: right;\n",
       "    }\n",
       "</style>\n",
       "<table border=\"1\" class=\"dataframe\">\n",
       "  <thead>\n",
       "    <tr style=\"text-align: right;\">\n",
       "      <th></th>\n",
       "      <th>trip_id</th>\n",
       "      <th>start_time</th>\n",
       "      <th>end_time</th>\n",
       "      <th>bikeid</th>\n",
       "      <th>tripduration</th>\n",
       "      <th>from_station_id</th>\n",
       "      <th>from_station_name</th>\n",
       "      <th>to_station_id</th>\n",
       "      <th>to_station_name</th>\n",
       "      <th>usertype</th>\n",
       "      <th>gender</th>\n",
       "      <th>birthyear</th>\n",
       "    </tr>\n",
       "  </thead>\n",
       "  <tbody>\n",
       "    <tr>\n",
       "      <th>0</th>\n",
       "      <td>17617135</td>\n",
       "      <td>2018-01-22 20:04:31</td>\n",
       "      <td>2018-01-22 20:11:53</td>\n",
       "      <td>1131</td>\n",
       "      <td>442.0</td>\n",
       "      <td>471</td>\n",
       "      <td>Francisco Ave &amp; Foster Ave</td>\n",
       "      <td>468</td>\n",
       "      <td>Budlong Woods Library</td>\n",
       "      <td>Subscriber</td>\n",
       "      <td>Female</td>\n",
       "      <td>1949.0</td>\n",
       "    </tr>\n",
       "    <tr>\n",
       "      <th>1</th>\n",
       "      <td>17897619</td>\n",
       "      <td>2018-03-16 19:47:59</td>\n",
       "      <td>2018-03-16 20:04:00</td>\n",
       "      <td>6146</td>\n",
       "      <td>961.0</td>\n",
       "      <td>296</td>\n",
       "      <td>Broadway &amp; Belmont Ave</td>\n",
       "      <td>253</td>\n",
       "      <td>Winthrop Ave &amp; Lawrence Ave</td>\n",
       "      <td>Subscriber</td>\n",
       "      <td>Male</td>\n",
       "      <td>1988.0</td>\n",
       "    </tr>\n",
       "    <tr>\n",
       "      <th>2</th>\n",
       "      <td>17881307</td>\n",
       "      <td>2018-03-14 18:49:20</td>\n",
       "      <td>2018-03-14 18:54:38</td>\n",
       "      <td>3847</td>\n",
       "      <td>318.0</td>\n",
       "      <td>260</td>\n",
       "      <td>Kedzie Ave &amp; Milwaukee Ave</td>\n",
       "      <td>503</td>\n",
       "      <td>Drake Ave &amp; Fullerton Ave</td>\n",
       "      <td>Subscriber</td>\n",
       "      <td>Male</td>\n",
       "      <td>1987.0</td>\n",
       "    </tr>\n",
       "    <tr>\n",
       "      <th>3</th>\n",
       "      <td>17881130</td>\n",
       "      <td>2018-03-14 18:33:48</td>\n",
       "      <td>2018-03-14 19:07:40</td>\n",
       "      <td>1483</td>\n",
       "      <td>2,032.0</td>\n",
       "      <td>199</td>\n",
       "      <td>Wabash Ave &amp; Grand Ave</td>\n",
       "      <td>199</td>\n",
       "      <td>Wabash Ave &amp; Grand Ave</td>\n",
       "      <td>Subscriber</td>\n",
       "      <td>Male</td>\n",
       "      <td>1990.0</td>\n",
       "    </tr>\n",
       "    <tr>\n",
       "      <th>4</th>\n",
       "      <td>17686289</td>\n",
       "      <td>2018-02-05 17:39:14</td>\n",
       "      <td>2018-02-05 17:46:13</td>\n",
       "      <td>6391</td>\n",
       "      <td>419.0</td>\n",
       "      <td>596</td>\n",
       "      <td>Benson Ave &amp; Church St</td>\n",
       "      <td>605</td>\n",
       "      <td>University Library (NU)</td>\n",
       "      <td>Subscriber</td>\n",
       "      <td>Male</td>\n",
       "      <td>1992.0</td>\n",
       "    </tr>\n",
       "  </tbody>\n",
       "</table>\n",
       "</div>"
      ],
      "text/plain": [
       "    trip_id           start_time             end_time  bikeid tripduration  \\\n",
       "0  17617135  2018-01-22 20:04:31  2018-01-22 20:11:53    1131        442.0   \n",
       "1  17897619  2018-03-16 19:47:59  2018-03-16 20:04:00    6146        961.0   \n",
       "2  17881307  2018-03-14 18:49:20  2018-03-14 18:54:38    3847        318.0   \n",
       "3  17881130  2018-03-14 18:33:48  2018-03-14 19:07:40    1483      2,032.0   \n",
       "4  17686289  2018-02-05 17:39:14  2018-02-05 17:46:13    6391        419.0   \n",
       "\n",
       "   from_station_id           from_station_name  to_station_id  \\\n",
       "0              471  Francisco Ave & Foster Ave            468   \n",
       "1              296      Broadway & Belmont Ave            253   \n",
       "2              260  Kedzie Ave & Milwaukee Ave            503   \n",
       "3              199      Wabash Ave & Grand Ave            199   \n",
       "4              596      Benson Ave & Church St            605   \n",
       "\n",
       "               to_station_name    usertype  gender  birthyear  \n",
       "0        Budlong Woods Library  Subscriber  Female     1949.0  \n",
       "1  Winthrop Ave & Lawrence Ave  Subscriber    Male     1988.0  \n",
       "2    Drake Ave & Fullerton Ave  Subscriber    Male     1987.0  \n",
       "3       Wabash Ave & Grand Ave  Subscriber    Male     1990.0  \n",
       "4      University Library (NU)  Subscriber    Male     1992.0  "
      ]
     },
     "execution_count": 6,
     "metadata": {},
     "output_type": "execute_result"
    }
   ],
   "source": [
    "bikes_q1.head()"
   ]
  },
  {
   "cell_type": "code",
   "execution_count": 7,
   "id": "e8d91ce4",
   "metadata": {},
   "outputs": [
    {
     "data": {
      "text/plain": [
       "trip_id                int64\n",
       "start_time            object\n",
       "end_time              object\n",
       "bikeid                 int64\n",
       "tripduration          object\n",
       "from_station_id        int64\n",
       "from_station_name     object\n",
       "to_station_id          int64\n",
       "to_station_name       object\n",
       "usertype              object\n",
       "gender                object\n",
       "birthyear            float64\n",
       "dtype: object"
      ]
     },
     "execution_count": 7,
     "metadata": {},
     "output_type": "execute_result"
    }
   ],
   "source": [
    "bikes_q1.dtypes"
   ]
  },
  {
   "cell_type": "markdown",
   "id": "59463163",
   "metadata": {},
   "source": [
    "Перед тем как сделать `.resample()`, нужно немного подготовить данные. Поместим колонку `start_time` в качестве индекса и сохраним изменения в исходный датасет. Предварительно проверим тип переменной и приведём её к правильному, если необходимо."
   ]
  },
  {
   "cell_type": "code",
   "execution_count": 8,
   "id": "b3fc300e",
   "metadata": {},
   "outputs": [],
   "source": [
    "bikes_q1['start_time'] = pd.to_datetime(bikes_q1.start_time)\n",
    "bikes_q1['end_time'] = pd.to_datetime(bikes_q1.end_time)"
   ]
  },
  {
   "cell_type": "code",
   "execution_count": 9,
   "id": "25dae6e4",
   "metadata": {},
   "outputs": [],
   "source": [
    "bikes_q1 = bikes_q1.set_index('start_time')"
   ]
  },
  {
   "cell_type": "code",
   "execution_count": 10,
   "id": "e40af175",
   "metadata": {
    "scrolled": true
   },
   "outputs": [
    {
     "data": {
      "text/html": [
       "<div>\n",
       "<style scoped>\n",
       "    .dataframe tbody tr th:only-of-type {\n",
       "        vertical-align: middle;\n",
       "    }\n",
       "\n",
       "    .dataframe tbody tr th {\n",
       "        vertical-align: top;\n",
       "    }\n",
       "\n",
       "    .dataframe thead th {\n",
       "        text-align: right;\n",
       "    }\n",
       "</style>\n",
       "<table border=\"1\" class=\"dataframe\">\n",
       "  <thead>\n",
       "    <tr style=\"text-align: right;\">\n",
       "      <th></th>\n",
       "      <th>trip_id</th>\n",
       "      <th>end_time</th>\n",
       "      <th>bikeid</th>\n",
       "      <th>tripduration</th>\n",
       "      <th>from_station_id</th>\n",
       "      <th>from_station_name</th>\n",
       "      <th>to_station_id</th>\n",
       "      <th>to_station_name</th>\n",
       "      <th>usertype</th>\n",
       "      <th>gender</th>\n",
       "      <th>birthyear</th>\n",
       "    </tr>\n",
       "    <tr>\n",
       "      <th>start_time</th>\n",
       "      <th></th>\n",
       "      <th></th>\n",
       "      <th></th>\n",
       "      <th></th>\n",
       "      <th></th>\n",
       "      <th></th>\n",
       "      <th></th>\n",
       "      <th></th>\n",
       "      <th></th>\n",
       "      <th></th>\n",
       "      <th></th>\n",
       "    </tr>\n",
       "  </thead>\n",
       "  <tbody>\n",
       "    <tr>\n",
       "      <th>2018-01-01 00:44:46</th>\n",
       "      <td>17536704</td>\n",
       "      <td>2018-01-01 01:33:10</td>\n",
       "      <td>4599</td>\n",
       "      <td>2,904.0</td>\n",
       "      <td>98</td>\n",
       "      <td>LaSalle St &amp; Washington St</td>\n",
       "      <td>509</td>\n",
       "      <td>Troy St &amp; North Ave</td>\n",
       "      <td>Subscriber</td>\n",
       "      <td>Male</td>\n",
       "      <td>1989.0</td>\n",
       "    </tr>\n",
       "    <tr>\n",
       "      <th>2018-01-01 00:57:26</th>\n",
       "      <td>17536708</td>\n",
       "      <td>2018-01-01 01:02:40</td>\n",
       "      <td>1169</td>\n",
       "      <td>314.0</td>\n",
       "      <td>164</td>\n",
       "      <td>Franklin St &amp; Lake St</td>\n",
       "      <td>174</td>\n",
       "      <td>Canal St &amp; Madison St</td>\n",
       "      <td>Subscriber</td>\n",
       "      <td>Male</td>\n",
       "      <td>1998.0</td>\n",
       "    </tr>\n",
       "    <tr>\n",
       "      <th>2018-01-01 01:07:54</th>\n",
       "      <td>17536711</td>\n",
       "      <td>2018-01-06 10:04:02</td>\n",
       "      <td>4783</td>\n",
       "      <td>464,168.0</td>\n",
       "      <td>99</td>\n",
       "      <td>Lake Shore Dr &amp; Ohio St</td>\n",
       "      <td>99</td>\n",
       "      <td>Lake Shore Dr &amp; Ohio St</td>\n",
       "      <td>Customer</td>\n",
       "      <td>NaN</td>\n",
       "      <td>NaN</td>\n",
       "    </tr>\n",
       "  </tbody>\n",
       "</table>\n",
       "</div>"
      ],
      "text/plain": [
       "                      trip_id            end_time  bikeid tripduration  \\\n",
       "start_time                                                               \n",
       "2018-01-01 00:44:46  17536704 2018-01-01 01:33:10    4599      2,904.0   \n",
       "2018-01-01 00:57:26  17536708 2018-01-01 01:02:40    1169        314.0   \n",
       "2018-01-01 01:07:54  17536711 2018-01-06 10:04:02    4783    464,168.0   \n",
       "\n",
       "                     from_station_id           from_station_name  \\\n",
       "start_time                                                         \n",
       "2018-01-01 00:44:46               98  LaSalle St & Washington St   \n",
       "2018-01-01 00:57:26              164       Franklin St & Lake St   \n",
       "2018-01-01 01:07:54               99     Lake Shore Dr & Ohio St   \n",
       "\n",
       "                     to_station_id          to_station_name    usertype  \\\n",
       "start_time                                                                \n",
       "2018-01-01 00:44:46            509      Troy St & North Ave  Subscriber   \n",
       "2018-01-01 00:57:26            174    Canal St & Madison St  Subscriber   \n",
       "2018-01-01 01:07:54             99  Lake Shore Dr & Ohio St    Customer   \n",
       "\n",
       "                    gender  birthyear  \n",
       "start_time                             \n",
       "2018-01-01 00:44:46   Male     1989.0  \n",
       "2018-01-01 00:57:26   Male     1998.0  \n",
       "2018-01-01 01:07:54    NaN        NaN  "
      ]
     },
     "execution_count": 10,
     "metadata": {},
     "output_type": "execute_result"
    }
   ],
   "source": [
    "bikes_q1 = bikes_q1.sort_index()\n",
    "bikes_q1.head(3)"
   ]
  },
  {
   "cell_type": "markdown",
   "id": "20e7d4a9",
   "metadata": {},
   "source": [
    "В данных имеется как дата аренды, так и её точное время начала и окончания с точностью до секунд. Применим метод `resample()` и агрегируем данные по дням."
   ]
  },
  {
   "cell_type": "code",
   "execution_count": 11,
   "id": "368f2d27",
   "metadata": {},
   "outputs": [
    {
     "data": {
      "text/html": [
       "<div>\n",
       "<style scoped>\n",
       "    .dataframe tbody tr th:only-of-type {\n",
       "        vertical-align: middle;\n",
       "    }\n",
       "\n",
       "    .dataframe tbody tr th {\n",
       "        vertical-align: top;\n",
       "    }\n",
       "\n",
       "    .dataframe thead th {\n",
       "        text-align: right;\n",
       "    }\n",
       "</style>\n",
       "<table border=\"1\" class=\"dataframe\">\n",
       "  <thead>\n",
       "    <tr style=\"text-align: right;\">\n",
       "      <th></th>\n",
       "      <th>trip_id</th>\n",
       "      <th>bikeid</th>\n",
       "      <th>from_station_id</th>\n",
       "      <th>to_station_id</th>\n",
       "      <th>birthyear</th>\n",
       "    </tr>\n",
       "    <tr>\n",
       "      <th>start_time</th>\n",
       "      <th></th>\n",
       "      <th></th>\n",
       "      <th></th>\n",
       "      <th></th>\n",
       "      <th></th>\n",
       "    </tr>\n",
       "  </thead>\n",
       "  <tbody>\n",
       "    <tr>\n",
       "      <th>2018-01-01</th>\n",
       "      <td>3349561242</td>\n",
       "      <td>679058</td>\n",
       "      <td>42159</td>\n",
       "      <td>38962</td>\n",
       "      <td>364973.0</td>\n",
       "    </tr>\n",
       "    <tr>\n",
       "      <th>2018-01-02</th>\n",
       "      <td>13311733637</td>\n",
       "      <td>2872211</td>\n",
       "      <td>134037</td>\n",
       "      <td>131343</td>\n",
       "      <td>1500158.0</td>\n",
       "    </tr>\n",
       "    <tr>\n",
       "      <th>2018-01-03</th>\n",
       "      <td>19242971711</td>\n",
       "      <td>4080211</td>\n",
       "      <td>194219</td>\n",
       "      <td>195848</td>\n",
       "      <td>2145691.0</td>\n",
       "    </tr>\n",
       "    <tr>\n",
       "      <th>2018-01-04</th>\n",
       "      <td>19509618787</td>\n",
       "      <td>4189136</td>\n",
       "      <td>201018</td>\n",
       "      <td>196943</td>\n",
       "      <td>2175025.0</td>\n",
       "    </tr>\n",
       "    <tr>\n",
       "      <th>2018-01-05</th>\n",
       "      <td>17617932909</td>\n",
       "      <td>3561635</td>\n",
       "      <td>178645</td>\n",
       "      <td>176522</td>\n",
       "      <td>1967491.0</td>\n",
       "    </tr>\n",
       "    <tr>\n",
       "      <th>...</th>\n",
       "      <td>...</td>\n",
       "      <td>...</td>\n",
       "      <td>...</td>\n",
       "      <td>...</td>\n",
       "      <td>...</td>\n",
       "    </tr>\n",
       "    <tr>\n",
       "      <th>2018-03-27</th>\n",
       "      <td>49519967691</td>\n",
       "      <td>9874012</td>\n",
       "      <td>500510</td>\n",
       "      <td>506768</td>\n",
       "      <td>5044453.0</td>\n",
       "    </tr>\n",
       "    <tr>\n",
       "      <th>2018-03-28</th>\n",
       "      <td>65433876386</td>\n",
       "      <td>12722993</td>\n",
       "      <td>653508</td>\n",
       "      <td>654158</td>\n",
       "      <td>6473941.0</td>\n",
       "    </tr>\n",
       "    <tr>\n",
       "      <th>2018-03-29</th>\n",
       "      <td>50356503173</td>\n",
       "      <td>10194603</td>\n",
       "      <td>505335</td>\n",
       "      <td>503307</td>\n",
       "      <td>5160515.0</td>\n",
       "    </tr>\n",
       "    <tr>\n",
       "      <th>2018-03-30</th>\n",
       "      <td>52410139282</td>\n",
       "      <td>10488034</td>\n",
       "      <td>521015</td>\n",
       "      <td>523173</td>\n",
       "      <td>4751882.0</td>\n",
       "    </tr>\n",
       "    <tr>\n",
       "      <th>2018-03-31</th>\n",
       "      <td>33188378803</td>\n",
       "      <td>6608315</td>\n",
       "      <td>345592</td>\n",
       "      <td>341812</td>\n",
       "      <td>2673193.0</td>\n",
       "    </tr>\n",
       "  </tbody>\n",
       "</table>\n",
       "<p>90 rows × 5 columns</p>\n",
       "</div>"
      ],
      "text/plain": [
       "                trip_id    bikeid  from_station_id  to_station_id  birthyear\n",
       "start_time                                                                  \n",
       "2018-01-01   3349561242    679058            42159          38962   364973.0\n",
       "2018-01-02  13311733637   2872211           134037         131343  1500158.0\n",
       "2018-01-03  19242971711   4080211           194219         195848  2145691.0\n",
       "2018-01-04  19509618787   4189136           201018         196943  2175025.0\n",
       "2018-01-05  17617932909   3561635           178645         176522  1967491.0\n",
       "...                 ...       ...              ...            ...        ...\n",
       "2018-03-27  49519967691   9874012           500510         506768  5044453.0\n",
       "2018-03-28  65433876386  12722993           653508         654158  6473941.0\n",
       "2018-03-29  50356503173  10194603           505335         503307  5160515.0\n",
       "2018-03-30  52410139282  10488034           521015         523173  4751882.0\n",
       "2018-03-31  33188378803   6608315           345592         341812  2673193.0\n",
       "\n",
       "[90 rows x 5 columns]"
      ]
     },
     "execution_count": 11,
     "metadata": {},
     "output_type": "execute_result"
    }
   ],
   "source": [
    "bikes_q1.resample(rule = 'D').sum()"
   ]
  },
  {
   "cell_type": "code",
   "execution_count": 12,
   "id": "9242ef25",
   "metadata": {},
   "outputs": [
    {
     "data": {
      "text/plain": [
       "4196"
      ]
     },
     "execution_count": 12,
     "metadata": {},
     "output_type": "execute_result"
    }
   ],
   "source": [
    "bikes_q1.resample(rule = 'D')['trip_id'].count().max()"
   ]
  },
  {
   "cell_type": "markdown",
   "id": "6ad39965",
   "metadata": {},
   "source": [
    "## Применяем `resample()` для данных за апрель\n",
    "\n",
    "Посмотрим на распределение количества аренд для разных групп пользователей (`usertype`) — `customers` и `subscribers` в данных за апрель.\n",
    "\n",
    "Сделаем ресемпл по дням для каждой группы и, для примера, найдём число аренд за 18 апреля, сделанных пользователями типа `Subscriber`."
   ]
  },
  {
   "cell_type": "code",
   "execution_count": 11,
   "id": "c0e41d5f",
   "metadata": {},
   "outputs": [],
   "source": [
    "bikes_april = pd.read_csv('bikes_april.csv')"
   ]
  },
  {
   "cell_type": "code",
   "execution_count": 12,
   "id": "293ea48d",
   "metadata": {},
   "outputs": [
    {
     "name": "stdout",
     "output_type": "stream",
     "text": [
      "90144 строк и 12 колонок.\n",
      "80132 строк после удаления строк, содержащих NULL\n",
      "90144 строк после удаления дубликатов\n"
     ]
    }
   ],
   "source": [
    "print(bikes_april.shape[0], \"строк и\", bikes_april.shape[1], \"колонок.\")\n",
    "print(bikes_april.dropna().shape[0], \"строк после удаления строк, содержащих NULL\")\n",
    "print(bikes_april.drop_duplicates().shape[0], \"строк после удаления дубликатов\")"
   ]
  },
  {
   "cell_type": "code",
   "execution_count": 13,
   "id": "39e30cdf",
   "metadata": {
    "scrolled": true
   },
   "outputs": [
    {
     "data": {
      "text/html": [
       "<div>\n",
       "<style scoped>\n",
       "    .dataframe tbody tr th:only-of-type {\n",
       "        vertical-align: middle;\n",
       "    }\n",
       "\n",
       "    .dataframe tbody tr th {\n",
       "        vertical-align: top;\n",
       "    }\n",
       "\n",
       "    .dataframe thead th {\n",
       "        text-align: right;\n",
       "    }\n",
       "</style>\n",
       "<table border=\"1\" class=\"dataframe\">\n",
       "  <thead>\n",
       "    <tr style=\"text-align: right;\">\n",
       "      <th></th>\n",
       "      <th>start_time</th>\n",
       "      <th>trip_id</th>\n",
       "      <th>end_time</th>\n",
       "      <th>bikeid</th>\n",
       "      <th>tripduration</th>\n",
       "      <th>from_station_id</th>\n",
       "      <th>from_station_name</th>\n",
       "      <th>to_station_id</th>\n",
       "      <th>to_station_name</th>\n",
       "      <th>usertype</th>\n",
       "      <th>gender</th>\n",
       "      <th>birthyear</th>\n",
       "    </tr>\n",
       "  </thead>\n",
       "  <tbody>\n",
       "    <tr>\n",
       "      <th>0</th>\n",
       "      <td>2018-04-01 00:10:23</td>\n",
       "      <td>18000531</td>\n",
       "      <td>2018-04-01 00:22:12</td>\n",
       "      <td>5065</td>\n",
       "      <td>709.0</td>\n",
       "      <td>228</td>\n",
       "      <td>Damen Ave &amp; Melrose Ave</td>\n",
       "      <td>219</td>\n",
       "      <td>Damen Ave &amp; Cortland St</td>\n",
       "      <td>Subscriber</td>\n",
       "      <td>Male</td>\n",
       "      <td>1983.0</td>\n",
       "    </tr>\n",
       "    <tr>\n",
       "      <th>1</th>\n",
       "      <td>2018-04-01 00:15:49</td>\n",
       "      <td>18000533</td>\n",
       "      <td>2018-04-01 00:19:47</td>\n",
       "      <td>4570</td>\n",
       "      <td>238.0</td>\n",
       "      <td>128</td>\n",
       "      <td>Damen Ave &amp; Chicago Ave</td>\n",
       "      <td>130</td>\n",
       "      <td>Damen Ave &amp; Division St</td>\n",
       "      <td>Subscriber</td>\n",
       "      <td>Male</td>\n",
       "      <td>1978.0</td>\n",
       "    </tr>\n",
       "    <tr>\n",
       "      <th>2</th>\n",
       "      <td>2018-04-01 00:17:00</td>\n",
       "      <td>18000534</td>\n",
       "      <td>2018-04-01 00:22:53</td>\n",
       "      <td>1323</td>\n",
       "      <td>353.0</td>\n",
       "      <td>130</td>\n",
       "      <td>Damen Ave &amp; Division St</td>\n",
       "      <td>69</td>\n",
       "      <td>Damen Ave &amp; Pierce Ave</td>\n",
       "      <td>Subscriber</td>\n",
       "      <td>Male</td>\n",
       "      <td>1991.0</td>\n",
       "    </tr>\n",
       "    <tr>\n",
       "      <th>3</th>\n",
       "      <td>2018-04-01 00:20:00</td>\n",
       "      <td>18000536</td>\n",
       "      <td>2018-04-01 00:26:22</td>\n",
       "      <td>2602</td>\n",
       "      <td>382.0</td>\n",
       "      <td>121</td>\n",
       "      <td>Blackstone Ave &amp; Hyde Park Blvd</td>\n",
       "      <td>351</td>\n",
       "      <td>Cottage Grove Ave &amp; 51st St</td>\n",
       "      <td>Subscriber</td>\n",
       "      <td>Female</td>\n",
       "      <td>1992.0</td>\n",
       "    </tr>\n",
       "    <tr>\n",
       "      <th>4</th>\n",
       "      <td>2018-04-01 00:23:19</td>\n",
       "      <td>18000538</td>\n",
       "      <td>2018-04-01 00:35:01</td>\n",
       "      <td>4213</td>\n",
       "      <td>702.0</td>\n",
       "      <td>31</td>\n",
       "      <td>Franklin St &amp; Chicago Ave</td>\n",
       "      <td>180</td>\n",
       "      <td>Ritchie Ct &amp; Banks St</td>\n",
       "      <td>Subscriber</td>\n",
       "      <td>Male</td>\n",
       "      <td>1985.0</td>\n",
       "    </tr>\n",
       "  </tbody>\n",
       "</table>\n",
       "</div>"
      ],
      "text/plain": [
       "            start_time   trip_id             end_time  bikeid tripduration  \\\n",
       "0  2018-04-01 00:10:23  18000531  2018-04-01 00:22:12    5065        709.0   \n",
       "1  2018-04-01 00:15:49  18000533  2018-04-01 00:19:47    4570        238.0   \n",
       "2  2018-04-01 00:17:00  18000534  2018-04-01 00:22:53    1323        353.0   \n",
       "3  2018-04-01 00:20:00  18000536  2018-04-01 00:26:22    2602        382.0   \n",
       "4  2018-04-01 00:23:19  18000538  2018-04-01 00:35:01    4213        702.0   \n",
       "\n",
       "   from_station_id                from_station_name  to_station_id  \\\n",
       "0              228          Damen Ave & Melrose Ave            219   \n",
       "1              128          Damen Ave & Chicago Ave            130   \n",
       "2              130          Damen Ave & Division St             69   \n",
       "3              121  Blackstone Ave & Hyde Park Blvd            351   \n",
       "4               31        Franklin St & Chicago Ave            180   \n",
       "\n",
       "               to_station_name    usertype  gender  birthyear  \n",
       "0      Damen Ave & Cortland St  Subscriber    Male     1983.0  \n",
       "1      Damen Ave & Division St  Subscriber    Male     1978.0  \n",
       "2       Damen Ave & Pierce Ave  Subscriber    Male     1991.0  \n",
       "3  Cottage Grove Ave & 51st St  Subscriber  Female     1992.0  \n",
       "4        Ritchie Ct & Banks St  Subscriber    Male     1985.0  "
      ]
     },
     "execution_count": 13,
     "metadata": {},
     "output_type": "execute_result"
    }
   ],
   "source": [
    "bikes_april.head()"
   ]
  },
  {
   "cell_type": "code",
   "execution_count": 14,
   "id": "ae48b24e",
   "metadata": {},
   "outputs": [
    {
     "name": "stdout",
     "output_type": "stream",
     "text": [
      "['start_time', 'trip_id', 'end_time', 'bikeid', 'tripduration', 'from_station_id', 'from_station_name', 'to_station_id', 'to_station_name', 'usertype', 'gender', 'birthyear']\n"
     ]
    }
   ],
   "source": [
    "print(bikes_april.columns.to_list())"
   ]
  },
  {
   "cell_type": "code",
   "execution_count": 17,
   "id": "0cf5ae32",
   "metadata": {
    "scrolled": false
   },
   "outputs": [
    {
     "data": {
      "text/plain": [
       "start_time            object\n",
       "trip_id                int64\n",
       "end_time              object\n",
       "bikeid                 int64\n",
       "tripduration          object\n",
       "from_station_id        int64\n",
       "from_station_name     object\n",
       "to_station_id          int64\n",
       "to_station_name       object\n",
       "usertype              object\n",
       "gender                object\n",
       "birthyear            float64\n",
       "dtype: object"
      ]
     },
     "execution_count": 17,
     "metadata": {},
     "output_type": "execute_result"
    }
   ],
   "source": [
    "bikes_april.dtypes"
   ]
  },
  {
   "cell_type": "code",
   "execution_count": 18,
   "id": "6c8b1bfe",
   "metadata": {},
   "outputs": [],
   "source": [
    "bikes_april['start_time'] = pd.to_datetime(bikes_april.start_time)\n",
    "bikes_april['end_time'] = pd.to_datetime(bikes_april.end_time)"
   ]
  },
  {
   "cell_type": "markdown",
   "id": "e48a7766",
   "metadata": {},
   "source": [
    "Число аренд за 18 апреля, сделанных пользователями типа `Subscriber`:"
   ]
  },
  {
   "cell_type": "code",
   "execution_count": 19,
   "id": "10dc93fe",
   "metadata": {},
   "outputs": [
    {
     "data": {
      "text/plain": [
       "2196"
      ]
     },
     "execution_count": 19,
     "metadata": {},
     "output_type": "execute_result"
    }
   ],
   "source": [
    "bikes_april\\\n",
    "    .set_index('start_time') \\\n",
    "    .sort_index() \\\n",
    "    .groupby('usertype') \\\n",
    "    .resample(rule = 'D') \\\n",
    "    ['trip_id'] \\\n",
    "    .count() \\\n",
    "    .to_frame() \\\n",
    "    .rename(columns = {'trip_id': 'rents_number'}) \\\n",
    "    .loc['Subscriber','2018-04-18',:]['rents_number'][0]"
   ]
  },
  {
   "cell_type": "markdown",
   "id": "fa66f4db",
   "metadata": {},
   "source": [
    "## Применяем `resample()` для данных с апреля по декабрь\n",
    "\n",
    "Объединим сэмплы данных за нужные месяцы в один общий датасет `bikes`. Сделаем преобразование по дням для каждой группы пользователей (usertype), затем выберем дни, в которые число аренд, сделанных `customers`, было больше, чем у `subscribers`."
   ]
  },
  {
   "cell_type": "code",
   "execution_count": 16,
   "id": "adef73a0",
   "metadata": {},
   "outputs": [
    {
     "data": {
      "text/plain": [
       "['bikes_q1_sample.csv',\n",
       " 'bikes_q2_sample_apr.csv',\n",
       " 'bikes_q2_sample_jun.csv',\n",
       " 'bikes_q2_sample_may.csv',\n",
       " 'bikes_q3_sample_aug.csv',\n",
       " 'bikes_q3_sample_july.csv',\n",
       " 'bikes_q3_sample_sep.csv',\n",
       " 'bikes_q4_sample_dec.csv',\n",
       " 'bikes_q4_sample_nov.csv',\n",
       " 'bikes_q4_sample_oct.csv']"
      ]
     },
     "execution_count": 16,
     "metadata": {},
     "output_type": "execute_result"
    }
   ],
   "source": [
    "filenames = os.listdir(bikes_dir)\n",
    "filenames"
   ]
  },
  {
   "cell_type": "code",
   "execution_count": 17,
   "id": "7093ab37",
   "metadata": {},
   "outputs": [],
   "source": [
    "bikes = pd.read_csv(bikes_dir + filenames[0])\n",
    "for name in filenames[1:] :\n",
    "    bikes = bikes.append(pd.read_csv(bikes_dir + name))"
   ]
  },
  {
   "cell_type": "code",
   "execution_count": 18,
   "id": "22305e8c",
   "metadata": {},
   "outputs": [],
   "source": [
    "bikes = bikes.sort_values(['start_time', 'trip_id'])"
   ]
  },
  {
   "cell_type": "code",
   "execution_count": 19,
   "id": "961406ef",
   "metadata": {},
   "outputs": [
    {
     "name": "stdout",
     "output_type": "stream",
     "text": [
      "1138996 строк и 12 колонок.\n",
      "966566 строк после удаления строк, содержащих NULL\n",
      "1138996 строк после удаления строк, полностью содержащих NULL\n",
      "1138996 строк после удаления дубликатов\n"
     ]
    }
   ],
   "source": [
    "print(bikes.shape[0], \"строк и\", bikes.shape[1], \"колонок.\")\n",
    "print(bikes.dropna().shape[0], \"строк после удаления строк, содержащих NULL\")\n",
    "print(bikes.dropna(how='all').shape[0], \"строк после удаления строк, полностью содержащих NULL\")\n",
    "print(bikes.drop_duplicates().shape[0], \"строк после удаления дубликатов\")"
   ]
  },
  {
   "cell_type": "code",
   "execution_count": 20,
   "id": "f2de156e",
   "metadata": {},
   "outputs": [],
   "source": [
    "bikes['start_time'] = pd.to_datetime(bikes.start_time)\n",
    "bikes['end_time']   = pd.to_datetime(bikes.end_time)"
   ]
  },
  {
   "cell_type": "code",
   "execution_count": 21,
   "id": "a3111f39",
   "metadata": {},
   "outputs": [],
   "source": [
    "bikes = bikes.reset_index(drop = True)"
   ]
  },
  {
   "cell_type": "code",
   "execution_count": 22,
   "id": "9348c1d4",
   "metadata": {},
   "outputs": [
    {
     "data": {
      "text/html": [
       "<div>\n",
       "<style scoped>\n",
       "    .dataframe tbody tr th:only-of-type {\n",
       "        vertical-align: middle;\n",
       "    }\n",
       "\n",
       "    .dataframe tbody tr th {\n",
       "        vertical-align: top;\n",
       "    }\n",
       "\n",
       "    .dataframe thead th {\n",
       "        text-align: right;\n",
       "    }\n",
       "</style>\n",
       "<table border=\"1\" class=\"dataframe\">\n",
       "  <thead>\n",
       "    <tr style=\"text-align: right;\">\n",
       "      <th></th>\n",
       "      <th>trip_id</th>\n",
       "      <th>start_time</th>\n",
       "      <th>end_time</th>\n",
       "      <th>bikeid</th>\n",
       "      <th>tripduration</th>\n",
       "      <th>from_station_id</th>\n",
       "      <th>from_station_name</th>\n",
       "      <th>to_station_id</th>\n",
       "      <th>to_station_name</th>\n",
       "      <th>usertype</th>\n",
       "      <th>gender</th>\n",
       "      <th>birthyear</th>\n",
       "    </tr>\n",
       "  </thead>\n",
       "  <tbody>\n",
       "    <tr>\n",
       "      <th>0</th>\n",
       "      <td>17536704</td>\n",
       "      <td>2018-01-01 00:44:46</td>\n",
       "      <td>2018-01-01 01:33:10</td>\n",
       "      <td>4599</td>\n",
       "      <td>2,904.0</td>\n",
       "      <td>98</td>\n",
       "      <td>LaSalle St &amp; Washington St</td>\n",
       "      <td>509</td>\n",
       "      <td>Troy St &amp; North Ave</td>\n",
       "      <td>Subscriber</td>\n",
       "      <td>Male</td>\n",
       "      <td>1989.0</td>\n",
       "    </tr>\n",
       "    <tr>\n",
       "      <th>1</th>\n",
       "      <td>17536708</td>\n",
       "      <td>2018-01-01 00:57:26</td>\n",
       "      <td>2018-01-01 01:02:40</td>\n",
       "      <td>1169</td>\n",
       "      <td>314.0</td>\n",
       "      <td>164</td>\n",
       "      <td>Franklin St &amp; Lake St</td>\n",
       "      <td>174</td>\n",
       "      <td>Canal St &amp; Madison St</td>\n",
       "      <td>Subscriber</td>\n",
       "      <td>Male</td>\n",
       "      <td>1998.0</td>\n",
       "    </tr>\n",
       "    <tr>\n",
       "      <th>2</th>\n",
       "      <td>17536711</td>\n",
       "      <td>2018-01-01 01:07:54</td>\n",
       "      <td>2018-01-06 10:04:02</td>\n",
       "      <td>4783</td>\n",
       "      <td>464,168.0</td>\n",
       "      <td>99</td>\n",
       "      <td>Lake Shore Dr &amp; Ohio St</td>\n",
       "      <td>99</td>\n",
       "      <td>Lake Shore Dr &amp; Ohio St</td>\n",
       "      <td>Customer</td>\n",
       "      <td>NaN</td>\n",
       "      <td>NaN</td>\n",
       "    </tr>\n",
       "    <tr>\n",
       "      <th>3</th>\n",
       "      <td>17536715</td>\n",
       "      <td>2018-01-01 01:15:59</td>\n",
       "      <td>2018-01-01 01:21:45</td>\n",
       "      <td>6330</td>\n",
       "      <td>346.0</td>\n",
       "      <td>85</td>\n",
       "      <td>Michigan Ave &amp; Oak St</td>\n",
       "      <td>106</td>\n",
       "      <td>State St &amp; Pearson St</td>\n",
       "      <td>Subscriber</td>\n",
       "      <td>Female</td>\n",
       "      <td>1993.0</td>\n",
       "    </tr>\n",
       "    <tr>\n",
       "      <th>4</th>\n",
       "      <td>17536718</td>\n",
       "      <td>2018-01-01 01:25:15</td>\n",
       "      <td>2018-01-01 01:36:32</td>\n",
       "      <td>6099</td>\n",
       "      <td>677.0</td>\n",
       "      <td>462</td>\n",
       "      <td>Winchester (Ravenswood) Ave &amp; Balmoral Ave</td>\n",
       "      <td>238</td>\n",
       "      <td>Wolcott (Ravenswood) Ave &amp; Montrose Ave (*)</td>\n",
       "      <td>Subscriber</td>\n",
       "      <td>Male</td>\n",
       "      <td>1979.0</td>\n",
       "    </tr>\n",
       "  </tbody>\n",
       "</table>\n",
       "</div>"
      ],
      "text/plain": [
       "    trip_id          start_time            end_time  bikeid tripduration  \\\n",
       "0  17536704 2018-01-01 00:44:46 2018-01-01 01:33:10    4599      2,904.0   \n",
       "1  17536708 2018-01-01 00:57:26 2018-01-01 01:02:40    1169        314.0   \n",
       "2  17536711 2018-01-01 01:07:54 2018-01-06 10:04:02    4783    464,168.0   \n",
       "3  17536715 2018-01-01 01:15:59 2018-01-01 01:21:45    6330        346.0   \n",
       "4  17536718 2018-01-01 01:25:15 2018-01-01 01:36:32    6099        677.0   \n",
       "\n",
       "   from_station_id                           from_station_name  to_station_id  \\\n",
       "0               98                  LaSalle St & Washington St            509   \n",
       "1              164                       Franklin St & Lake St            174   \n",
       "2               99                     Lake Shore Dr & Ohio St             99   \n",
       "3               85                       Michigan Ave & Oak St            106   \n",
       "4              462  Winchester (Ravenswood) Ave & Balmoral Ave            238   \n",
       "\n",
       "                               to_station_name    usertype  gender  birthyear  \n",
       "0                          Troy St & North Ave  Subscriber    Male     1989.0  \n",
       "1                        Canal St & Madison St  Subscriber    Male     1998.0  \n",
       "2                      Lake Shore Dr & Ohio St    Customer     NaN        NaN  \n",
       "3                        State St & Pearson St  Subscriber  Female     1993.0  \n",
       "4  Wolcott (Ravenswood) Ave & Montrose Ave (*)  Subscriber    Male     1979.0  "
      ]
     },
     "execution_count": 22,
     "metadata": {},
     "output_type": "execute_result"
    }
   ],
   "source": [
    "bikes.head()"
   ]
  },
  {
   "cell_type": "code",
   "execution_count": 23,
   "id": "5b3751ff",
   "metadata": {},
   "outputs": [],
   "source": [
    "orders = bikes.set_index('start_time') \\\n",
    "    .groupby('usertype') \\\n",
    "    .resample(rule = 'D') \\\n",
    "    .size().T\n",
    "\n",
    "orders.columns.name = ''\n",
    "orders.columns = orders.columns.str.lower()"
   ]
  },
  {
   "cell_type": "code",
   "execution_count": 24,
   "id": "daf709c0",
   "metadata": {},
   "outputs": [
    {
     "data": {
      "text/plain": [
       "(365, 2)"
      ]
     },
     "execution_count": 24,
     "metadata": {},
     "output_type": "execute_result"
    }
   ],
   "source": [
    "orders.shape"
   ]
  },
  {
   "cell_type": "code",
   "execution_count": 25,
   "id": "b9d3d60c",
   "metadata": {},
   "outputs": [
    {
     "data": {
      "text/plain": [
       "<AxesSubplot:xlabel='start_time', ylabel='customer'>"
      ]
     },
     "execution_count": 25,
     "metadata": {},
     "output_type": "execute_result"
    },
    {
     "data": {
      "image/png": "[encoded data removed]",
      "text/plain": [
       "<Figure size 864x720 with 1 Axes>"
      ]
     },
     "metadata": {
      "needs_background": "light"
     },
     "output_type": "display_data"
    }
   ],
   "source": [
    "plt.figure(figsize=(12,10))\n",
    "sns.lineplot(data = orders, x = orders.index, y = orders.customer)\n",
    "sns.lineplot(data = orders, x = orders.index, y = orders.subscriber)"
   ]
  },
  {
   "cell_type": "code",
   "execution_count": 26,
   "id": "fbfc4b2f",
   "metadata": {},
   "outputs": [
    {
     "data": {
      "text/html": [
       "<div>\n",
       "<style scoped>\n",
       "    .dataframe tbody tr th:only-of-type {\n",
       "        vertical-align: middle;\n",
       "    }\n",
       "\n",
       "    .dataframe tbody tr th {\n",
       "        vertical-align: top;\n",
       "    }\n",
       "\n",
       "    .dataframe thead th {\n",
       "        text-align: right;\n",
       "    }\n",
       "</style>\n",
       "<table border=\"1\" class=\"dataframe\">\n",
       "  <thead>\n",
       "    <tr style=\"text-align: right;\">\n",
       "      <th></th>\n",
       "      <th>customer</th>\n",
       "      <th>subscriber</th>\n",
       "    </tr>\n",
       "    <tr>\n",
       "      <th>start_time</th>\n",
       "      <th></th>\n",
       "      <th></th>\n",
       "    </tr>\n",
       "  </thead>\n",
       "  <tbody>\n",
       "    <tr>\n",
       "      <th>2018-05-27</th>\n",
       "      <td>3263</td>\n",
       "      <td>2449</td>\n",
       "    </tr>\n",
       "    <tr>\n",
       "      <th>2018-09-02</th>\n",
       "      <td>2752</td>\n",
       "      <td>2183</td>\n",
       "    </tr>\n",
       "  </tbody>\n",
       "</table>\n",
       "</div>"
      ],
      "text/plain": [
       "            customer  subscriber\n",
       "start_time                      \n",
       "2018-05-27      3263        2449\n",
       "2018-09-02      2752        2183"
      ]
     },
     "execution_count": 26,
     "metadata": {},
     "output_type": "execute_result"
    }
   ],
   "source": [
    "orders.query(\"customer > subscriber\")"
   ]
  },
  {
   "cell_type": "markdown",
   "id": "4c437d09",
   "metadata": {},
   "source": [
    "## Применяем `resample()` для летнего периода\n",
    "\n",
    "Еще один плюс использования дат в качестве индексов – возможность выбрать данные за интересующий нас промежуток времени.\n",
    "\n",
    "В переменную `bikes_summer` сохраним наблюдения с 1 июня по 31 августа. Затем запишем в `top_destination` наиболее популярный пункт назначения (его название). Агрегируем данные по дням и определим, в какой день в полученный пункт (`top_destination`) было совершено меньше всего поездок. `timestamp` отформатируем с помощью .strftime('%Y-%m-%d')."
   ]
  },
  {
   "cell_type": "code",
   "execution_count": 27,
   "id": "44695650",
   "metadata": {},
   "outputs": [],
   "source": [
    "bikes_summer = bikes.query(\"(start_time >= '2018-06-01') & (start_time <= '2018-08-31')\")"
   ]
  },
  {
   "cell_type": "code",
   "execution_count": 28,
   "id": "a9248737",
   "metadata": {},
   "outputs": [
    {
     "data": {
      "text/html": [
       "<div>\n",
       "<style scoped>\n",
       "    .dataframe tbody tr th:only-of-type {\n",
       "        vertical-align: middle;\n",
       "    }\n",
       "\n",
       "    .dataframe tbody tr th {\n",
       "        vertical-align: top;\n",
       "    }\n",
       "\n",
       "    .dataframe thead th {\n",
       "        text-align: right;\n",
       "    }\n",
       "</style>\n",
       "<table border=\"1\" class=\"dataframe\">\n",
       "  <thead>\n",
       "    <tr style=\"text-align: right;\">\n",
       "      <th></th>\n",
       "      <th>trip_id</th>\n",
       "      <th>start_time</th>\n",
       "      <th>end_time</th>\n",
       "      <th>bikeid</th>\n",
       "      <th>tripduration</th>\n",
       "      <th>from_station_id</th>\n",
       "      <th>from_station_name</th>\n",
       "      <th>to_station_id</th>\n",
       "      <th>to_station_name</th>\n",
       "      <th>usertype</th>\n",
       "      <th>gender</th>\n",
       "      <th>birthyear</th>\n",
       "    </tr>\n",
       "  </thead>\n",
       "  <tbody>\n",
       "    <tr>\n",
       "      <th>354916</th>\n",
       "      <td>18709077</td>\n",
       "      <td>2018-06-01 00:04:40</td>\n",
       "      <td>2018-06-01 00:06:47</td>\n",
       "      <td>3155</td>\n",
       "      <td>127.0</td>\n",
       "      <td>128</td>\n",
       "      <td>Damen Ave &amp; Chicago Ave</td>\n",
       "      <td>214</td>\n",
       "      <td>Damen Ave &amp; Grand Ave</td>\n",
       "      <td>Subscriber</td>\n",
       "      <td>Female</td>\n",
       "      <td>1978.0</td>\n",
       "    </tr>\n",
       "    <tr>\n",
       "      <th>354917</th>\n",
       "      <td>18709080</td>\n",
       "      <td>2018-06-01 00:06:08</td>\n",
       "      <td>2018-06-01 00:24:18</td>\n",
       "      <td>2807</td>\n",
       "      <td>1,090.0</td>\n",
       "      <td>258</td>\n",
       "      <td>Logan Blvd &amp; Elston Ave</td>\n",
       "      <td>69</td>\n",
       "      <td>Damen Ave &amp; Pierce Ave</td>\n",
       "      <td>Customer</td>\n",
       "      <td>NaN</td>\n",
       "      <td>NaN</td>\n",
       "    </tr>\n",
       "    <tr>\n",
       "      <th>354918</th>\n",
       "      <td>18709086</td>\n",
       "      <td>2018-06-01 00:08:01</td>\n",
       "      <td>2018-06-01 00:32:55</td>\n",
       "      <td>2737</td>\n",
       "      <td>1,494.0</td>\n",
       "      <td>337</td>\n",
       "      <td>Clark St &amp; Chicago Ave</td>\n",
       "      <td>225</td>\n",
       "      <td>Halsted St &amp; Dickens Ave</td>\n",
       "      <td>Customer</td>\n",
       "      <td>Male</td>\n",
       "      <td>1988.0</td>\n",
       "    </tr>\n",
       "    <tr>\n",
       "      <th>354919</th>\n",
       "      <td>18709091</td>\n",
       "      <td>2018-06-01 00:09:02</td>\n",
       "      <td>2018-06-01 00:19:21</td>\n",
       "      <td>6089</td>\n",
       "      <td>619.0</td>\n",
       "      <td>210</td>\n",
       "      <td>Ashland Ave &amp; Division St</td>\n",
       "      <td>56</td>\n",
       "      <td>Desplaines St &amp; Kinzie St</td>\n",
       "      <td>Subscriber</td>\n",
       "      <td>Male</td>\n",
       "      <td>1987.0</td>\n",
       "    </tr>\n",
       "    <tr>\n",
       "      <th>354920</th>\n",
       "      <td>18709092</td>\n",
       "      <td>2018-06-01 00:09:28</td>\n",
       "      <td>2018-06-01 00:14:44</td>\n",
       "      <td>2352</td>\n",
       "      <td>316.0</td>\n",
       "      <td>240</td>\n",
       "      <td>Sheridan Rd &amp; Irving Park Rd</td>\n",
       "      <td>303</td>\n",
       "      <td>Broadway &amp; Cornelia Ave</td>\n",
       "      <td>Subscriber</td>\n",
       "      <td>Male</td>\n",
       "      <td>1997.0</td>\n",
       "    </tr>\n",
       "  </tbody>\n",
       "</table>\n",
       "</div>"
      ],
      "text/plain": [
       "         trip_id          start_time            end_time  bikeid tripduration  \\\n",
       "354916  18709077 2018-06-01 00:04:40 2018-06-01 00:06:47    3155        127.0   \n",
       "354917  18709080 2018-06-01 00:06:08 2018-06-01 00:24:18    2807      1,090.0   \n",
       "354918  18709086 2018-06-01 00:08:01 2018-06-01 00:32:55    2737      1,494.0   \n",
       "354919  18709091 2018-06-01 00:09:02 2018-06-01 00:19:21    6089        619.0   \n",
       "354920  18709092 2018-06-01 00:09:28 2018-06-01 00:14:44    2352        316.0   \n",
       "\n",
       "        from_station_id             from_station_name  to_station_id  \\\n",
       "354916              128       Damen Ave & Chicago Ave            214   \n",
       "354917              258       Logan Blvd & Elston Ave             69   \n",
       "354918              337        Clark St & Chicago Ave            225   \n",
       "354919              210     Ashland Ave & Division St             56   \n",
       "354920              240  Sheridan Rd & Irving Park Rd            303   \n",
       "\n",
       "                  to_station_name    usertype  gender  birthyear  \n",
       "354916      Damen Ave & Grand Ave  Subscriber  Female     1978.0  \n",
       "354917     Damen Ave & Pierce Ave    Customer     NaN        NaN  \n",
       "354918   Halsted St & Dickens Ave    Customer    Male     1988.0  \n",
       "354919  Desplaines St & Kinzie St  Subscriber    Male     1987.0  \n",
       "354920    Broadway & Cornelia Ave  Subscriber    Male     1997.0  "
      ]
     },
     "execution_count": 28,
     "metadata": {},
     "output_type": "execute_result"
    }
   ],
   "source": [
    "bikes_summer.head()"
   ]
  },
  {
   "cell_type": "code",
   "execution_count": 29,
   "id": "7ba5b637",
   "metadata": {},
   "outputs": [
    {
     "data": {
      "text/plain": [
       "'Streeter Dr & Grand Ave'"
      ]
     },
     "execution_count": 29,
     "metadata": {},
     "output_type": "execute_result"
    }
   ],
   "source": [
    "top_destination = bikes_summer['to_station_name'].value_counts().idxmax()\n",
    "top_destination"
   ]
  },
  {
   "cell_type": "code",
   "execution_count": 30,
   "id": "83243b66",
   "metadata": {
    "scrolled": true
   },
   "outputs": [
    {
     "data": {
      "text/plain": [
       "'2018-06-21'"
      ]
     },
     "execution_count": 30,
     "metadata": {},
     "output_type": "execute_result"
    }
   ],
   "source": [
    "bad_day = \\\n",
    "    bikes_summer \\\n",
    "    .query(\"to_station_name == @top_destination\") \\\n",
    "    .set_index('start_time') \\\n",
    "    .resample(rule = 'D') \\\n",
    "    .size() \\\n",
    "    .idxmin() \\\n",
    "    .strftime('%Y-%m-%d')\n",
    "\n",
    "bad_day"
   ]
  },
  {
   "cell_type": "markdown",
   "id": "fb54dc70",
   "metadata": {},
   "source": [
    "Куда больше всего ездят на выходных? Туда же, куда и в будние дни, или в другие пункты назначения?"
   ]
  },
  {
   "cell_type": "code",
   "execution_count": 31,
   "id": "56ebe1bf",
   "metadata": {},
   "outputs": [
    {
     "data": {
      "text/plain": [
       "Timestamp('2018-06-01 00:04:40')"
      ]
     },
     "execution_count": 31,
     "metadata": {},
     "output_type": "execute_result"
    }
   ],
   "source": [
    "some_day = bikes_summer['start_time'].iloc[0]\n",
    "some_day"
   ]
  },
  {
   "cell_type": "code",
   "execution_count": 32,
   "id": "b4ea701b",
   "metadata": {},
   "outputs": [
    {
     "data": {
      "text/plain": [
       "'Friday'"
      ]
     },
     "execution_count": 32,
     "metadata": {},
     "output_type": "execute_result"
    }
   ],
   "source": [
    "some_day.day_name()"
   ]
  },
  {
   "cell_type": "code",
   "execution_count": 33,
   "id": "85c3a2ca",
   "metadata": {},
   "outputs": [
    {
     "name": "stderr",
     "output_type": "stream",
     "text": [
      "<ipython-input-33-22a6952d212d>:1: SettingWithCopyWarning: \n",
      "A value is trying to be set on a copy of a slice from a DataFrame.\n",
      "Try using .loc[row_indexer,col_indexer] = value instead\n",
      "\n",
      "See the caveats in the documentation: https://pandas.pydata.org/pandas-docs/stable/user_guide/indexing.html#returning-a-view-versus-a-copy\n",
      "  bikes_summer['weekday'] = bikes_summer['start_time'].apply(lambda x: x.day_name())\n",
      "<ipython-input-33-22a6952d212d>:3: SettingWithCopyWarning: \n",
      "A value is trying to be set on a copy of a slice from a DataFrame.\n",
      "Try using .loc[row_indexer,col_indexer] = value instead\n",
      "\n",
      "See the caveats in the documentation: https://pandas.pydata.org/pandas-docs/stable/user_guide/indexing.html#returning-a-view-versus-a-copy\n",
      "  bikes_summer['holiday'] = \\\n"
     ]
    }
   ],
   "source": [
    "bikes_summer['weekday'] = bikes_summer['start_time'].apply(lambda x: x.day_name())\n",
    "\n",
    "bikes_summer['holiday'] = \\\n",
    "      (bikes_summer['weekday'] == 'Saturday') \\\n",
    "    | (bikes_summer['weekday'] == 'Sunday')"
   ]
  },
  {
   "cell_type": "code",
   "execution_count": 34,
   "id": "2514cf4c",
   "metadata": {},
   "outputs": [
    {
     "data": {
      "text/plain": [
       "Streeter Dr & Grand Ave       6026\n",
       "Lake Shore Dr & North Blvd    3092\n",
       "Theater on the Lake           2858\n",
       "Lake Shore Dr & Monroe St     2271\n",
       "Millennium Park               1984\n",
       "                              ... \n",
       "Cicero Ave & Flournoy St         1\n",
       "Ellis Ave & 83rd St              1\n",
       "Kostner Ave & Adams St           1\n",
       "Ashland Ave & 63rd St            1\n",
       "State St & 76th St               1\n",
       "Name: to_station_name, Length: 569, dtype: int64"
      ]
     },
     "execution_count": 34,
     "metadata": {},
     "output_type": "execute_result"
    }
   ],
   "source": [
    "bikes_summer[bikes_summer['holiday']]['to_station_name'].value_counts()"
   ]
  },
  {
   "cell_type": "code",
   "execution_count": 35,
   "id": "ee701f1e",
   "metadata": {},
   "outputs": [
    {
     "data": {
      "text/plain": [
       "Streeter Dr & Grand Ave       3461\n",
       "Lake Shore Dr & North Blvd    1690\n",
       "Theater on the Lake           1470\n",
       "Lake Shore Dr & Monroe St     1232\n",
       "Millennium Park               1080\n",
       "                              ... \n",
       "Racine Ave & 65th St             1\n",
       "State St & 76th St               1\n",
       "Damen Ave & 51st St              1\n",
       "Shields Ave & 43rd St            1\n",
       "Halsted St & 47th Pl             1\n",
       "Name: to_station_name, Length: 557, dtype: int64"
      ]
     },
     "execution_count": 35,
     "metadata": {},
     "output_type": "execute_result"
    }
   ],
   "source": [
    "bikes_summer[bikes_summer['weekday'] == 'Saturday']['to_station_name'].value_counts()"
   ]
  },
  {
   "cell_type": "code",
   "execution_count": 36,
   "id": "406a51c2",
   "metadata": {
    "scrolled": true
   },
   "outputs": [
    {
     "data": {
      "text/plain": [
       "Streeter Dr & Grand Ave         7491\n",
       "Canal St & Adams St             6052\n",
       "Clinton St & Washington Blvd    4782\n",
       "Clinton St & Madison St         4628\n",
       "Lake Shore Dr & North Blvd      4152\n",
       "                                ... \n",
       "Racine Ave & 61st St               2\n",
       "Malcolm X College                  1\n",
       "Central Ave & Madison St           1\n",
       "Throop St & 52nd St                1\n",
       "Marion St & South Blvd             1\n",
       "Name: to_station_name, Length: 578, dtype: int64"
      ]
     },
     "execution_count": 36,
     "metadata": {},
     "output_type": "execute_result"
    }
   ],
   "source": [
    "bikes_summer[~bikes_summer['holiday']]['to_station_name'].value_counts()"
   ]
  },
  {
   "cell_type": "markdown",
   "id": "dbb54b8b",
   "metadata": {},
   "source": [
    "Наиболее популярный пункт назначения в субботу – Streeter Dr & Grand Ave\n",
    "\n",
    "Второй по числу поездок в субботу – Lake Shore Dr & North Blvd\n",
    "\n",
    "В будние дни больше всего поездок совершается до Streeter Dr & Grand Ave"
   ]
  }
 ],
 "metadata": {
  "kernelspec": {
   "display_name": "Python 3",
   "language": "python",
   "name": "python3"
  },
  "language_info": {
   "codemirror_mode": {
    "name": "ipython",
    "version": 3
   },
   "file_extension": ".py",
   "mimetype": "text/x-python",
   "name": "python",
   "nbconvert_exporter": "python",
   "pygments_lexer": "ipython3",
   "version": "3.8.8"
  }
 },
 "nbformat": 4,
 "nbformat_minor": 5
}
