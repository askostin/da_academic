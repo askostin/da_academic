{
 "cells": [
  {
   "cell_type": "markdown",
   "id": "0a10fd04",
   "metadata": {},
   "source": [
    "# Извлечение и обработка \"грязных\" данных"
   ]
  },
  {
   "cell_type": "markdown",
   "id": "2c28641c",
   "metadata": {},
   "source": [
    "## Постановка задачи"
   ]
  },
  {
   "cell_type": "markdown",
   "id": "549e1aad",
   "metadata": {},
   "source": [
    "### Структура данных\n",
    "\n",
    "- данные записываются для каждого пользователя, совершившего покупки, каждый день\n",
    "- для каждой даты есть своя папка, внутри неё – папки для каждого пользователя\n",
    "- внутри каждой папки есть файл `data.csv`, где и хранятся данные"
   ]
  },
  {
   "cell_type": "markdown",
   "id": "4590df47",
   "metadata": {},
   "source": [
    "### Задачи\n",
    "\n",
    "1. Собрать все данные из папки `data` в один датафрэйм, имеющий следующие столбцы: колонки из самих файлов (`product_id`, `quantity`), а также имя пользователя (`name`), и дата этих покупок (`date`), соответствует названию папки, где лежит папка с пользователем)\n",
    "\n",
    "2. Выяснить, какой пользователь купил больше всего товаров. Если их несколько, то перечислить имена через запятую с пробелом и в алфавитном порядке.\n",
    "\n",
    "3. Найти топ-10 товаров по числу проданных единиц за всё время.\n",
    "\n",
    "4. Визуализировать продажи по дням.\n",
    "\n",
    "5. Сколько пользователей приобрели какой-либо товар повторно (более 1 раза)? Повтором будем считать покупку товара с одинаковым `product_id`, совершенную в разные дни. "
   ]
  },
  {
   "cell_type": "markdown",
   "id": "16d83830",
   "metadata": {},
   "source": [
    "## Импорт библиотек"
   ]
  },
  {
   "cell_type": "code",
   "execution_count": 2,
   "id": "58cc6fe5",
   "metadata": {},
   "outputs": [],
   "source": [
    "import pandas as pd\n",
    "import os\n",
    "import datetime as dt\n",
    "\n",
    "import seaborn as sns\n",
    "import matplotlib.pyplot as plt\n",
    "import matplotlib.ticker as ticker"
   ]
  },
  {
   "cell_type": "markdown",
   "id": "6d484e79",
   "metadata": {},
   "source": [
    "## Решение поставленных задач\n",
    "### 1. Сбор данных из файлов в одну таблицу"
   ]
  },
  {
   "cell_type": "markdown",
   "id": "8ee82bfa",
   "metadata": {},
   "source": [
    "Данные из папки `data` должны быть объединены в одну таблицу со столбцами:\n",
    "- колонки из самих файлов (`product_id`, `quantity`), \n",
    "- имя пользователя (`name`), \n",
    "- дата этих покупок (`date`), соответствует названию папки, где лежит папка с пользователем"
   ]
  },
  {
   "cell_type": "markdown",
   "id": "6c6e12d2",
   "metadata": {},
   "source": [
    "Получаем список папок и файлов, в которых расположены данные:"
   ]
  },
  {
   "cell_type": "code",
   "execution_count": 3,
   "id": "55635068",
   "metadata": {},
   "outputs": [],
   "source": [
    "data_path = './data/'\n",
    "folder_data = os.listdir(data_path)"
   ]
  },
  {
   "cell_type": "code",
   "execution_count": 4,
   "id": "7e11a34c",
   "metadata": {
    "scrolled": false
   },
   "outputs": [
    {
     "data": {
      "text/plain": [
       "['2020-12-03',\n",
       " '2020-12-04',\n",
       " '2020-12-05',\n",
       " '2020-12-06',\n",
       " '2020-12-07',\n",
       " '2020-12-08',\n",
       " '2020-12-09']"
      ]
     },
     "execution_count": 4,
     "metadata": {},
     "output_type": "execute_result"
    }
   ],
   "source": [
    "folder_data"
   ]
  },
  {
   "cell_type": "code",
   "execution_count": 5,
   "id": "a0030bcf",
   "metadata": {},
   "outputs": [],
   "source": [
    "folders = []\n",
    "for path, dirs, files in os.walk(data_path) :\n",
    "    if dirs :\n",
    "        folders.append(dirs)"
   ]
  },
  {
   "cell_type": "code",
   "execution_count": 6,
   "id": "8bc1e8fe",
   "metadata": {},
   "outputs": [],
   "source": [
    "dates = folders[0] # Список дат\n",
    "days_q = len(dates) # Количество дней\n",
    "all_names = folders[1:] # Список списков имён"
   ]
  },
  {
   "cell_type": "markdown",
   "id": "c185daf8",
   "metadata": {},
   "source": [
    "Подсчёт общего количества путей к файлам (и самих файлов), которые надо будет обработать"
   ]
  },
  {
   "cell_type": "code",
   "execution_count": 7,
   "id": "4643cf5c",
   "metadata": {},
   "outputs": [
    {
     "data": {
      "text/plain": [
       "44"
      ]
     },
     "execution_count": 7,
     "metadata": {},
     "output_type": "execute_result"
    }
   ],
   "source": [
    "s = 0\n",
    "for i in range(len(all_names)) :\n",
    "    s = s + len(all_names[i])\n",
    "s"
   ]
  },
  {
   "cell_type": "code",
   "execution_count": 8,
   "id": "e1c53142",
   "metadata": {},
   "outputs": [
    {
     "name": "stdout",
     "output_type": "stream",
     "text": [
      "Total files read: 44\n"
     ]
    }
   ],
   "source": [
    "listof_df = []\n",
    "idx = 0\n",
    "# i - индекс в списке имён папок, названных по датам (level 1)\n",
    "for i in range(0, days_q) : \n",
    "    date = dates[i]\n",
    "    users = all_names[i]\n",
    "    # user - имя одной из папок, названной по имени пользователя, купившего товар в данную дату\n",
    "    # print(date, ':', users)\n",
    "    for user in users : \n",
    "        filename = data_path + date + '/' + user + '/data.csv'\n",
    "        tmp_df = pd.read_csv(filename, index_col = 0)\n",
    "        nrows = tmp_df.shape[0]\n",
    "        tmp_df['name'] = user\n",
    "        tmp_df['date'] = date\n",
    "        #print(tmp_df)\n",
    "        idx = idx + 1\n",
    "        listof_df.append(tmp_df)\n",
    "print(\"Total files read:\", idx)"
   ]
  },
  {
   "cell_type": "code",
   "execution_count": 9,
   "id": "75ff48ee",
   "metadata": {},
   "outputs": [],
   "source": [
    "df = pd.concat(listof_df, ignore_index = 1).sort_values(['date', 'name'])"
   ]
  },
  {
   "cell_type": "code",
   "execution_count": 10,
   "id": "72a88e99",
   "metadata": {
    "scrolled": true
   },
   "outputs": [
    {
     "data": {
      "text/html": [
       "<div>\n",
       "<style scoped>\n",
       "    .dataframe tbody tr th:only-of-type {\n",
       "        vertical-align: middle;\n",
       "    }\n",
       "\n",
       "    .dataframe tbody tr th {\n",
       "        vertical-align: top;\n",
       "    }\n",
       "\n",
       "    .dataframe thead th {\n",
       "        text-align: right;\n",
       "    }\n",
       "</style>\n",
       "<table border=\"1\" class=\"dataframe\">\n",
       "  <thead>\n",
       "    <tr style=\"text-align: right;\">\n",
       "      <th></th>\n",
       "      <th>product_id</th>\n",
       "      <th>quantity</th>\n",
       "      <th>name</th>\n",
       "      <th>date</th>\n",
       "    </tr>\n",
       "  </thead>\n",
       "  <tbody>\n",
       "    <tr>\n",
       "      <th>0</th>\n",
       "      <td>47</td>\n",
       "      <td>1</td>\n",
       "      <td>Alexey_Smirnov</td>\n",
       "      <td>2020-12-03</td>\n",
       "    </tr>\n",
       "    <tr>\n",
       "      <th>1</th>\n",
       "      <td>57</td>\n",
       "      <td>1</td>\n",
       "      <td>Alexey_Smirnov</td>\n",
       "      <td>2020-12-03</td>\n",
       "    </tr>\n",
       "    <tr>\n",
       "      <th>2</th>\n",
       "      <td>14</td>\n",
       "      <td>2</td>\n",
       "      <td>Alexey_Smirnov</td>\n",
       "      <td>2020-12-03</td>\n",
       "    </tr>\n",
       "    <tr>\n",
       "      <th>3</th>\n",
       "      <td>52</td>\n",
       "      <td>1</td>\n",
       "      <td>Alexey_Smirnov</td>\n",
       "      <td>2020-12-03</td>\n",
       "    </tr>\n",
       "    <tr>\n",
       "      <th>4</th>\n",
       "      <td>1</td>\n",
       "      <td>4</td>\n",
       "      <td>Alexey_Smirnov</td>\n",
       "      <td>2020-12-03</td>\n",
       "    </tr>\n",
       "  </tbody>\n",
       "</table>\n",
       "</div>"
      ],
      "text/plain": [
       "   product_id  quantity            name        date\n",
       "0          47         1  Alexey_Smirnov  2020-12-03\n",
       "1          57         1  Alexey_Smirnov  2020-12-03\n",
       "2          14         2  Alexey_Smirnov  2020-12-03\n",
       "3          52         1  Alexey_Smirnov  2020-12-03\n",
       "4           1         4  Alexey_Smirnov  2020-12-03"
      ]
     },
     "execution_count": 10,
     "metadata": {},
     "output_type": "execute_result"
    }
   ],
   "source": [
    "df.head()"
   ]
  },
  {
   "cell_type": "markdown",
   "id": "0b2b32aa",
   "metadata": {},
   "source": [
    "Общее количество купленных товаров:"
   ]
  },
  {
   "cell_type": "code",
   "execution_count": 11,
   "id": "71a0bd20",
   "metadata": {
    "scrolled": true
   },
   "outputs": [
    {
     "data": {
      "text/plain": [
       "480"
      ]
     },
     "execution_count": 11,
     "metadata": {},
     "output_type": "execute_result"
    }
   ],
   "source": [
    "df.quantity.sum()"
   ]
  },
  {
   "cell_type": "markdown",
   "id": "c21c0cc5",
   "metadata": {},
   "source": [
    "### 2. Кто купил больше всего товаров\n",
    "\n",
    "Определим пользователей, купивших больше всего товаров. Если их несколько, то перечислим имена через запятую с пробелом и в алфавитном порядке."
   ]
  },
  {
   "cell_type": "code",
   "execution_count": 12,
   "id": "622ae297",
   "metadata": {},
   "outputs": [],
   "source": [
    "best_buyer = df \\\n",
    "    .groupby('name') \\\n",
    "    .agg({'quantity': 'sum'}) \\\n",
    "    .sort_values('quantity', ascending = False)"
   ]
  },
  {
   "cell_type": "code",
   "execution_count": 13,
   "id": "e0d529b1",
   "metadata": {
    "scrolled": false
   },
   "outputs": [
    {
     "data": {
      "text/plain": [
       "52"
      ]
     },
     "execution_count": 13,
     "metadata": {},
     "output_type": "execute_result"
    }
   ],
   "source": [
    "best_buyer.quantity.max()"
   ]
  },
  {
   "cell_type": "code",
   "execution_count": 14,
   "id": "457b0a99",
   "metadata": {},
   "outputs": [
    {
     "data": {
      "text/plain": [
       "['Alexey_Smirnov', 'Petr_Smirnov']"
      ]
     },
     "execution_count": 14,
     "metadata": {},
     "output_type": "execute_result"
    }
   ],
   "source": [
    "best_buyer[best_buyer['quantity'] == best_buyer.quantity.max()] \\\n",
    "    .reset_index() \\\n",
    "    .name \\\n",
    "    .sort_values() \\\n",
    "    .to_list()"
   ]
  },
  {
   "cell_type": "markdown",
   "id": "30e5d8f3",
   "metadata": {},
   "source": [
    "### 3. Топ-10 проданных товаров\n",
    "\n",
    "Найдём топ-10 товаров по числу проданных единиц за всё время."
   ]
  },
  {
   "cell_type": "code",
   "execution_count": 15,
   "id": "7f0883e1",
   "metadata": {},
   "outputs": [],
   "source": [
    "bestsellers = \\\n",
    "    df \\\n",
    "    .groupby('product_id', as_index = False) \\\n",
    "    .agg({'quantity': 'sum'})\\\n",
    "    .sort_values(by = 'quantity', ascending = False) \\\n",
    "    .reset_index(drop = True) "
   ]
  },
  {
   "cell_type": "code",
   "execution_count": 16,
   "id": "8155ec55",
   "metadata": {
    "scrolled": false
   },
   "outputs": [
    {
     "data": {
      "text/html": [
       "<div>\n",
       "<style scoped>\n",
       "    .dataframe tbody tr th:only-of-type {\n",
       "        vertical-align: middle;\n",
       "    }\n",
       "\n",
       "    .dataframe tbody tr th {\n",
       "        vertical-align: top;\n",
       "    }\n",
       "\n",
       "    .dataframe thead th {\n",
       "        text-align: right;\n",
       "    }\n",
       "</style>\n",
       "<table border=\"1\" class=\"dataframe\">\n",
       "  <thead>\n",
       "    <tr style=\"text-align: right;\">\n",
       "      <th></th>\n",
       "      <th>product_id</th>\n",
       "      <th>quantity</th>\n",
       "    </tr>\n",
       "  </thead>\n",
       "  <tbody>\n",
       "    <tr>\n",
       "      <th>0</th>\n",
       "      <td>27</td>\n",
       "      <td>20</td>\n",
       "    </tr>\n",
       "    <tr>\n",
       "      <th>1</th>\n",
       "      <td>56</td>\n",
       "      <td>18</td>\n",
       "    </tr>\n",
       "    <tr>\n",
       "      <th>2</th>\n",
       "      <td>24</td>\n",
       "      <td>15</td>\n",
       "    </tr>\n",
       "    <tr>\n",
       "      <th>3</th>\n",
       "      <td>74</td>\n",
       "      <td>15</td>\n",
       "    </tr>\n",
       "    <tr>\n",
       "      <th>4</th>\n",
       "      <td>41</td>\n",
       "      <td>14</td>\n",
       "    </tr>\n",
       "  </tbody>\n",
       "</table>\n",
       "</div>"
      ],
      "text/plain": [
       "   product_id  quantity\n",
       "0          27        20\n",
       "1          56        18\n",
       "2          24        15\n",
       "3          74        15\n",
       "4          41        14"
      ]
     },
     "execution_count": 16,
     "metadata": {},
     "output_type": "execute_result"
    }
   ],
   "source": [
    "bestsellers.head()"
   ]
  },
  {
   "cell_type": "code",
   "execution_count": 17,
   "id": "44c32b1c",
   "metadata": {
    "scrolled": true
   },
   "outputs": [
    {
     "data": {
      "image/png": "[encoded data removed]",
      "text/plain": [
       "<Figure size 720x360 with 1 Axes>"
      ]
     },
     "metadata": {
      "needs_background": "light"
     },
     "output_type": "display_data"
    }
   ],
   "source": [
    "plt.figure(figsize=(10,5))\n",
    "sns.barplot(x = 'product_id', y = 'quantity', data = bestsellers,\n",
    "                 color = \"salmon\", alpha = .5)\n",
    "ax = plt.gca()\n",
    "ax.xaxis.set_major_formatter(ticker.FormatStrFormatter('%d'))\n",
    "ax.xaxis.set_major_locator(ticker.MultipleLocator(base=5))"
   ]
  },
  {
   "cell_type": "markdown",
   "id": "237637d7",
   "metadata": {},
   "source": [
    "### 4. Повторные покупки"
   ]
  },
  {
   "cell_type": "markdown",
   "id": "3c9f8ed7",
   "metadata": {},
   "source": [
    "Подсчитаем пользователей, приобретших какой-либо товар повторно (более 1 раза)? Повтором считается покупка товара с одинаковым `product_id`, совершенная в разные дни."
   ]
  },
  {
   "cell_type": "code",
   "execution_count": 18,
   "id": "9525b8bf",
   "metadata": {},
   "outputs": [],
   "source": [
    "names = df['name'] \\\n",
    "    .drop_duplicates() \\\n",
    "    .reset_index(drop = True)"
   ]
  },
  {
   "cell_type": "code",
   "execution_count": 19,
   "id": "b31dae96",
   "metadata": {
    "scrolled": false
   },
   "outputs": [
    {
     "name": "stdout",
     "output_type": "stream",
     "text": [
      "Petr_Fedorov\n",
      "   product_id        date  purchases\n",
      "0          94  2020-12-03          1\n",
      "1          94  2020-12-07          1\n",
      "Anton_Ivanov\n",
      "   product_id        date  purchases\n",
      "0          15  2020-12-07          1\n",
      "1          15  2020-12-09          1\n"
     ]
    }
   ],
   "source": [
    "users_with_repeated_purchases = []\n",
    "all_duplicates = []\n",
    "for user in names :\n",
    "    user_purchases = \\\n",
    "        df[df.name == user] \\\n",
    "        [['product_id', 'date']] \\\n",
    "        .reset_index(drop = True) \\\n",
    "        .sort_values(by = ['product_id']) \\\n",
    "        .reset_index(drop = True)\n",
    "    \n",
    "    has_duplicates = \\\n",
    "        user_purchases \\\n",
    "        .duplicated(subset = ['product_id'])\n",
    "\n",
    "    if (has_duplicates.sum() > 0) :\n",
    "        new_index = has_duplicates.shape[0]\n",
    "        \n",
    "        indexes = has_duplicates[has_duplicates].index.values\n",
    "        products = [user_purchases.iloc[i]['product_id'] for i in indexes]\n",
    "        tmp_df = user_purchases.query(\"product_id in @products\")\n",
    "        tmp_df = tmp_df \\\n",
    "            .groupby(['product_id', 'date'], as_index = [False, False]) \\\n",
    "            .agg({'date': 'count'}) \\\n",
    "            .rename(columns = {'date': 'purchases'}) \\\n",
    "            .reset_index()\n",
    "        \n",
    "        for p in products :\n",
    "            if tmp_df.query(\"product_id == @p\").shape[0] > 1 :\n",
    "                users_with_repeated_purchases.append(user)\n",
    "                print(user)\n",
    "                print(tmp_df)"
   ]
  },
  {
   "cell_type": "code",
   "execution_count": 20,
   "id": "9c294233",
   "metadata": {},
   "outputs": [
    {
     "data": {
      "text/plain": [
       "['Petr_Fedorov', 'Anton_Ivanov']"
      ]
     },
     "execution_count": 20,
     "metadata": {},
     "output_type": "execute_result"
    }
   ],
   "source": [
    "users_with_repeated_purchases"
   ]
  }
 ],
 "metadata": {
  "kernelspec": {
   "display_name": "Python 3",
   "language": "python",
   "name": "python3"
  },
  "language_info": {
   "codemirror_mode": {
    "name": "ipython",
    "version": 3
   },
   "file_extension": ".py",
   "mimetype": "text/x-python",
   "name": "python",
   "nbconvert_exporter": "python",
   "pygments_lexer": "ipython3",
   "version": "3.8.8"
  }
 },
 "nbformat": 4,
 "nbformat_minor": 5
}
