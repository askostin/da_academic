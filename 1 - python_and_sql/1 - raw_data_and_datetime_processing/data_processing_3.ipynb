{
 "cells": [
  {
   "cell_type": "markdown",
   "id": "f090beab",
   "metadata": {},
   "source": [
    "# Объединение данных, данные о времени"
   ]
  },
  {
   "cell_type": "markdown",
   "id": "0f444499",
   "metadata": {},
   "source": [
    "## Постановка задачи\n",
    "\n",
    "В папке `subsid` содержатся файлы с продажами продуктов через телемаркетинг (`tm_sales_1`, `tm_sales_2`, ...). Каждый файл содержит, как минимум, 4 колонки (поля): `FILIAL_ID`, `SUBS_ID`, `PROD_ID`, `ACT_DTTM`.\n",
    "\n",
    "Суть задачи в том, чтобы проверить подключения продуктов определенным пользователям, соединив файлы о продажах с логами по подключениям в системе."
   ]
  },
  {
   "cell_type": "markdown",
   "id": "a815f721",
   "metadata": {},
   "source": [
    "Особенности данных:\n",
    "\n",
    "- сотрудники телемаркетинга не всегда указывают полный `id`, если `id` нет в начале `SUBS_ID`, то нужно его добавить\n",
    "- поля в файлах могут быть расположены абсолютно случайным образом, но названия полей статичны\n",
    "- продажа не засчитывается, если отключение (`END_DTTM`) произошло меньше чем через 5 минут после подключения (`START_DTTM`)\n",
    "- если в файле с продажами встречается строка без указанного `SUBS_ID`, она пропускается"
   ]
  },
  {
   "cell_type": "markdown",
   "id": "69f05261",
   "metadata": {},
   "source": [
    "## Импорт необходимых библиотек и файлов с данными"
   ]
  },
  {
   "cell_type": "code",
   "execution_count": 1,
   "id": "628a131f",
   "metadata": {},
   "outputs": [],
   "source": [
    "import pandas as pd\n",
    "import os\n",
    "import datetime as dt"
   ]
  },
  {
   "cell_type": "code",
   "execution_count": 3,
   "id": "d2062a5d",
   "metadata": {},
   "outputs": [
    {
     "name": "stdout",
     "output_type": "stream",
     "text": [
      "['prod_activations_logs.csv', 'tm_sales_1.csv', 'tm_sales_2.csv', 'tm_sales_3.csv']\n"
     ]
    }
   ],
   "source": [
    "data_dir_name = './subsid/'\n",
    "filenames = os.listdir('./subsid/')\n",
    "logs_file = filenames[0]\n",
    "sales_files = filenames[1:]\n",
    "print(filenames)"
   ]
  },
  {
   "cell_type": "code",
   "execution_count": 4,
   "id": "1bac5c48",
   "metadata": {
    "scrolled": true
   },
   "outputs": [],
   "source": [
    "df_sales = None\n",
    "for filename in sales_files:\n",
    "    filepath = data_dir_name + filename\n",
    "    df = pd.read_csv(filepath,\n",
    "                     sep = ';',\n",
    "                     parse_dates = ['ACT_DTTM'],\n",
    "                     date_parser = lambda x: pd.to_datetime(x, format = \"%d-%m-%Y %H:%M\"))\n",
    "    df = df[['FILIAL_ID', 'SUBS_ID', 'PROD_ID', 'ACT_DTTM']]\n",
    "    df = df.dropna(subset = ['SUBS_ID'])\n",
    "    df['SUBS_ID'] = [i if i.startswith('id') else ('id' + i) for i in df['SUBS_ID']]\n",
    "\n",
    "    if (df_sales is None) :\n",
    "        df_sales = df\n",
    "    else :\n",
    "        df_sales = df_sales.append(df, ignore_index = True)"
   ]
  },
  {
   "cell_type": "code",
   "execution_count": 5,
   "id": "a1e71bdd",
   "metadata": {
    "scrolled": true
   },
   "outputs": [
    {
     "data": {
      "text/plain": [
       "(9, 4)"
      ]
     },
     "execution_count": 5,
     "metadata": {},
     "output_type": "execute_result"
    }
   ],
   "source": [
    "df_sales.shape"
   ]
  },
  {
   "cell_type": "code",
   "execution_count": 6,
   "id": "b61f8a61",
   "metadata": {},
   "outputs": [
    {
     "data": {
      "text/plain": [
       "FILIAL_ID             int64\n",
       "SUBS_ID              object\n",
       "PROD_ID               int64\n",
       "ACT_DTTM     datetime64[ns]\n",
       "dtype: object"
      ]
     },
     "execution_count": 6,
     "metadata": {},
     "output_type": "execute_result"
    }
   ],
   "source": [
    "df_sales.dtypes"
   ]
  },
  {
   "cell_type": "code",
   "execution_count": 7,
   "id": "e9e0cdcf",
   "metadata": {
    "scrolled": true
   },
   "outputs": [
    {
     "data": {
      "text/html": [
       "<div>\n",
       "<style scoped>\n",
       "    .dataframe tbody tr th:only-of-type {\n",
       "        vertical-align: middle;\n",
       "    }\n",
       "\n",
       "    .dataframe tbody tr th {\n",
       "        vertical-align: top;\n",
       "    }\n",
       "\n",
       "    .dataframe thead th {\n",
       "        text-align: right;\n",
       "    }\n",
       "</style>\n",
       "<table border=\"1\" class=\"dataframe\">\n",
       "  <thead>\n",
       "    <tr style=\"text-align: right;\">\n",
       "      <th></th>\n",
       "      <th>FILIAL_ID</th>\n",
       "      <th>SUBS_ID</th>\n",
       "      <th>PROD_ID</th>\n",
       "      <th>ACT_DTTM</th>\n",
       "    </tr>\n",
       "  </thead>\n",
       "  <tbody>\n",
       "    <tr>\n",
       "      <th>0</th>\n",
       "      <td>1</td>\n",
       "      <td>id4651830</td>\n",
       "      <td>1954</td>\n",
       "      <td>2020-03-20 14:59:00</td>\n",
       "    </tr>\n",
       "    <tr>\n",
       "      <th>1</th>\n",
       "      <td>5</td>\n",
       "      <td>id7646509</td>\n",
       "      <td>6431</td>\n",
       "      <td>2020-03-19 13:00:00</td>\n",
       "    </tr>\n",
       "    <tr>\n",
       "      <th>2</th>\n",
       "      <td>4</td>\n",
       "      <td>id7412683</td>\n",
       "      <td>3313</td>\n",
       "      <td>2020-03-22 17:25:00</td>\n",
       "    </tr>\n",
       "    <tr>\n",
       "      <th>3</th>\n",
       "      <td>3</td>\n",
       "      <td>id5416547</td>\n",
       "      <td>1743</td>\n",
       "      <td>2020-03-17 10:17:00</td>\n",
       "    </tr>\n",
       "    <tr>\n",
       "      <th>4</th>\n",
       "      <td>7</td>\n",
       "      <td>id8362218</td>\n",
       "      <td>9879</td>\n",
       "      <td>2020-03-05 11:42:00</td>\n",
       "    </tr>\n",
       "    <tr>\n",
       "      <th>5</th>\n",
       "      <td>2</td>\n",
       "      <td>id2185490</td>\n",
       "      <td>3210</td>\n",
       "      <td>2020-03-16 16:28:00</td>\n",
       "    </tr>\n",
       "    <tr>\n",
       "      <th>6</th>\n",
       "      <td>3</td>\n",
       "      <td>id5764122</td>\n",
       "      <td>1499</td>\n",
       "      <td>2020-03-18 15:44:00</td>\n",
       "    </tr>\n",
       "    <tr>\n",
       "      <th>7</th>\n",
       "      <td>6</td>\n",
       "      <td>id7642700</td>\n",
       "      <td>3020</td>\n",
       "      <td>2020-03-15 14:21:00</td>\n",
       "    </tr>\n",
       "    <tr>\n",
       "      <th>8</th>\n",
       "      <td>2</td>\n",
       "      <td>id1374509</td>\n",
       "      <td>5677</td>\n",
       "      <td>2020-03-17 11:48:00</td>\n",
       "    </tr>\n",
       "  </tbody>\n",
       "</table>\n",
       "</div>"
      ],
      "text/plain": [
       "   FILIAL_ID    SUBS_ID  PROD_ID            ACT_DTTM\n",
       "0          1  id4651830     1954 2020-03-20 14:59:00\n",
       "1          5  id7646509     6431 2020-03-19 13:00:00\n",
       "2          4  id7412683     3313 2020-03-22 17:25:00\n",
       "3          3  id5416547     1743 2020-03-17 10:17:00\n",
       "4          7  id8362218     9879 2020-03-05 11:42:00\n",
       "5          2  id2185490     3210 2020-03-16 16:28:00\n",
       "6          3  id5764122     1499 2020-03-18 15:44:00\n",
       "7          6  id7642700     3020 2020-03-15 14:21:00\n",
       "8          2  id1374509     5677 2020-03-17 11:48:00"
      ]
     },
     "execution_count": 7,
     "metadata": {},
     "output_type": "execute_result"
    }
   ],
   "source": [
    "df_sales"
   ]
  },
  {
   "cell_type": "code",
   "execution_count": 8,
   "id": "85a4899e",
   "metadata": {},
   "outputs": [],
   "source": [
    "df_logs = pd.read_csv(data_dir_name + logs_file,\n",
    "                      sep = ';')\n",
    "df_logs['START_DTTM'] = pd.to_datetime(df_logs['START_DTTM'],\n",
    "                                       format = \"%d-%m-%Y %H:%M\")\n",
    "df_logs['END_DTTM'] = pd.to_datetime(df_logs['END_DTTM'],\n",
    "                                       format = \"%d-%m-%Y %H:%M\")\n",
    "# parse_dates = ['START_DTTM', 'END_DTTM'],\n",
    "# date_parser = lambda x: pd.to_datetime(x, format = \"%d-%m-%Y %H:%M\")\n",
    "df_logs = df_logs.reset_index(drop = True)\n",
    "df_logs['PROD_ID'] = df_logs['PROD_ID'].astype('int64')"
   ]
  },
  {
   "cell_type": "code",
   "execution_count": 9,
   "id": "679a3816",
   "metadata": {
    "scrolled": true
   },
   "outputs": [
    {
     "data": {
      "text/html": [
       "<div>\n",
       "<style scoped>\n",
       "    .dataframe tbody tr th:only-of-type {\n",
       "        vertical-align: middle;\n",
       "    }\n",
       "\n",
       "    .dataframe tbody tr th {\n",
       "        vertical-align: top;\n",
       "    }\n",
       "\n",
       "    .dataframe thead th {\n",
       "        text-align: right;\n",
       "    }\n",
       "</style>\n",
       "<table border=\"1\" class=\"dataframe\">\n",
       "  <thead>\n",
       "    <tr style=\"text-align: right;\">\n",
       "      <th></th>\n",
       "      <th>SUBS_ID</th>\n",
       "      <th>PROD_ID</th>\n",
       "      <th>START_DTTM</th>\n",
       "      <th>END_DTTM</th>\n",
       "    </tr>\n",
       "  </thead>\n",
       "  <tbody>\n",
       "    <tr>\n",
       "      <th>0</th>\n",
       "      <td>id4651830</td>\n",
       "      <td>1954</td>\n",
       "      <td>2020-03-20 14:59:00</td>\n",
       "      <td>2020-12-01 00:00:00</td>\n",
       "    </tr>\n",
       "    <tr>\n",
       "      <th>1</th>\n",
       "      <td>id7646509</td>\n",
       "      <td>6431</td>\n",
       "      <td>2020-03-19 13:00:00</td>\n",
       "      <td>2020-03-19 13:03:00</td>\n",
       "    </tr>\n",
       "    <tr>\n",
       "      <th>2</th>\n",
       "      <td>id7461794</td>\n",
       "      <td>3310</td>\n",
       "      <td>2020-03-20 17:25:00</td>\n",
       "      <td>2020-12-01 00:00:00</td>\n",
       "    </tr>\n",
       "    <tr>\n",
       "      <th>3</th>\n",
       "      <td>id5416547</td>\n",
       "      <td>1743</td>\n",
       "      <td>2020-03-17 10:17:00</td>\n",
       "      <td>2020-03-25 11:00:00</td>\n",
       "    </tr>\n",
       "    <tr>\n",
       "      <th>4</th>\n",
       "      <td>id8238421</td>\n",
       "      <td>1859</td>\n",
       "      <td>2020-03-01 11:42:00</td>\n",
       "      <td>2020-03-01 11:43:00</td>\n",
       "    </tr>\n",
       "    <tr>\n",
       "      <th>5</th>\n",
       "      <td>id8641743</td>\n",
       "      <td>2752</td>\n",
       "      <td>2020-03-20 15:44:00</td>\n",
       "      <td>2020-04-21 15:44:00</td>\n",
       "    </tr>\n",
       "    <tr>\n",
       "      <th>6</th>\n",
       "      <td>id2185490</td>\n",
       "      <td>3210</td>\n",
       "      <td>2020-03-16 16:28:00</td>\n",
       "      <td>2020-12-01 00:00:00</td>\n",
       "    </tr>\n",
       "    <tr>\n",
       "      <th>7</th>\n",
       "      <td>id7642700</td>\n",
       "      <td>3020</td>\n",
       "      <td>2020-03-15 14:21:00</td>\n",
       "      <td>2020-03-15 23:42:00</td>\n",
       "    </tr>\n",
       "    <tr>\n",
       "      <th>8</th>\n",
       "      <td>id8741631</td>\n",
       "      <td>5677</td>\n",
       "      <td>2020-03-19 12:28:00</td>\n",
       "      <td>2020-12-01 00:00:00</td>\n",
       "    </tr>\n",
       "  </tbody>\n",
       "</table>\n",
       "</div>"
      ],
      "text/plain": [
       "     SUBS_ID  PROD_ID          START_DTTM            END_DTTM\n",
       "0  id4651830     1954 2020-03-20 14:59:00 2020-12-01 00:00:00\n",
       "1  id7646509     6431 2020-03-19 13:00:00 2020-03-19 13:03:00\n",
       "2  id7461794     3310 2020-03-20 17:25:00 2020-12-01 00:00:00\n",
       "3  id5416547     1743 2020-03-17 10:17:00 2020-03-25 11:00:00\n",
       "4  id8238421     1859 2020-03-01 11:42:00 2020-03-01 11:43:00\n",
       "5  id8641743     2752 2020-03-20 15:44:00 2020-04-21 15:44:00\n",
       "6  id2185490     3210 2020-03-16 16:28:00 2020-12-01 00:00:00\n",
       "7  id7642700     3020 2020-03-15 14:21:00 2020-03-15 23:42:00\n",
       "8  id8741631     5677 2020-03-19 12:28:00 2020-12-01 00:00:00"
      ]
     },
     "execution_count": 9,
     "metadata": {},
     "output_type": "execute_result"
    }
   ],
   "source": [
    "df_logs"
   ]
  },
  {
   "cell_type": "code",
   "execution_count": 10,
   "id": "79c459e8",
   "metadata": {
    "scrolled": true
   },
   "outputs": [
    {
     "data": {
      "text/plain": [
       "(9, 4)"
      ]
     },
     "execution_count": 10,
     "metadata": {},
     "output_type": "execute_result"
    }
   ],
   "source": [
    "df_logs.shape"
   ]
  },
  {
   "cell_type": "code",
   "execution_count": 11,
   "id": "64841429",
   "metadata": {},
   "outputs": [
    {
     "data": {
      "text/plain": [
       "SUBS_ID               object\n",
       "PROD_ID                int64\n",
       "START_DTTM    datetime64[ns]\n",
       "END_DTTM      datetime64[ns]\n",
       "dtype: object"
      ]
     },
     "execution_count": 11,
     "metadata": {},
     "output_type": "execute_result"
    }
   ],
   "source": [
    "df_logs.dtypes"
   ]
  },
  {
   "cell_type": "code",
   "execution_count": 12,
   "id": "0a5dd03e",
   "metadata": {},
   "outputs": [],
   "source": [
    "df_summary = \\\n",
    "    df_sales.merge(df_logs,\n",
    "                   how = 'inner',\n",
    "                   left_on = ['SUBS_ID', 'PROD_ID'],\n",
    "                   right_on = ['SUBS_ID', 'PROD_ID'])"
   ]
  },
  {
   "cell_type": "code",
   "execution_count": 13,
   "id": "7dc2b217",
   "metadata": {},
   "outputs": [],
   "source": [
    "df_summary['difference'] = df_summary['END_DTTM'] - df_summary['START_DTTM']"
   ]
  },
  {
   "cell_type": "code",
   "execution_count": 14,
   "id": "2f266e57",
   "metadata": {
    "scrolled": true
   },
   "outputs": [
    {
     "data": {
      "text/html": [
       "<div>\n",
       "<style scoped>\n",
       "    .dataframe tbody tr th:only-of-type {\n",
       "        vertical-align: middle;\n",
       "    }\n",
       "\n",
       "    .dataframe tbody tr th {\n",
       "        vertical-align: top;\n",
       "    }\n",
       "\n",
       "    .dataframe thead th {\n",
       "        text-align: right;\n",
       "    }\n",
       "</style>\n",
       "<table border=\"1\" class=\"dataframe\">\n",
       "  <thead>\n",
       "    <tr style=\"text-align: right;\">\n",
       "      <th></th>\n",
       "      <th>FILIAL_ID</th>\n",
       "      <th>SUBS_ID</th>\n",
       "      <th>PROD_ID</th>\n",
       "      <th>ACT_DTTM</th>\n",
       "      <th>START_DTTM</th>\n",
       "      <th>END_DTTM</th>\n",
       "      <th>difference</th>\n",
       "    </tr>\n",
       "  </thead>\n",
       "  <tbody>\n",
       "    <tr>\n",
       "      <th>0</th>\n",
       "      <td>1</td>\n",
       "      <td>id4651830</td>\n",
       "      <td>1954</td>\n",
       "      <td>2020-03-20 14:59:00</td>\n",
       "      <td>2020-03-20 14:59:00</td>\n",
       "      <td>2020-12-01 00:00:00</td>\n",
       "      <td>255 days 09:01:00</td>\n",
       "    </tr>\n",
       "    <tr>\n",
       "      <th>1</th>\n",
       "      <td>5</td>\n",
       "      <td>id7646509</td>\n",
       "      <td>6431</td>\n",
       "      <td>2020-03-19 13:00:00</td>\n",
       "      <td>2020-03-19 13:00:00</td>\n",
       "      <td>2020-03-19 13:03:00</td>\n",
       "      <td>0 days 00:03:00</td>\n",
       "    </tr>\n",
       "    <tr>\n",
       "      <th>2</th>\n",
       "      <td>3</td>\n",
       "      <td>id5416547</td>\n",
       "      <td>1743</td>\n",
       "      <td>2020-03-17 10:17:00</td>\n",
       "      <td>2020-03-17 10:17:00</td>\n",
       "      <td>2020-03-25 11:00:00</td>\n",
       "      <td>8 days 00:43:00</td>\n",
       "    </tr>\n",
       "    <tr>\n",
       "      <th>3</th>\n",
       "      <td>2</td>\n",
       "      <td>id2185490</td>\n",
       "      <td>3210</td>\n",
       "      <td>2020-03-16 16:28:00</td>\n",
       "      <td>2020-03-16 16:28:00</td>\n",
       "      <td>2020-12-01 00:00:00</td>\n",
       "      <td>259 days 07:32:00</td>\n",
       "    </tr>\n",
       "    <tr>\n",
       "      <th>4</th>\n",
       "      <td>6</td>\n",
       "      <td>id7642700</td>\n",
       "      <td>3020</td>\n",
       "      <td>2020-03-15 14:21:00</td>\n",
       "      <td>2020-03-15 14:21:00</td>\n",
       "      <td>2020-03-15 23:42:00</td>\n",
       "      <td>0 days 09:21:00</td>\n",
       "    </tr>\n",
       "  </tbody>\n",
       "</table>\n",
       "</div>"
      ],
      "text/plain": [
       "   FILIAL_ID    SUBS_ID  PROD_ID            ACT_DTTM          START_DTTM  \\\n",
       "0          1  id4651830     1954 2020-03-20 14:59:00 2020-03-20 14:59:00   \n",
       "1          5  id7646509     6431 2020-03-19 13:00:00 2020-03-19 13:00:00   \n",
       "2          3  id5416547     1743 2020-03-17 10:17:00 2020-03-17 10:17:00   \n",
       "3          2  id2185490     3210 2020-03-16 16:28:00 2020-03-16 16:28:00   \n",
       "4          6  id7642700     3020 2020-03-15 14:21:00 2020-03-15 14:21:00   \n",
       "\n",
       "             END_DTTM        difference  \n",
       "0 2020-12-01 00:00:00 255 days 09:01:00  \n",
       "1 2020-03-19 13:03:00   0 days 00:03:00  \n",
       "2 2020-03-25 11:00:00   8 days 00:43:00  \n",
       "3 2020-12-01 00:00:00 259 days 07:32:00  \n",
       "4 2020-03-15 23:42:00   0 days 09:21:00  "
      ]
     },
     "execution_count": 14,
     "metadata": {},
     "output_type": "execute_result"
    }
   ],
   "source": [
    "df_summary"
   ]
  },
  {
   "cell_type": "code",
   "execution_count": 15,
   "id": "7712e2b6",
   "metadata": {},
   "outputs": [],
   "source": [
    "df_summary = \\\n",
    "    df_summary[df_summary.difference >= '5m'] \\\n",
    "    .sort_values(by = ['SUBS_ID'])     \\\n",
    "    .reset_index(drop = True)"
   ]
  },
  {
   "cell_type": "code",
   "execution_count": 16,
   "id": "c4ded2f9",
   "metadata": {},
   "outputs": [
    {
     "data": {
      "text/plain": [
       "['id2185490', 'id4651830', 'id5416547', 'id7642700']"
      ]
     },
     "execution_count": 16,
     "metadata": {},
     "output_type": "execute_result"
    }
   ],
   "source": [
    "df_summary['SUBS_ID'].to_list()"
   ]
  },
  {
   "cell_type": "code",
   "execution_count": 17,
   "id": "27ad23a7",
   "metadata": {},
   "outputs": [],
   "source": [
    "df_summary_to_file = df_summary[['ACT_DTTM', 'FILIAL_ID', 'difference']]\n",
    "df_summary_to_file.to_csv('./sales_logs.csv', \n",
    "                  sep = ';')"
   ]
  }
 ],
 "metadata": {
  "kernelspec": {
   "display_name": "Python 3",
   "language": "python",
   "name": "python3"
  },
  "language_info": {
   "codemirror_mode": {
    "name": "ipython",
    "version": 3
   },
   "file_extension": ".py",
   "mimetype": "text/x-python",
   "name": "python",
   "nbconvert_exporter": "python",
   "pygments_lexer": "ipython3",
   "version": "3.8.8"
  }
 },
 "nbformat": 4,
 "nbformat_minor": 5
}
