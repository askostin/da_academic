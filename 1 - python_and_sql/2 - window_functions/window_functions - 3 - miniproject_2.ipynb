{
 "cells": [
  {
   "cell_type": "markdown",
   "id": "279ebaa8",
   "metadata": {},
   "source": [
    "# Оконные функции и интерактивные графики\n",
    "# Минипроект 2\n",
    "---"
   ]
  },
  {
   "cell_type": "markdown",
   "id": "f0f9afe4",
   "metadata": {},
   "source": [
    "## Цели и задачи"
   ]
  },
  {
   "cell_type": "markdown",
   "id": "a2bde8b8",
   "metadata": {},
   "source": [
    "В данном проекте поработаем с gff файлом, который описывает геном мухи (описание формата [см. здесь](http://gmod.org/wiki/GFF3)).\n",
    "\n",
    "1. Выделите из колонки ```attributes``` значение атрибута ```Parent```. Т.е. если там записано ```Parent = x```, то нам нужен ```x```.\n",
    "2. Выясните, какое из этих значений является самым частым.\n",
    "3. Постройте распределение встречаемости значений в столбце ```type```."
   ]
  },
  {
   "cell_type": "markdown",
   "id": "5db4e40e",
   "metadata": {},
   "source": [
    "## Загрузка необходимых библиотек"
   ]
  },
  {
   "cell_type": "code",
   "execution_count": 2,
   "id": "43f435ee",
   "metadata": {},
   "outputs": [],
   "source": [
    "import pandas as pd"
   ]
  },
  {
   "cell_type": "markdown",
   "id": "1ba73a83",
   "metadata": {},
   "source": [
    "## Загрузка данных"
   ]
  },
  {
   "cell_type": "code",
   "execution_count": 3,
   "id": "c4715bf4",
   "metadata": {},
   "outputs": [],
   "source": [
    "gff = pd.read_csv('./gff.tsv', sep = '\\t')"
   ]
  },
  {
   "cell_type": "code",
   "execution_count": 4,
   "id": "11fca8b2",
   "metadata": {
    "scrolled": false
   },
   "outputs": [
    {
     "data": {
      "text/html": [
       "<div>\n",
       "<style scoped>\n",
       "    .dataframe tbody tr th:only-of-type {\n",
       "        vertical-align: middle;\n",
       "    }\n",
       "\n",
       "    .dataframe tbody tr th {\n",
       "        vertical-align: top;\n",
       "    }\n",
       "\n",
       "    .dataframe thead th {\n",
       "        text-align: right;\n",
       "    }\n",
       "</style>\n",
       "<table border=\"1\" class=\"dataframe\">\n",
       "  <thead>\n",
       "    <tr style=\"text-align: right;\">\n",
       "      <th></th>\n",
       "      <th>seq_id</th>\n",
       "      <th>source</th>\n",
       "      <th>type</th>\n",
       "      <th>start</th>\n",
       "      <th>end</th>\n",
       "      <th>score</th>\n",
       "      <th>strand</th>\n",
       "      <th>phase</th>\n",
       "      <th>attributes</th>\n",
       "    </tr>\n",
       "  </thead>\n",
       "  <tbody>\n",
       "    <tr>\n",
       "      <th>0</th>\n",
       "      <td>chr17</td>\n",
       "      <td>RefSeq</td>\n",
       "      <td>exon</td>\n",
       "      <td>6811330</td>\n",
       "      <td>6811453</td>\n",
       "      <td>.</td>\n",
       "      <td>+</td>\n",
       "      <td>.</td>\n",
       "      <td>Parent=XM_001475631.1</td>\n",
       "    </tr>\n",
       "    <tr>\n",
       "      <th>1</th>\n",
       "      <td>chr17</td>\n",
       "      <td>RefSeq</td>\n",
       "      <td>CDS</td>\n",
       "      <td>6808204</td>\n",
       "      <td>6808245</td>\n",
       "      <td>.</td>\n",
       "      <td>+</td>\n",
       "      <td>0</td>\n",
       "      <td>Name=CDS:NC_000083.5:LOC100040603;Parent=XM_00...</td>\n",
       "    </tr>\n",
       "    <tr>\n",
       "      <th>2</th>\n",
       "      <td>chr17</td>\n",
       "      <td>RefSeq</td>\n",
       "      <td>CDS</td>\n",
       "      <td>6811792</td>\n",
       "      <td>6811869</td>\n",
       "      <td>.</td>\n",
       "      <td>+</td>\n",
       "      <td>2</td>\n",
       "      <td>Name=CDS:NC_000083.5:LOC100040603;Parent=XM_00...</td>\n",
       "    </tr>\n",
       "    <tr>\n",
       "      <th>3</th>\n",
       "      <td>chr17</td>\n",
       "      <td>RefSeq</td>\n",
       "      <td>exon</td>\n",
       "      <td>6806513</td>\n",
       "      <td>6806553</td>\n",
       "      <td>.</td>\n",
       "      <td>+</td>\n",
       "      <td>.</td>\n",
       "      <td>Parent=XM_001475631.1</td>\n",
       "    </tr>\n",
       "    <tr>\n",
       "      <th>4</th>\n",
       "      <td>chr17</td>\n",
       "      <td>RefSeq</td>\n",
       "      <td>five_prime_UTR</td>\n",
       "      <td>6806513</td>\n",
       "      <td>6806526</td>\n",
       "      <td>.</td>\n",
       "      <td>+</td>\n",
       "      <td>.</td>\n",
       "      <td>Parent=XM_001475631.1</td>\n",
       "    </tr>\n",
       "    <tr>\n",
       "      <th>...</th>\n",
       "      <td>...</td>\n",
       "      <td>...</td>\n",
       "      <td>...</td>\n",
       "      <td>...</td>\n",
       "      <td>...</td>\n",
       "      <td>...</td>\n",
       "      <td>...</td>\n",
       "      <td>...</td>\n",
       "      <td>...</td>\n",
       "    </tr>\n",
       "    <tr>\n",
       "      <th>507</th>\n",
       "      <td>chr17</td>\n",
       "      <td>RefSeq</td>\n",
       "      <td>exon</td>\n",
       "      <td>6812219</td>\n",
       "      <td>6818159</td>\n",
       "      <td>.</td>\n",
       "      <td>+</td>\n",
       "      <td>.</td>\n",
       "      <td>Parent=XM_001475631.1</td>\n",
       "    </tr>\n",
       "    <tr>\n",
       "      <th>508</th>\n",
       "      <td>chr17</td>\n",
       "      <td>RefSeq</td>\n",
       "      <td>protein</td>\n",
       "      <td>6806527</td>\n",
       "      <td>6812289</td>\n",
       "      <td>.</td>\n",
       "      <td>+</td>\n",
       "      <td>.</td>\n",
       "      <td>ID=;Parent=XM_001475631.1</td>\n",
       "    </tr>\n",
       "    <tr>\n",
       "      <th>509</th>\n",
       "      <td>chr17</td>\n",
       "      <td>RefSeq</td>\n",
       "      <td>CDS</td>\n",
       "      <td>6806527</td>\n",
       "      <td>6806553</td>\n",
       "      <td>.</td>\n",
       "      <td>+</td>\n",
       "      <td>0</td>\n",
       "      <td>Name=CDS:NC_000083.5:LOC100040603;Parent=XM_00...</td>\n",
       "    </tr>\n",
       "    <tr>\n",
       "      <th>510</th>\n",
       "      <td>chr17</td>\n",
       "      <td>RefSeq</td>\n",
       "      <td>exon</td>\n",
       "      <td>6811792</td>\n",
       "      <td>6811869</td>\n",
       "      <td>.</td>\n",
       "      <td>+</td>\n",
       "      <td>.</td>\n",
       "      <td>Parent=XM_001475631.1</td>\n",
       "    </tr>\n",
       "    <tr>\n",
       "      <th>511</th>\n",
       "      <td>chr17</td>\n",
       "      <td>RefSeq</td>\n",
       "      <td>exon</td>\n",
       "      <td>6806513</td>\n",
       "      <td>6806553</td>\n",
       "      <td>.</td>\n",
       "      <td>+</td>\n",
       "      <td>.</td>\n",
       "      <td>Parent=XM_001475631.1</td>\n",
       "    </tr>\n",
       "  </tbody>\n",
       "</table>\n",
       "<p>512 rows × 9 columns</p>\n",
       "</div>"
      ],
      "text/plain": [
       "    seq_id  source            type    start      end score strand phase  \\\n",
       "0    chr17  RefSeq            exon  6811330  6811453     .      +     .   \n",
       "1    chr17  RefSeq             CDS  6808204  6808245     .      +     0   \n",
       "2    chr17  RefSeq             CDS  6811792  6811869     .      +     2   \n",
       "3    chr17  RefSeq            exon  6806513  6806553     .      +     .   \n",
       "4    chr17  RefSeq  five_prime_UTR  6806513  6806526     .      +     .   \n",
       "..     ...     ...             ...      ...      ...   ...    ...   ...   \n",
       "507  chr17  RefSeq            exon  6812219  6818159     .      +     .   \n",
       "508  chr17  RefSeq         protein  6806527  6812289     .      +     .   \n",
       "509  chr17  RefSeq             CDS  6806527  6806553     .      +     0   \n",
       "510  chr17  RefSeq            exon  6811792  6811869     .      +     .   \n",
       "511  chr17  RefSeq            exon  6806513  6806553     .      +     .   \n",
       "\n",
       "                                            attributes  \n",
       "0                                Parent=XM_001475631.1  \n",
       "1    Name=CDS:NC_000083.5:LOC100040603;Parent=XM_00...  \n",
       "2    Name=CDS:NC_000083.5:LOC100040603;Parent=XM_00...  \n",
       "3                                Parent=XM_001475631.1  \n",
       "4                                Parent=XM_001475631.1  \n",
       "..                                                 ...  \n",
       "507                              Parent=XM_001475631.1  \n",
       "508                          ID=;Parent=XM_001475631.1  \n",
       "509  Name=CDS:NC_000083.5:LOC100040603;Parent=XM_00...  \n",
       "510                              Parent=XM_001475631.1  \n",
       "511                              Parent=XM_001475631.1  \n",
       "\n",
       "[512 rows x 9 columns]"
      ]
     },
     "execution_count": 4,
     "metadata": {},
     "output_type": "execute_result"
    }
   ],
   "source": [
    "gff"
   ]
  },
  {
   "cell_type": "markdown",
   "id": "b8156aa8",
   "metadata": {},
   "source": [
    "## Предварительный обзор таблицы"
   ]
  },
  {
   "cell_type": "code",
   "execution_count": 5,
   "id": "f268cd0a",
   "metadata": {
    "scrolled": true
   },
   "outputs": [
    {
     "data": {
      "text/plain": [
       "seq_id        object\n",
       "source        object\n",
       "type          object\n",
       "start          int64\n",
       "end            int64\n",
       "score         object\n",
       "strand        object\n",
       "phase         object\n",
       "attributes    object\n",
       "dtype: object"
      ]
     },
     "execution_count": 5,
     "metadata": {},
     "output_type": "execute_result"
    }
   ],
   "source": [
    "gff.dtypes"
   ]
  },
  {
   "cell_type": "code",
   "execution_count": 11,
   "id": "123ccde2",
   "metadata": {
    "scrolled": false
   },
   "outputs": [
    {
     "name": "stdout",
     "output_type": "stream",
     "text": [
      "512 rows in raw data.\n",
      "512 rows after trying to drop NA values.\n",
      "16 rows after trying to remove duplicate rows.\n"
     ]
    }
   ],
   "source": [
    "print(gff.shape[0], \"rows in raw data.\")\n",
    "print(gff.dropna().shape[0], \"rows after trying to drop NA values.\")\n",
    "print(gff.drop_duplicates().shape[0], \"rows after trying to remove duplicate rows.\")"
   ]
  },
  {
   "cell_type": "markdown",
   "id": "c32c8307",
   "metadata": {},
   "source": [
    "# Выполнение задач"
   ]
  },
  {
   "cell_type": "markdown",
   "id": "9c1d4d50",
   "metadata": {},
   "source": [
    "Выделяем из колонки `attributes` значение атрибута `Parent`. "
   ]
  },
  {
   "cell_type": "code",
   "execution_count": 49,
   "id": "67e44a9c",
   "metadata": {},
   "outputs": [],
   "source": [
    "gff['parent'] = \\\n",
    "    gff['attributes'].str.extract(r\"Parent=(?P<parent>\\S+)\")\n",
    "\n",
    "gff['parent'] = gff['parent'].str.replace(',','')"
   ]
  },
  {
   "cell_type": "code",
   "execution_count": 50,
   "id": "398e107e",
   "metadata": {
    "scrolled": false
   },
   "outputs": [
    {
     "data": {
      "text/html": [
       "<div>\n",
       "<style scoped>\n",
       "    .dataframe tbody tr th:only-of-type {\n",
       "        vertical-align: middle;\n",
       "    }\n",
       "\n",
       "    .dataframe tbody tr th {\n",
       "        vertical-align: top;\n",
       "    }\n",
       "\n",
       "    .dataframe thead th {\n",
       "        text-align: right;\n",
       "    }\n",
       "</style>\n",
       "<table border=\"1\" class=\"dataframe\">\n",
       "  <thead>\n",
       "    <tr style=\"text-align: right;\">\n",
       "      <th></th>\n",
       "      <th>seq_id</th>\n",
       "      <th>source</th>\n",
       "      <th>type</th>\n",
       "      <th>start</th>\n",
       "      <th>end</th>\n",
       "      <th>score</th>\n",
       "      <th>strand</th>\n",
       "      <th>phase</th>\n",
       "      <th>attributes</th>\n",
       "      <th>parent</th>\n",
       "    </tr>\n",
       "  </thead>\n",
       "  <tbody>\n",
       "    <tr>\n",
       "      <th>0</th>\n",
       "      <td>chr17</td>\n",
       "      <td>RefSeq</td>\n",
       "      <td>exon</td>\n",
       "      <td>6811330</td>\n",
       "      <td>6811453</td>\n",
       "      <td>.</td>\n",
       "      <td>+</td>\n",
       "      <td>.</td>\n",
       "      <td>Parent=XM_001475631.1</td>\n",
       "      <td>XM_001475631.1</td>\n",
       "    </tr>\n",
       "    <tr>\n",
       "      <th>1</th>\n",
       "      <td>chr17</td>\n",
       "      <td>RefSeq</td>\n",
       "      <td>CDS</td>\n",
       "      <td>6808204</td>\n",
       "      <td>6808245</td>\n",
       "      <td>.</td>\n",
       "      <td>+</td>\n",
       "      <td>0</td>\n",
       "      <td>Name=CDS:NC_000083.5:LOC100040603;Parent=XM_00...</td>\n",
       "      <td>XM_001475631.1</td>\n",
       "    </tr>\n",
       "    <tr>\n",
       "      <th>2</th>\n",
       "      <td>chr17</td>\n",
       "      <td>RefSeq</td>\n",
       "      <td>CDS</td>\n",
       "      <td>6811792</td>\n",
       "      <td>6811869</td>\n",
       "      <td>.</td>\n",
       "      <td>+</td>\n",
       "      <td>2</td>\n",
       "      <td>Name=CDS:NC_000083.5:LOC100040603;Parent=XM_00...</td>\n",
       "      <td>XM_001475631.1</td>\n",
       "    </tr>\n",
       "    <tr>\n",
       "      <th>3</th>\n",
       "      <td>chr17</td>\n",
       "      <td>RefSeq</td>\n",
       "      <td>exon</td>\n",
       "      <td>6806513</td>\n",
       "      <td>6806553</td>\n",
       "      <td>.</td>\n",
       "      <td>+</td>\n",
       "      <td>.</td>\n",
       "      <td>Parent=XM_001475631.1</td>\n",
       "      <td>XM_001475631.1</td>\n",
       "    </tr>\n",
       "    <tr>\n",
       "      <th>4</th>\n",
       "      <td>chr17</td>\n",
       "      <td>RefSeq</td>\n",
       "      <td>five_prime_UTR</td>\n",
       "      <td>6806513</td>\n",
       "      <td>6806526</td>\n",
       "      <td>.</td>\n",
       "      <td>+</td>\n",
       "      <td>.</td>\n",
       "      <td>Parent=XM_001475631.1</td>\n",
       "      <td>XM_001475631.1</td>\n",
       "    </tr>\n",
       "  </tbody>\n",
       "</table>\n",
       "</div>"
      ],
      "text/plain": [
       "  seq_id  source            type    start      end score strand phase  \\\n",
       "0  chr17  RefSeq            exon  6811330  6811453     .      +     .   \n",
       "1  chr17  RefSeq             CDS  6808204  6808245     .      +     0   \n",
       "2  chr17  RefSeq             CDS  6811792  6811869     .      +     2   \n",
       "3  chr17  RefSeq            exon  6806513  6806553     .      +     .   \n",
       "4  chr17  RefSeq  five_prime_UTR  6806513  6806526     .      +     .   \n",
       "\n",
       "                                          attributes          parent  \n",
       "0                              Parent=XM_001475631.1  XM_001475631.1  \n",
       "1  Name=CDS:NC_000083.5:LOC100040603;Parent=XM_00...  XM_001475631.1  \n",
       "2  Name=CDS:NC_000083.5:LOC100040603;Parent=XM_00...  XM_001475631.1  \n",
       "3                              Parent=XM_001475631.1  XM_001475631.1  \n",
       "4                              Parent=XM_001475631.1  XM_001475631.1  "
      ]
     },
     "execution_count": 50,
     "metadata": {},
     "output_type": "execute_result"
    }
   ],
   "source": [
    "gff.head()"
   ]
  },
  {
   "cell_type": "markdown",
   "id": "b55af5f3",
   "metadata": {},
   "source": [
    "Какое значение атрибута `Parent` самое частое?"
   ]
  },
  {
   "cell_type": "code",
   "execution_count": 51,
   "id": "bcc1926e",
   "metadata": {},
   "outputs": [
    {
     "data": {
      "text/plain": [
       "XM_001475631.1              479\n",
       "NC_000083.5:LOC100040603     33\n",
       "Name: parent, dtype: int64"
      ]
     },
     "execution_count": 51,
     "metadata": {},
     "output_type": "execute_result"
    }
   ],
   "source": [
    "parent_value_counts = gff['parent'].value_counts().sort_values(ascending = False)\n",
    "parent_value_counts"
   ]
  },
  {
   "cell_type": "code",
   "execution_count": 52,
   "id": "c01c5380",
   "metadata": {
    "scrolled": true
   },
   "outputs": [
    {
     "name": "stdout",
     "output_type": "stream",
     "text": [
      "XM_001475631.1\n"
     ]
    }
   ],
   "source": [
    "print(parent_value_counts.idxmax())"
   ]
  },
  {
   "cell_type": "markdown",
   "id": "4503e4af",
   "metadata": {},
   "source": [
    "Какое самое частое значение в колонке ```type```?"
   ]
  },
  {
   "cell_type": "code",
   "execution_count": 57,
   "id": "3aacc736",
   "metadata": {
    "scrolled": true
   },
   "outputs": [
    {
     "data": {
      "text/plain": [
       "exon               201\n",
       "CDS                170\n",
       "five_prime_UTR      47\n",
       "mRNA                33\n",
       "three_prime_UTR     32\n",
       "protein             29\n",
       "Name: type, dtype: int64"
      ]
     },
     "execution_count": 57,
     "metadata": {},
     "output_type": "execute_result"
    }
   ],
   "source": [
    "type_values = gff['type'].value_counts()\n",
    "type_values"
   ]
  },
  {
   "cell_type": "code",
   "execution_count": 58,
   "id": "cd3169a7",
   "metadata": {},
   "outputs": [
    {
     "name": "stdout",
     "output_type": "stream",
     "text": [
      "exon\n"
     ]
    }
   ],
   "source": [
    "print(type_values.idxmax())"
   ]
  }
 ],
 "metadata": {
  "kernelspec": {
   "display_name": "Python 3 (ipykernel)",
   "language": "python",
   "name": "python3"
  },
  "language_info": {
   "codemirror_mode": {
    "name": "ipython",
    "version": 3
   },
   "file_extension": ".py",
   "mimetype": "text/x-python",
   "name": "python",
   "nbconvert_exporter": "python",
   "pygments_lexer": "ipython3",
   "version": "3.9.7"
  }
 },
 "nbformat": 4,
 "nbformat_minor": 5
}
