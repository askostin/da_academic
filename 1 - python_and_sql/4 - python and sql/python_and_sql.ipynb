{
 "cells": [
  {
   "cell_type": "markdown",
   "id": "c736d037",
   "metadata": {},
   "source": [
    "## Импорт библиотек"
   ]
  },
  {
   "cell_type": "code",
   "execution_count": 1,
   "id": "0d850355",
   "metadata": {},
   "outputs": [],
   "source": [
    "import pandahouse as ph\n",
    "import pandas as pd\n",
    "import numpy as np\n",
    "\n",
    "%matplotlib inline\n",
    "import matplotlib.pyplot as plt\n",
    "import seaborn as sns"
   ]
  },
  {
   "cell_type": "markdown",
   "id": "f2e3fc33",
   "metadata": {},
   "source": [
    "## Подсоединение к БД"
   ]
  },
  {
   "cell_type": "code",
   "execution_count": 2,
   "id": "cd219cee",
   "metadata": {},
   "outputs": [],
   "source": [
    "connection = dict(database='default',\n",
    "                  host='https://clickhouse.lab.karpov.courses',\n",
    "                  user='student',\n",
    "                  password='dpo_python_2020')"
   ]
  },
  {
   "cell_type": "markdown",
   "id": "fb689ab4",
   "metadata": {},
   "source": [
    "## Запросы к БД"
   ]
  },
  {
   "cell_type": "markdown",
   "id": "54d72ccf",
   "metadata": {},
   "source": [
    "Получаем данные о количестве строк и столбцов в таблице `ldn_listings`:"
   ]
  },
  {
   "cell_type": "code",
   "execution_count": 3,
   "id": "1f16a56f",
   "metadata": {},
   "outputs": [],
   "source": [
    "#пишем запрос, и получаем данные из clickhouse в pandas dataframe\n",
    "query1 = \"\"\"\n",
    "SELECT COUNT(id) AS rows_number\n",
    "FROM ldn_listings\n",
    "\"\"\"\n",
    "df1 = ph.read_clickhouse(query1, connection = connection)\n",
    "\n",
    "query2 = \"\"\"\n",
    "SELECT *\n",
    "FROM ldn_listings\n",
    "LIMIT 1\n",
    "\"\"\"\n",
    "df2 = ph.read_clickhouse(query2, connection = connection)"
   ]
  },
  {
   "cell_type": "code",
   "execution_count": 7,
   "id": "cd6feb43",
   "metadata": {
    "scrolled": false
   },
   "outputs": [
    {
     "name": "stdout",
     "output_type": "stream",
     "text": [
      "85207 rows\n",
      "106 columns\n"
     ]
    }
   ],
   "source": [
    "print(df1['rows_number'].iloc[0],\"rows\")\n",
    "print(df2.shape[1],\"columns\")"
   ]
  },
  {
   "cell_type": "markdown",
   "id": "441c4f32",
   "metadata": {},
   "source": [
    "Выгрузка из таблицы данных о цене в зависимости от типа жилья. Необходимые столбцы:\n",
    "- `price` – цена за ночь,\n",
    "- `room_type` – тип сдаваемого жилья (доступные варианты: `Entire home/apt`, `Private room`, `Hotel room`, `Shared room`)."
   ]
  },
  {
   "cell_type": "code",
   "execution_count": 8,
   "id": "eba3f2d9",
   "metadata": {},
   "outputs": [
    {
     "data": {
      "text/html": [
       "<div>\n",
       "<style scoped>\n",
       "    .dataframe tbody tr th:only-of-type {\n",
       "        vertical-align: middle;\n",
       "    }\n",
       "\n",
       "    .dataframe tbody tr th {\n",
       "        vertical-align: top;\n",
       "    }\n",
       "\n",
       "    .dataframe thead th {\n",
       "        text-align: right;\n",
       "    }\n",
       "</style>\n",
       "<table border=\"1\" class=\"dataframe\">\n",
       "  <thead>\n",
       "    <tr style=\"text-align: right;\">\n",
       "      <th></th>\n",
       "      <th>room_type</th>\n",
       "      <th>price</th>\n",
       "    </tr>\n",
       "  </thead>\n",
       "  <tbody>\n",
       "    <tr>\n",
       "      <th>0</th>\n",
       "      <td>Private room</td>\n",
       "      <td>65.0</td>\n",
       "    </tr>\n",
       "    <tr>\n",
       "      <th>1</th>\n",
       "      <td>Entire home/apt</td>\n",
       "      <td>100.0</td>\n",
       "    </tr>\n",
       "    <tr>\n",
       "      <th>2</th>\n",
       "      <td>Entire home/apt</td>\n",
       "      <td>300.0</td>\n",
       "    </tr>\n",
       "    <tr>\n",
       "      <th>3</th>\n",
       "      <td>Private room</td>\n",
       "      <td>150.0</td>\n",
       "    </tr>\n",
       "    <tr>\n",
       "      <th>4</th>\n",
       "      <td>Entire home/apt</td>\n",
       "      <td>65.0</td>\n",
       "    </tr>\n",
       "    <tr>\n",
       "      <th>...</th>\n",
       "      <td>...</td>\n",
       "      <td>...</td>\n",
       "    </tr>\n",
       "    <tr>\n",
       "      <th>995</th>\n",
       "      <td>Entire home/apt</td>\n",
       "      <td>110.0</td>\n",
       "    </tr>\n",
       "    <tr>\n",
       "      <th>996</th>\n",
       "      <td>Entire home/apt</td>\n",
       "      <td>110.0</td>\n",
       "    </tr>\n",
       "    <tr>\n",
       "      <th>997</th>\n",
       "      <td>Private room</td>\n",
       "      <td>65.0</td>\n",
       "    </tr>\n",
       "    <tr>\n",
       "      <th>998</th>\n",
       "      <td>Entire home/apt</td>\n",
       "      <td>100.0</td>\n",
       "    </tr>\n",
       "    <tr>\n",
       "      <th>999</th>\n",
       "      <td>Entire home/apt</td>\n",
       "      <td>80.0</td>\n",
       "    </tr>\n",
       "  </tbody>\n",
       "</table>\n",
       "<p>1000 rows × 2 columns</p>\n",
       "</div>"
      ],
      "text/plain": [
       "           room_type  price\n",
       "0       Private room   65.0\n",
       "1    Entire home/apt  100.0\n",
       "2    Entire home/apt  300.0\n",
       "3       Private room  150.0\n",
       "4    Entire home/apt   65.0\n",
       "..               ...    ...\n",
       "995  Entire home/apt  110.0\n",
       "996  Entire home/apt  110.0\n",
       "997     Private room   65.0\n",
       "998  Entire home/apt  100.0\n",
       "999  Entire home/apt   80.0\n",
       "\n",
       "[1000 rows x 2 columns]"
      ]
     },
     "execution_count": 8,
     "metadata": {},
     "output_type": "execute_result"
    }
   ],
   "source": [
    "query3 = \"\"\"\n",
    "SELECT\n",
    "    room_type,\n",
    "    toFloat32OrNull(replaceRegexpAll(price, '[$,]', '')) AS price    \n",
    "FROM ldn_listings\n",
    "ORDER BY\n",
    "    id ASC\n",
    "LIMIT 1000\n",
    "\"\"\"\n",
    "df = ph.read_clickhouse(query3, connection = connection)\n",
    "df"
   ]
  },
  {
   "cell_type": "code",
   "execution_count": 9,
   "id": "c2363972",
   "metadata": {
    "scrolled": true
   },
   "outputs": [
    {
     "data": {
      "text/html": [
       "<div>\n",
       "<style scoped>\n",
       "    .dataframe tbody tr th:only-of-type {\n",
       "        vertical-align: middle;\n",
       "    }\n",
       "\n",
       "    .dataframe tbody tr th {\n",
       "        vertical-align: top;\n",
       "    }\n",
       "\n",
       "    .dataframe thead th {\n",
       "        text-align: right;\n",
       "    }\n",
       "</style>\n",
       "<table border=\"1\" class=\"dataframe\">\n",
       "  <thead>\n",
       "    <tr style=\"text-align: right;\">\n",
       "      <th></th>\n",
       "      <th>room_type</th>\n",
       "      <th>price</th>\n",
       "    </tr>\n",
       "  </thead>\n",
       "  <tbody>\n",
       "    <tr>\n",
       "      <th>0</th>\n",
       "      <td>Entire home/apt</td>\n",
       "      <td>160.00</td>\n",
       "    </tr>\n",
       "    <tr>\n",
       "      <th>1</th>\n",
       "      <td>Hotel room</td>\n",
       "      <td>157.00</td>\n",
       "    </tr>\n",
       "    <tr>\n",
       "      <th>2</th>\n",
       "      <td>Private room</td>\n",
       "      <td>70.00</td>\n",
       "    </tr>\n",
       "    <tr>\n",
       "      <th>3</th>\n",
       "      <td>Shared room</td>\n",
       "      <td>69.25</td>\n",
       "    </tr>\n",
       "  </tbody>\n",
       "</table>\n",
       "</div>"
      ],
      "text/plain": [
       "         room_type   price\n",
       "0  Entire home/apt  160.00\n",
       "1       Hotel room  157.00\n",
       "2     Private room   70.00\n",
       "3      Shared room   69.25"
      ]
     },
     "execution_count": 9,
     "metadata": {},
     "output_type": "execute_result"
    }
   ],
   "source": [
    "df \\\n",
    "    .groupby('room_type', as_index = False) \\\n",
    "    .quantile(q = 0.75)"
   ]
  },
  {
   "cell_type": "code",
   "execution_count": 10,
   "id": "d2c7869e",
   "metadata": {},
   "outputs": [
    {
     "data": {
      "text/plain": [
       "2    70.0\n",
       "Name: price, dtype: float64"
      ]
     },
     "execution_count": 10,
     "metadata": {},
     "output_type": "execute_result"
    }
   ],
   "source": [
    "df \\\n",
    "    .groupby('room_type', as_index = False) \\\n",
    "    .quantile(q = 0.75) \\\n",
    "    .query(\"room_type == 'Private room'\") \\\n",
    "    ['price']"
   ]
  },
  {
   "cell_type": "code",
   "execution_count": 11,
   "id": "16a659a2",
   "metadata": {},
   "outputs": [],
   "source": [
    "subtable = df \\\n",
    "    .groupby('room_type', as_index = False) \\\n",
    "    .quantile(q = 0.75)"
   ]
  },
  {
   "cell_type": "code",
   "execution_count": 12,
   "id": "2c2da393",
   "metadata": {},
   "outputs": [
    {
     "data": {
      "text/plain": [
       "2    70.0\n",
       "Name: price, dtype: float64"
      ]
     },
     "execution_count": 12,
     "metadata": {},
     "output_type": "execute_result"
    }
   ],
   "source": [
    "answer_raw = subtable.query(\"room_type == 'Private room'\")['price']\n",
    "answer_raw"
   ]
  },
  {
   "cell_type": "code",
   "execution_count": 13,
   "id": "c7bcddbc",
   "metadata": {
    "scrolled": true
   },
   "outputs": [
    {
     "data": {
      "text/plain": [
       "dtype('float64')"
      ]
     },
     "execution_count": 13,
     "metadata": {},
     "output_type": "execute_result"
    }
   ],
   "source": [
    "answer_raw.dtypes"
   ]
  },
  {
   "cell_type": "code",
   "execution_count": 14,
   "id": "ba44f549",
   "metadata": {},
   "outputs": [
    {
     "data": {
      "text/plain": [
       "70.0"
      ]
     },
     "execution_count": 14,
     "metadata": {},
     "output_type": "execute_result"
    }
   ],
   "source": [
    "answer_raw.iloc[0]"
   ]
  },
  {
   "cell_type": "markdown",
   "id": "97bfb15e",
   "metadata": {},
   "source": [
    "К данным о цене и типе комнаты дополнительно выгрузим данные о рейтинге жилья (`review_scores_rating`). В запросе необходимо будет отфильтровать пустые значения `review_scores_rating` и сконвертировать эту колонку в тип `float32`."
   ]
  },
  {
   "cell_type": "code",
   "execution_count": 15,
   "id": "8b3c504f",
   "metadata": {},
   "outputs": [
    {
     "data": {
      "text/html": [
       "<div>\n",
       "<style scoped>\n",
       "    .dataframe tbody tr th:only-of-type {\n",
       "        vertical-align: middle;\n",
       "    }\n",
       "\n",
       "    .dataframe tbody tr th {\n",
       "        vertical-align: top;\n",
       "    }\n",
       "\n",
       "    .dataframe thead th {\n",
       "        text-align: right;\n",
       "    }\n",
       "</style>\n",
       "<table border=\"1\" class=\"dataframe\">\n",
       "  <thead>\n",
       "    <tr style=\"text-align: right;\">\n",
       "      <th></th>\n",
       "      <th>room_type</th>\n",
       "      <th>price</th>\n",
       "      <th>review_scores_rating</th>\n",
       "    </tr>\n",
       "  </thead>\n",
       "  <tbody>\n",
       "    <tr>\n",
       "      <th>0</th>\n",
       "      <td>Private room</td>\n",
       "      <td>65.0</td>\n",
       "      <td>97.0</td>\n",
       "    </tr>\n",
       "    <tr>\n",
       "      <th>1</th>\n",
       "      <td>Entire home/apt</td>\n",
       "      <td>100.0</td>\n",
       "      <td>96.0</td>\n",
       "    </tr>\n",
       "    <tr>\n",
       "      <th>2</th>\n",
       "      <td>Entire home/apt</td>\n",
       "      <td>300.0</td>\n",
       "      <td>94.0</td>\n",
       "    </tr>\n",
       "    <tr>\n",
       "      <th>3</th>\n",
       "      <td>Entire home/apt</td>\n",
       "      <td>65.0</td>\n",
       "      <td>93.0</td>\n",
       "    </tr>\n",
       "    <tr>\n",
       "      <th>4</th>\n",
       "      <td>Private room</td>\n",
       "      <td>29.0</td>\n",
       "      <td>96.0</td>\n",
       "    </tr>\n",
       "    <tr>\n",
       "      <th>...</th>\n",
       "      <td>...</td>\n",
       "      <td>...</td>\n",
       "      <td>...</td>\n",
       "    </tr>\n",
       "    <tr>\n",
       "      <th>995</th>\n",
       "      <td>Entire home/apt</td>\n",
       "      <td>165.0</td>\n",
       "      <td>100.0</td>\n",
       "    </tr>\n",
       "    <tr>\n",
       "      <th>996</th>\n",
       "      <td>Private room</td>\n",
       "      <td>99.0</td>\n",
       "      <td>93.0</td>\n",
       "    </tr>\n",
       "    <tr>\n",
       "      <th>997</th>\n",
       "      <td>Private room</td>\n",
       "      <td>45.0</td>\n",
       "      <td>100.0</td>\n",
       "    </tr>\n",
       "    <tr>\n",
       "      <th>998</th>\n",
       "      <td>Private room</td>\n",
       "      <td>20.0</td>\n",
       "      <td>88.0</td>\n",
       "    </tr>\n",
       "    <tr>\n",
       "      <th>999</th>\n",
       "      <td>Entire home/apt</td>\n",
       "      <td>100.0</td>\n",
       "      <td>90.0</td>\n",
       "    </tr>\n",
       "  </tbody>\n",
       "</table>\n",
       "<p>1000 rows × 3 columns</p>\n",
       "</div>"
      ],
      "text/plain": [
       "           room_type  price  review_scores_rating\n",
       "0       Private room   65.0                  97.0\n",
       "1    Entire home/apt  100.0                  96.0\n",
       "2    Entire home/apt  300.0                  94.0\n",
       "3    Entire home/apt   65.0                  93.0\n",
       "4       Private room   29.0                  96.0\n",
       "..               ...    ...                   ...\n",
       "995  Entire home/apt  165.0                 100.0\n",
       "996     Private room   99.0                  93.0\n",
       "997     Private room   45.0                 100.0\n",
       "998     Private room   20.0                  88.0\n",
       "999  Entire home/apt  100.0                  90.0\n",
       "\n",
       "[1000 rows x 3 columns]"
      ]
     },
     "execution_count": 15,
     "metadata": {},
     "output_type": "execute_result"
    }
   ],
   "source": [
    "query4 = \"\"\"\n",
    "SELECT\n",
    "    room_type,\n",
    "    toFloat32OrNull(replaceRegexpAll(price, '[$,]', '')) AS price,\n",
    "    toFloat32OrNull(review_scores_rating) AS review_scores_rating\n",
    "FROM\n",
    "    ldn_listings\n",
    "WHERE\n",
    "    review_scores_rating IS NOT NULL\n",
    "ORDER BY\n",
    "    id ASC\n",
    "LIMIT 1000\n",
    "\"\"\"\n",
    "df4 = ph.read_clickhouse(query4, connection = connection)\n",
    "df4"
   ]
  },
  {
   "cell_type": "code",
   "execution_count": 16,
   "id": "38f1603f",
   "metadata": {},
   "outputs": [
    {
     "data": {
      "text/html": [
       "<div>\n",
       "<style scoped>\n",
       "    .dataframe tbody tr th:only-of-type {\n",
       "        vertical-align: middle;\n",
       "    }\n",
       "\n",
       "    .dataframe tbody tr th {\n",
       "        vertical-align: top;\n",
       "    }\n",
       "\n",
       "    .dataframe thead th {\n",
       "        text-align: right;\n",
       "    }\n",
       "</style>\n",
       "<table border=\"1\" class=\"dataframe\">\n",
       "  <thead>\n",
       "    <tr style=\"text-align: right;\">\n",
       "      <th></th>\n",
       "      <th>room_type</th>\n",
       "      <th>price</th>\n",
       "      <th>review_scores_rating</th>\n",
       "    </tr>\n",
       "  </thead>\n",
       "  <tbody>\n",
       "    <tr>\n",
       "      <th>0</th>\n",
       "      <td>Entire home/apt</td>\n",
       "      <td>135.882950</td>\n",
       "      <td>93.568787</td>\n",
       "    </tr>\n",
       "    <tr>\n",
       "      <th>1</th>\n",
       "      <td>Hotel room</td>\n",
       "      <td>134.000000</td>\n",
       "      <td>92.500000</td>\n",
       "    </tr>\n",
       "    <tr>\n",
       "      <th>2</th>\n",
       "      <td>Private room</td>\n",
       "      <td>54.642437</td>\n",
       "      <td>94.766205</td>\n",
       "    </tr>\n",
       "    <tr>\n",
       "      <th>3</th>\n",
       "      <td>Shared room</td>\n",
       "      <td>21.000000</td>\n",
       "      <td>90.000000</td>\n",
       "    </tr>\n",
       "  </tbody>\n",
       "</table>\n",
       "</div>"
      ],
      "text/plain": [
       "         room_type       price  review_scores_rating\n",
       "0  Entire home/apt  135.882950             93.568787\n",
       "1       Hotel room  134.000000             92.500000\n",
       "2     Private room   54.642437             94.766205\n",
       "3      Shared room   21.000000             90.000000"
      ]
     },
     "execution_count": 16,
     "metadata": {},
     "output_type": "execute_result"
    }
   ],
   "source": [
    "df_4_grouping = df4 \\\n",
    "    .groupby('room_type', as_index = False) \\\n",
    "    .agg({'price': 'mean',\n",
    "          'review_scores_rating': 'mean'}) \\\n",
    "    .sort_values('room_type')\n",
    "df_4_grouping"
   ]
  },
  {
   "cell_type": "code",
   "execution_count": 17,
   "id": "3293f24c",
   "metadata": {},
   "outputs": [
    {
     "data": {
      "text/plain": [
       "<AxesSubplot:xlabel='price', ylabel='review_scores_rating'>"
      ]
     },
     "execution_count": 17,
     "metadata": {},
     "output_type": "execute_result"
    },
    {
     "data": {
      "image/png": "[encoded data removed]",
      "text/plain": [
       "<Figure size 432x288 with 1 Axes>"
      ]
     },
     "metadata": {
      "needs_background": "light"
     },
     "output_type": "display_data"
    }
   ],
   "source": [
    "sns.scatterplot(x = 'price',\n",
    "                y = 'review_scores_rating',\n",
    "                data = df_4_grouping,\n",
    "                hue = 'room_type')"
   ]
  },
  {
   "cell_type": "markdown",
   "id": "c2a5c50f",
   "metadata": {},
   "source": [
    "Проверим, какие способы верификации аккаунта использовали хозяева, предлагающие различные впечатления (```experiences_offered != 'none'```). Для каждого уникального пользователя выгрузим только две колонки:\n",
    "\n",
    "- ```host_id``` – идентификатор хозяина (уникальный)\n",
    "- ```host_verifications``` – какими способами хост подтвердил свой профиль"
   ]
  },
  {
   "cell_type": "code",
   "execution_count": 18,
   "id": "9b8d8375",
   "metadata": {},
   "outputs": [
    {
     "data": {
      "text/html": [
       "<div>\n",
       "<style scoped>\n",
       "    .dataframe tbody tr th:only-of-type {\n",
       "        vertical-align: middle;\n",
       "    }\n",
       "\n",
       "    .dataframe tbody tr th {\n",
       "        vertical-align: top;\n",
       "    }\n",
       "\n",
       "    .dataframe thead th {\n",
       "        text-align: right;\n",
       "    }\n",
       "</style>\n",
       "<table border=\"1\" class=\"dataframe\">\n",
       "  <thead>\n",
       "    <tr style=\"text-align: right;\">\n",
       "      <th></th>\n",
       "      <th>host_id</th>\n",
       "      <th>host_verifications</th>\n",
       "    </tr>\n",
       "  </thead>\n",
       "  <tbody>\n",
       "    <tr>\n",
       "      <th>0</th>\n",
       "      <td>54730</td>\n",
       "      <td>['email', 'phone', 'facebook', 'reviews', 'off...</td>\n",
       "    </tr>\n",
       "    <tr>\n",
       "      <th>1</th>\n",
       "      <td>60302</td>\n",
       "      <td>['email', 'phone', 'reviews', 'jumio', 'govern...</td>\n",
       "    </tr>\n",
       "    <tr>\n",
       "      <th>2</th>\n",
       "      <td>67915</td>\n",
       "      <td>['email', 'phone', 'jumio', 'selfie', 'governm...</td>\n",
       "    </tr>\n",
       "    <tr>\n",
       "      <th>3</th>\n",
       "      <td>167107</td>\n",
       "      <td>['email', 'phone', 'manual_offline', 'jumio', ...</td>\n",
       "    </tr>\n",
       "    <tr>\n",
       "      <th>4</th>\n",
       "      <td>103583</td>\n",
       "      <td>['email', 'phone', 'reviews', 'offline_governm...</td>\n",
       "    </tr>\n",
       "    <tr>\n",
       "      <th>...</th>\n",
       "      <td>...</td>\n",
       "      <td>...</td>\n",
       "    </tr>\n",
       "    <tr>\n",
       "      <th>1356</th>\n",
       "      <td>21558962</td>\n",
       "      <td>['email', 'phone', 'reviews', 'jumio', 'govern...</td>\n",
       "    </tr>\n",
       "    <tr>\n",
       "      <th>1357</th>\n",
       "      <td>21257846</td>\n",
       "      <td>['email', 'phone', 'reviews', 'jumio', 'offlin...</td>\n",
       "    </tr>\n",
       "    <tr>\n",
       "      <th>1358</th>\n",
       "      <td>34219613</td>\n",
       "      <td>['email', 'phone', 'reviews', 'jumio', 'govern...</td>\n",
       "    </tr>\n",
       "    <tr>\n",
       "      <th>1359</th>\n",
       "      <td>34299581</td>\n",
       "      <td>['email', 'phone', 'google', 'reviews', 'jumio...</td>\n",
       "    </tr>\n",
       "    <tr>\n",
       "      <th>1360</th>\n",
       "      <td>26917573</td>\n",
       "      <td>['email', 'phone', 'reviews', 'manual_offline'...</td>\n",
       "    </tr>\n",
       "  </tbody>\n",
       "</table>\n",
       "<p>1361 rows × 2 columns</p>\n",
       "</div>"
      ],
      "text/plain": [
       "       host_id                                 host_verifications\n",
       "0        54730  ['email', 'phone', 'facebook', 'reviews', 'off...\n",
       "1        60302  ['email', 'phone', 'reviews', 'jumio', 'govern...\n",
       "2        67915  ['email', 'phone', 'jumio', 'selfie', 'governm...\n",
       "3       167107  ['email', 'phone', 'manual_offline', 'jumio', ...\n",
       "4       103583  ['email', 'phone', 'reviews', 'offline_governm...\n",
       "...        ...                                                ...\n",
       "1356  21558962  ['email', 'phone', 'reviews', 'jumio', 'govern...\n",
       "1357  21257846  ['email', 'phone', 'reviews', 'jumio', 'offlin...\n",
       "1358  34219613  ['email', 'phone', 'reviews', 'jumio', 'govern...\n",
       "1359  34299581  ['email', 'phone', 'google', 'reviews', 'jumio...\n",
       "1360  26917573  ['email', 'phone', 'reviews', 'manual_offline'...\n",
       "\n",
       "[1361 rows x 2 columns]"
      ]
     },
     "execution_count": 18,
     "metadata": {},
     "output_type": "execute_result"
    }
   ],
   "source": [
    "query5 = \"\"\"\n",
    "SELECT\n",
    "    DISTINCT host_id,\n",
    "    host_verifications\n",
    "FROM\n",
    "    ldn_listings\n",
    "WHERE\n",
    "    experiences_offered != 'none'\n",
    "\"\"\"\n",
    "df5 = ph.read_clickhouse(query5, connection = connection)\n",
    "df5"
   ]
  },
  {
   "cell_type": "code",
   "execution_count": 19,
   "id": "f1c8cb9f",
   "metadata": {},
   "outputs": [
    {
     "data": {
      "text/plain": [
       "host_id               uint32\n",
       "host_verifications    object\n",
       "dtype: object"
      ]
     },
     "execution_count": 19,
     "metadata": {},
     "output_type": "execute_result"
    }
   ],
   "source": [
    "df5.dtypes"
   ]
  },
  {
   "cell_type": "code",
   "execution_count": 20,
   "id": "77c37f05",
   "metadata": {},
   "outputs": [
    {
     "name": "stdout",
     "output_type": "stream",
     "text": [
      "['email', 'phone', 'facebook', 'reviews', 'offline_government_id', 'selfie', 'government_id']\n"
     ]
    },
    {
     "data": {
      "text/plain": [
       "str"
      ]
     },
     "execution_count": 20,
     "metadata": {},
     "output_type": "execute_result"
    }
   ],
   "source": [
    "print(df5.loc[0]['host_verifications'])\n",
    "type(df5.loc[0]['host_verifications'])"
   ]
  },
  {
   "cell_type": "markdown",
   "id": "026453c4",
   "metadata": {},
   "source": [
    "Проверяем, сколько значений в ```host_verifications``` не являются строковыми представлениями списка, то есть не начинаются с ```[```:"
   ]
  },
  {
   "cell_type": "code",
   "execution_count": 21,
   "id": "f1e89eef",
   "metadata": {},
   "outputs": [
    {
     "data": {
      "text/plain": [
       "0"
      ]
     },
     "execution_count": 21,
     "metadata": {},
     "output_type": "execute_result"
    }
   ],
   "source": [
    "df5[~df5['host_verifications'].str.startswith('[')].shape[0]"
   ]
  },
  {
   "cell_type": "markdown",
   "id": "e3522877",
   "metadata": {},
   "source": [
    "Мы можем спокойно рассматривать все элементы как строковые представления списков."
   ]
  },
  {
   "cell_type": "code",
   "execution_count": 22,
   "id": "dccebcc0",
   "metadata": {},
   "outputs": [
    {
     "name": "stdout",
     "output_type": "stream",
     "text": [
      "'email'\n",
      "email\n"
     ]
    }
   ],
   "source": [
    "print(\"'email'\")\n",
    "print(\"'email'\".replace(\"'\", \"\"))"
   ]
  },
  {
   "cell_type": "code",
   "execution_count": 23,
   "id": "6165813e",
   "metadata": {
    "scrolled": true
   },
   "outputs": [
    {
     "data": {
      "text/html": [
       "<div>\n",
       "<style scoped>\n",
       "    .dataframe tbody tr th:only-of-type {\n",
       "        vertical-align: middle;\n",
       "    }\n",
       "\n",
       "    .dataframe tbody tr th {\n",
       "        vertical-align: top;\n",
       "    }\n",
       "\n",
       "    .dataframe thead th {\n",
       "        text-align: right;\n",
       "    }\n",
       "</style>\n",
       "<table border=\"1\" class=\"dataframe\">\n",
       "  <thead>\n",
       "    <tr style=\"text-align: right;\">\n",
       "      <th></th>\n",
       "      <th>host_id</th>\n",
       "      <th>host_verifications</th>\n",
       "    </tr>\n",
       "  </thead>\n",
       "  <tbody>\n",
       "    <tr>\n",
       "      <th>0</th>\n",
       "      <td>54730</td>\n",
       "      <td>[email, phone, facebook, reviews, offline_gove...</td>\n",
       "    </tr>\n",
       "    <tr>\n",
       "      <th>1</th>\n",
       "      <td>60302</td>\n",
       "      <td>[email, phone, reviews, jumio, government_id]</td>\n",
       "    </tr>\n",
       "    <tr>\n",
       "      <th>2</th>\n",
       "      <td>67915</td>\n",
       "      <td>[email, phone, jumio, selfie, government_id, i...</td>\n",
       "    </tr>\n",
       "    <tr>\n",
       "      <th>3</th>\n",
       "      <td>167107</td>\n",
       "      <td>[email, phone, manual_offline, jumio, offline_...</td>\n",
       "    </tr>\n",
       "    <tr>\n",
       "      <th>4</th>\n",
       "      <td>103583</td>\n",
       "      <td>[email, phone, reviews, offline_government_id,...</td>\n",
       "    </tr>\n",
       "    <tr>\n",
       "      <th>...</th>\n",
       "      <td>...</td>\n",
       "      <td>...</td>\n",
       "    </tr>\n",
       "    <tr>\n",
       "      <th>1356</th>\n",
       "      <td>21558962</td>\n",
       "      <td>[email, phone, reviews, jumio, government_id]</td>\n",
       "    </tr>\n",
       "    <tr>\n",
       "      <th>1357</th>\n",
       "      <td>21257846</td>\n",
       "      <td>[email, phone, reviews, jumio, offline_governm...</td>\n",
       "    </tr>\n",
       "    <tr>\n",
       "      <th>1358</th>\n",
       "      <td>34219613</td>\n",
       "      <td>[email, phone, reviews, jumio, government_id]</td>\n",
       "    </tr>\n",
       "    <tr>\n",
       "      <th>1359</th>\n",
       "      <td>34299581</td>\n",
       "      <td>[email, phone, google, reviews, jumio, offline...</td>\n",
       "    </tr>\n",
       "    <tr>\n",
       "      <th>1360</th>\n",
       "      <td>26917573</td>\n",
       "      <td>[email, phone, reviews, manual_offline, jumio,...</td>\n",
       "    </tr>\n",
       "  </tbody>\n",
       "</table>\n",
       "<p>1361 rows × 2 columns</p>\n",
       "</div>"
      ],
      "text/plain": [
       "       host_id                                 host_verifications\n",
       "0        54730  [email, phone, facebook, reviews, offline_gove...\n",
       "1        60302      [email, phone, reviews, jumio, government_id]\n",
       "2        67915  [email, phone, jumio, selfie, government_id, i...\n",
       "3       167107  [email, phone, manual_offline, jumio, offline_...\n",
       "4       103583  [email, phone, reviews, offline_government_id,...\n",
       "...        ...                                                ...\n",
       "1356  21558962      [email, phone, reviews, jumio, government_id]\n",
       "1357  21257846  [email, phone, reviews, jumio, offline_governm...\n",
       "1358  34219613      [email, phone, reviews, jumio, government_id]\n",
       "1359  34299581  [email, phone, google, reviews, jumio, offline...\n",
       "1360  26917573  [email, phone, reviews, manual_offline, jumio,...\n",
       "\n",
       "[1361 rows x 2 columns]"
      ]
     },
     "execution_count": 23,
     "metadata": {},
     "output_type": "execute_result"
    }
   ],
   "source": [
    "df5['host_verifications'] = \\\n",
    "    df5['host_verifications'] \\\n",
    "    .apply(lambda s: s[1:-1].split(', ')) \\\n",
    "    .apply(lambda listof_s: [s.replace(\"'\", '') for s in listof_s])\n",
    "df5"
   ]
  },
  {
   "cell_type": "code",
   "execution_count": 24,
   "id": "f914dbb6",
   "metadata": {},
   "outputs": [
    {
     "data": {
      "text/plain": [
       "host_verifications\n",
       "phone                    1361\n",
       "email                    1345\n",
       "reviews                  1309\n",
       "government_id            1196\n",
       "jumio                    1115\n",
       "offline_government_id     469\n",
       "work_email                279\n",
       "facebook                  270\n",
       "selfie                    252\n",
       "identity_manual           227\n",
       "manual_offline             70\n",
       "google                     34\n",
       "kba                        27\n",
       "manual_online              16\n",
       "sent_id                     6\n",
       "dtype: int64"
      ]
     },
     "execution_count": 24,
     "metadata": {},
     "output_type": "execute_result"
    }
   ],
   "source": [
    "host_verification_types = \\\n",
    "    df5 \\\n",
    "    .explode('host_verifications') \\\n",
    "    .drop_duplicates() \\\n",
    "    .value_counts('host_verifications')\n",
    "host_verification_types"
   ]
  },
  {
   "cell_type": "code",
   "execution_count": 25,
   "id": "45204e50",
   "metadata": {},
   "outputs": [
    {
     "data": {
      "text/plain": [
       "34"
      ]
     },
     "execution_count": 25,
     "metadata": {},
     "output_type": "execute_result"
    }
   ],
   "source": [
    "host_verification_types['google']"
   ]
  },
  {
   "cell_type": "markdown",
   "id": "4b4b8dc7",
   "metadata": {},
   "source": [
    "Посмотрим, для скольких объявлений и в каких районах хозяева указали впечатления.\n",
    "\n",
    "Сгруппируем данные по району (```neighbourhood_cleansed```) и виду впечатления (```experiences_offered```) и посчитаем количество объявлений. Новый столбец назовём ```experiences_count```."
   ]
  },
  {
   "cell_type": "code",
   "execution_count": 26,
   "id": "91191444",
   "metadata": {},
   "outputs": [
    {
     "data": {
      "text/html": [
       "<div>\n",
       "<style scoped>\n",
       "    .dataframe tbody tr th:only-of-type {\n",
       "        vertical-align: middle;\n",
       "    }\n",
       "\n",
       "    .dataframe tbody tr th {\n",
       "        vertical-align: top;\n",
       "    }\n",
       "\n",
       "    .dataframe thead th {\n",
       "        text-align: right;\n",
       "    }\n",
       "</style>\n",
       "<table border=\"1\" class=\"dataframe\">\n",
       "  <thead>\n",
       "    <tr style=\"text-align: right;\">\n",
       "      <th></th>\n",
       "      <th>neighbourhood_cleansed</th>\n",
       "      <th>experiences_offered</th>\n",
       "      <th>experiences_count</th>\n",
       "    </tr>\n",
       "  </thead>\n",
       "  <tbody>\n",
       "    <tr>\n",
       "      <th>0</th>\n",
       "      <td>Hackney</td>\n",
       "      <td>family</td>\n",
       "      <td>61</td>\n",
       "    </tr>\n",
       "    <tr>\n",
       "      <th>1</th>\n",
       "      <td>Tower Hamlets</td>\n",
       "      <td>business</td>\n",
       "      <td>58</td>\n",
       "    </tr>\n",
       "    <tr>\n",
       "      <th>2</th>\n",
       "      <td>Westminster</td>\n",
       "      <td>business</td>\n",
       "      <td>50</td>\n",
       "    </tr>\n",
       "    <tr>\n",
       "      <th>3</th>\n",
       "      <td>Hackney</td>\n",
       "      <td>social</td>\n",
       "      <td>49</td>\n",
       "    </tr>\n",
       "    <tr>\n",
       "      <th>4</th>\n",
       "      <td>Hammersmith and Fulham</td>\n",
       "      <td>business</td>\n",
       "      <td>48</td>\n",
       "    </tr>\n",
       "    <tr>\n",
       "      <th>...</th>\n",
       "      <td>...</td>\n",
       "      <td>...</td>\n",
       "      <td>...</td>\n",
       "    </tr>\n",
       "    <tr>\n",
       "      <th>95</th>\n",
       "      <td>Redbridge</td>\n",
       "      <td>social</td>\n",
       "      <td>2</td>\n",
       "    </tr>\n",
       "    <tr>\n",
       "      <th>96</th>\n",
       "      <td>Barking and Dagenham</td>\n",
       "      <td>social</td>\n",
       "      <td>2</td>\n",
       "    </tr>\n",
       "    <tr>\n",
       "      <th>97</th>\n",
       "      <td>Newham</td>\n",
       "      <td>romantic</td>\n",
       "      <td>1</td>\n",
       "    </tr>\n",
       "    <tr>\n",
       "      <th>98</th>\n",
       "      <td>Bexley</td>\n",
       "      <td>business</td>\n",
       "      <td>1</td>\n",
       "    </tr>\n",
       "    <tr>\n",
       "      <th>99</th>\n",
       "      <td>City of London</td>\n",
       "      <td>family</td>\n",
       "      <td>1</td>\n",
       "    </tr>\n",
       "  </tbody>\n",
       "</table>\n",
       "<p>100 rows × 3 columns</p>\n",
       "</div>"
      ],
      "text/plain": [
       "    neighbourhood_cleansed experiences_offered  experiences_count\n",
       "0                  Hackney              family                 61\n",
       "1            Tower Hamlets            business                 58\n",
       "2              Westminster            business                 50\n",
       "3                  Hackney              social                 49\n",
       "4   Hammersmith and Fulham            business                 48\n",
       "..                     ...                 ...                ...\n",
       "95               Redbridge              social                  2\n",
       "96    Barking and Dagenham              social                  2\n",
       "97                  Newham            romantic                  1\n",
       "98                  Bexley            business                  1\n",
       "99          City of London              family                  1\n",
       "\n",
       "[100 rows x 3 columns]"
      ]
     },
     "execution_count": 26,
     "metadata": {},
     "output_type": "execute_result"
    }
   ],
   "source": [
    "query6 = \"\"\"\n",
    "SELECT\n",
    "    subtable.neighbourhood_cleansed AS neighbourhood_cleansed,\n",
    "    subtable.experiences_offered AS experiences_offered,\n",
    "    COUNT(subtable.id) AS experiences_count\n",
    "FROM\n",
    "    (\n",
    "    SELECT *\n",
    "    FROM ldn_listings\n",
    "    WHERE experiences_offered != 'none'\n",
    "    ) AS subtable\n",
    "GROUP BY\n",
    "    neighbourhood_cleansed,\n",
    "    experiences_offered\n",
    "ORDER BY\n",
    "    experiences_count DESC\n",
    "LIMIT 100\n",
    "\"\"\"\n",
    "df6 = ph.read_clickhouse(query6, connection = connection)\n",
    "df6"
   ]
  },
  {
   "cell_type": "code",
   "execution_count": 27,
   "id": "79eb62b6",
   "metadata": {
    "scrolled": true
   },
   "outputs": [
    {
     "data": {
      "text/html": [
       "<div>\n",
       "<style scoped>\n",
       "    .dataframe tbody tr th:only-of-type {\n",
       "        vertical-align: middle;\n",
       "    }\n",
       "\n",
       "    .dataframe tbody tr th {\n",
       "        vertical-align: top;\n",
       "    }\n",
       "\n",
       "    .dataframe thead th {\n",
       "        text-align: right;\n",
       "    }\n",
       "</style>\n",
       "<table border=\"1\" class=\"dataframe\">\n",
       "  <thead>\n",
       "    <tr style=\"text-align: right;\">\n",
       "      <th>experiences_offered</th>\n",
       "      <th>business</th>\n",
       "      <th>family</th>\n",
       "      <th>romantic</th>\n",
       "      <th>social</th>\n",
       "    </tr>\n",
       "    <tr>\n",
       "      <th>neighbourhood_cleansed</th>\n",
       "      <th></th>\n",
       "      <th></th>\n",
       "      <th></th>\n",
       "      <th></th>\n",
       "    </tr>\n",
       "  </thead>\n",
       "  <tbody>\n",
       "    <tr>\n",
       "      <th>Barking and Dagenham</th>\n",
       "      <td>0.0</td>\n",
       "      <td>0.0</td>\n",
       "      <td>0.0</td>\n",
       "      <td>2.0</td>\n",
       "    </tr>\n",
       "    <tr>\n",
       "      <th>Barnet</th>\n",
       "      <td>7.0</td>\n",
       "      <td>7.0</td>\n",
       "      <td>3.0</td>\n",
       "      <td>5.0</td>\n",
       "    </tr>\n",
       "    <tr>\n",
       "      <th>Bexley</th>\n",
       "      <td>1.0</td>\n",
       "      <td>0.0</td>\n",
       "      <td>0.0</td>\n",
       "      <td>0.0</td>\n",
       "    </tr>\n",
       "    <tr>\n",
       "      <th>Brent</th>\n",
       "      <td>9.0</td>\n",
       "      <td>21.0</td>\n",
       "      <td>5.0</td>\n",
       "      <td>6.0</td>\n",
       "    </tr>\n",
       "    <tr>\n",
       "      <th>Bromley</th>\n",
       "      <td>3.0</td>\n",
       "      <td>2.0</td>\n",
       "      <td>0.0</td>\n",
       "      <td>4.0</td>\n",
       "    </tr>\n",
       "    <tr>\n",
       "      <th>Camden</th>\n",
       "      <td>36.0</td>\n",
       "      <td>30.0</td>\n",
       "      <td>19.0</td>\n",
       "      <td>25.0</td>\n",
       "    </tr>\n",
       "    <tr>\n",
       "      <th>City of London</th>\n",
       "      <td>7.0</td>\n",
       "      <td>1.0</td>\n",
       "      <td>0.0</td>\n",
       "      <td>0.0</td>\n",
       "    </tr>\n",
       "    <tr>\n",
       "      <th>Croydon</th>\n",
       "      <td>2.0</td>\n",
       "      <td>3.0</td>\n",
       "      <td>0.0</td>\n",
       "      <td>4.0</td>\n",
       "    </tr>\n",
       "    <tr>\n",
       "      <th>Ealing</th>\n",
       "      <td>6.0</td>\n",
       "      <td>13.0</td>\n",
       "      <td>0.0</td>\n",
       "      <td>5.0</td>\n",
       "    </tr>\n",
       "    <tr>\n",
       "      <th>Enfield</th>\n",
       "      <td>3.0</td>\n",
       "      <td>0.0</td>\n",
       "      <td>0.0</td>\n",
       "      <td>2.0</td>\n",
       "    </tr>\n",
       "    <tr>\n",
       "      <th>Greenwich</th>\n",
       "      <td>9.0</td>\n",
       "      <td>4.0</td>\n",
       "      <td>0.0</td>\n",
       "      <td>5.0</td>\n",
       "    </tr>\n",
       "    <tr>\n",
       "      <th>Hackney</th>\n",
       "      <td>44.0</td>\n",
       "      <td>61.0</td>\n",
       "      <td>25.0</td>\n",
       "      <td>49.0</td>\n",
       "    </tr>\n",
       "    <tr>\n",
       "      <th>Hammersmith and Fulham</th>\n",
       "      <td>48.0</td>\n",
       "      <td>28.0</td>\n",
       "      <td>8.0</td>\n",
       "      <td>22.0</td>\n",
       "    </tr>\n",
       "    <tr>\n",
       "      <th>Haringey</th>\n",
       "      <td>12.0</td>\n",
       "      <td>21.0</td>\n",
       "      <td>4.0</td>\n",
       "      <td>11.0</td>\n",
       "    </tr>\n",
       "    <tr>\n",
       "      <th>Harrow</th>\n",
       "      <td>3.0</td>\n",
       "      <td>0.0</td>\n",
       "      <td>0.0</td>\n",
       "      <td>3.0</td>\n",
       "    </tr>\n",
       "    <tr>\n",
       "      <th>Hounslow</th>\n",
       "      <td>6.0</td>\n",
       "      <td>8.0</td>\n",
       "      <td>0.0</td>\n",
       "      <td>2.0</td>\n",
       "    </tr>\n",
       "    <tr>\n",
       "      <th>Islington</th>\n",
       "      <td>41.0</td>\n",
       "      <td>44.0</td>\n",
       "      <td>20.0</td>\n",
       "      <td>26.0</td>\n",
       "    </tr>\n",
       "    <tr>\n",
       "      <th>Kensington and Chelsea</th>\n",
       "      <td>37.0</td>\n",
       "      <td>32.0</td>\n",
       "      <td>30.0</td>\n",
       "      <td>13.0</td>\n",
       "    </tr>\n",
       "    <tr>\n",
       "      <th>Kingston upon Thames</th>\n",
       "      <td>3.0</td>\n",
       "      <td>4.0</td>\n",
       "      <td>0.0</td>\n",
       "      <td>0.0</td>\n",
       "    </tr>\n",
       "    <tr>\n",
       "      <th>Lambeth</th>\n",
       "      <td>36.0</td>\n",
       "      <td>25.0</td>\n",
       "      <td>11.0</td>\n",
       "      <td>41.0</td>\n",
       "    </tr>\n",
       "    <tr>\n",
       "      <th>Lewisham</th>\n",
       "      <td>11.0</td>\n",
       "      <td>16.0</td>\n",
       "      <td>2.0</td>\n",
       "      <td>10.0</td>\n",
       "    </tr>\n",
       "    <tr>\n",
       "      <th>Merton</th>\n",
       "      <td>3.0</td>\n",
       "      <td>4.0</td>\n",
       "      <td>2.0</td>\n",
       "      <td>3.0</td>\n",
       "    </tr>\n",
       "    <tr>\n",
       "      <th>Newham</th>\n",
       "      <td>9.0</td>\n",
       "      <td>9.0</td>\n",
       "      <td>1.0</td>\n",
       "      <td>9.0</td>\n",
       "    </tr>\n",
       "    <tr>\n",
       "      <th>Redbridge</th>\n",
       "      <td>3.0</td>\n",
       "      <td>5.0</td>\n",
       "      <td>0.0</td>\n",
       "      <td>2.0</td>\n",
       "    </tr>\n",
       "    <tr>\n",
       "      <th>Richmond upon Thames</th>\n",
       "      <td>10.0</td>\n",
       "      <td>7.0</td>\n",
       "      <td>2.0</td>\n",
       "      <td>5.0</td>\n",
       "    </tr>\n",
       "    <tr>\n",
       "      <th>Southwark</th>\n",
       "      <td>24.0</td>\n",
       "      <td>21.0</td>\n",
       "      <td>9.0</td>\n",
       "      <td>34.0</td>\n",
       "    </tr>\n",
       "    <tr>\n",
       "      <th>Sutton</th>\n",
       "      <td>3.0</td>\n",
       "      <td>0.0</td>\n",
       "      <td>0.0</td>\n",
       "      <td>0.0</td>\n",
       "    </tr>\n",
       "    <tr>\n",
       "      <th>Tower Hamlets</th>\n",
       "      <td>58.0</td>\n",
       "      <td>16.0</td>\n",
       "      <td>13.0</td>\n",
       "      <td>46.0</td>\n",
       "    </tr>\n",
       "    <tr>\n",
       "      <th>Waltham Forest</th>\n",
       "      <td>14.0</td>\n",
       "      <td>4.0</td>\n",
       "      <td>0.0</td>\n",
       "      <td>12.0</td>\n",
       "    </tr>\n",
       "    <tr>\n",
       "      <th>Wandsworth</th>\n",
       "      <td>23.0</td>\n",
       "      <td>24.0</td>\n",
       "      <td>13.0</td>\n",
       "      <td>13.0</td>\n",
       "    </tr>\n",
       "    <tr>\n",
       "      <th>Westminster</th>\n",
       "      <td>50.0</td>\n",
       "      <td>37.0</td>\n",
       "      <td>23.0</td>\n",
       "      <td>18.0</td>\n",
       "    </tr>\n",
       "  </tbody>\n",
       "</table>\n",
       "</div>"
      ],
      "text/plain": [
       "experiences_offered     business  family  romantic  social\n",
       "neighbourhood_cleansed                                    \n",
       "Barking and Dagenham         0.0     0.0       0.0     2.0\n",
       "Barnet                       7.0     7.0       3.0     5.0\n",
       "Bexley                       1.0     0.0       0.0     0.0\n",
       "Brent                        9.0    21.0       5.0     6.0\n",
       "Bromley                      3.0     2.0       0.0     4.0\n",
       "Camden                      36.0    30.0      19.0    25.0\n",
       "City of London               7.0     1.0       0.0     0.0\n",
       "Croydon                      2.0     3.0       0.0     4.0\n",
       "Ealing                       6.0    13.0       0.0     5.0\n",
       "Enfield                      3.0     0.0       0.0     2.0\n",
       "Greenwich                    9.0     4.0       0.0     5.0\n",
       "Hackney                     44.0    61.0      25.0    49.0\n",
       "Hammersmith and Fulham      48.0    28.0       8.0    22.0\n",
       "Haringey                    12.0    21.0       4.0    11.0\n",
       "Harrow                       3.0     0.0       0.0     3.0\n",
       "Hounslow                     6.0     8.0       0.0     2.0\n",
       "Islington                   41.0    44.0      20.0    26.0\n",
       "Kensington and Chelsea      37.0    32.0      30.0    13.0\n",
       "Kingston upon Thames         3.0     4.0       0.0     0.0\n",
       "Lambeth                     36.0    25.0      11.0    41.0\n",
       "Lewisham                    11.0    16.0       2.0    10.0\n",
       "Merton                       3.0     4.0       2.0     3.0\n",
       "Newham                       9.0     9.0       1.0     9.0\n",
       "Redbridge                    3.0     5.0       0.0     2.0\n",
       "Richmond upon Thames        10.0     7.0       2.0     5.0\n",
       "Southwark                   24.0    21.0       9.0    34.0\n",
       "Sutton                       3.0     0.0       0.0     0.0\n",
       "Tower Hamlets               58.0    16.0      13.0    46.0\n",
       "Waltham Forest              14.0     4.0       0.0    12.0\n",
       "Wandsworth                  23.0    24.0      13.0    13.0\n",
       "Westminster                 50.0    37.0      23.0    18.0"
      ]
     },
     "execution_count": 27,
     "metadata": {},
     "output_type": "execute_result"
    }
   ],
   "source": [
    "df6_pivot = \\\n",
    "    df6 \\\n",
    "    .pivot(index = 'neighbourhood_cleansed',\n",
    "           columns = 'experiences_offered',\n",
    "           values = 'experiences_count') \\\n",
    "    .fillna(value = 0)\n",
    "df6_pivot"
   ]
  },
  {
   "cell_type": "code",
   "execution_count": 28,
   "id": "bf499c38",
   "metadata": {
    "scrolled": false
   },
   "outputs": [
    {
     "data": {
      "image/png": "[encoded data removed]",
      "text/plain": [
       "<Figure size 432x288 with 2 Axes>"
      ]
     },
     "metadata": {
      "needs_background": "light"
     },
     "output_type": "display_data"
    }
   ],
   "source": [
    "g = sns.heatmap(data = df6_pivot,\n",
    "                cmap = sns.cubehelix_palette(as_cmap = True))\n",
    "plt.rcParams[\"figure.figsize\"] = (10, 8)"
   ]
  },
  {
   "cell_type": "markdown",
   "id": "5b8441b9",
   "metadata": {},
   "source": [
    "Выгрузим данные о ценах за ночь для разных типов жилья, для которых также доступен какой-либо вид впечатления.\n",
    "\n",
    "Необходимые для составления запроса столбцы:\n",
    "\n",
    "- `room_type` – тип сдаваемого жилья (доступные варианты: `Entire home/apt`, `Private room`, `Hotel room`, `Shared room`)\n",
    "- `price` – цена за ночь \n",
    "- `experiences_offered` – вид доступного впечатления (оставить не `'none'`)"
   ]
  },
  {
   "cell_type": "code",
   "execution_count": 29,
   "id": "0fc68f27",
   "metadata": {},
   "outputs": [
    {
     "data": {
      "text/html": [
       "<div>\n",
       "<style scoped>\n",
       "    .dataframe tbody tr th:only-of-type {\n",
       "        vertical-align: middle;\n",
       "    }\n",
       "\n",
       "    .dataframe tbody tr th {\n",
       "        vertical-align: top;\n",
       "    }\n",
       "\n",
       "    .dataframe thead th {\n",
       "        text-align: right;\n",
       "    }\n",
       "</style>\n",
       "<table border=\"1\" class=\"dataframe\">\n",
       "  <thead>\n",
       "    <tr style=\"text-align: right;\">\n",
       "      <th></th>\n",
       "      <th>room_type</th>\n",
       "      <th>price</th>\n",
       "    </tr>\n",
       "  </thead>\n",
       "  <tbody>\n",
       "    <tr>\n",
       "      <th>0</th>\n",
       "      <td>Private room</td>\n",
       "      <td>65.0</td>\n",
       "    </tr>\n",
       "    <tr>\n",
       "      <th>1</th>\n",
       "      <td>Entire home/apt</td>\n",
       "      <td>100.0</td>\n",
       "    </tr>\n",
       "    <tr>\n",
       "      <th>2</th>\n",
       "      <td>Private room</td>\n",
       "      <td>150.0</td>\n",
       "    </tr>\n",
       "    <tr>\n",
       "      <th>3</th>\n",
       "      <td>Private room</td>\n",
       "      <td>45.0</td>\n",
       "    </tr>\n",
       "    <tr>\n",
       "      <th>4</th>\n",
       "      <td>Private room</td>\n",
       "      <td>25.0</td>\n",
       "    </tr>\n",
       "    <tr>\n",
       "      <th>...</th>\n",
       "      <td>...</td>\n",
       "      <td>...</td>\n",
       "    </tr>\n",
       "    <tr>\n",
       "      <th>1543</th>\n",
       "      <td>Entire home/apt</td>\n",
       "      <td>100.0</td>\n",
       "    </tr>\n",
       "    <tr>\n",
       "      <th>1544</th>\n",
       "      <td>Entire home/apt</td>\n",
       "      <td>125.0</td>\n",
       "    </tr>\n",
       "    <tr>\n",
       "      <th>1545</th>\n",
       "      <td>Entire home/apt</td>\n",
       "      <td>185.0</td>\n",
       "    </tr>\n",
       "    <tr>\n",
       "      <th>1546</th>\n",
       "      <td>Entire home/apt</td>\n",
       "      <td>110.0</td>\n",
       "    </tr>\n",
       "    <tr>\n",
       "      <th>1547</th>\n",
       "      <td>Private room</td>\n",
       "      <td>39.0</td>\n",
       "    </tr>\n",
       "  </tbody>\n",
       "</table>\n",
       "<p>1548 rows × 2 columns</p>\n",
       "</div>"
      ],
      "text/plain": [
       "            room_type  price\n",
       "0        Private room   65.0\n",
       "1     Entire home/apt  100.0\n",
       "2        Private room  150.0\n",
       "3        Private room   45.0\n",
       "4        Private room   25.0\n",
       "...               ...    ...\n",
       "1543  Entire home/apt  100.0\n",
       "1544  Entire home/apt  125.0\n",
       "1545  Entire home/apt  185.0\n",
       "1546  Entire home/apt  110.0\n",
       "1547     Private room   39.0\n",
       "\n",
       "[1548 rows x 2 columns]"
      ]
     },
     "execution_count": 29,
     "metadata": {},
     "output_type": "execute_result"
    }
   ],
   "source": [
    "query7 = \"\"\"\n",
    "SELECT\n",
    "    room_type,\n",
    "    toFloat32OrNull(replaceRegexpAll(price, '[$,]', '')) AS price\n",
    "FROM\n",
    "    ldn_listings\n",
    "WHERE\n",
    "    experiences_offered != 'none'\n",
    "ORDER BY\n",
    "    id ASC\n",
    "\"\"\"\n",
    "df7 = ph.read_clickhouse(query7, connection = connection)\n",
    "df7"
   ]
  },
  {
   "cell_type": "code",
   "execution_count": 30,
   "id": "2c2b0663",
   "metadata": {},
   "outputs": [
    {
     "data": {
      "text/html": [
       "<div>\n",
       "<style scoped>\n",
       "    .dataframe tbody tr th:only-of-type {\n",
       "        vertical-align: middle;\n",
       "    }\n",
       "\n",
       "    .dataframe tbody tr th {\n",
       "        vertical-align: top;\n",
       "    }\n",
       "\n",
       "    .dataframe thead th {\n",
       "        text-align: right;\n",
       "    }\n",
       "</style>\n",
       "<table border=\"1\" class=\"dataframe\">\n",
       "  <thead>\n",
       "    <tr style=\"text-align: right;\">\n",
       "      <th></th>\n",
       "      <th>room_type</th>\n",
       "      <th>price</th>\n",
       "      <th>price_log</th>\n",
       "    </tr>\n",
       "  </thead>\n",
       "  <tbody>\n",
       "    <tr>\n",
       "      <th>0</th>\n",
       "      <td>Private room</td>\n",
       "      <td>65.0</td>\n",
       "      <td>4.174387</td>\n",
       "    </tr>\n",
       "    <tr>\n",
       "      <th>1</th>\n",
       "      <td>Entire home/apt</td>\n",
       "      <td>100.0</td>\n",
       "      <td>4.605170</td>\n",
       "    </tr>\n",
       "    <tr>\n",
       "      <th>2</th>\n",
       "      <td>Private room</td>\n",
       "      <td>150.0</td>\n",
       "      <td>5.010635</td>\n",
       "    </tr>\n",
       "    <tr>\n",
       "      <th>3</th>\n",
       "      <td>Private room</td>\n",
       "      <td>45.0</td>\n",
       "      <td>3.806662</td>\n",
       "    </tr>\n",
       "    <tr>\n",
       "      <th>4</th>\n",
       "      <td>Private room</td>\n",
       "      <td>25.0</td>\n",
       "      <td>3.218876</td>\n",
       "    </tr>\n",
       "    <tr>\n",
       "      <th>...</th>\n",
       "      <td>...</td>\n",
       "      <td>...</td>\n",
       "      <td>...</td>\n",
       "    </tr>\n",
       "    <tr>\n",
       "      <th>1543</th>\n",
       "      <td>Entire home/apt</td>\n",
       "      <td>100.0</td>\n",
       "      <td>4.605170</td>\n",
       "    </tr>\n",
       "    <tr>\n",
       "      <th>1544</th>\n",
       "      <td>Entire home/apt</td>\n",
       "      <td>125.0</td>\n",
       "      <td>4.828314</td>\n",
       "    </tr>\n",
       "    <tr>\n",
       "      <th>1545</th>\n",
       "      <td>Entire home/apt</td>\n",
       "      <td>185.0</td>\n",
       "      <td>5.220356</td>\n",
       "    </tr>\n",
       "    <tr>\n",
       "      <th>1546</th>\n",
       "      <td>Entire home/apt</td>\n",
       "      <td>110.0</td>\n",
       "      <td>4.700480</td>\n",
       "    </tr>\n",
       "    <tr>\n",
       "      <th>1547</th>\n",
       "      <td>Private room</td>\n",
       "      <td>39.0</td>\n",
       "      <td>3.663562</td>\n",
       "    </tr>\n",
       "  </tbody>\n",
       "</table>\n",
       "<p>1548 rows × 3 columns</p>\n",
       "</div>"
      ],
      "text/plain": [
       "            room_type  price  price_log\n",
       "0        Private room   65.0   4.174387\n",
       "1     Entire home/apt  100.0   4.605170\n",
       "2        Private room  150.0   5.010635\n",
       "3        Private room   45.0   3.806662\n",
       "4        Private room   25.0   3.218876\n",
       "...               ...    ...        ...\n",
       "1543  Entire home/apt  100.0   4.605170\n",
       "1544  Entire home/apt  125.0   4.828314\n",
       "1545  Entire home/apt  185.0   5.220356\n",
       "1546  Entire home/apt  110.0   4.700480\n",
       "1547     Private room   39.0   3.663562\n",
       "\n",
       "[1548 rows x 3 columns]"
      ]
     },
     "execution_count": 30,
     "metadata": {},
     "output_type": "execute_result"
    }
   ],
   "source": [
    "df7['price_log'] = df7['price'].apply(lambda x: np.log(x))\n",
    "df7"
   ]
  },
  {
   "cell_type": "code",
   "execution_count": 31,
   "id": "60addd85",
   "metadata": {
    "scrolled": false
   },
   "outputs": [
    {
     "name": "stderr",
     "output_type": "stream",
     "text": [
      "/home/user/anaconda3/lib/python3.9/site-packages/seaborn/distributions.py:2619: FutureWarning: `distplot` is a deprecated function and will be removed in a future version. Please adapt your code to use either `displot` (a figure-level function with similar flexibility) or `histplot` (an axes-level function for histograms).\n",
      "  warnings.warn(msg, FutureWarning)\n"
     ]
    },
    {
     "data": {
      "image/png": "[encoded data removed]",
      "text/plain": [
       "<Figure size 720x432 with 1 Axes>"
      ]
     },
     "metadata": {
      "needs_background": "light"
     },
     "output_type": "display_data"
    }
   ],
   "source": [
    "plt.rcParams[\"figure.figsize\"] = (10, 6)\n",
    "for room in df7.room_type.unique():\n",
    "    values = df7.price[df7.room_type == room]\n",
    "    sns.distplot(values, hist = True, kde = False)"
   ]
  },
  {
   "cell_type": "code",
   "execution_count": 32,
   "id": "d25ee904",
   "metadata": {},
   "outputs": [
    {
     "data": {
      "image/png": "[encoded data removed]",
      "text/plain": [
       "<Figure size 720x432 with 1 Axes>"
      ]
     },
     "metadata": {
      "needs_background": "light"
     },
     "output_type": "display_data"
    }
   ],
   "source": [
    "for room in df7.room_type.unique():\n",
    "    values = df7.price_log[df7.room_type == room]\n",
    "    sns.distplot(values, hist = True, kde = False)"
   ]
  },
  {
   "cell_type": "markdown",
   "id": "99238750",
   "metadata": {},
   "source": [
    "А это без distplot..."
   ]
  },
  {
   "cell_type": "code",
   "execution_count": 33,
   "id": "d2f7e34c",
   "metadata": {
    "scrolled": false
   },
   "outputs": [
    {
     "data": {
      "text/plain": [
       "<AxesSubplot:xlabel='price', ylabel='Count'>"
      ]
     },
     "execution_count": 33,
     "metadata": {},
     "output_type": "execute_result"
    },
    {
     "data": {
      "image/png": "[encoded data removed]",
      "text/plain": [
       "<Figure size 720x432 with 1 Axes>"
      ]
     },
     "metadata": {
      "needs_background": "light"
     },
     "output_type": "display_data"
    }
   ],
   "source": [
    "sns.histplot(df7, x = 'price', hue = 'room_type', bins = 100)"
   ]
  },
  {
   "cell_type": "code",
   "execution_count": 34,
   "id": "80247b3d",
   "metadata": {},
   "outputs": [
    {
     "data": {
      "text/plain": [
       "<AxesSubplot:xlabel='price_log', ylabel='Count'>"
      ]
     },
     "execution_count": 34,
     "metadata": {},
     "output_type": "execute_result"
    },
    {
     "data": {
      "image/png": "[encoded data removed]",
      "text/plain": [
       "<Figure size 720x432 with 1 Axes>"
      ]
     },
     "metadata": {
      "needs_background": "light"
     },
     "output_type": "display_data"
    }
   ],
   "source": [
    "sns.histplot(df7, x = 'price_log', hue = 'room_type', bins = 50)"
   ]
  },
  {
   "cell_type": "markdown",
   "id": "9f6f424b",
   "metadata": {},
   "source": [
    "Немножко экспериментов с функцией ```melt```"
   ]
  },
  {
   "cell_type": "code",
   "execution_count": 35,
   "id": "3f66dd85",
   "metadata": {},
   "outputs": [
    {
     "data": {
      "text/html": [
       "<div>\n",
       "<style scoped>\n",
       "    .dataframe tbody tr th:only-of-type {\n",
       "        vertical-align: middle;\n",
       "    }\n",
       "\n",
       "    .dataframe tbody tr th {\n",
       "        vertical-align: top;\n",
       "    }\n",
       "\n",
       "    .dataframe thead th {\n",
       "        text-align: right;\n",
       "    }\n",
       "</style>\n",
       "<table border=\"1\" class=\"dataframe\">\n",
       "  <thead>\n",
       "    <tr style=\"text-align: right;\">\n",
       "      <th></th>\n",
       "      <th>room_type</th>\n",
       "      <th>variable</th>\n",
       "      <th>value</th>\n",
       "    </tr>\n",
       "  </thead>\n",
       "  <tbody>\n",
       "    <tr>\n",
       "      <th>0</th>\n",
       "      <td>Private room</td>\n",
       "      <td>price</td>\n",
       "      <td>65.000000</td>\n",
       "    </tr>\n",
       "    <tr>\n",
       "      <th>1</th>\n",
       "      <td>Entire home/apt</td>\n",
       "      <td>price</td>\n",
       "      <td>100.000000</td>\n",
       "    </tr>\n",
       "    <tr>\n",
       "      <th>2</th>\n",
       "      <td>Private room</td>\n",
       "      <td>price</td>\n",
       "      <td>150.000000</td>\n",
       "    </tr>\n",
       "    <tr>\n",
       "      <th>3</th>\n",
       "      <td>Private room</td>\n",
       "      <td>price</td>\n",
       "      <td>45.000000</td>\n",
       "    </tr>\n",
       "    <tr>\n",
       "      <th>4</th>\n",
       "      <td>Private room</td>\n",
       "      <td>price</td>\n",
       "      <td>25.000000</td>\n",
       "    </tr>\n",
       "    <tr>\n",
       "      <th>...</th>\n",
       "      <td>...</td>\n",
       "      <td>...</td>\n",
       "      <td>...</td>\n",
       "    </tr>\n",
       "    <tr>\n",
       "      <th>3091</th>\n",
       "      <td>Entire home/apt</td>\n",
       "      <td>price_log</td>\n",
       "      <td>4.605170</td>\n",
       "    </tr>\n",
       "    <tr>\n",
       "      <th>3092</th>\n",
       "      <td>Entire home/apt</td>\n",
       "      <td>price_log</td>\n",
       "      <td>4.828314</td>\n",
       "    </tr>\n",
       "    <tr>\n",
       "      <th>3093</th>\n",
       "      <td>Entire home/apt</td>\n",
       "      <td>price_log</td>\n",
       "      <td>5.220356</td>\n",
       "    </tr>\n",
       "    <tr>\n",
       "      <th>3094</th>\n",
       "      <td>Entire home/apt</td>\n",
       "      <td>price_log</td>\n",
       "      <td>4.700480</td>\n",
       "    </tr>\n",
       "    <tr>\n",
       "      <th>3095</th>\n",
       "      <td>Private room</td>\n",
       "      <td>price_log</td>\n",
       "      <td>3.663562</td>\n",
       "    </tr>\n",
       "  </tbody>\n",
       "</table>\n",
       "<p>3096 rows × 3 columns</p>\n",
       "</div>"
      ],
      "text/plain": [
       "            room_type   variable       value\n",
       "0        Private room      price   65.000000\n",
       "1     Entire home/apt      price  100.000000\n",
       "2        Private room      price  150.000000\n",
       "3        Private room      price   45.000000\n",
       "4        Private room      price   25.000000\n",
       "...               ...        ...         ...\n",
       "3091  Entire home/apt  price_log    4.605170\n",
       "3092  Entire home/apt  price_log    4.828314\n",
       "3093  Entire home/apt  price_log    5.220356\n",
       "3094  Entire home/apt  price_log    4.700480\n",
       "3095     Private room  price_log    3.663562\n",
       "\n",
       "[3096 rows x 3 columns]"
      ]
     },
     "execution_count": 35,
     "metadata": {},
     "output_type": "execute_result"
    }
   ],
   "source": [
    "df7_for_graph = pd.melt(df7, id_vars = ['room_type'], value_vars = ['price', 'price_log'])\n",
    "df7_for_graph"
   ]
  },
  {
   "cell_type": "markdown",
   "id": "952434b1",
   "metadata": {},
   "source": [
    "Выгрузим данные о цене, типе жилья и дате первого отзыва, начиная со 2 января 2010 года. Необходимые столбцы:\n",
    "\n",
    "- ```room_type``` – тип сдаваемого жилья (доступные варианты: ```Entire home/apt```, ```Private room```, ```Hotel room```, ```Shared room```)\n",
    "- ```price``` – цена за ночь\n",
    "- ```first_review``` – дата первого отзыва (отфильтровать по правилу \"строго больше 2010-01-01\")\n",
    "\n",
    "Ограничение поставим на 1000 строк. Посмотрим как изменялась средняя цена по годам."
   ]
  },
  {
   "cell_type": "code",
   "execution_count": 36,
   "id": "da29743e",
   "metadata": {},
   "outputs": [
    {
     "data": {
      "text/html": [
       "<div>\n",
       "<style scoped>\n",
       "    .dataframe tbody tr th:only-of-type {\n",
       "        vertical-align: middle;\n",
       "    }\n",
       "\n",
       "    .dataframe tbody tr th {\n",
       "        vertical-align: top;\n",
       "    }\n",
       "\n",
       "    .dataframe thead th {\n",
       "        text-align: right;\n",
       "    }\n",
       "</style>\n",
       "<table border=\"1\" class=\"dataframe\">\n",
       "  <thead>\n",
       "    <tr style=\"text-align: right;\">\n",
       "      <th></th>\n",
       "      <th>room_type</th>\n",
       "      <th>price</th>\n",
       "      <th>first_review</th>\n",
       "    </tr>\n",
       "  </thead>\n",
       "  <tbody>\n",
       "    <tr>\n",
       "      <th>0</th>\n",
       "      <td>Private room</td>\n",
       "      <td>65.0</td>\n",
       "      <td>2010-08-18</td>\n",
       "    </tr>\n",
       "    <tr>\n",
       "      <th>1</th>\n",
       "      <td>Entire home/apt</td>\n",
       "      <td>300.0</td>\n",
       "      <td>2011-03-21</td>\n",
       "    </tr>\n",
       "    <tr>\n",
       "      <th>2</th>\n",
       "      <td>Entire home/apt</td>\n",
       "      <td>65.0</td>\n",
       "      <td>2016-03-05</td>\n",
       "    </tr>\n",
       "    <tr>\n",
       "      <th>3</th>\n",
       "      <td>Private room</td>\n",
       "      <td>29.0</td>\n",
       "      <td>2010-04-14</td>\n",
       "    </tr>\n",
       "    <tr>\n",
       "      <th>4</th>\n",
       "      <td>Private room</td>\n",
       "      <td>100.0</td>\n",
       "      <td>2010-10-16</td>\n",
       "    </tr>\n",
       "    <tr>\n",
       "      <th>...</th>\n",
       "      <td>...</td>\n",
       "      <td>...</td>\n",
       "      <td>...</td>\n",
       "    </tr>\n",
       "    <tr>\n",
       "      <th>995</th>\n",
       "      <td>Private room</td>\n",
       "      <td>45.0</td>\n",
       "      <td>2012-11-07</td>\n",
       "    </tr>\n",
       "    <tr>\n",
       "      <th>996</th>\n",
       "      <td>Private room</td>\n",
       "      <td>51.0</td>\n",
       "      <td>2013-03-18</td>\n",
       "    </tr>\n",
       "    <tr>\n",
       "      <th>997</th>\n",
       "      <td>Entire home/apt</td>\n",
       "      <td>79.0</td>\n",
       "      <td>2012-09-17</td>\n",
       "    </tr>\n",
       "    <tr>\n",
       "      <th>998</th>\n",
       "      <td>Entire home/apt</td>\n",
       "      <td>110.0</td>\n",
       "      <td>2012-09-24</td>\n",
       "    </tr>\n",
       "    <tr>\n",
       "      <th>999</th>\n",
       "      <td>Private room</td>\n",
       "      <td>70.0</td>\n",
       "      <td>2012-11-26</td>\n",
       "    </tr>\n",
       "  </tbody>\n",
       "</table>\n",
       "<p>1000 rows × 3 columns</p>\n",
       "</div>"
      ],
      "text/plain": [
       "           room_type  price first_review\n",
       "0       Private room   65.0   2010-08-18\n",
       "1    Entire home/apt  300.0   2011-03-21\n",
       "2    Entire home/apt   65.0   2016-03-05\n",
       "3       Private room   29.0   2010-04-14\n",
       "4       Private room  100.0   2010-10-16\n",
       "..               ...    ...          ...\n",
       "995     Private room   45.0   2012-11-07\n",
       "996     Private room   51.0   2013-03-18\n",
       "997  Entire home/apt   79.0   2012-09-17\n",
       "998  Entire home/apt  110.0   2012-09-24\n",
       "999     Private room   70.0   2012-11-26\n",
       "\n",
       "[1000 rows x 3 columns]"
      ]
     },
     "execution_count": 36,
     "metadata": {},
     "output_type": "execute_result"
    }
   ],
   "source": [
    "query8 = \"\"\"\n",
    "SELECT\n",
    "    room_type,\n",
    "    toFloat32OrNull(replaceRegexpAll(price, '[$,]', '')) AS price,\n",
    "    first_review\n",
    "FROM\n",
    "    ldn_listings\n",
    "WHERE\n",
    "    first_review > '2010-01-01'\n",
    "ORDER BY\n",
    "    id ASC\n",
    "LIMIT 1000\n",
    "\"\"\"\n",
    "df8 = ph.read_clickhouse(query8, connection = connection)\n",
    "df8"
   ]
  },
  {
   "cell_type": "code",
   "execution_count": 37,
   "id": "75e89759",
   "metadata": {},
   "outputs": [
    {
     "data": {
      "text/plain": [
       "room_type        object\n",
       "price           float32\n",
       "first_review     object\n",
       "dtype: object"
      ]
     },
     "execution_count": 37,
     "metadata": {},
     "output_type": "execute_result"
    }
   ],
   "source": [
    "df8.dtypes"
   ]
  },
  {
   "cell_type": "code",
   "execution_count": 38,
   "id": "fd1b55c7",
   "metadata": {},
   "outputs": [],
   "source": [
    "df8.first_review = pd.to_datetime(df8.first_review)"
   ]
  },
  {
   "cell_type": "code",
   "execution_count": 39,
   "id": "1fbc48ed",
   "metadata": {
    "scrolled": true
   },
   "outputs": [
    {
     "data": {
      "text/plain": [
       "room_type               object\n",
       "price                  float32\n",
       "first_review    datetime64[ns]\n",
       "dtype: object"
      ]
     },
     "execution_count": 39,
     "metadata": {},
     "output_type": "execute_result"
    }
   ],
   "source": [
    "df8.dtypes"
   ]
  },
  {
   "cell_type": "code",
   "execution_count": 40,
   "id": "47feaa89",
   "metadata": {},
   "outputs": [
    {
     "data": {
      "text/plain": [
       "2010"
      ]
     },
     "execution_count": 40,
     "metadata": {},
     "output_type": "execute_result"
    }
   ],
   "source": [
    "df8.first_review[0].year"
   ]
  },
  {
   "cell_type": "code",
   "execution_count": 41,
   "id": "1f455e1f",
   "metadata": {},
   "outputs": [],
   "source": [
    "df8['year'] = df8.first_review.dt.year"
   ]
  },
  {
   "cell_type": "code",
   "execution_count": 42,
   "id": "76949fb7",
   "metadata": {},
   "outputs": [
    {
     "data": {
      "text/html": [
       "<div>\n",
       "<style scoped>\n",
       "    .dataframe tbody tr th:only-of-type {\n",
       "        vertical-align: middle;\n",
       "    }\n",
       "\n",
       "    .dataframe tbody tr th {\n",
       "        vertical-align: top;\n",
       "    }\n",
       "\n",
       "    .dataframe thead th {\n",
       "        text-align: right;\n",
       "    }\n",
       "</style>\n",
       "<table border=\"1\" class=\"dataframe\">\n",
       "  <thead>\n",
       "    <tr style=\"text-align: right;\">\n",
       "      <th></th>\n",
       "      <th>room_type</th>\n",
       "      <th>year</th>\n",
       "      <th>avg_price</th>\n",
       "    </tr>\n",
       "  </thead>\n",
       "  <tbody>\n",
       "    <tr>\n",
       "      <th>0</th>\n",
       "      <td>Entire home/apt</td>\n",
       "      <td>2010</td>\n",
       "      <td>103.500000</td>\n",
       "    </tr>\n",
       "    <tr>\n",
       "      <th>1</th>\n",
       "      <td>Entire home/apt</td>\n",
       "      <td>2011</td>\n",
       "      <td>128.792450</td>\n",
       "    </tr>\n",
       "    <tr>\n",
       "      <th>2</th>\n",
       "      <td>Entire home/apt</td>\n",
       "      <td>2012</td>\n",
       "      <td>135.467255</td>\n",
       "    </tr>\n",
       "    <tr>\n",
       "      <th>3</th>\n",
       "      <td>Entire home/apt</td>\n",
       "      <td>2013</td>\n",
       "      <td>137.887634</td>\n",
       "    </tr>\n",
       "    <tr>\n",
       "      <th>4</th>\n",
       "      <td>Entire home/apt</td>\n",
       "      <td>2014</td>\n",
       "      <td>154.583328</td>\n",
       "    </tr>\n",
       "    <tr>\n",
       "      <th>5</th>\n",
       "      <td>Entire home/apt</td>\n",
       "      <td>2015</td>\n",
       "      <td>159.380951</td>\n",
       "    </tr>\n",
       "    <tr>\n",
       "      <th>6</th>\n",
       "      <td>Entire home/apt</td>\n",
       "      <td>2016</td>\n",
       "      <td>99.733330</td>\n",
       "    </tr>\n",
       "    <tr>\n",
       "      <th>7</th>\n",
       "      <td>Entire home/apt</td>\n",
       "      <td>2017</td>\n",
       "      <td>111.666664</td>\n",
       "    </tr>\n",
       "    <tr>\n",
       "      <th>8</th>\n",
       "      <td>Entire home/apt</td>\n",
       "      <td>2018</td>\n",
       "      <td>125.066666</td>\n",
       "    </tr>\n",
       "    <tr>\n",
       "      <th>9</th>\n",
       "      <td>Entire home/apt</td>\n",
       "      <td>2019</td>\n",
       "      <td>301.666656</td>\n",
       "    </tr>\n",
       "    <tr>\n",
       "      <th>10</th>\n",
       "      <td>Entire home/apt</td>\n",
       "      <td>2020</td>\n",
       "      <td>50.000000</td>\n",
       "    </tr>\n",
       "    <tr>\n",
       "      <th>11</th>\n",
       "      <td>Hotel room</td>\n",
       "      <td>2010</td>\n",
       "      <td>88.000000</td>\n",
       "    </tr>\n",
       "    <tr>\n",
       "      <th>12</th>\n",
       "      <td>Hotel room</td>\n",
       "      <td>2017</td>\n",
       "      <td>180.000000</td>\n",
       "    </tr>\n",
       "    <tr>\n",
       "      <th>13</th>\n",
       "      <td>Private room</td>\n",
       "      <td>2010</td>\n",
       "      <td>56.428570</td>\n",
       "    </tr>\n",
       "    <tr>\n",
       "      <th>14</th>\n",
       "      <td>Private room</td>\n",
       "      <td>2011</td>\n",
       "      <td>52.607143</td>\n",
       "    </tr>\n",
       "    <tr>\n",
       "      <th>15</th>\n",
       "      <td>Private room</td>\n",
       "      <td>2012</td>\n",
       "      <td>53.269840</td>\n",
       "    </tr>\n",
       "    <tr>\n",
       "      <th>16</th>\n",
       "      <td>Private room</td>\n",
       "      <td>2013</td>\n",
       "      <td>57.036587</td>\n",
       "    </tr>\n",
       "    <tr>\n",
       "      <th>17</th>\n",
       "      <td>Private room</td>\n",
       "      <td>2014</td>\n",
       "      <td>56.842106</td>\n",
       "    </tr>\n",
       "    <tr>\n",
       "      <th>18</th>\n",
       "      <td>Private room</td>\n",
       "      <td>2015</td>\n",
       "      <td>48.058823</td>\n",
       "    </tr>\n",
       "    <tr>\n",
       "      <th>19</th>\n",
       "      <td>Private room</td>\n",
       "      <td>2016</td>\n",
       "      <td>57.307693</td>\n",
       "    </tr>\n",
       "    <tr>\n",
       "      <th>20</th>\n",
       "      <td>Private room</td>\n",
       "      <td>2017</td>\n",
       "      <td>51.142857</td>\n",
       "    </tr>\n",
       "    <tr>\n",
       "      <th>21</th>\n",
       "      <td>Private room</td>\n",
       "      <td>2018</td>\n",
       "      <td>55.416668</td>\n",
       "    </tr>\n",
       "    <tr>\n",
       "      <th>22</th>\n",
       "      <td>Private room</td>\n",
       "      <td>2019</td>\n",
       "      <td>74.000000</td>\n",
       "    </tr>\n",
       "    <tr>\n",
       "      <th>23</th>\n",
       "      <td>Private room</td>\n",
       "      <td>2020</td>\n",
       "      <td>39.000000</td>\n",
       "    </tr>\n",
       "    <tr>\n",
       "      <th>24</th>\n",
       "      <td>Shared room</td>\n",
       "      <td>2012</td>\n",
       "      <td>22.000000</td>\n",
       "    </tr>\n",
       "    <tr>\n",
       "      <th>25</th>\n",
       "      <td>Shared room</td>\n",
       "      <td>2014</td>\n",
       "      <td>20.000000</td>\n",
       "    </tr>\n",
       "  </tbody>\n",
       "</table>\n",
       "</div>"
      ],
      "text/plain": [
       "          room_type  year   avg_price\n",
       "0   Entire home/apt  2010  103.500000\n",
       "1   Entire home/apt  2011  128.792450\n",
       "2   Entire home/apt  2012  135.467255\n",
       "3   Entire home/apt  2013  137.887634\n",
       "4   Entire home/apt  2014  154.583328\n",
       "5   Entire home/apt  2015  159.380951\n",
       "6   Entire home/apt  2016   99.733330\n",
       "7   Entire home/apt  2017  111.666664\n",
       "8   Entire home/apt  2018  125.066666\n",
       "9   Entire home/apt  2019  301.666656\n",
       "10  Entire home/apt  2020   50.000000\n",
       "11       Hotel room  2010   88.000000\n",
       "12       Hotel room  2017  180.000000\n",
       "13     Private room  2010   56.428570\n",
       "14     Private room  2011   52.607143\n",
       "15     Private room  2012   53.269840\n",
       "16     Private room  2013   57.036587\n",
       "17     Private room  2014   56.842106\n",
       "18     Private room  2015   48.058823\n",
       "19     Private room  2016   57.307693\n",
       "20     Private room  2017   51.142857\n",
       "21     Private room  2018   55.416668\n",
       "22     Private room  2019   74.000000\n",
       "23     Private room  2020   39.000000\n",
       "24      Shared room  2012   22.000000\n",
       "25      Shared room  2014   20.000000"
      ]
     },
     "execution_count": 42,
     "metadata": {},
     "output_type": "execute_result"
    }
   ],
   "source": [
    "df8_averaging_prices = \\\n",
    "    df8 \\\n",
    "    .groupby(['room_type', 'year'], as_index = False) \\\n",
    "    .agg({'price': 'mean'}) \\\n",
    "    .rename(columns = {'price': 'avg_price'})\n",
    "df8_averaging_prices"
   ]
  },
  {
   "cell_type": "code",
   "execution_count": 43,
   "id": "e94c1a3e",
   "metadata": {},
   "outputs": [
    {
     "data": {
      "text/plain": [
       "<AxesSubplot:xlabel='year', ylabel='avg_price'>"
      ]
     },
     "execution_count": 43,
     "metadata": {},
     "output_type": "execute_result"
    },
    {
     "data": {
      "image/png": "[encoded data removed]",
      "text/plain": [
       "<Figure size 720x432 with 1 Axes>"
      ]
     },
     "metadata": {
      "needs_background": "light"
     },
     "output_type": "display_data"
    }
   ],
   "source": [
    "sns.lineplot(data = df8_averaging_prices, x = 'year', y = 'avg_price', hue = 'room_type')"
   ]
  }
 ],
 "metadata": {
  "kernelspec": {
   "display_name": "Python 3 (ipykernel)",
   "language": "python",
   "name": "python3"
  },
  "language_info": {
   "codemirror_mode": {
    "name": "ipython",
    "version": 3
   },
   "file_extension": ".py",
   "mimetype": "text/x-python",
   "name": "python",
   "nbconvert_exporter": "python",
   "pygments_lexer": "ipython3",
   "version": "3.9.7"
  }
 },
 "nbformat": 4,
 "nbformat_minor": 5
}
